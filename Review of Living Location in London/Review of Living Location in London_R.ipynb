{
 "cells": [
  {
   "cell_type": "markdown",
   "id": "25c2413b",
   "metadata": {},
   "source": [
    "# Review of Living Location in London"
   ]
  },
  {
   "cell_type": "markdown",
   "id": "5a9782ab",
   "metadata": {},
   "source": [
    "## Content\n",
    "<p>1. Introduction</p>\n",
    "<p>2. Objective</p>\n",
    "<p>3. Getting to Know Data & Variables</p>\n",
    "<p>4. Data Preparation</p>\n",
    "<p>5. Data Analysis</p>\n",
    "<p>6. Conclusion</p>\n",
    "<p>7. Reference</p>"
   ]
  },
  {
   "cell_type": "markdown",
   "id": "ed1dc5b9",
   "metadata": {},
   "source": [
    "## 1. Introduction\n",
    "<p>What will you consider for finding a location to live when you move to a new place? Rent? Job opportunity? Having a good living location can help you to settle down and relieve anxiety when facing challenges in unfamiliar place. It is difficult to have clear definition for a good living location as it can vary among individuals depending their financial capability, age, marital status, cultural background, etc. So, let's review the location in London with some general considerations, safety, finance and well-being, and you can make it as reference for getting a good starting point of your new journey.</p>"
   ]
  },
  {
   "cell_type": "markdown",
   "id": "a0a4e347",
   "metadata": {},
   "source": [
    "## 2. Objective\n",
    "<p>To provide consideration points in terms of safety, finance and well-being for finding a good living place in London.</p>"
   ]
  },
  {
   "cell_type": "markdown",
   "id": "174461a7",
   "metadata": {},
   "source": [
    "## 3. Getting to Know Data & Variables"
   ]
  },
  {
   "cell_type": "markdown",
   "id": "a5088f9f",
   "metadata": {},
   "source": [
    "### Rent\n",
    "<p>1996-2019 average weekly rents in London are grouped by 33 boroughs.</p>"
   ]
  },
  {
   "cell_type": "code",
   "execution_count": 46,
   "id": "6f0241f0",
   "metadata": {},
   "outputs": [
    {
     "name": "stderr",
     "output_type": "stream",
     "text": [
      "Warning message:\n",
      "\"package 'readxl' is in use and will not be installed\"\n"
     ]
    },
    {
     "data": {
      "text/html": [
       "<table class=\"dataframe\">\n",
       "<caption>A tibble: 6 × 26</caption>\n",
       "<thead>\n",
       "\t<tr><th scope=col>Code</th><th scope=col>New Code</th><th scope=col>Area</th><th scope=col>1996-97</th><th scope=col>1997-98</th><th scope=col>1998-99</th><th scope=col>1999-00</th><th scope=col>2000-01</th><th scope=col>2001-02</th><th scope=col>2002-03</th><th scope=col>...</th><th scope=col>2009-10</th><th scope=col>2010-11</th><th scope=col>2011-12</th><th scope=col>2012-13</th><th scope=col>2013-14</th><th scope=col>2014-15</th><th scope=col>2015-16</th><th scope=col>2016-17</th><th scope=col>2017-18</th><th scope=col>2018-19</th></tr>\n",
       "\t<tr><th scope=col>&lt;chr&gt;</th><th scope=col>&lt;chr&gt;</th><th scope=col>&lt;chr&gt;</th><th scope=col>&lt;dbl&gt;</th><th scope=col>&lt;dbl&gt;</th><th scope=col>&lt;dbl&gt;</th><th scope=col>&lt;dbl&gt;</th><th scope=col>&lt;dbl&gt;</th><th scope=col>&lt;dbl&gt;</th><th scope=col>&lt;dbl&gt;</th><th scope=col>...</th><th scope=col>&lt;dbl&gt;</th><th scope=col>&lt;dbl&gt;</th><th scope=col>&lt;dbl&gt;</th><th scope=col>&lt;dbl&gt;</th><th scope=col>&lt;dbl&gt;</th><th scope=col>&lt;dbl&gt;</th><th scope=col>&lt;dbl&gt;</th><th scope=col>&lt;dbl&gt;</th><th scope=col>&lt;dbl&gt;</th><th scope=col>&lt;dbl&gt;</th></tr>\n",
       "</thead>\n",
       "<tbody>\n",
       "\t<tr><td>NA  </td><td>NA       </td><td>NA                  </td><td>   NA</td><td>   NA</td><td>   NA</td><td>   NA</td><td>   NA</td><td>   NA</td><td>   NA</td><td>...</td><td>    NA</td><td>    NA</td><td>    NA</td><td>    NA</td><td>    NA</td><td>    NA</td><td>      NA</td><td>      NA</td><td>      NA</td><td>    NA</td></tr>\n",
       "\t<tr><td>00AA</td><td>E09000001</td><td>City of London      </td><td>49.44</td><td>51.44</td><td>52.77</td><td>55.52</td><td>56.93</td><td>58.70</td><td>61.88</td><td>...</td><td> 95.88</td><td> 96.45</td><td>104.55</td><td>112.93</td><td>115.56</td><td>124.46</td><td>126.6700</td><td>126.9300</td><td>126.8300</td><td>126.59</td></tr>\n",
       "\t<tr><td>00AB</td><td>E09000002</td><td>Barking and Dagenham</td><td>65.32</td><td>67.88</td><td>68.97</td><td>63.44</td><td>64.18</td><td>69.22</td><td>69.03</td><td>...</td><td> 95.69</td><td> 96.49</td><td>101.69</td><td>107.67</td><td>120.92</td><td>127.03</td><td>128.5059</td><td>128.7430</td><td>118.5148</td><td>116.92</td></tr>\n",
       "\t<tr><td>00AC</td><td>E09000003</td><td>Barnet              </td><td>58.11</td><td>61.88</td><td>63.81</td><td>65.72</td><td>67.70</td><td>69.32</td><td>70.82</td><td>...</td><td>101.56</td><td>103.17</td><td>109.79</td><td>117.53</td><td>123.29</td><td>127.16</td><td>132.1277</td><td>130.3911</td><td>127.6829</td><td>127.97</td></tr>\n",
       "\t<tr><td>00AD</td><td>E09000004</td><td>Bexley              </td><td>50.90</td><td>58.78</td><td>59.17</td><td>62.44</td><td>63.58</td><td>66.25</td><td>67.74</td><td>...</td><td> 90.42</td><td> 90.60</td><td> 96.58</td><td>100.56</td><td>106.35</td><td>111.21</td><td>112.8883</td><td>112.6674</td><td>110.7533</td><td>109.12</td></tr>\n",
       "\t<tr><td>00AE</td><td>E09000005</td><td>Brent               </td><td>54.49</td><td>56.21</td><td>59.78</td><td>62.34</td><td>62.39</td><td>65.61</td><td>68.34</td><td>...</td><td>100.36</td><td>101.46</td><td>106.78</td><td>113.71</td><td>118.15</td><td>123.16</td><td>136.1921</td><td>133.9586</td><td>125.6015</td><td>133.71</td></tr>\n",
       "</tbody>\n",
       "</table>\n"
      ],
      "text/latex": [
       "A tibble: 6 × 26\n",
       "\\begin{tabular}{lllllllllllllllllllll}\n",
       " Code & New Code & Area & 1996-97 & 1997-98 & 1998-99 & 1999-00 & 2000-01 & 2001-02 & 2002-03 & ... & 2009-10 & 2010-11 & 2011-12 & 2012-13 & 2013-14 & 2014-15 & 2015-16 & 2016-17 & 2017-18 & 2018-19\\\\\n",
       " <chr> & <chr> & <chr> & <dbl> & <dbl> & <dbl> & <dbl> & <dbl> & <dbl> & <dbl> & ... & <dbl> & <dbl> & <dbl> & <dbl> & <dbl> & <dbl> & <dbl> & <dbl> & <dbl> & <dbl>\\\\\n",
       "\\hline\n",
       "\t NA   & NA        & NA                   &    NA &    NA &    NA &    NA &    NA &    NA &    NA & ... &     NA &     NA &     NA &     NA &     NA &     NA &       NA &       NA &       NA &     NA\\\\\n",
       "\t 00AA & E09000001 & City of London       & 49.44 & 51.44 & 52.77 & 55.52 & 56.93 & 58.70 & 61.88 & ... &  95.88 &  96.45 & 104.55 & 112.93 & 115.56 & 124.46 & 126.6700 & 126.9300 & 126.8300 & 126.59\\\\\n",
       "\t 00AB & E09000002 & Barking and Dagenham & 65.32 & 67.88 & 68.97 & 63.44 & 64.18 & 69.22 & 69.03 & ... &  95.69 &  96.49 & 101.69 & 107.67 & 120.92 & 127.03 & 128.5059 & 128.7430 & 118.5148 & 116.92\\\\\n",
       "\t 00AC & E09000003 & Barnet               & 58.11 & 61.88 & 63.81 & 65.72 & 67.70 & 69.32 & 70.82 & ... & 101.56 & 103.17 & 109.79 & 117.53 & 123.29 & 127.16 & 132.1277 & 130.3911 & 127.6829 & 127.97\\\\\n",
       "\t 00AD & E09000004 & Bexley               & 50.90 & 58.78 & 59.17 & 62.44 & 63.58 & 66.25 & 67.74 & ... &  90.42 &  90.60 &  96.58 & 100.56 & 106.35 & 111.21 & 112.8883 & 112.6674 & 110.7533 & 109.12\\\\\n",
       "\t 00AE & E09000005 & Brent                & 54.49 & 56.21 & 59.78 & 62.34 & 62.39 & 65.61 & 68.34 & ... & 100.36 & 101.46 & 106.78 & 113.71 & 118.15 & 123.16 & 136.1921 & 133.9586 & 125.6015 & 133.71\\\\\n",
       "\\end{tabular}\n"
      ],
      "text/markdown": [
       "\n",
       "A tibble: 6 × 26\n",
       "\n",
       "| Code &lt;chr&gt; | New Code &lt;chr&gt; | Area &lt;chr&gt; | 1996-97 &lt;dbl&gt; | 1997-98 &lt;dbl&gt; | 1998-99 &lt;dbl&gt; | 1999-00 &lt;dbl&gt; | 2000-01 &lt;dbl&gt; | 2001-02 &lt;dbl&gt; | 2002-03 &lt;dbl&gt; | ... ... | 2009-10 &lt;dbl&gt; | 2010-11 &lt;dbl&gt; | 2011-12 &lt;dbl&gt; | 2012-13 &lt;dbl&gt; | 2013-14 &lt;dbl&gt; | 2014-15 &lt;dbl&gt; | 2015-16 &lt;dbl&gt; | 2016-17 &lt;dbl&gt; | 2017-18 &lt;dbl&gt; | 2018-19 &lt;dbl&gt; |\n",
       "|---|---|---|---|---|---|---|---|---|---|---|---|---|---|---|---|---|---|---|---|---|\n",
       "| NA   | NA        | NA                   |    NA |    NA |    NA |    NA |    NA |    NA |    NA | ... |     NA |     NA |     NA |     NA |     NA |     NA |       NA |       NA |       NA |     NA |\n",
       "| 00AA | E09000001 | City of London       | 49.44 | 51.44 | 52.77 | 55.52 | 56.93 | 58.70 | 61.88 | ... |  95.88 |  96.45 | 104.55 | 112.93 | 115.56 | 124.46 | 126.6700 | 126.9300 | 126.8300 | 126.59 |\n",
       "| 00AB | E09000002 | Barking and Dagenham | 65.32 | 67.88 | 68.97 | 63.44 | 64.18 | 69.22 | 69.03 | ... |  95.69 |  96.49 | 101.69 | 107.67 | 120.92 | 127.03 | 128.5059 | 128.7430 | 118.5148 | 116.92 |\n",
       "| 00AC | E09000003 | Barnet               | 58.11 | 61.88 | 63.81 | 65.72 | 67.70 | 69.32 | 70.82 | ... | 101.56 | 103.17 | 109.79 | 117.53 | 123.29 | 127.16 | 132.1277 | 130.3911 | 127.6829 | 127.97 |\n",
       "| 00AD | E09000004 | Bexley               | 50.90 | 58.78 | 59.17 | 62.44 | 63.58 | 66.25 | 67.74 | ... |  90.42 |  90.60 |  96.58 | 100.56 | 106.35 | 111.21 | 112.8883 | 112.6674 | 110.7533 | 109.12 |\n",
       "| 00AE | E09000005 | Brent                | 54.49 | 56.21 | 59.78 | 62.34 | 62.39 | 65.61 | 68.34 | ... | 100.36 | 101.46 | 106.78 | 113.71 | 118.15 | 123.16 | 136.1921 | 133.9586 | 125.6015 | 133.71 |\n",
       "\n"
      ],
      "text/plain": [
       "  Code New Code  Area                 1996-97 1997-98 1998-99 1999-00 2000-01\n",
       "1 NA   NA        NA                      NA      NA      NA      NA      NA  \n",
       "2 00AA E09000001 City of London       49.44   51.44   52.77   55.52   56.93  \n",
       "3 00AB E09000002 Barking and Dagenham 65.32   67.88   68.97   63.44   64.18  \n",
       "4 00AC E09000003 Barnet               58.11   61.88   63.81   65.72   67.70  \n",
       "5 00AD E09000004 Bexley               50.90   58.78   59.17   62.44   63.58  \n",
       "6 00AE E09000005 Brent                54.49   56.21   59.78   62.34   62.39  \n",
       "  2001-02 2002-03 ... 2009-10 2010-11 2011-12 2012-13 2013-14 2014-15 2015-16 \n",
       "1    NA      NA   ...     NA      NA      NA      NA      NA      NA        NA\n",
       "2 58.70   61.88   ...  95.88   96.45  104.55  112.93  115.56  124.46  126.6700\n",
       "3 69.22   69.03   ...  95.69   96.49  101.69  107.67  120.92  127.03  128.5059\n",
       "4 69.32   70.82   ... 101.56  103.17  109.79  117.53  123.29  127.16  132.1277\n",
       "5 66.25   67.74   ...  90.42   90.60   96.58  100.56  106.35  111.21  112.8883\n",
       "6 65.61   68.34   ... 100.36  101.46  106.78  113.71  118.15  123.16  136.1921\n",
       "  2016-17  2017-18  2018-19\n",
       "1       NA       NA     NA \n",
       "2 126.9300 126.8300 126.59 \n",
       "3 128.7430 118.5148 116.92 \n",
       "4 130.3911 127.6829 127.97 \n",
       "5 112.6674 110.7533 109.12 \n",
       "6 133.9586 125.6015 133.71 "
      ]
     },
     "metadata": {},
     "output_type": "display_data"
    }
   ],
   "source": [
    "#Install packages\n",
    "install.packages(\"readxl\")\n",
    "library(\"readxl\")\n",
    "\n",
    "#Import data\n",
    "rent<-read_excel(\"social-landlord-rents-borough.xls\", sheet = \"RSL Rents\")\n",
    "head(rent)"
   ]
  },
  {
   "cell_type": "markdown",
   "id": "b0a17695",
   "metadata": {},
   "source": [
    "### Job Opportunity\n",
    "<p>2000-2019 number of jobs and job density in London are grouped by 33 boroughs and other regions. The job density is the number of jobs per resident of working age (male and female: 16-64). For example, a job density of 1.0 would mean that there is one job for every resident of working age in the population.</p>"
   ]
  },
  {
   "cell_type": "code",
   "execution_count": 47,
   "id": "4a28ec73",
   "metadata": {
    "scrolled": true
   },
   "outputs": [
    {
     "name": "stderr",
     "output_type": "stream",
     "text": [
      "Warning message:\n",
      "\"package 'tidyverse' is in use and will not be installed\"\n"
     ]
    },
    {
     "data": {
      "text/html": [
       "<table class=\"dataframe\">\n",
       "<caption>A tibble: 6 × 5</caption>\n",
       "<thead>\n",
       "\t<tr><th scope=col>code</th><th scope=col>area</th><th scope=col>year</th><th scope=col>number_of_jobs</th><th scope=col>job_density</th></tr>\n",
       "\t<tr><th scope=col>&lt;chr&gt;</th><th scope=col>&lt;chr&gt;</th><th scope=col>&lt;dbl&gt;</th><th scope=col>&lt;dbl&gt;</th><th scope=col>&lt;dbl&gt;</th></tr>\n",
       "</thead>\n",
       "<tbody>\n",
       "\t<tr><td>E09000001</td><td>City of London      </td><td>2000</td><td>361000</td><td>67.10</td></tr>\n",
       "\t<tr><td>E09000002</td><td>Barking and Dagenham</td><td>2000</td><td> 57000</td><td> 0.56</td></tr>\n",
       "\t<tr><td>E09000003</td><td>Barnet              </td><td>2000</td><td>138000</td><td> 0.67</td></tr>\n",
       "\t<tr><td>E09000004</td><td>Bexley              </td><td>2000</td><td> 76000</td><td> 0.55</td></tr>\n",
       "\t<tr><td>E09000005</td><td>Brent               </td><td>2000</td><td>122000</td><td> 0.67</td></tr>\n",
       "\t<tr><td>E09000006</td><td>Bromley             </td><td>2000</td><td>115000</td><td> 0.62</td></tr>\n",
       "</tbody>\n",
       "</table>\n"
      ],
      "text/latex": [
       "A tibble: 6 × 5\n",
       "\\begin{tabular}{lllll}\n",
       " code & area & year & number\\_of\\_jobs & job\\_density\\\\\n",
       " <chr> & <chr> & <dbl> & <dbl> & <dbl>\\\\\n",
       "\\hline\n",
       "\t E09000001 & City of London       & 2000 & 361000 & 67.10\\\\\n",
       "\t E09000002 & Barking and Dagenham & 2000 &  57000 &  0.56\\\\\n",
       "\t E09000003 & Barnet               & 2000 & 138000 &  0.67\\\\\n",
       "\t E09000004 & Bexley               & 2000 &  76000 &  0.55\\\\\n",
       "\t E09000005 & Brent                & 2000 & 122000 &  0.67\\\\\n",
       "\t E09000006 & Bromley              & 2000 & 115000 &  0.62\\\\\n",
       "\\end{tabular}\n"
      ],
      "text/markdown": [
       "\n",
       "A tibble: 6 × 5\n",
       "\n",
       "| code &lt;chr&gt; | area &lt;chr&gt; | year &lt;dbl&gt; | number_of_jobs &lt;dbl&gt; | job_density &lt;dbl&gt; |\n",
       "|---|---|---|---|---|\n",
       "| E09000001 | City of London       | 2000 | 361000 | 67.10 |\n",
       "| E09000002 | Barking and Dagenham | 2000 |  57000 |  0.56 |\n",
       "| E09000003 | Barnet               | 2000 | 138000 |  0.67 |\n",
       "| E09000004 | Bexley               | 2000 |  76000 |  0.55 |\n",
       "| E09000005 | Brent                | 2000 | 122000 |  0.67 |\n",
       "| E09000006 | Bromley              | 2000 | 115000 |  0.62 |\n",
       "\n"
      ],
      "text/plain": [
       "  code      area                 year number_of_jobs job_density\n",
       "1 E09000001 City of London       2000 361000         67.10      \n",
       "2 E09000002 Barking and Dagenham 2000  57000          0.56      \n",
       "3 E09000003 Barnet               2000 138000          0.67      \n",
       "4 E09000004 Bexley               2000  76000          0.55      \n",
       "5 E09000005 Brent                2000 122000          0.67      \n",
       "6 E09000006 Bromley              2000 115000          0.62      "
      ]
     },
     "metadata": {},
     "output_type": "display_data"
    }
   ],
   "source": [
    "#Install packages\n",
    "install.packages(\"tidyverse\")\n",
    "library(\"tidyverse\")\n",
    "\n",
    "#Import data\n",
    "jobs1<-read_csv(\"Jobs_and_Job_Density.csv\",show_col_types = FALSE)\n",
    "head(jobs1)"
   ]
  },
  {
   "cell_type": "markdown",
   "id": "c7fc4ea7",
   "metadata": {},
   "source": [
    "<p>2015-2019 number of jobs are classified into different industries, agriculture, construction, retail, etc. for more details of finding a job.</p>"
   ]
  },
  {
   "cell_type": "code",
   "execution_count": 48,
   "id": "8ccdcdb4",
   "metadata": {
    "scrolled": true
   },
   "outputs": [
    {
     "name": "stderr",
     "output_type": "stream",
     "text": [
      "New names:\n",
      "* `` -> ...1\n",
      "* Flags -> Flags...4\n",
      "* Flags -> Flags...6\n",
      "* Flags -> Flags...8\n",
      "* Flags -> Flags...10\n",
      "* ...\n",
      "\n"
     ]
    },
    {
     "data": {
      "text/html": [
       "<table class=\"dataframe\">\n",
       "<caption>A tibble: 6 × 39</caption>\n",
       "<thead>\n",
       "\t<tr><th scope=col>...1</th><th scope=col>Area</th><th scope=col>1 : Agriculture, forestry &amp; fishing (A)</th><th scope=col>Flags...4</th><th scope=col>2 : Mining, quarrying &amp; utilities (B,D and E)</th><th scope=col>Flags...6</th><th scope=col>3 : Manufacturing (C)</th><th scope=col>Flags...8</th><th scope=col>4 : Construction (F)</th><th scope=col>Flags...10</th><th scope=col>...</th><th scope=col>Flags...30</th><th scope=col>15 : Public administration &amp; defence (O)</th><th scope=col>Flags...32</th><th scope=col>16 : Education (P)</th><th scope=col>Flags...34</th><th scope=col>17 : Health (Q)</th><th scope=col>Flags...36</th><th scope=col>18 : Arts, entertainment, recreation &amp; other services (R,S,T and U)</th><th scope=col>Flags...38</th><th scope=col>Total</th></tr>\n",
       "\t<tr><th scope=col>&lt;chr&gt;</th><th scope=col>&lt;chr&gt;</th><th scope=col>&lt;chr&gt;</th><th scope=col>&lt;chr&gt;</th><th scope=col>&lt;chr&gt;</th><th scope=col>&lt;chr&gt;</th><th scope=col>&lt;chr&gt;</th><th scope=col>&lt;chr&gt;</th><th scope=col>&lt;chr&gt;</th><th scope=col>&lt;chr&gt;</th><th scope=col>...</th><th scope=col>&lt;chr&gt;</th><th scope=col>&lt;chr&gt;</th><th scope=col>&lt;chr&gt;</th><th scope=col>&lt;chr&gt;</th><th scope=col>&lt;chr&gt;</th><th scope=col>&lt;chr&gt;</th><th scope=col>&lt;chr&gt;</th><th scope=col>&lt;chr&gt;</th><th scope=col>&lt;chr&gt;</th><th scope=col>&lt;lgl&gt;</th></tr>\n",
       "</thead>\n",
       "<tbody>\n",
       "\t<tr><td>Code     </td><td>NA                  </td><td>number</td><td>Flags</td><td>number</td><td>Flags</td><td>number</td><td>Flags</td><td>number</td><td>Flags</td><td>...</td><td>Flags</td><td>number</td><td>Flags</td><td>number</td><td>Flags</td><td>number</td><td>Flags</td><td>number</td><td>Flags</td><td>NA</td></tr>\n",
       "\t<tr><td>E09000002</td><td>Barking and Dagenham</td><td>15    </td><td>NA   </td><td>900   </td><td>NA   </td><td>5000  </td><td>NA   </td><td>4500  </td><td>NA   </td><td>...</td><td>NA   </td><td>2250  </td><td>NA   </td><td>7000  </td><td>NA   </td><td>5000  </td><td>NA   </td><td>2000  </td><td>NA   </td><td>NA</td></tr>\n",
       "\t<tr><td>E09000003</td><td>Barnet              </td><td>50    </td><td>NA   </td><td>350   </td><td>NA   </td><td>3500  </td><td>NA   </td><td>9000  </td><td>NA   </td><td>...</td><td>NA   </td><td>3000  </td><td>NA   </td><td>15000 </td><td>NA   </td><td>20000 </td><td>NA   </td><td>7000  </td><td>NA   </td><td>NA</td></tr>\n",
       "\t<tr><td>E09000004</td><td>Bexley              </td><td>30    </td><td>NA   </td><td>1500  </td><td>NA   </td><td>5000  </td><td>NA   </td><td>6000  </td><td>NA   </td><td>...</td><td>NA   </td><td>3500  </td><td>NA   </td><td>7000  </td><td>NA   </td><td>8000  </td><td>NA   </td><td>3000  </td><td>NA   </td><td>NA</td></tr>\n",
       "\t<tr><td>E09000005</td><td>Brent               </td><td>10    </td><td>NA   </td><td>1250  </td><td>NA   </td><td>9000  </td><td>NA   </td><td>8000  </td><td>NA   </td><td>...</td><td>NA   </td><td>3000  </td><td>NA   </td><td>10000 </td><td>NA   </td><td>17000 </td><td>NA   </td><td>5000  </td><td>NA   </td><td>NA</td></tr>\n",
       "\t<tr><td>E09000006</td><td>Bromley             </td><td>200   </td><td>NA   </td><td>800   </td><td>NA   </td><td>2500  </td><td>NA   </td><td>8000  </td><td>NA   </td><td>...</td><td>NA   </td><td>2500  </td><td>NA   </td><td>11000 </td><td>NA   </td><td>16000 </td><td>NA   </td><td>6000  </td><td>NA   </td><td>NA</td></tr>\n",
       "</tbody>\n",
       "</table>\n"
      ],
      "text/latex": [
       "A tibble: 6 × 39\n",
       "\\begin{tabular}{lllllllllllllllllllll}\n",
       " ...1 & Area & 1 : Agriculture, forestry \\& fishing (A) & Flags...4 & 2 : Mining, quarrying \\& utilities (B,D and E) & Flags...6 & 3 : Manufacturing (C) & Flags...8 & 4 : Construction (F) & Flags...10 & ... & Flags...30 & 15 : Public administration \\& defence (O) & Flags...32 & 16 : Education (P) & Flags...34 & 17 : Health (Q) & Flags...36 & 18 : Arts, entertainment, recreation \\& other services (R,S,T and U) & Flags...38 & Total\\\\\n",
       " <chr> & <chr> & <chr> & <chr> & <chr> & <chr> & <chr> & <chr> & <chr> & <chr> & ... & <chr> & <chr> & <chr> & <chr> & <chr> & <chr> & <chr> & <chr> & <chr> & <lgl>\\\\\n",
       "\\hline\n",
       "\t Code      & NA                   & number & Flags & number & Flags & number & Flags & number & Flags & ... & Flags & number & Flags & number & Flags & number & Flags & number & Flags & NA\\\\\n",
       "\t E09000002 & Barking and Dagenham & 15     & NA    & 900    & NA    & 5000   & NA    & 4500   & NA    & ... & NA    & 2250   & NA    & 7000   & NA    & 5000   & NA    & 2000   & NA    & NA\\\\\n",
       "\t E09000003 & Barnet               & 50     & NA    & 350    & NA    & 3500   & NA    & 9000   & NA    & ... & NA    & 3000   & NA    & 15000  & NA    & 20000  & NA    & 7000   & NA    & NA\\\\\n",
       "\t E09000004 & Bexley               & 30     & NA    & 1500   & NA    & 5000   & NA    & 6000   & NA    & ... & NA    & 3500   & NA    & 7000   & NA    & 8000   & NA    & 3000   & NA    & NA\\\\\n",
       "\t E09000005 & Brent                & 10     & NA    & 1250   & NA    & 9000   & NA    & 8000   & NA    & ... & NA    & 3000   & NA    & 10000  & NA    & 17000  & NA    & 5000   & NA    & NA\\\\\n",
       "\t E09000006 & Bromley              & 200    & NA    & 800    & NA    & 2500   & NA    & 8000   & NA    & ... & NA    & 2500   & NA    & 11000  & NA    & 16000  & NA    & 6000   & NA    & NA\\\\\n",
       "\\end{tabular}\n"
      ],
      "text/markdown": [
       "\n",
       "A tibble: 6 × 39\n",
       "\n",
       "| ...1 &lt;chr&gt; | Area &lt;chr&gt; | 1 : Agriculture, forestry &amp; fishing (A) &lt;chr&gt; | Flags...4 &lt;chr&gt; | 2 : Mining, quarrying &amp; utilities (B,D and E) &lt;chr&gt; | Flags...6 &lt;chr&gt; | 3 : Manufacturing (C) &lt;chr&gt; | Flags...8 &lt;chr&gt; | 4 : Construction (F) &lt;chr&gt; | Flags...10 &lt;chr&gt; | ... ... | Flags...30 &lt;chr&gt; | 15 : Public administration &amp; defence (O) &lt;chr&gt; | Flags...32 &lt;chr&gt; | 16 : Education (P) &lt;chr&gt; | Flags...34 &lt;chr&gt; | 17 : Health (Q) &lt;chr&gt; | Flags...36 &lt;chr&gt; | 18 : Arts, entertainment, recreation &amp; other services (R,S,T and U) &lt;chr&gt; | Flags...38 &lt;chr&gt; | Total &lt;lgl&gt; |\n",
       "|---|---|---|---|---|---|---|---|---|---|---|---|---|---|---|---|---|---|---|---|---|\n",
       "| Code      | NA                   | number | Flags | number | Flags | number | Flags | number | Flags | ... | Flags | number | Flags | number | Flags | number | Flags | number | Flags | NA |\n",
       "| E09000002 | Barking and Dagenham | 15     | NA    | 900    | NA    | 5000   | NA    | 4500   | NA    | ... | NA    | 2250   | NA    | 7000   | NA    | 5000   | NA    | 2000   | NA    | NA |\n",
       "| E09000003 | Barnet               | 50     | NA    | 350    | NA    | 3500   | NA    | 9000   | NA    | ... | NA    | 3000   | NA    | 15000  | NA    | 20000  | NA    | 7000   | NA    | NA |\n",
       "| E09000004 | Bexley               | 30     | NA    | 1500   | NA    | 5000   | NA    | 6000   | NA    | ... | NA    | 3500   | NA    | 7000   | NA    | 8000   | NA    | 3000   | NA    | NA |\n",
       "| E09000005 | Brent                | 10     | NA    | 1250   | NA    | 9000   | NA    | 8000   | NA    | ... | NA    | 3000   | NA    | 10000  | NA    | 17000  | NA    | 5000   | NA    | NA |\n",
       "| E09000006 | Bromley              | 200    | NA    | 800    | NA    | 2500   | NA    | 8000   | NA    | ... | NA    | 2500   | NA    | 11000  | NA    | 16000  | NA    | 6000   | NA    | NA |\n",
       "\n"
      ],
      "text/plain": [
       "  ...1      Area                 1 : Agriculture, forestry & fishing (A)\n",
       "1 Code      NA                   number                                 \n",
       "2 E09000002 Barking and Dagenham 15                                     \n",
       "3 E09000003 Barnet               50                                     \n",
       "4 E09000004 Bexley               30                                     \n",
       "5 E09000005 Brent                10                                     \n",
       "6 E09000006 Bromley              200                                    \n",
       "  Flags...4 2 : Mining, quarrying & utilities (B,D and E) Flags...6\n",
       "1 Flags     number                                        Flags    \n",
       "2 NA        900                                           NA       \n",
       "3 NA        350                                           NA       \n",
       "4 NA        1500                                          NA       \n",
       "5 NA        1250                                          NA       \n",
       "6 NA        800                                           NA       \n",
       "  3 : Manufacturing (C) Flags...8 4 : Construction (F) Flags...10 ...\n",
       "1 number                Flags     number               Flags      ...\n",
       "2 5000                  NA        4500                 NA         ...\n",
       "3 3500                  NA        9000                 NA         ...\n",
       "4 5000                  NA        6000                 NA         ...\n",
       "5 9000                  NA        8000                 NA         ...\n",
       "6 2500                  NA        8000                 NA         ...\n",
       "  Flags...30 15 : Public administration & defence (O) Flags...32\n",
       "1 Flags      number                                   Flags     \n",
       "2 NA         2250                                     NA        \n",
       "3 NA         3000                                     NA        \n",
       "4 NA         3500                                     NA        \n",
       "5 NA         3000                                     NA        \n",
       "6 NA         2500                                     NA        \n",
       "  16 : Education (P) Flags...34 17 : Health (Q) Flags...36\n",
       "1 number             Flags      number          Flags     \n",
       "2 7000               NA         5000            NA        \n",
       "3 15000              NA         20000           NA        \n",
       "4 7000               NA         8000            NA        \n",
       "5 10000              NA         17000           NA        \n",
       "6 11000              NA         16000           NA        \n",
       "  18 : Arts, entertainment, recreation & other services (R,S,T and U)\n",
       "1 number                                                             \n",
       "2 2000                                                               \n",
       "3 7000                                                               \n",
       "4 3000                                                               \n",
       "5 5000                                                               \n",
       "6 6000                                                               \n",
       "  Flags...38 Total\n",
       "1 Flags      NA   \n",
       "2 NA         NA   \n",
       "3 NA         NA   \n",
       "4 NA         NA   \n",
       "5 NA         NA   \n",
       "6 NA         NA   "
      ]
     },
     "metadata": {},
     "output_type": "display_data"
    }
   ],
   "source": [
    "#Import data\n",
    "jobs2<-read_excel(\"bres-employment-industry-borough.xlsx\", sheet = \"2019\")\n",
    "head(jobs2)"
   ]
  },
  {
   "cell_type": "markdown",
   "id": "4ca032d5",
   "metadata": {},
   "source": [
    "### Safety\n",
    "1999-2017 number of offences, type of offences and offence rate are grouped by boroughs and regions. The rate is given as per thousand population."
   ]
  },
  {
   "cell_type": "code",
   "execution_count": 49,
   "id": "5146848d",
   "metadata": {},
   "outputs": [
    {
     "data": {
      "text/html": [
       "<table class=\"dataframe\">\n",
       "<caption>A tibble: 6 × 6</caption>\n",
       "<thead>\n",
       "\t<tr><th scope=col>Code</th><th scope=col>Borough</th><th scope=col>Year</th><th scope=col>Offences</th><th scope=col>Rate</th><th scope=col>Number_of_offences</th></tr>\n",
       "\t<tr><th scope=col>&lt;chr&gt;</th><th scope=col>&lt;chr&gt;</th><th scope=col>&lt;chr&gt;</th><th scope=col>&lt;chr&gt;</th><th scope=col>&lt;chr&gt;</th><th scope=col>&lt;chr&gt;</th></tr>\n",
       "</thead>\n",
       "<tbody>\n",
       "\t<tr><td>E09000002</td><td>Barking and Dagenham</td><td>1999-00</td><td>All recorded offences</td><td>120.5</td><td>19,567</td></tr>\n",
       "\t<tr><td>E09000003</td><td>Barnet              </td><td>1999-00</td><td>All recorded offences</td><td>98   </td><td>30,708</td></tr>\n",
       "\t<tr><td>E09000004</td><td>Bexley              </td><td>1999-00</td><td>All recorded offences</td><td>95.1 </td><td>20,680</td></tr>\n",
       "\t<tr><td>E09000005</td><td>Brent               </td><td>1999-00</td><td>All recorded offences</td><td>127.7</td><td>33,253</td></tr>\n",
       "\t<tr><td>E09000006</td><td>Bromley             </td><td>1999-00</td><td>All recorded offences</td><td>89.8 </td><td>26,474</td></tr>\n",
       "\t<tr><td>E09000007</td><td>Camden              </td><td>1999-00</td><td>All recorded offences</td><td>241  </td><td>45,800</td></tr>\n",
       "</tbody>\n",
       "</table>\n"
      ],
      "text/latex": [
       "A tibble: 6 × 6\n",
       "\\begin{tabular}{llllll}\n",
       " Code & Borough & Year & Offences & Rate & Number\\_of\\_offences\\\\\n",
       " <chr> & <chr> & <chr> & <chr> & <chr> & <chr>\\\\\n",
       "\\hline\n",
       "\t E09000002 & Barking and Dagenham & 1999-00 & All recorded offences & 120.5 & 19,567\\\\\n",
       "\t E09000003 & Barnet               & 1999-00 & All recorded offences & 98    & 30,708\\\\\n",
       "\t E09000004 & Bexley               & 1999-00 & All recorded offences & 95.1  & 20,680\\\\\n",
       "\t E09000005 & Brent                & 1999-00 & All recorded offences & 127.7 & 33,253\\\\\n",
       "\t E09000006 & Bromley              & 1999-00 & All recorded offences & 89.8  & 26,474\\\\\n",
       "\t E09000007 & Camden               & 1999-00 & All recorded offences & 241   & 45,800\\\\\n",
       "\\end{tabular}\n"
      ],
      "text/markdown": [
       "\n",
       "A tibble: 6 × 6\n",
       "\n",
       "| Code &lt;chr&gt; | Borough &lt;chr&gt; | Year &lt;chr&gt; | Offences &lt;chr&gt; | Rate &lt;chr&gt; | Number_of_offences &lt;chr&gt; |\n",
       "|---|---|---|---|---|---|\n",
       "| E09000002 | Barking and Dagenham | 1999-00 | All recorded offences | 120.5 | 19,567 |\n",
       "| E09000003 | Barnet               | 1999-00 | All recorded offences | 98    | 30,708 |\n",
       "| E09000004 | Bexley               | 1999-00 | All recorded offences | 95.1  | 20,680 |\n",
       "| E09000005 | Brent                | 1999-00 | All recorded offences | 127.7 | 33,253 |\n",
       "| E09000006 | Bromley              | 1999-00 | All recorded offences | 89.8  | 26,474 |\n",
       "| E09000007 | Camden               | 1999-00 | All recorded offences | 241   | 45,800 |\n",
       "\n"
      ],
      "text/plain": [
       "  Code      Borough              Year    Offences              Rate \n",
       "1 E09000002 Barking and Dagenham 1999-00 All recorded offences 120.5\n",
       "2 E09000003 Barnet               1999-00 All recorded offences 98   \n",
       "3 E09000004 Bexley               1999-00 All recorded offences 95.1 \n",
       "4 E09000005 Brent                1999-00 All recorded offences 127.7\n",
       "5 E09000006 Bromley              1999-00 All recorded offences 89.8 \n",
       "6 E09000007 Camden               1999-00 All recorded offences 241  \n",
       "  Number_of_offences\n",
       "1 19,567            \n",
       "2 30,708            \n",
       "3 20,680            \n",
       "4 33,253            \n",
       "5 26,474            \n",
       "6 45,800            "
      ]
     },
     "metadata": {},
     "output_type": "display_data"
    }
   ],
   "source": [
    "#Import data\n",
    "safety<-read_csv(\"crime rates.csv\",show_col_types = FALSE)\n",
    "head(safety)"
   ]
  },
  {
   "cell_type": "markdown",
   "id": "0b5c4b55",
   "metadata": {},
   "source": [
    "### Well-being \n",
    "2011-2019 well being scores are grouped by boroughs and regions. Life satisfaction, happiness, worthwhileness and anxiety are included in the survey."
   ]
  },
  {
   "cell_type": "code",
   "execution_count": 50,
   "id": "be52eddf",
   "metadata": {},
   "outputs": [
    {
     "name": "stderr",
     "output_type": "stream",
     "text": [
      "New names:\n",
      "* `` -> ...1\n",
      "* `` -> ...2\n",
      "* `` -> ...4\n",
      "* `` -> ...5\n",
      "* `` -> ...6\n",
      "* ...\n",
      "\n"
     ]
    },
    {
     "data": {
      "text/html": [
       "<table class=\"dataframe\">\n",
       "<caption>A tibble: 6 × 37</caption>\n",
       "<thead>\n",
       "\t<tr><th scope=col>...1</th><th scope=col>...2</th><th scope=col>Life Satisfaction</th><th scope=col>...4</th><th scope=col>...5</th><th scope=col>...6</th><th scope=col>...7</th><th scope=col>...8</th><th scope=col>...9</th><th scope=col>...10</th><th scope=col>...</th><th scope=col>...28</th><th scope=col>...29</th><th scope=col>Anxiety</th><th scope=col>...31</th><th scope=col>...32</th><th scope=col>...33</th><th scope=col>...34</th><th scope=col>...35</th><th scope=col>...36</th><th scope=col>...37</th></tr>\n",
       "\t<tr><th scope=col>&lt;chr&gt;</th><th scope=col>&lt;chr&gt;</th><th scope=col>&lt;chr&gt;</th><th scope=col>&lt;chr&gt;</th><th scope=col>&lt;chr&gt;</th><th scope=col>&lt;chr&gt;</th><th scope=col>&lt;chr&gt;</th><th scope=col>&lt;chr&gt;</th><th scope=col>&lt;chr&gt;</th><th scope=col>&lt;chr&gt;</th><th scope=col>...</th><th scope=col>&lt;chr&gt;</th><th scope=col>&lt;lgl&gt;</th><th scope=col>&lt;chr&gt;</th><th scope=col>&lt;chr&gt;</th><th scope=col>&lt;chr&gt;</th><th scope=col>&lt;chr&gt;</th><th scope=col>&lt;chr&gt;</th><th scope=col>&lt;chr&gt;</th><th scope=col>&lt;chr&gt;</th><th scope=col>&lt;chr&gt;</th></tr>\n",
       "</thead>\n",
       "<tbody>\n",
       "\t<tr><td>Code     </td><td>Area                </td><td>2011/12</td><td>2012/13</td><td>2013/14</td><td>2014/15</td><td>2015/16</td><td>2016/17</td><td>2017/18</td><td>2018/19</td><td>...</td><td>2018/19</td><td>NA</td><td>2011/12</td><td>2012/13</td><td>2013/14</td><td>2014/15</td><td>2015/16           </td><td>2016/17</td><td>2017/18</td><td>2018/19</td></tr>\n",
       "\t<tr><td>NA       </td><td>NA                  </td><td>NA     </td><td>NA     </td><td>NA     </td><td>NA     </td><td>NA     </td><td>NA     </td><td>NA     </td><td>NA     </td><td>...</td><td>NA     </td><td>NA</td><td>NA     </td><td>NA     </td><td>NA     </td><td>NA     </td><td>NA                </td><td>NA     </td><td>NA     </td><td>NA     </td></tr>\n",
       "\t<tr><td>E09000001</td><td>City of London      </td><td>x      </td><td>x      </td><td>x      </td><td>x      </td><td>x      </td><td>x      </td><td>NA     </td><td>NA     </td><td>...</td><td>x      </td><td>NA</td><td>x      </td><td>x      </td><td>x      </td><td>x      </td><td>x                 </td><td>x      </td><td>x      </td><td>x      </td></tr>\n",
       "\t<tr><td>E09000002</td><td>Barking and Dagenham</td><td>7.05   </td><td>7.09   </td><td>7.01   </td><td>7.32   </td><td>7.45   </td><td>7.5    </td><td>7.66   </td><td>7.52   </td><td>...</td><td>7.67   </td><td>NA</td><td>3.23   </td><td>3.27   </td><td>3.39   </td><td>3.15   </td><td>2.84              </td><td>3.02   </td><td>2.85   </td><td>2.82   </td></tr>\n",
       "\t<tr><td>E09000003</td><td>Barnet              </td><td>7.43   </td><td>7.28   </td><td>7.4    </td><td>7.54   </td><td>7.53   </td><td>7.47   </td><td>7.63   </td><td>7.55   </td><td>...</td><td>7.44   </td><td>NA</td><td>3.41   </td><td>2.74   </td><td>2.6    </td><td>2.37   </td><td>2.4900000000000002</td><td>3.09   </td><td>2.78   </td><td>3.19   </td></tr>\n",
       "\t<tr><td>E09000004</td><td>Bexley              </td><td>7.42   </td><td>7.42   </td><td>7.28   </td><td>7.52   </td><td>7.41   </td><td>7.46   </td><td>7.42   </td><td>7.54   </td><td>...</td><td>7.55   </td><td>NA</td><td>3.07   </td><td>3.24   </td><td>3.46   </td><td>3.16   </td><td>3.06              </td><td>3.16   </td><td>3.04   </td><td>3.21   </td></tr>\n",
       "</tbody>\n",
       "</table>\n"
      ],
      "text/latex": [
       "A tibble: 6 × 37\n",
       "\\begin{tabular}{lllllllllllllllllllll}\n",
       " ...1 & ...2 & Life Satisfaction & ...4 & ...5 & ...6 & ...7 & ...8 & ...9 & ...10 & ... & ...28 & ...29 & Anxiety & ...31 & ...32 & ...33 & ...34 & ...35 & ...36 & ...37\\\\\n",
       " <chr> & <chr> & <chr> & <chr> & <chr> & <chr> & <chr> & <chr> & <chr> & <chr> & ... & <chr> & <lgl> & <chr> & <chr> & <chr> & <chr> & <chr> & <chr> & <chr> & <chr>\\\\\n",
       "\\hline\n",
       "\t Code      & Area                 & 2011/12 & 2012/13 & 2013/14 & 2014/15 & 2015/16 & 2016/17 & 2017/18 & 2018/19 & ... & 2018/19 & NA & 2011/12 & 2012/13 & 2013/14 & 2014/15 & 2015/16            & 2016/17 & 2017/18 & 2018/19\\\\\n",
       "\t NA        & NA                   & NA      & NA      & NA      & NA      & NA      & NA      & NA      & NA      & ... & NA      & NA & NA      & NA      & NA      & NA      & NA                 & NA      & NA      & NA     \\\\\n",
       "\t E09000001 & City of London       & x       & x       & x       & x       & x       & x       & NA      & NA      & ... & x       & NA & x       & x       & x       & x       & x                  & x       & x       & x      \\\\\n",
       "\t E09000002 & Barking and Dagenham & 7.05    & 7.09    & 7.01    & 7.32    & 7.45    & 7.5     & 7.66    & 7.52    & ... & 7.67    & NA & 3.23    & 3.27    & 3.39    & 3.15    & 2.84               & 3.02    & 2.85    & 2.82   \\\\\n",
       "\t E09000003 & Barnet               & 7.43    & 7.28    & 7.4     & 7.54    & 7.53    & 7.47    & 7.63    & 7.55    & ... & 7.44    & NA & 3.41    & 2.74    & 2.6     & 2.37    & 2.4900000000000002 & 3.09    & 2.78    & 3.19   \\\\\n",
       "\t E09000004 & Bexley               & 7.42    & 7.42    & 7.28    & 7.52    & 7.41    & 7.46    & 7.42    & 7.54    & ... & 7.55    & NA & 3.07    & 3.24    & 3.46    & 3.16    & 3.06               & 3.16    & 3.04    & 3.21   \\\\\n",
       "\\end{tabular}\n"
      ],
      "text/markdown": [
       "\n",
       "A tibble: 6 × 37\n",
       "\n",
       "| ...1 &lt;chr&gt; | ...2 &lt;chr&gt; | Life Satisfaction &lt;chr&gt; | ...4 &lt;chr&gt; | ...5 &lt;chr&gt; | ...6 &lt;chr&gt; | ...7 &lt;chr&gt; | ...8 &lt;chr&gt; | ...9 &lt;chr&gt; | ...10 &lt;chr&gt; | ... ... | ...28 &lt;chr&gt; | ...29 &lt;lgl&gt; | Anxiety &lt;chr&gt; | ...31 &lt;chr&gt; | ...32 &lt;chr&gt; | ...33 &lt;chr&gt; | ...34 &lt;chr&gt; | ...35 &lt;chr&gt; | ...36 &lt;chr&gt; | ...37 &lt;chr&gt; |\n",
       "|---|---|---|---|---|---|---|---|---|---|---|---|---|---|---|---|---|---|---|---|---|\n",
       "| Code      | Area                 | 2011/12 | 2012/13 | 2013/14 | 2014/15 | 2015/16 | 2016/17 | 2017/18 | 2018/19 | ... | 2018/19 | NA | 2011/12 | 2012/13 | 2013/14 | 2014/15 | 2015/16            | 2016/17 | 2017/18 | 2018/19 |\n",
       "| NA        | NA                   | NA      | NA      | NA      | NA      | NA      | NA      | NA      | NA      | ... | NA      | NA | NA      | NA      | NA      | NA      | NA                 | NA      | NA      | NA      |\n",
       "| E09000001 | City of London       | x       | x       | x       | x       | x       | x       | NA      | NA      | ... | x       | NA | x       | x       | x       | x       | x                  | x       | x       | x       |\n",
       "| E09000002 | Barking and Dagenham | 7.05    | 7.09    | 7.01    | 7.32    | 7.45    | 7.5     | 7.66    | 7.52    | ... | 7.67    | NA | 3.23    | 3.27    | 3.39    | 3.15    | 2.84               | 3.02    | 2.85    | 2.82    |\n",
       "| E09000003 | Barnet               | 7.43    | 7.28    | 7.4     | 7.54    | 7.53    | 7.47    | 7.63    | 7.55    | ... | 7.44    | NA | 3.41    | 2.74    | 2.6     | 2.37    | 2.4900000000000002 | 3.09    | 2.78    | 3.19    |\n",
       "| E09000004 | Bexley               | 7.42    | 7.42    | 7.28    | 7.52    | 7.41    | 7.46    | 7.42    | 7.54    | ... | 7.55    | NA | 3.07    | 3.24    | 3.46    | 3.16    | 3.06               | 3.16    | 3.04    | 3.21    |\n",
       "\n"
      ],
      "text/plain": [
       "  ...1      ...2                 Life Satisfaction ...4    ...5    ...6   \n",
       "1 Code      Area                 2011/12           2012/13 2013/14 2014/15\n",
       "2 NA        NA                   NA                NA      NA      NA     \n",
       "3 E09000001 City of London       x                 x       x       x      \n",
       "4 E09000002 Barking and Dagenham 7.05              7.09    7.01    7.32   \n",
       "5 E09000003 Barnet               7.43              7.28    7.4     7.54   \n",
       "6 E09000004 Bexley               7.42              7.42    7.28    7.52   \n",
       "  ...7    ...8    ...9    ...10   ... ...28   ...29 Anxiety ...31   ...32  \n",
       "1 2015/16 2016/17 2017/18 2018/19 ... 2018/19 NA    2011/12 2012/13 2013/14\n",
       "2 NA      NA      NA      NA      ... NA      NA    NA      NA      NA     \n",
       "3 x       x       NA      NA      ... x       NA    x       x       x      \n",
       "4 7.45    7.5     7.66    7.52    ... 7.67    NA    3.23    3.27    3.39   \n",
       "5 7.53    7.47    7.63    7.55    ... 7.44    NA    3.41    2.74    2.6    \n",
       "6 7.41    7.46    7.42    7.54    ... 7.55    NA    3.07    3.24    3.46   \n",
       "  ...33   ...34              ...35   ...36   ...37  \n",
       "1 2014/15 2015/16            2016/17 2017/18 2018/19\n",
       "2 NA      NA                 NA      NA      NA     \n",
       "3 x       x                  x       x       x      \n",
       "4 3.15    2.84               3.02    2.85    2.82   \n",
       "5 2.37    2.4900000000000002 3.09    2.78    3.19   \n",
       "6 3.16    3.06               3.16    3.04    3.21   "
      ]
     },
     "metadata": {},
     "output_type": "display_data"
    }
   ],
   "source": [
    "#Import data\n",
    "wellbeing<-read_excel(\"personal-well-being-borough.xlsx\", sheet = \"Summary - Mean Scores\")\n",
    "head(wellbeing)"
   ]
  },
  {
   "cell_type": "markdown",
   "id": "ad4e34e7",
   "metadata": {},
   "source": [
    "## 4. Data Preparation"
   ]
  },
  {
   "cell_type": "markdown",
   "id": "97ffeb54",
   "metadata": {},
   "source": [
    "<p>After preview, some of the tables are needed to tidy up for data anlysis.</p>"
   ]
  },
  {
   "cell_type": "markdown",
   "id": "743cf997",
   "metadata": {},
   "source": [
    "### Rent"
   ]
  },
  {
   "cell_type": "code",
   "execution_count": 51,
   "id": "814ec7f9",
   "metadata": {},
   "outputs": [
    {
     "data": {
      "text/html": [
       "<style>\n",
       ".dl-inline {width: auto; margin:0; padding: 0}\n",
       ".dl-inline>dt, .dl-inline>dd {float: none; width: auto; display: inline-block}\n",
       ".dl-inline>dt::after {content: \":\\0020\"; padding-right: .5ex}\n",
       ".dl-inline>dt:not(:first-of-type) {padding-left: .5ex}\n",
       "</style><dl class=dl-inline><dt>Code</dt><dd>2</dd><dt>New_Code</dt><dd>3</dd><dt>Area</dt><dd>2</dd><dt>1996-97</dt><dd>2</dd><dt>1997-98</dt><dd>2</dd><dt>1998-99</dt><dd>2</dd><dt>1999-00</dt><dd>2</dd><dt>2000-01</dt><dd>2</dd><dt>2001-02</dt><dd>2</dd><dt>2002-03</dt><dd>2</dd><dt>2003-04</dt><dd>2</dd><dt>2004-05</dt><dd>2</dd><dt>2005-06</dt><dd>2</dd><dt>2006-07</dt><dd>2</dd><dt>2007-08</dt><dd>2</dd><dt>2008-09</dt><dd>2</dd><dt>2009-10</dt><dd>2</dd><dt>2010-11</dt><dd>2</dd><dt>2011-12</dt><dd>2</dd><dt>2012-13</dt><dd>2</dd><dt>2013-14</dt><dd>2</dd><dt>2014-15</dt><dd>2</dd><dt>2015-16</dt><dd>2</dd><dt>2016-17</dt><dd>2</dd><dt>2017-18</dt><dd>2</dd><dt>2018-19</dt><dd>2</dd></dl>\n"
      ],
      "text/latex": [
       "\\begin{description*}\n",
       "\\item[Code] 2\n",
       "\\item[New\\textbackslash{}\\_Code] 3\n",
       "\\item[Area] 2\n",
       "\\item[1996-97] 2\n",
       "\\item[1997-98] 2\n",
       "\\item[1998-99] 2\n",
       "\\item[1999-00] 2\n",
       "\\item[2000-01] 2\n",
       "\\item[2001-02] 2\n",
       "\\item[2002-03] 2\n",
       "\\item[2003-04] 2\n",
       "\\item[2004-05] 2\n",
       "\\item[2005-06] 2\n",
       "\\item[2006-07] 2\n",
       "\\item[2007-08] 2\n",
       "\\item[2008-09] 2\n",
       "\\item[2009-10] 2\n",
       "\\item[2010-11] 2\n",
       "\\item[2011-12] 2\n",
       "\\item[2012-13] 2\n",
       "\\item[2013-14] 2\n",
       "\\item[2014-15] 2\n",
       "\\item[2015-16] 2\n",
       "\\item[2016-17] 2\n",
       "\\item[2017-18] 2\n",
       "\\item[2018-19] 2\n",
       "\\end{description*}\n"
      ],
      "text/markdown": [
       "Code\n",
       ":   2New_Code\n",
       ":   3Area\n",
       ":   21996-97\n",
       ":   21997-98\n",
       ":   21998-99\n",
       ":   21999-00\n",
       ":   22000-01\n",
       ":   22001-02\n",
       ":   22002-03\n",
       ":   22003-04\n",
       ":   22004-05\n",
       ":   22005-06\n",
       ":   22006-07\n",
       ":   22007-08\n",
       ":   22008-09\n",
       ":   22009-10\n",
       ":   22010-11\n",
       ":   22011-12\n",
       ":   22012-13\n",
       ":   22013-14\n",
       ":   22014-15\n",
       ":   22015-16\n",
       ":   22016-17\n",
       ":   22017-18\n",
       ":   22018-19\n",
       ":   2\n",
       "\n"
      ],
      "text/plain": [
       "    Code New_Code     Area  1996-97  1997-98  1998-99  1999-00  2000-01 \n",
       "       2        3        2        2        2        2        2        2 \n",
       " 2001-02  2002-03  2003-04  2004-05  2005-06  2006-07  2007-08  2008-09 \n",
       "       2        2        2        2        2        2        2        2 \n",
       " 2009-10  2010-11  2011-12  2012-13  2013-14  2014-15  2015-16  2016-17 \n",
       "       2        2        2        2        2        2        2        2 \n",
       " 2017-18  2018-19 \n",
       "       2        2 "
      ]
     },
     "metadata": {},
     "output_type": "display_data"
    }
   ],
   "source": [
    "#Rename of Column\n",
    "names(rent)[2]<-\"New_Code\"\n",
    "\n",
    "#Check missing values for each column\n",
    "sapply(rent, function(x) sum(is.na(x)))"
   ]
  },
  {
   "cell_type": "markdown",
   "id": "4b47698f",
   "metadata": {},
   "source": [
    "<br></br>\n",
    "<p>From the result, there are 2 missing values in all columns. For clomun New_Code, there is one more missing value than others.</p>\n",
    "<br></br>"
   ]
  },
  {
   "cell_type": "code",
   "execution_count": 52,
   "id": "9fa215e2",
   "metadata": {},
   "outputs": [
    {
     "data": {
      "text/html": [
       "<table class=\"dataframe\">\n",
       "<caption>A tibble: 3 × 26</caption>\n",
       "<thead>\n",
       "\t<tr><th scope=col>Code</th><th scope=col>New_Code</th><th scope=col>Area</th><th scope=col>1996-97</th><th scope=col>1997-98</th><th scope=col>1998-99</th><th scope=col>1999-00</th><th scope=col>2000-01</th><th scope=col>2001-02</th><th scope=col>2002-03</th><th scope=col>...</th><th scope=col>2009-10</th><th scope=col>2010-11</th><th scope=col>2011-12</th><th scope=col>2012-13</th><th scope=col>2013-14</th><th scope=col>2014-15</th><th scope=col>2015-16</th><th scope=col>2016-17</th><th scope=col>2017-18</th><th scope=col>2018-19</th></tr>\n",
       "\t<tr><th scope=col>&lt;chr&gt;</th><th scope=col>&lt;chr&gt;</th><th scope=col>&lt;chr&gt;</th><th scope=col>&lt;dbl&gt;</th><th scope=col>&lt;dbl&gt;</th><th scope=col>&lt;dbl&gt;</th><th scope=col>&lt;dbl&gt;</th><th scope=col>&lt;dbl&gt;</th><th scope=col>&lt;dbl&gt;</th><th scope=col>&lt;dbl&gt;</th><th scope=col>...</th><th scope=col>&lt;dbl&gt;</th><th scope=col>&lt;dbl&gt;</th><th scope=col>&lt;dbl&gt;</th><th scope=col>&lt;dbl&gt;</th><th scope=col>&lt;dbl&gt;</th><th scope=col>&lt;dbl&gt;</th><th scope=col>&lt;dbl&gt;</th><th scope=col>&lt;dbl&gt;</th><th scope=col>&lt;dbl&gt;</th><th scope=col>&lt;dbl&gt;</th></tr>\n",
       "</thead>\n",
       "<tbody>\n",
       "\t<tr><td>NA  </td><td>NA       </td><td>NA                  </td><td>   NA</td><td>   NA</td><td>   NA</td><td>   NA</td><td>   NA</td><td>   NA</td><td>   NA</td><td>...</td><td>   NA</td><td>   NA</td><td>    NA</td><td>    NA</td><td>    NA</td><td>    NA</td><td>      NA</td><td>     NA</td><td>      NA</td><td>    NA</td></tr>\n",
       "\t<tr><td>00AA</td><td>E09000001</td><td>City of London      </td><td>49.44</td><td>51.44</td><td>52.77</td><td>55.52</td><td>56.93</td><td>58.70</td><td>61.88</td><td>...</td><td>95.88</td><td>96.45</td><td>104.55</td><td>112.93</td><td>115.56</td><td>124.46</td><td>126.6700</td><td>126.930</td><td>126.8300</td><td>126.59</td></tr>\n",
       "\t<tr><td>00AB</td><td>E09000002</td><td>Barking and Dagenham</td><td>65.32</td><td>67.88</td><td>68.97</td><td>63.44</td><td>64.18</td><td>69.22</td><td>69.03</td><td>...</td><td>95.69</td><td>96.49</td><td>101.69</td><td>107.67</td><td>120.92</td><td>127.03</td><td>128.5059</td><td>128.743</td><td>118.5148</td><td>116.92</td></tr>\n",
       "</tbody>\n",
       "</table>\n"
      ],
      "text/latex": [
       "A tibble: 3 × 26\n",
       "\\begin{tabular}{lllllllllllllllllllll}\n",
       " Code & New\\_Code & Area & 1996-97 & 1997-98 & 1998-99 & 1999-00 & 2000-01 & 2001-02 & 2002-03 & ... & 2009-10 & 2010-11 & 2011-12 & 2012-13 & 2013-14 & 2014-15 & 2015-16 & 2016-17 & 2017-18 & 2018-19\\\\\n",
       " <chr> & <chr> & <chr> & <dbl> & <dbl> & <dbl> & <dbl> & <dbl> & <dbl> & <dbl> & ... & <dbl> & <dbl> & <dbl> & <dbl> & <dbl> & <dbl> & <dbl> & <dbl> & <dbl> & <dbl>\\\\\n",
       "\\hline\n",
       "\t NA   & NA        & NA                   &    NA &    NA &    NA &    NA &    NA &    NA &    NA & ... &    NA &    NA &     NA &     NA &     NA &     NA &       NA &      NA &       NA &     NA\\\\\n",
       "\t 00AA & E09000001 & City of London       & 49.44 & 51.44 & 52.77 & 55.52 & 56.93 & 58.70 & 61.88 & ... & 95.88 & 96.45 & 104.55 & 112.93 & 115.56 & 124.46 & 126.6700 & 126.930 & 126.8300 & 126.59\\\\\n",
       "\t 00AB & E09000002 & Barking and Dagenham & 65.32 & 67.88 & 68.97 & 63.44 & 64.18 & 69.22 & 69.03 & ... & 95.69 & 96.49 & 101.69 & 107.67 & 120.92 & 127.03 & 128.5059 & 128.743 & 118.5148 & 116.92\\\\\n",
       "\\end{tabular}\n"
      ],
      "text/markdown": [
       "\n",
       "A tibble: 3 × 26\n",
       "\n",
       "| Code &lt;chr&gt; | New_Code &lt;chr&gt; | Area &lt;chr&gt; | 1996-97 &lt;dbl&gt; | 1997-98 &lt;dbl&gt; | 1998-99 &lt;dbl&gt; | 1999-00 &lt;dbl&gt; | 2000-01 &lt;dbl&gt; | 2001-02 &lt;dbl&gt; | 2002-03 &lt;dbl&gt; | ... ... | 2009-10 &lt;dbl&gt; | 2010-11 &lt;dbl&gt; | 2011-12 &lt;dbl&gt; | 2012-13 &lt;dbl&gt; | 2013-14 &lt;dbl&gt; | 2014-15 &lt;dbl&gt; | 2015-16 &lt;dbl&gt; | 2016-17 &lt;dbl&gt; | 2017-18 &lt;dbl&gt; | 2018-19 &lt;dbl&gt; |\n",
       "|---|---|---|---|---|---|---|---|---|---|---|---|---|---|---|---|---|---|---|---|---|\n",
       "| NA   | NA        | NA                   |    NA |    NA |    NA |    NA |    NA |    NA |    NA | ... |    NA |    NA |     NA |     NA |     NA |     NA |       NA |      NA |       NA |     NA |\n",
       "| 00AA | E09000001 | City of London       | 49.44 | 51.44 | 52.77 | 55.52 | 56.93 | 58.70 | 61.88 | ... | 95.88 | 96.45 | 104.55 | 112.93 | 115.56 | 124.46 | 126.6700 | 126.930 | 126.8300 | 126.59 |\n",
       "| 00AB | E09000002 | Barking and Dagenham | 65.32 | 67.88 | 68.97 | 63.44 | 64.18 | 69.22 | 69.03 | ... | 95.69 | 96.49 | 101.69 | 107.67 | 120.92 | 127.03 | 128.5059 | 128.743 | 118.5148 | 116.92 |\n",
       "\n"
      ],
      "text/plain": [
       "  Code New_Code  Area                 1996-97 1997-98 1998-99 1999-00 2000-01\n",
       "1 NA   NA        NA                      NA      NA      NA      NA      NA  \n",
       "2 00AA E09000001 City of London       49.44   51.44   52.77   55.52   56.93  \n",
       "3 00AB E09000002 Barking and Dagenham 65.32   67.88   68.97   63.44   64.18  \n",
       "  2001-02 2002-03 ... 2009-10 2010-11 2011-12 2012-13 2013-14 2014-15 2015-16 \n",
       "1    NA      NA   ...    NA      NA       NA      NA      NA      NA        NA\n",
       "2 58.70   61.88   ... 95.88   96.45   104.55  112.93  115.56  124.46  126.6700\n",
       "3 69.22   69.03   ... 95.69   96.49   101.69  107.67  120.92  127.03  128.5059\n",
       "  2016-17 2017-18  2018-19\n",
       "1      NA       NA     NA \n",
       "2 126.930 126.8300 126.59 \n",
       "3 128.743 118.5148 116.92 "
      ]
     },
     "metadata": {},
     "output_type": "display_data"
    },
    {
     "data": {
      "text/html": [
       "<table class=\"dataframe\">\n",
       "<caption>A tibble: 3 × 26</caption>\n",
       "<thead>\n",
       "\t<tr><th scope=col>Code</th><th scope=col>New_Code</th><th scope=col>Area</th><th scope=col>1996-97</th><th scope=col>1997-98</th><th scope=col>1998-99</th><th scope=col>1999-00</th><th scope=col>2000-01</th><th scope=col>2001-02</th><th scope=col>2002-03</th><th scope=col>...</th><th scope=col>2009-10</th><th scope=col>2010-11</th><th scope=col>2011-12</th><th scope=col>2012-13</th><th scope=col>2013-14</th><th scope=col>2014-15</th><th scope=col>2015-16</th><th scope=col>2016-17</th><th scope=col>2017-18</th><th scope=col>2018-19</th></tr>\n",
       "\t<tr><th scope=col>&lt;chr&gt;</th><th scope=col>&lt;chr&gt;</th><th scope=col>&lt;chr&gt;</th><th scope=col>&lt;dbl&gt;</th><th scope=col>&lt;dbl&gt;</th><th scope=col>&lt;dbl&gt;</th><th scope=col>&lt;dbl&gt;</th><th scope=col>&lt;dbl&gt;</th><th scope=col>&lt;dbl&gt;</th><th scope=col>&lt;dbl&gt;</th><th scope=col>...</th><th scope=col>&lt;dbl&gt;</th><th scope=col>&lt;dbl&gt;</th><th scope=col>&lt;dbl&gt;</th><th scope=col>&lt;dbl&gt;</th><th scope=col>&lt;dbl&gt;</th><th scope=col>&lt;dbl&gt;</th><th scope=col>&lt;dbl&gt;</th><th scope=col>&lt;dbl&gt;</th><th scope=col>&lt;dbl&gt;</th><th scope=col>&lt;dbl&gt;</th></tr>\n",
       "</thead>\n",
       "<tbody>\n",
       "\t<tr><td>00BK</td><td>E09000033</td><td>Westminster</td><td>51.60</td><td>55.43</td><td>58.59</td><td>60.44</td><td>62.6</td><td>64.66</td><td>67.25</td><td>...</td><td>103.17</td><td>104.23</td><td>109.77000</td><td>117.42000</td><td>122.03</td><td>127.97</td><td>141.51451</td><td>130.11891</td><td>130.46125</td><td>140.33000</td></tr>\n",
       "\t<tr><td>NA  </td><td>NA       </td><td>NA         </td><td>   NA</td><td>   NA</td><td>   NA</td><td>   NA</td><td>  NA</td><td>   NA</td><td>   NA</td><td>...</td><td>    NA</td><td>    NA</td><td>       NA</td><td>       NA</td><td>    NA</td><td>    NA</td><td>       NA</td><td>       NA</td><td>       NA</td><td>       NA</td></tr>\n",
       "\t<tr><td>921 </td><td>NA       </td><td>England    </td><td>46.81</td><td>49.82</td><td>51.92</td><td>53.11</td><td>53.9</td><td>55.81</td><td>56.52</td><td>...</td><td> 77.91</td><td> 78.28</td><td> 83.20875</td><td> 88.40994</td><td> 92.30</td><td> 95.89</td><td> 97.83768</td><td> 96.61112</td><td> 95.59007</td><td> 95.11735</td></tr>\n",
       "</tbody>\n",
       "</table>\n"
      ],
      "text/latex": [
       "A tibble: 3 × 26\n",
       "\\begin{tabular}{lllllllllllllllllllll}\n",
       " Code & New\\_Code & Area & 1996-97 & 1997-98 & 1998-99 & 1999-00 & 2000-01 & 2001-02 & 2002-03 & ... & 2009-10 & 2010-11 & 2011-12 & 2012-13 & 2013-14 & 2014-15 & 2015-16 & 2016-17 & 2017-18 & 2018-19\\\\\n",
       " <chr> & <chr> & <chr> & <dbl> & <dbl> & <dbl> & <dbl> & <dbl> & <dbl> & <dbl> & ... & <dbl> & <dbl> & <dbl> & <dbl> & <dbl> & <dbl> & <dbl> & <dbl> & <dbl> & <dbl>\\\\\n",
       "\\hline\n",
       "\t 00BK & E09000033 & Westminster & 51.60 & 55.43 & 58.59 & 60.44 & 62.6 & 64.66 & 67.25 & ... & 103.17 & 104.23 & 109.77000 & 117.42000 & 122.03 & 127.97 & 141.51451 & 130.11891 & 130.46125 & 140.33000\\\\\n",
       "\t NA   & NA        & NA          &    NA &    NA &    NA &    NA &   NA &    NA &    NA & ... &     NA &     NA &        NA &        NA &     NA &     NA &        NA &        NA &        NA &        NA\\\\\n",
       "\t 921  & NA        & England     & 46.81 & 49.82 & 51.92 & 53.11 & 53.9 & 55.81 & 56.52 & ... &  77.91 &  78.28 &  83.20875 &  88.40994 &  92.30 &  95.89 &  97.83768 &  96.61112 &  95.59007 &  95.11735\\\\\n",
       "\\end{tabular}\n"
      ],
      "text/markdown": [
       "\n",
       "A tibble: 3 × 26\n",
       "\n",
       "| Code &lt;chr&gt; | New_Code &lt;chr&gt; | Area &lt;chr&gt; | 1996-97 &lt;dbl&gt; | 1997-98 &lt;dbl&gt; | 1998-99 &lt;dbl&gt; | 1999-00 &lt;dbl&gt; | 2000-01 &lt;dbl&gt; | 2001-02 &lt;dbl&gt; | 2002-03 &lt;dbl&gt; | ... ... | 2009-10 &lt;dbl&gt; | 2010-11 &lt;dbl&gt; | 2011-12 &lt;dbl&gt; | 2012-13 &lt;dbl&gt; | 2013-14 &lt;dbl&gt; | 2014-15 &lt;dbl&gt; | 2015-16 &lt;dbl&gt; | 2016-17 &lt;dbl&gt; | 2017-18 &lt;dbl&gt; | 2018-19 &lt;dbl&gt; |\n",
       "|---|---|---|---|---|---|---|---|---|---|---|---|---|---|---|---|---|---|---|---|---|\n",
       "| 00BK | E09000033 | Westminster | 51.60 | 55.43 | 58.59 | 60.44 | 62.6 | 64.66 | 67.25 | ... | 103.17 | 104.23 | 109.77000 | 117.42000 | 122.03 | 127.97 | 141.51451 | 130.11891 | 130.46125 | 140.33000 |\n",
       "| NA   | NA        | NA          |    NA |    NA |    NA |    NA |   NA |    NA |    NA | ... |     NA |     NA |        NA |        NA |     NA |     NA |        NA |        NA |        NA |        NA |\n",
       "| 921  | NA        | England     | 46.81 | 49.82 | 51.92 | 53.11 | 53.9 | 55.81 | 56.52 | ... |  77.91 |  78.28 |  83.20875 |  88.40994 |  92.30 |  95.89 |  97.83768 |  96.61112 |  95.59007 |  95.11735 |\n",
       "\n"
      ],
      "text/plain": [
       "  Code New_Code  Area        1996-97 1997-98 1998-99 1999-00 2000-01 2001-02\n",
       "1 00BK E09000033 Westminster 51.60   55.43   58.59   60.44   62.6    64.66  \n",
       "2 NA   NA        NA             NA      NA      NA      NA     NA       NA  \n",
       "3 921  NA        England     46.81   49.82   51.92   53.11   53.9    55.81  \n",
       "  2002-03 ... 2009-10 2010-11 2011-12   2012-13   2013-14 2014-15 2015-16  \n",
       "1 67.25   ... 103.17  104.23  109.77000 117.42000 122.03  127.97  141.51451\n",
       "2    NA   ...     NA      NA         NA        NA     NA      NA         NA\n",
       "3 56.52   ...  77.91   78.28   83.20875  88.40994  92.30   95.89   97.83768\n",
       "  2016-17   2017-18   2018-19  \n",
       "1 130.11891 130.46125 140.33000\n",
       "2        NA        NA        NA\n",
       "3  96.61112  95.59007  95.11735"
      ]
     },
     "metadata": {},
     "output_type": "display_data"
    }
   ],
   "source": [
    "#Veiw data \n",
    "head(rent,3)\n",
    "tail(rent,3)"
   ]
  },
  {
   "cell_type": "markdown",
   "id": "7350ff9b",
   "metadata": {},
   "source": [
    "<br></br>\n",
    "<p>From above tables, it is found that there are two rows without data and will be removed. Besides, the last row shows the rent in England and no data in New_Code. As England is the out of scope area in this review, it will also be removed.</p>\n",
    "<br></br>"
   ]
  },
  {
   "cell_type": "code",
   "execution_count": 53,
   "id": "677667a5",
   "metadata": {},
   "outputs": [
    {
     "data": {
      "text/html": [
       "<style>\n",
       ".list-inline {list-style: none; margin:0; padding: 0}\n",
       ".list-inline>li {display: inline-block}\n",
       ".list-inline>li:not(:last-child)::after {content: \"\\00b7\"; padding: 0 .5ex}\n",
       "</style>\n",
       "<ol class=list-inline><li>36</li><li>26</li></ol>\n"
      ],
      "text/latex": [
       "\\begin{enumerate*}\n",
       "\\item 36\n",
       "\\item 26\n",
       "\\end{enumerate*}\n"
      ],
      "text/markdown": [
       "1. 36\n",
       "2. 26\n",
       "\n",
       "\n"
      ],
      "text/plain": [
       "[1] 36 26"
      ]
     },
     "metadata": {},
     "output_type": "display_data"
    },
    {
     "data": {
      "text/html": [
       "<style>\n",
       ".list-inline {list-style: none; margin:0; padding: 0}\n",
       ".list-inline>li {display: inline-block}\n",
       ".list-inline>li:not(:last-child)::after {content: \"\\00b7\"; padding: 0 .5ex}\n",
       "</style>\n",
       "<ol class=list-inline><li>33</li><li>26</li></ol>\n"
      ],
      "text/latex": [
       "\\begin{enumerate*}\n",
       "\\item 33\n",
       "\\item 26\n",
       "\\end{enumerate*}\n"
      ],
      "text/markdown": [
       "1. 33\n",
       "2. 26\n",
       "\n",
       "\n"
      ],
      "text/plain": [
       "[1] 33 26"
      ]
     },
     "metadata": {},
     "output_type": "display_data"
    }
   ],
   "source": [
    "#Get no. of rows & columns \n",
    "dim(rent)\n",
    "\n",
    "#Remove missing values\n",
    "rent1<-rent[-c(1,35,36),]\n",
    "\n",
    "#Get no. of rows & columns \n",
    "dim(rent1)"
   ]
  },
  {
   "cell_type": "markdown",
   "id": "e218d10b",
   "metadata": {},
   "source": [
    "<br></br>\n",
    "<p>After removal of missing values, there are 34 rows and 26 columns.</p>\n",
    "<br></br>"
   ]
  },
  {
   "cell_type": "code",
   "execution_count": 54,
   "id": "f99f847e",
   "metadata": {},
   "outputs": [
    {
     "data": {
      "text/html": [
       "<table class=\"dataframe\">\n",
       "<caption>A tibble: 3 × 5</caption>\n",
       "<thead>\n",
       "\t<tr><th scope=col>Code</th><th scope=col>New_Code</th><th scope=col>Area</th><th scope=col>Year</th><th scope=col>Rent</th></tr>\n",
       "\t<tr><th scope=col>&lt;chr&gt;</th><th scope=col>&lt;chr&gt;</th><th scope=col>&lt;chr&gt;</th><th scope=col>&lt;chr&gt;</th><th scope=col>&lt;dbl&gt;</th></tr>\n",
       "</thead>\n",
       "<tbody>\n",
       "\t<tr><td>00AA</td><td>E09000001</td><td>City of London</td><td>1996-97</td><td>49.44</td></tr>\n",
       "\t<tr><td>00AA</td><td>E09000001</td><td>City of London</td><td>1997-98</td><td>51.44</td></tr>\n",
       "\t<tr><td>00AA</td><td>E09000001</td><td>City of London</td><td>1998-99</td><td>52.77</td></tr>\n",
       "</tbody>\n",
       "</table>\n"
      ],
      "text/latex": [
       "A tibble: 3 × 5\n",
       "\\begin{tabular}{lllll}\n",
       " Code & New\\_Code & Area & Year & Rent\\\\\n",
       " <chr> & <chr> & <chr> & <chr> & <dbl>\\\\\n",
       "\\hline\n",
       "\t 00AA & E09000001 & City of London & 1996-97 & 49.44\\\\\n",
       "\t 00AA & E09000001 & City of London & 1997-98 & 51.44\\\\\n",
       "\t 00AA & E09000001 & City of London & 1998-99 & 52.77\\\\\n",
       "\\end{tabular}\n"
      ],
      "text/markdown": [
       "\n",
       "A tibble: 3 × 5\n",
       "\n",
       "| Code &lt;chr&gt; | New_Code &lt;chr&gt; | Area &lt;chr&gt; | Year &lt;chr&gt; | Rent &lt;dbl&gt; |\n",
       "|---|---|---|---|---|\n",
       "| 00AA | E09000001 | City of London | 1996-97 | 49.44 |\n",
       "| 00AA | E09000001 | City of London | 1997-98 | 51.44 |\n",
       "| 00AA | E09000001 | City of London | 1998-99 | 52.77 |\n",
       "\n"
      ],
      "text/plain": [
       "  Code New_Code  Area           Year    Rent \n",
       "1 00AA E09000001 City of London 1996-97 49.44\n",
       "2 00AA E09000001 City of London 1997-98 51.44\n",
       "3 00AA E09000001 City of London 1998-99 52.77"
      ]
     },
     "metadata": {},
     "output_type": "display_data"
    }
   ],
   "source": [
    "#Reshape table\n",
    "rent2<-pivot_longer(rent1, col = 4:26, names_to = \"Year\", values_to = \"Rent\")\n",
    "head(rent2,3)"
   ]
  },
  {
   "cell_type": "markdown",
   "id": "35fef31f",
   "metadata": {},
   "source": [
    "<br></br>\n",
    "<p>Data is unpivoted for data analysis.</p>\n",
    "<br></br>"
   ]
  },
  {
   "cell_type": "markdown",
   "id": "946edb5d",
   "metadata": {},
   "source": [
    "### Job Opportunity"
   ]
  },
  {
   "cell_type": "code",
   "execution_count": 55,
   "id": "720d0825",
   "metadata": {},
   "outputs": [
    {
     "data": {
      "text/html": [
       "<style>\n",
       ".dl-inline {width: auto; margin:0; padding: 0}\n",
       ".dl-inline>dt, .dl-inline>dd {float: none; width: auto; display: inline-block}\n",
       ".dl-inline>dt::after {content: \":\\0020\"; padding-right: .5ex}\n",
       ".dl-inline>dt:not(:first-of-type) {padding-left: .5ex}\n",
       "</style><dl class=dl-inline><dt>Code</dt><dd>0</dd><dt>Area</dt><dd>0</dd><dt>Year</dt><dd>0</dd><dt>Number_of_Jobs</dt><dd>0</dd><dt>Jobs_Density</dt><dd>0</dd></dl>\n"
      ],
      "text/latex": [
       "\\begin{description*}\n",
       "\\item[Code] 0\n",
       "\\item[Area] 0\n",
       "\\item[Year] 0\n",
       "\\item[Number\\textbackslash{}\\_of\\textbackslash{}\\_Jobs] 0\n",
       "\\item[Jobs\\textbackslash{}\\_Density] 0\n",
       "\\end{description*}\n"
      ],
      "text/markdown": [
       "Code\n",
       ":   0Area\n",
       ":   0Year\n",
       ":   0Number_of_Jobs\n",
       ":   0Jobs_Density\n",
       ":   0\n",
       "\n"
      ],
      "text/plain": [
       "          Code           Area           Year Number_of_Jobs   Jobs_Density \n",
       "             0              0              0              0              0 "
      ]
     },
     "metadata": {},
     "output_type": "display_data"
    },
    {
     "name": "stdout",
     "output_type": "stream",
     "text": [
      " [1] \"City of London\"           \"Barking and Dagenham\"    \n",
      " [3] \"Barnet\"                   \"Bexley\"                  \n",
      " [5] \"Brent\"                    \"Bromley\"                 \n",
      " [7] \"Camden\"                   \"Croydon\"                 \n",
      " [9] \"Ealing\"                   \"Enfield\"                 \n",
      "[11] \"Greenwich\"                \"Hackney\"                 \n",
      "[13] \"Hammersmith and Fulham\"   \"Haringey\"                \n",
      "[15] \"Harrow\"                   \"Havering\"                \n",
      "[17] \"Hillingdon\"               \"Hounslow\"                \n",
      "[19] \"Islington\"                \"Kensington and Chelsea\"  \n",
      "[21] \"Kingston upon Thames\"     \"Lambeth\"                 \n",
      "[23] \"Lewisham\"                 \"Merton\"                  \n",
      "[25] \"Newham\"                   \"Redbridge\"               \n",
      "[27] \"Richmond upon Thames\"     \"Southwark\"               \n",
      "[29] \"Sutton\"                   \"Tower Hamlets\"           \n",
      "[31] \"Waltham Forest\"           \"Wandsworth\"              \n",
      "[33] \"Westminster\"              \"North East\"              \n",
      "[35] \"North West\"               \"Yorkshire and The Humber\"\n",
      "[37] \"East Midlands\"            \"West Midlands\"           \n",
      "[39] \"East\"                     \"London\"                  \n",
      "[41] \"South East\"               \"South West\"              \n",
      "[43] \"Wales\"                    \"Scotland\"                \n",
      "[45] \"Northern Ireland\"         \"England\"                 \n",
      "[47] \"England and Wales\"        \"Great Britain\"           \n",
      "[49] \"United Kingdom\"          \n",
      " [1] \"City of London\"         \"Barking and Dagenham\"   \"Barnet\"                \n",
      " [4] \"Bexley\"                 \"Brent\"                  \"Bromley\"               \n",
      " [7] \"Camden\"                 \"Croydon\"                \"Ealing\"                \n",
      "[10] \"Enfield\"                \"Greenwich\"              \"Hackney\"               \n",
      "[13] \"Hammersmith and Fulham\" \"Haringey\"               \"Harrow\"                \n",
      "[16] \"Havering\"               \"Hillingdon\"             \"Hounslow\"              \n",
      "[19] \"Islington\"              \"Kensington and Chelsea\" \"Kingston upon Thames\"  \n",
      "[22] \"Lambeth\"                \"Lewisham\"               \"Merton\"                \n",
      "[25] \"Newham\"                 \"Redbridge\"              \"Richmond upon Thames\"  \n",
      "[28] \"Southwark\"              \"Sutton\"                 \"Tower Hamlets\"         \n",
      "[31] \"Waltham Forest\"         \"Wandsworth\"             \"Westminster\"           \n"
     ]
    }
   ],
   "source": [
    "#Rename of Column\n",
    "names(jobs1)[1]<-\"Code\"\n",
    "names(jobs1)[2]<-\"Area\"\n",
    "names(jobs1)[3]<-\"Year\"\n",
    "names(jobs1)[4]<-\"Number_of_Jobs\"\n",
    "names(jobs1)[5]<-\"Jobs_Density\"\n",
    "\n",
    "#Check missing values for each column\n",
    "sapply(jobs1, function(x) sum(is.na(x)))\n",
    "       \n",
    "#View data of Area\n",
    "print(unique(jobs1$Area))\n",
    "#Remove rows that are not grouped as 33 boroughs\n",
    "jobs1<-jobs1 %>%\n",
    "           filter(!Area %in% c(\"North East\",\"North West\", \"East Midlands\", \"East\", \"South\", \"Wales\",\"Northern Ireland\",\"England and Wales\",\"Great Britain\",\"United Kingdom\",\"South West\",\"Scotland\",\"England\", \"South East\",\"West Midlands\", \"London\",\"Yorkshire and The Humber\"))\n",
    "#View data of Area\n",
    "print(unique(jobs1$Area))"
   ]
  },
  {
   "cell_type": "markdown",
   "id": "ea67cdb3",
   "metadata": {},
   "source": [
    "<br></br>\n",
    "<p>There are no missing values. As this review only focuses on London, places not related to 33 boroughs are removed.</p>\n",
    "<br></br>"
   ]
  },
  {
   "cell_type": "code",
   "execution_count": 56,
   "id": "d384252b",
   "metadata": {},
   "outputs": [
    {
     "name": "stdout",
     "output_type": "stream",
     "text": [
      "tibble [52 x 20] (S3: tbl_df/tbl/data.frame)\n",
      " $ New_Code                                   : chr [1:52] \"E09000002\" \"E09000003\" \"E09000004\" \"E09000005\" ...\n",
      " $ Area                                       : chr [1:52] \"Barking and Dagenham\" \"Barnet\" \"Bexley\" \"Brent\" ...\n",
      " $ Agriculture_Forestry_Fishing               : chr [1:52] \"15\" \"50\" \"30\" \"10\" ...\n",
      " $ Mining_Quarrying_Utilities                 : chr [1:52] \"900\" \"350\" \"1500\" \"1250\" ...\n",
      " $ Manufacturing                              : chr [1:52] \"5000\" \"3500\" \"5000\" \"9000\" ...\n",
      " $ Construction                               : chr [1:52] \"4500\" \"9000\" \"6000\" \"8000\" ...\n",
      " $ Motor_Trades                               : chr [1:52] \"1500\" \"2500\" \"3000\" \"3000\" ...\n",
      " $ Wholesale                                  : chr [1:52] \"4500\" \"4000\" \"3500\" \"9000\" ...\n",
      " $ Retail                                     : chr [1:52] \"4500\" \"15000\" \"9000\" \"11000\" ...\n",
      " $ Transport_Storage                          : chr [1:52] \"6000\" \"5000\" \"6000\" \"10000\" ...\n",
      " $ Accommodation_FoodServices                 : chr [1:52] \"3000\" \"9000\" \"4500\" \"9000\" ...\n",
      " $ Information_Communication                  : chr [1:52] \"1500\" \"7000\" \"2500\" \"4500\" ...\n",
      " $ Financial_Insurance                        : chr [1:52] \"450\" \"2250\" \"900\" \"1500\" ...\n",
      " $ Property                                   : chr [1:52] \"600\" \"7000\" \"2000\" \"3000\" ...\n",
      " $ Professional_Scientific_Technical          : chr [1:52] \"2000\" \"12000\" \"4500\" \"7000\" ...\n",
      " $ BusinessAdministration_SupportServices     : chr [1:52] \"7000\" \"13000\" \"9000\" \"12000\" ...\n",
      " $ PublicAdministration_Defence               : chr [1:52] \"2250\" \"3000\" \"3500\" \"3000\" ...\n",
      " $ Education                                  : chr [1:52] \"7000\" \"15000\" \"7000\" \"10000\" ...\n",
      " $ Health                                     : chr [1:52] \"5000\" \"20000\" \"8000\" \"17000\" ...\n",
      " $ Arts_Entertainment_Recreation_OtherServices: chr [1:52] \"2000\" \"7000\" \"3000\" \"5000\" ...\n",
      "tibble [52 x 20] (S3: tbl_df/tbl/data.frame)\n",
      " $ New_Code                                   : chr [1:52] \"E09000002\" \"E09000003\" \"E09000004\" \"E09000005\" ...\n",
      " $ Area                                       : chr [1:52] \"Barking and Dagenham\" \"Barnet\" \"Bexley\" \"Brent\" ...\n",
      " $ Agriculture_Forestry_Fishing               : num [1:52] 15 50 30 10 200 35 50 125 25 75 ...\n",
      " $ Mining_Quarrying_Utilities                 : num [1:52] 900 350 1500 1250 800 2500 2500 1000 450 600 ...\n",
      " $ Manufacturing                              : num [1:52] 5000 3500 5000 9000 2500 4000 2250 2250 12000 6000 ...\n",
      " $ Construction                               : num [1:52] 4500 9000 6000 8000 8000 9000 11000 8000 7000 8000 ...\n",
      " $ Motor_Trades                               : num [1:52] 1500 2500 3000 3000 2250 1250 150 3000 4000 2500 ...\n",
      " $ Wholesale                                  : num [1:52] 4500 4000 3500 9000 2500 9000 5000 4000 9000 7000 ...\n",
      " $ Retail                                     : num [1:52] 4500 15000 9000 11000 12000 21000 7000 15000 12000 11000 ...\n",
      " $ Transport_Storage                          : num [1:52] 6000 5000 6000 10000 3500 10000 5000 6000 12000 8000 ...\n",
      " $ Accommodation_FoodServices                 : num [1:52] 3000 9000 4500 9000 8000 32000 23000 7000 9000 7000 ...\n",
      " $ Information_Communication                  : num [1:52] 1500 7000 2500 4500 4500 47000 57000 6000 7000 3500 ...\n",
      " $ Financial_Insurance                        : num [1:52] 450 2250 900 1500 5000 10000 189000 4500 1250 1500 ...\n",
      " $ Property                                   : num [1:52] 600 7000 2000 3000 2500 9000 11000 2250 3000 2250 ...\n",
      " $ Professional_Scientific_Technical          : num [1:52] 2000 12000 4500 7000 8000 75000 130000 10000 11000 5000 ...\n",
      " $ BusinessAdministration_SupportServices     : num [1:52] 7000 13000 9000 12000 13000 35000 67000 11000 17000 11000 ...\n",
      " $ PublicAdministration_Defence               : num [1:52] 2250 3000 3500 3000 2500 11000 4500 12000 4000 3000 ...\n",
      " $ Education                                  : num [1:52] 7000 15000 7000 10000 11000 37000 5000 12000 10000 10000 ...\n",
      " $ Health                                     : num [1:52] 5000 20000 8000 17000 16000 44000 10000 16000 13000 16000 ...\n",
      " $ Arts_Entertainment_Recreation_OtherServices: num [1:52] 2000 7000 3000 5000 6000 26000 12000 6000 6000 4500 ...\n"
     ]
    },
    {
     "data": {
      "text/html": [
       "<style>\n",
       ".dl-inline {width: auto; margin:0; padding: 0}\n",
       ".dl-inline>dt, .dl-inline>dd {float: none; width: auto; display: inline-block}\n",
       ".dl-inline>dt::after {content: \":\\0020\"; padding-right: .5ex}\n",
       ".dl-inline>dt:not(:first-of-type) {padding-left: .5ex}\n",
       "</style><dl class=dl-inline><dt>New_Code</dt><dd>3</dd><dt>Area</dt><dd>3</dd><dt>Agriculture_Forestry_Fishing</dt><dd>3</dd><dt>Mining_Quarrying_Utilities</dt><dd>3</dd><dt>Manufacturing</dt><dd>3</dd><dt>Construction</dt><dd>3</dd><dt>Motor_Trades</dt><dd>3</dd><dt>Wholesale</dt><dd>3</dd><dt>Retail</dt><dd>3</dd><dt>Transport_Storage</dt><dd>3</dd><dt>Accommodation_FoodServices</dt><dd>3</dd><dt>Information_Communication</dt><dd>3</dd><dt>Financial_Insurance</dt><dd>3</dd><dt>Property</dt><dd>3</dd><dt>Professional_Scientific_Technical</dt><dd>3</dd><dt>BusinessAdministration_SupportServices</dt><dd>3</dd><dt>PublicAdministration_Defence </dt><dd>3</dd><dt>Education</dt><dd>3</dd><dt>Health</dt><dd>3</dd><dt>Arts_Entertainment_Recreation_OtherServices</dt><dd>3</dd></dl>\n"
      ],
      "text/latex": [
       "\\begin{description*}\n",
       "\\item[New\\textbackslash{}\\_Code] 3\n",
       "\\item[Area] 3\n",
       "\\item[Agriculture\\textbackslash{}\\_Forestry\\textbackslash{}\\_Fishing] 3\n",
       "\\item[Mining\\textbackslash{}\\_Quarrying\\textbackslash{}\\_Utilities] 3\n",
       "\\item[Manufacturing] 3\n",
       "\\item[Construction] 3\n",
       "\\item[Motor\\textbackslash{}\\_Trades] 3\n",
       "\\item[Wholesale] 3\n",
       "\\item[Retail] 3\n",
       "\\item[Transport\\textbackslash{}\\_Storage] 3\n",
       "\\item[Accommodation\\textbackslash{}\\_FoodServices] 3\n",
       "\\item[Information\\textbackslash{}\\_Communication] 3\n",
       "\\item[Financial\\textbackslash{}\\_Insurance] 3\n",
       "\\item[Property] 3\n",
       "\\item[Professional\\textbackslash{}\\_Scientific\\textbackslash{}\\_Technical] 3\n",
       "\\item[BusinessAdministration\\textbackslash{}\\_SupportServices] 3\n",
       "\\item[PublicAdministration\\textbackslash{}\\_Defence ] 3\n",
       "\\item[Education] 3\n",
       "\\item[Health] 3\n",
       "\\item[Arts\\textbackslash{}\\_Entertainment\\textbackslash{}\\_Recreation\\textbackslash{}\\_OtherServices] 3\n",
       "\\end{description*}\n"
      ],
      "text/markdown": [
       "New_Code\n",
       ":   3Area\n",
       ":   3Agriculture_Forestry_Fishing\n",
       ":   3Mining_Quarrying_Utilities\n",
       ":   3Manufacturing\n",
       ":   3Construction\n",
       ":   3Motor_Trades\n",
       ":   3Wholesale\n",
       ":   3Retail\n",
       ":   3Transport_Storage\n",
       ":   3Accommodation_FoodServices\n",
       ":   3Information_Communication\n",
       ":   3Financial_Insurance\n",
       ":   3Property\n",
       ":   3Professional_Scientific_Technical\n",
       ":   3BusinessAdministration_SupportServices\n",
       ":   3PublicAdministration_Defence \n",
       ":   3Education\n",
       ":   3Health\n",
       ":   3Arts_Entertainment_Recreation_OtherServices\n",
       ":   3\n",
       "\n"
      ],
      "text/plain": [
       "                                   New_Code \n",
       "                                          3 \n",
       "                                       Area \n",
       "                                          3 \n",
       "               Agriculture_Forestry_Fishing \n",
       "                                          3 \n",
       "                 Mining_Quarrying_Utilities \n",
       "                                          3 \n",
       "                              Manufacturing \n",
       "                                          3 \n",
       "                               Construction \n",
       "                                          3 \n",
       "                               Motor_Trades \n",
       "                                          3 \n",
       "                                  Wholesale \n",
       "                                          3 \n",
       "                                     Retail \n",
       "                                          3 \n",
       "                          Transport_Storage \n",
       "                                          3 \n",
       "                 Accommodation_FoodServices \n",
       "                                          3 \n",
       "                  Information_Communication \n",
       "                                          3 \n",
       "                        Financial_Insurance \n",
       "                                          3 \n",
       "                                   Property \n",
       "                                          3 \n",
       "          Professional_Scientific_Technical \n",
       "                                          3 \n",
       "     BusinessAdministration_SupportServices \n",
       "                                          3 \n",
       "              PublicAdministration_Defence  \n",
       "                                          3 \n",
       "                                  Education \n",
       "                                          3 \n",
       "                                     Health \n",
       "                                          3 \n",
       "Arts_Entertainment_Recreation_OtherServices \n",
       "                                          3 "
      ]
     },
     "metadata": {},
     "output_type": "display_data"
    },
    {
     "data": {
      "text/html": [
       "<table class=\"dataframe\">\n",
       "<caption>A tibble: 3 × 20</caption>\n",
       "<thead>\n",
       "\t<tr><th scope=col>New_Code</th><th scope=col>Area</th><th scope=col>Agriculture_Forestry_Fishing</th><th scope=col>Mining_Quarrying_Utilities</th><th scope=col>Manufacturing</th><th scope=col>Construction</th><th scope=col>Motor_Trades</th><th scope=col>Wholesale</th><th scope=col>Retail</th><th scope=col>Transport_Storage</th><th scope=col>Accommodation_FoodServices</th><th scope=col>Information_Communication</th><th scope=col>Financial_Insurance</th><th scope=col>Property</th><th scope=col>Professional_Scientific_Technical</th><th scope=col>BusinessAdministration_SupportServices</th><th scope=col>PublicAdministration_Defence </th><th scope=col>Education</th><th scope=col>Health</th><th scope=col>Arts_Entertainment_Recreation_OtherServices</th></tr>\n",
       "\t<tr><th scope=col>&lt;chr&gt;</th><th scope=col>&lt;chr&gt;</th><th scope=col>&lt;dbl&gt;</th><th scope=col>&lt;dbl&gt;</th><th scope=col>&lt;dbl&gt;</th><th scope=col>&lt;dbl&gt;</th><th scope=col>&lt;dbl&gt;</th><th scope=col>&lt;dbl&gt;</th><th scope=col>&lt;dbl&gt;</th><th scope=col>&lt;dbl&gt;</th><th scope=col>&lt;dbl&gt;</th><th scope=col>&lt;dbl&gt;</th><th scope=col>&lt;dbl&gt;</th><th scope=col>&lt;dbl&gt;</th><th scope=col>&lt;dbl&gt;</th><th scope=col>&lt;dbl&gt;</th><th scope=col>&lt;dbl&gt;</th><th scope=col>&lt;dbl&gt;</th><th scope=col>&lt;dbl&gt;</th><th scope=col>&lt;dbl&gt;</th></tr>\n",
       "</thead>\n",
       "<tbody>\n",
       "\t<tr><td>NA</td><td>NA</td><td>NA</td><td>NA</td><td>NA</td><td>NA</td><td>NA</td><td>NA</td><td>NA</td><td>NA</td><td>NA</td><td>NA</td><td>NA</td><td>NA</td><td>NA</td><td>NA</td><td>NA</td><td>NA</td><td>NA</td><td>NA</td></tr>\n",
       "\t<tr><td>NA</td><td>NA</td><td>NA</td><td>NA</td><td>NA</td><td>NA</td><td>NA</td><td>NA</td><td>NA</td><td>NA</td><td>NA</td><td>NA</td><td>NA</td><td>NA</td><td>NA</td><td>NA</td><td>NA</td><td>NA</td><td>NA</td><td>NA</td></tr>\n",
       "\t<tr><td>NA</td><td>NA</td><td>NA</td><td>NA</td><td>NA</td><td>NA</td><td>NA</td><td>NA</td><td>NA</td><td>NA</td><td>NA</td><td>NA</td><td>NA</td><td>NA</td><td>NA</td><td>NA</td><td>NA</td><td>NA</td><td>NA</td><td>NA</td></tr>\n",
       "</tbody>\n",
       "</table>\n"
      ],
      "text/latex": [
       "A tibble: 3 × 20\n",
       "\\begin{tabular}{llllllllllllllllllll}\n",
       " New\\_Code & Area & Agriculture\\_Forestry\\_Fishing & Mining\\_Quarrying\\_Utilities & Manufacturing & Construction & Motor\\_Trades & Wholesale & Retail & Transport\\_Storage & Accommodation\\_FoodServices & Information\\_Communication & Financial\\_Insurance & Property & Professional\\_Scientific\\_Technical & BusinessAdministration\\_SupportServices & PublicAdministration\\_Defence  & Education & Health & Arts\\_Entertainment\\_Recreation\\_OtherServices\\\\\n",
       " <chr> & <chr> & <dbl> & <dbl> & <dbl> & <dbl> & <dbl> & <dbl> & <dbl> & <dbl> & <dbl> & <dbl> & <dbl> & <dbl> & <dbl> & <dbl> & <dbl> & <dbl> & <dbl> & <dbl>\\\\\n",
       "\\hline\n",
       "\t NA & NA & NA & NA & NA & NA & NA & NA & NA & NA & NA & NA & NA & NA & NA & NA & NA & NA & NA & NA\\\\\n",
       "\t NA & NA & NA & NA & NA & NA & NA & NA & NA & NA & NA & NA & NA & NA & NA & NA & NA & NA & NA & NA\\\\\n",
       "\t NA & NA & NA & NA & NA & NA & NA & NA & NA & NA & NA & NA & NA & NA & NA & NA & NA & NA & NA & NA\\\\\n",
       "\\end{tabular}\n"
      ],
      "text/markdown": [
       "\n",
       "A tibble: 3 × 20\n",
       "\n",
       "| New_Code &lt;chr&gt; | Area &lt;chr&gt; | Agriculture_Forestry_Fishing &lt;dbl&gt; | Mining_Quarrying_Utilities &lt;dbl&gt; | Manufacturing &lt;dbl&gt; | Construction &lt;dbl&gt; | Motor_Trades &lt;dbl&gt; | Wholesale &lt;dbl&gt; | Retail &lt;dbl&gt; | Transport_Storage &lt;dbl&gt; | Accommodation_FoodServices &lt;dbl&gt; | Information_Communication &lt;dbl&gt; | Financial_Insurance &lt;dbl&gt; | Property &lt;dbl&gt; | Professional_Scientific_Technical &lt;dbl&gt; | BusinessAdministration_SupportServices &lt;dbl&gt; | PublicAdministration_Defence  &lt;dbl&gt; | Education &lt;dbl&gt; | Health &lt;dbl&gt; | Arts_Entertainment_Recreation_OtherServices &lt;dbl&gt; |\n",
       "|---|---|---|---|---|---|---|---|---|---|---|---|---|---|---|---|---|---|---|---|\n",
       "| NA | NA | NA | NA | NA | NA | NA | NA | NA | NA | NA | NA | NA | NA | NA | NA | NA | NA | NA | NA |\n",
       "| NA | NA | NA | NA | NA | NA | NA | NA | NA | NA | NA | NA | NA | NA | NA | NA | NA | NA | NA | NA |\n",
       "| NA | NA | NA | NA | NA | NA | NA | NA | NA | NA | NA | NA | NA | NA | NA | NA | NA | NA | NA | NA |\n",
       "\n"
      ],
      "text/plain": [
       "  New_Code Area Agriculture_Forestry_Fishing Mining_Quarrying_Utilities\n",
       "1 NA       NA   NA                           NA                        \n",
       "2 NA       NA   NA                           NA                        \n",
       "3 NA       NA   NA                           NA                        \n",
       "  Manufacturing Construction Motor_Trades Wholesale Retail Transport_Storage\n",
       "1 NA            NA           NA           NA        NA     NA               \n",
       "2 NA            NA           NA           NA        NA     NA               \n",
       "3 NA            NA           NA           NA        NA     NA               \n",
       "  Accommodation_FoodServices Information_Communication Financial_Insurance\n",
       "1 NA                         NA                        NA                 \n",
       "2 NA                         NA                        NA                 \n",
       "3 NA                         NA                        NA                 \n",
       "  Property Professional_Scientific_Technical\n",
       "1 NA       NA                               \n",
       "2 NA       NA                               \n",
       "3 NA       NA                               \n",
       "  BusinessAdministration_SupportServices PublicAdministration_Defence \n",
       "1 NA                                     NA                           \n",
       "2 NA                                     NA                           \n",
       "3 NA                                     NA                           \n",
       "  Education Health Arts_Entertainment_Recreation_OtherServices\n",
       "1 NA        NA     NA                                         \n",
       "2 NA        NA     NA                                         \n",
       "3 NA        NA     NA                                         "
      ]
     },
     "metadata": {},
     "output_type": "display_data"
    },
    {
     "data": {
      "text/html": [
       "<style>\n",
       ".dl-inline {width: auto; margin:0; padding: 0}\n",
       ".dl-inline>dt, .dl-inline>dd {float: none; width: auto; display: inline-block}\n",
       ".dl-inline>dt::after {content: \":\\0020\"; padding-right: .5ex}\n",
       ".dl-inline>dt:not(:first-of-type) {padding-left: .5ex}\n",
       "</style><dl class=dl-inline><dt>New_Code</dt><dd>0</dd><dt>Area</dt><dd>0</dd><dt>Agriculture_Forestry_Fishing</dt><dd>0</dd><dt>Mining_Quarrying_Utilities</dt><dd>0</dd><dt>Manufacturing</dt><dd>0</dd><dt>Construction</dt><dd>0</dd><dt>Motor_Trades</dt><dd>0</dd><dt>Wholesale</dt><dd>0</dd><dt>Retail</dt><dd>0</dd><dt>Transport_Storage</dt><dd>0</dd><dt>Accommodation_FoodServices</dt><dd>0</dd><dt>Information_Communication</dt><dd>0</dd><dt>Financial_Insurance</dt><dd>0</dd><dt>Property</dt><dd>0</dd><dt>Professional_Scientific_Technical</dt><dd>0</dd><dt>BusinessAdministration_SupportServices</dt><dd>0</dd><dt>PublicAdministration_Defence </dt><dd>0</dd><dt>Education</dt><dd>0</dd><dt>Health</dt><dd>0</dd><dt>Arts_Entertainment_Recreation_OtherServices</dt><dd>0</dd></dl>\n"
      ],
      "text/latex": [
       "\\begin{description*}\n",
       "\\item[New\\textbackslash{}\\_Code] 0\n",
       "\\item[Area] 0\n",
       "\\item[Agriculture\\textbackslash{}\\_Forestry\\textbackslash{}\\_Fishing] 0\n",
       "\\item[Mining\\textbackslash{}\\_Quarrying\\textbackslash{}\\_Utilities] 0\n",
       "\\item[Manufacturing] 0\n",
       "\\item[Construction] 0\n",
       "\\item[Motor\\textbackslash{}\\_Trades] 0\n",
       "\\item[Wholesale] 0\n",
       "\\item[Retail] 0\n",
       "\\item[Transport\\textbackslash{}\\_Storage] 0\n",
       "\\item[Accommodation\\textbackslash{}\\_FoodServices] 0\n",
       "\\item[Information\\textbackslash{}\\_Communication] 0\n",
       "\\item[Financial\\textbackslash{}\\_Insurance] 0\n",
       "\\item[Property] 0\n",
       "\\item[Professional\\textbackslash{}\\_Scientific\\textbackslash{}\\_Technical] 0\n",
       "\\item[BusinessAdministration\\textbackslash{}\\_SupportServices] 0\n",
       "\\item[PublicAdministration\\textbackslash{}\\_Defence ] 0\n",
       "\\item[Education] 0\n",
       "\\item[Health] 0\n",
       "\\item[Arts\\textbackslash{}\\_Entertainment\\textbackslash{}\\_Recreation\\textbackslash{}\\_OtherServices] 0\n",
       "\\end{description*}\n"
      ],
      "text/markdown": [
       "New_Code\n",
       ":   0Area\n",
       ":   0Agriculture_Forestry_Fishing\n",
       ":   0Mining_Quarrying_Utilities\n",
       ":   0Manufacturing\n",
       ":   0Construction\n",
       ":   0Motor_Trades\n",
       ":   0Wholesale\n",
       ":   0Retail\n",
       ":   0Transport_Storage\n",
       ":   0Accommodation_FoodServices\n",
       ":   0Information_Communication\n",
       ":   0Financial_Insurance\n",
       ":   0Property\n",
       ":   0Professional_Scientific_Technical\n",
       ":   0BusinessAdministration_SupportServices\n",
       ":   0PublicAdministration_Defence \n",
       ":   0Education\n",
       ":   0Health\n",
       ":   0Arts_Entertainment_Recreation_OtherServices\n",
       ":   0\n",
       "\n"
      ],
      "text/plain": [
       "                                   New_Code \n",
       "                                          0 \n",
       "                                       Area \n",
       "                                          0 \n",
       "               Agriculture_Forestry_Fishing \n",
       "                                          0 \n",
       "                 Mining_Quarrying_Utilities \n",
       "                                          0 \n",
       "                              Manufacturing \n",
       "                                          0 \n",
       "                               Construction \n",
       "                                          0 \n",
       "                               Motor_Trades \n",
       "                                          0 \n",
       "                                  Wholesale \n",
       "                                          0 \n",
       "                                     Retail \n",
       "                                          0 \n",
       "                          Transport_Storage \n",
       "                                          0 \n",
       "                 Accommodation_FoodServices \n",
       "                                          0 \n",
       "                  Information_Communication \n",
       "                                          0 \n",
       "                        Financial_Insurance \n",
       "                                          0 \n",
       "                                   Property \n",
       "                                          0 \n",
       "          Professional_Scientific_Technical \n",
       "                                          0 \n",
       "     BusinessAdministration_SupportServices \n",
       "                                          0 \n",
       "              PublicAdministration_Defence  \n",
       "                                          0 \n",
       "                                  Education \n",
       "                                          0 \n",
       "                                     Health \n",
       "                                          0 \n",
       "Arts_Entertainment_Recreation_OtherServices \n",
       "                                          0 "
      ]
     },
     "metadata": {},
     "output_type": "display_data"
    }
   ],
   "source": [
    "#Delete unnecessary rows & columns\n",
    "jobs21<-jobs2[-1,-c(4,6,8,10,12,14,16,18,20,22,24,26,28,30,32,34,36,38,39)]\n",
    "\n",
    "#Rename of Column\n",
    "names(jobs21)[1]<-\"New_Code\"\n",
    "names(jobs21)[3]<-\"Agriculture_Forestry_Fishing\"\n",
    "names(jobs21)[4]<-\"Mining_Quarrying_Utilities\"\n",
    "names(jobs21)[5]<-\"Manufacturing\"\n",
    "names(jobs21)[6]<-\"Construction\"\n",
    "names(jobs21)[7]<-\"Motor_Trades\"\n",
    "names(jobs21)[8]<-\"Wholesale\"\n",
    "names(jobs21)[9]<-\"Retail\"\n",
    "names(jobs21)[10]<-\"Transport_Storage\"\n",
    "names(jobs21)[11]<-\"Accommodation_FoodServices\"\n",
    "names(jobs21)[12]<-\"Information_Communication\"\n",
    "names(jobs21)[13]<-\"Financial_Insurance\"\n",
    "names(jobs21)[14]<-\"Property\"\n",
    "names(jobs21)[15]<-\"Professional_Scientific_Technical\"\n",
    "names(jobs21)[16]<-\"BusinessAdministration_SupportServices\"\n",
    "names(jobs21)[17]<-\"PublicAdministration_Defence \"\n",
    "names(jobs21)[18]<-\"Education\"\n",
    "names(jobs21)[19]<-\"Health\"\n",
    "names(jobs21)[20]<-\"Arts_Entertainment_Recreation_OtherServices\"\n",
    "\n",
    "#Convert some columns from character to number\n",
    "str(jobs21)\n",
    "jobs21<-jobs21 %>%\n",
    "        mutate_at(c(3:20), as.numeric)\n",
    "str(jobs21)\n",
    "\n",
    "#Check missing values for each column\n",
    "sapply(jobs21, function(x) sum(is.na(x)))\n",
    "#Show the rows with null values\n",
    "jobs21 %>%\n",
    "    filter_all(any_vars(is.na(.)))\n",
    "#Delete the rows with null values & check\n",
    "jobs21<-na.omit(jobs21)\n",
    "sapply(jobs21, function(x) sum(is.na(x)))"
   ]
  },
  {
   "cell_type": "markdown",
   "id": "79dc553a",
   "metadata": {},
   "source": [
    "<br></br>\n",
    "<p>There are 3 rows of missing values and are deleted. Columns with numbers are converted from character to number.</p>\n",
    "<br></br>"
   ]
  },
  {
   "cell_type": "code",
   "execution_count": 57,
   "id": "e5cb87c7",
   "metadata": {},
   "outputs": [
    {
     "data": {
      "text/html": [
       "<table class=\"dataframe\">\n",
       "<caption>A tibble: 3 × 4</caption>\n",
       "<thead>\n",
       "\t<tr><th scope=col>New_Code</th><th scope=col>Area</th><th scope=col>Industry</th><th scope=col>Number_of_Jobs</th></tr>\n",
       "\t<tr><th scope=col>&lt;chr&gt;</th><th scope=col>&lt;chr&gt;</th><th scope=col>&lt;chr&gt;</th><th scope=col>&lt;dbl&gt;</th></tr>\n",
       "</thead>\n",
       "<tbody>\n",
       "\t<tr><td>E09000002</td><td>Barking and Dagenham</td><td>Agriculture_Forestry_Fishing</td><td>  15</td></tr>\n",
       "\t<tr><td>E09000002</td><td>Barking and Dagenham</td><td>Mining_Quarrying_Utilities  </td><td> 900</td></tr>\n",
       "\t<tr><td>E09000002</td><td>Barking and Dagenham</td><td>Manufacturing               </td><td>5000</td></tr>\n",
       "</tbody>\n",
       "</table>\n"
      ],
      "text/latex": [
       "A tibble: 3 × 4\n",
       "\\begin{tabular}{llll}\n",
       " New\\_Code & Area & Industry & Number\\_of\\_Jobs\\\\\n",
       " <chr> & <chr> & <chr> & <dbl>\\\\\n",
       "\\hline\n",
       "\t E09000002 & Barking and Dagenham & Agriculture\\_Forestry\\_Fishing &   15\\\\\n",
       "\t E09000002 & Barking and Dagenham & Mining\\_Quarrying\\_Utilities   &  900\\\\\n",
       "\t E09000002 & Barking and Dagenham & Manufacturing                & 5000\\\\\n",
       "\\end{tabular}\n"
      ],
      "text/markdown": [
       "\n",
       "A tibble: 3 × 4\n",
       "\n",
       "| New_Code &lt;chr&gt; | Area &lt;chr&gt; | Industry &lt;chr&gt; | Number_of_Jobs &lt;dbl&gt; |\n",
       "|---|---|---|---|\n",
       "| E09000002 | Barking and Dagenham | Agriculture_Forestry_Fishing |   15 |\n",
       "| E09000002 | Barking and Dagenham | Mining_Quarrying_Utilities   |  900 |\n",
       "| E09000002 | Barking and Dagenham | Manufacturing                | 5000 |\n",
       "\n"
      ],
      "text/plain": [
       "  New_Code  Area                 Industry                     Number_of_Jobs\n",
       "1 E09000002 Barking and Dagenham Agriculture_Forestry_Fishing   15          \n",
       "2 E09000002 Barking and Dagenham Mining_Quarrying_Utilities    900          \n",
       "3 E09000002 Barking and Dagenham Manufacturing                5000          "
      ]
     },
     "metadata": {},
     "output_type": "display_data"
    }
   ],
   "source": [
    "#Reshape table\n",
    "jobs22<-pivot_longer(jobs21, col = 3:20, names_to = \"Industry\", values_to = \"Number_of_Jobs\")\n",
    "head(jobs22,3)"
   ]
  },
  {
   "cell_type": "markdown",
   "id": "b64db67c",
   "metadata": {},
   "source": [
    "<br></br>\n",
    "<p>Data is unpivoted for data analysis.</p>\n",
    "<br></br>"
   ]
  },
  {
   "cell_type": "markdown",
   "id": "5ca34626",
   "metadata": {},
   "source": [
    "### Safety"
   ]
  },
  {
   "cell_type": "code",
   "execution_count": 58,
   "id": "6bc20369",
   "metadata": {},
   "outputs": [
    {
     "data": {
      "text/html": [
       "<style>\n",
       ".dl-inline {width: auto; margin:0; padding: 0}\n",
       ".dl-inline>dt, .dl-inline>dd {float: none; width: auto; display: inline-block}\n",
       ".dl-inline>dt::after {content: \":\\0020\"; padding-right: .5ex}\n",
       ".dl-inline>dt:not(:first-of-type) {padding-left: .5ex}\n",
       "</style><dl class=dl-inline><dt>Code</dt><dd>0</dd><dt>Borough</dt><dd>0</dd><dt>Year</dt><dd>0</dd><dt>Offences</dt><dd>0</dd><dt>Rate</dt><dd>0</dd><dt>Number_of_offences</dt><dd>0</dd></dl>\n"
      ],
      "text/latex": [
       "\\begin{description*}\n",
       "\\item[Code] 0\n",
       "\\item[Borough] 0\n",
       "\\item[Year] 0\n",
       "\\item[Offences] 0\n",
       "\\item[Rate] 0\n",
       "\\item[Number\\textbackslash{}\\_of\\textbackslash{}\\_offences] 0\n",
       "\\end{description*}\n"
      ],
      "text/markdown": [
       "Code\n",
       ":   0Borough\n",
       ":   0Year\n",
       ":   0Offences\n",
       ":   0Rate\n",
       ":   0Number_of_offences\n",
       ":   0\n",
       "\n"
      ],
      "text/plain": [
       "              Code            Borough               Year           Offences \n",
       "                 0                  0                  0                  0 \n",
       "              Rate Number_of_offences \n",
       "                 0                  0 "
      ]
     },
     "metadata": {},
     "output_type": "display_data"
    },
    {
     "name": "stdout",
     "output_type": "stream",
     "text": [
      " [1] \"Barking and Dagenham\"   \"Barnet\"                 \"Bexley\"                \n",
      " [4] \"Brent\"                  \"Bromley\"                \"Camden\"                \n",
      " [7] \"Croydon\"                \"Ealing\"                 \"Enfield\"               \n",
      "[10] \"Greenwich\"              \"Hackney\"                \"Hammersmith and Fulham\"\n",
      "[13] \"Haringey\"               \"Harrow\"                 \"Havering\"              \n",
      "[16] \"Hillingdon\"             \"Hounslow\"               \"Islington\"             \n",
      "[19] \"Kensington and Chelsea\" \"Kingston upon Thames\"   \"Lambeth\"               \n",
      "[22] \"Lewisham\"               \"Merton\"                 \"Newham\"                \n",
      "[25] \"Redbridge\"              \"Richmond upon Thames\"   \"Southwark\"             \n",
      "[28] \"Sutton\"                 \"Tower Hamlets\"          \"Waltham Forest\"        \n",
      "[31] \"Wandsworth\"             \"Westminster\"            \"Heathrow\"              \n",
      "[34] \"Inner London\"           \"Outer London\"           \"Met Police Area\"       \n",
      "[37] \"England and Wales\"     \n",
      " [1] \"Barking and Dagenham\"   \"Barnet\"                 \"Bexley\"                \n",
      " [4] \"Brent\"                  \"Bromley\"                \"Camden\"                \n",
      " [7] \"Croydon\"                \"Ealing\"                 \"Enfield\"               \n",
      "[10] \"Greenwich\"              \"Hackney\"                \"Hammersmith and Fulham\"\n",
      "[13] \"Haringey\"               \"Harrow\"                 \"Havering\"              \n",
      "[16] \"Hillingdon\"             \"Hounslow\"               \"Islington\"             \n",
      "[19] \"Kensington and Chelsea\" \"Kingston upon Thames\"   \"Lambeth\"               \n",
      "[22] \"Lewisham\"               \"Merton\"                 \"Newham\"                \n",
      "[25] \"Redbridge\"              \"Richmond upon Thames\"   \"Southwark\"             \n",
      "[28] \"Sutton\"                 \"Tower Hamlets\"          \"Waltham Forest\"        \n",
      "[31] \"Wandsworth\"             \"Westminster\"           \n"
     ]
    },
    {
     "data": {
      "text/html": [
       "'character'"
      ],
      "text/latex": [
       "'character'"
      ],
      "text/markdown": [
       "'character'"
      ],
      "text/plain": [
       "[1] \"character\""
      ]
     },
     "metadata": {},
     "output_type": "display_data"
    },
    {
     "data": {
      "text/html": [
       "'character'"
      ],
      "text/latex": [
       "'character'"
      ],
      "text/markdown": [
       "'character'"
      ],
      "text/plain": [
       "[1] \"character\""
      ]
     },
     "metadata": {},
     "output_type": "display_data"
    },
    {
     "data": {
      "text/html": [
       "'numeric'"
      ],
      "text/latex": [
       "'numeric'"
      ],
      "text/markdown": [
       "'numeric'"
      ],
      "text/plain": [
       "[1] \"numeric\""
      ]
     },
     "metadata": {},
     "output_type": "display_data"
    },
    {
     "data": {
      "text/html": [
       "'numeric'"
      ],
      "text/latex": [
       "'numeric'"
      ],
      "text/markdown": [
       "'numeric'"
      ],
      "text/plain": [
       "[1] \"numeric\""
      ]
     },
     "metadata": {},
     "output_type": "display_data"
    }
   ],
   "source": [
    "#Check missing values for each column\n",
    "sapply(safety, function(x) sum(is.na(x)))\n",
    "       \n",
    "#View data of Area\n",
    "print(unique(safety$Borough))\n",
    "#Remove rows that are not grouped as 33 boroughs\n",
    "safety1<-safety %>%\n",
    "           filter(!Borough %in% c(\"Inner London\",\"Outer London\", \"Met Police Area\", \"England and Wales\", \"South\", \"Wales\",\"Northern Ireland\",\"England and Wales\",\"Heathrow\"))\n",
    "#View data of Area\n",
    "print(unique(safety1$Borough))\n",
    "       \n",
    "#Check data type\n",
    "class(safety1$Rate)\n",
    "class(safety1$Number_of_offences)\n",
    "#Convert data type\n",
    "safety1$Rate<-as.numeric(safety1$Rate)\n",
    "safety1$Number_of_offences<-as.numeric(gsub(\",\",\"\",safety1$Number_of_offences))\n",
    "#Check data type\n",
    "class(safety1$Rate)\n",
    "class(safety1$Number_of_offences)"
   ]
  },
  {
   "cell_type": "markdown",
   "id": "4aa0964d",
   "metadata": {},
   "source": [
    "<br></br>\n",
    "<p>There are no missing values. As this review only focuses on London, places not related to 33 boroughs are removed. Columns with numbers are converted from character to number. No crime data in City of London is provided.</p>\n",
    "<br></br>"
   ]
  },
  {
   "cell_type": "markdown",
   "id": "ac983a5a",
   "metadata": {},
   "source": [
    "### Well-being "
   ]
  },
  {
   "cell_type": "code",
   "execution_count": 59,
   "id": "c27714fd",
   "metadata": {},
   "outputs": [
    {
     "data": {
      "text/html": [
       "<style>\n",
       ".dl-inline {width: auto; margin:0; padding: 0}\n",
       ".dl-inline>dt, .dl-inline>dd {float: none; width: auto; display: inline-block}\n",
       ".dl-inline>dt::after {content: \":\\0020\"; padding-right: .5ex}\n",
       ".dl-inline>dt:not(:first-of-type) {padding-left: .5ex}\n",
       "</style><dl class=dl-inline><dt>Code</dt><dd>4</dd><dt>Area</dt><dd>4</dd><dt>2011-12</dt><dd>4</dd><dt>2012-13</dt><dd>4</dd><dt>2013-14</dt><dd>4</dd><dt>2014-15</dt><dd>4</dd><dt>2015-16</dt><dd>4</dd><dt>2016-17</dt><dd>4</dd><dt>2017-18</dt><dd>5</dd><dt>2018-19</dt><dd>5</dd></dl>\n"
      ],
      "text/latex": [
       "\\begin{description*}\n",
       "\\item[Code] 4\n",
       "\\item[Area] 4\n",
       "\\item[2011-12] 4\n",
       "\\item[2012-13] 4\n",
       "\\item[2013-14] 4\n",
       "\\item[2014-15] 4\n",
       "\\item[2015-16] 4\n",
       "\\item[2016-17] 4\n",
       "\\item[2017-18] 5\n",
       "\\item[2018-19] 5\n",
       "\\end{description*}\n"
      ],
      "text/markdown": [
       "Code\n",
       ":   4Area\n",
       ":   42011-12\n",
       ":   42012-13\n",
       ":   42013-14\n",
       ":   42014-15\n",
       ":   42015-16\n",
       ":   42016-17\n",
       ":   42017-18\n",
       ":   52018-19\n",
       ":   5\n",
       "\n"
      ],
      "text/plain": [
       "   Code    Area 2011-12 2012-13 2013-14 2014-15 2015-16 2016-17 2017-18 2018-19 \n",
       "      4       4       4       4       4       4       4       4       5       5 "
      ]
     },
     "metadata": {},
     "output_type": "display_data"
    },
    {
     "data": {
      "text/html": [
       "<table class=\"dataframe\">\n",
       "<caption>A tibble: 5 × 10</caption>\n",
       "<thead>\n",
       "\t<tr><th scope=col>Code</th><th scope=col>Area</th><th scope=col>2011-12</th><th scope=col>2012-13</th><th scope=col>2013-14</th><th scope=col>2014-15</th><th scope=col>2015-16</th><th scope=col>2016-17</th><th scope=col>2017-18</th><th scope=col>2018-19</th></tr>\n",
       "\t<tr><th scope=col>&lt;chr&gt;</th><th scope=col>&lt;chr&gt;</th><th scope=col>&lt;chr&gt;</th><th scope=col>&lt;chr&gt;</th><th scope=col>&lt;chr&gt;</th><th scope=col>&lt;chr&gt;</th><th scope=col>&lt;chr&gt;</th><th scope=col>&lt;chr&gt;</th><th scope=col>&lt;chr&gt;</th><th scope=col>&lt;chr&gt;</th></tr>\n",
       "</thead>\n",
       "<tbody>\n",
       "\t<tr><td>NA       </td><td>NA            </td><td>NA</td><td>NA</td><td>NA</td><td>NA</td><td>NA</td><td>NA</td><td>NA</td><td>NA</td></tr>\n",
       "\t<tr><td>E09000001</td><td>City of London</td><td>x </td><td>x </td><td>x </td><td>x </td><td>x </td><td>x </td><td>NA</td><td>NA</td></tr>\n",
       "\t<tr><td>NA       </td><td>NA            </td><td>NA</td><td>NA</td><td>NA</td><td>NA</td><td>NA</td><td>NA</td><td>NA</td><td>NA</td></tr>\n",
       "\t<tr><td>NA       </td><td>NA            </td><td>NA</td><td>NA</td><td>NA</td><td>NA</td><td>NA</td><td>NA</td><td>NA</td><td>NA</td></tr>\n",
       "\t<tr><td>NA       </td><td>NA            </td><td>NA</td><td>NA</td><td>NA</td><td>NA</td><td>NA</td><td>NA</td><td>NA</td><td>NA</td></tr>\n",
       "</tbody>\n",
       "</table>\n"
      ],
      "text/latex": [
       "A tibble: 5 × 10\n",
       "\\begin{tabular}{llllllllll}\n",
       " Code & Area & 2011-12 & 2012-13 & 2013-14 & 2014-15 & 2015-16 & 2016-17 & 2017-18 & 2018-19\\\\\n",
       " <chr> & <chr> & <chr> & <chr> & <chr> & <chr> & <chr> & <chr> & <chr> & <chr>\\\\\n",
       "\\hline\n",
       "\t NA        & NA             & NA & NA & NA & NA & NA & NA & NA & NA\\\\\n",
       "\t E09000001 & City of London & x  & x  & x  & x  & x  & x  & NA & NA\\\\\n",
       "\t NA        & NA             & NA & NA & NA & NA & NA & NA & NA & NA\\\\\n",
       "\t NA        & NA             & NA & NA & NA & NA & NA & NA & NA & NA\\\\\n",
       "\t NA        & NA             & NA & NA & NA & NA & NA & NA & NA & NA\\\\\n",
       "\\end{tabular}\n"
      ],
      "text/markdown": [
       "\n",
       "A tibble: 5 × 10\n",
       "\n",
       "| Code &lt;chr&gt; | Area &lt;chr&gt; | 2011-12 &lt;chr&gt; | 2012-13 &lt;chr&gt; | 2013-14 &lt;chr&gt; | 2014-15 &lt;chr&gt; | 2015-16 &lt;chr&gt; | 2016-17 &lt;chr&gt; | 2017-18 &lt;chr&gt; | 2018-19 &lt;chr&gt; |\n",
       "|---|---|---|---|---|---|---|---|---|---|\n",
       "| NA        | NA             | NA | NA | NA | NA | NA | NA | NA | NA |\n",
       "| E09000001 | City of London | x  | x  | x  | x  | x  | x  | NA | NA |\n",
       "| NA        | NA             | NA | NA | NA | NA | NA | NA | NA | NA |\n",
       "| NA        | NA             | NA | NA | NA | NA | NA | NA | NA | NA |\n",
       "| NA        | NA             | NA | NA | NA | NA | NA | NA | NA | NA |\n",
       "\n"
      ],
      "text/plain": [
       "  Code      Area           2011-12 2012-13 2013-14 2014-15 2015-16 2016-17\n",
       "1 NA        NA             NA      NA      NA      NA      NA      NA     \n",
       "2 E09000001 City of London x       x       x       x       x       x      \n",
       "3 NA        NA             NA      NA      NA      NA      NA      NA     \n",
       "4 NA        NA             NA      NA      NA      NA      NA      NA     \n",
       "5 NA        NA             NA      NA      NA      NA      NA      NA     \n",
       "  2017-18 2018-19\n",
       "1 NA      NA     \n",
       "2 NA      NA     \n",
       "3 NA      NA     \n",
       "4 NA      NA     \n",
       "5 NA      NA     "
      ]
     },
     "metadata": {},
     "output_type": "display_data"
    },
    {
     "data": {
      "text/html": [
       "<table class=\"dataframe\">\n",
       "<caption>A matrix: 42 × 2 of type int</caption>\n",
       "<thead>\n",
       "\t<tr><th scope=col>row</th><th scope=col>col</th></tr>\n",
       "</thead>\n",
       "<tbody>\n",
       "\t<tr><td> 1</td><td> 1</td></tr>\n",
       "\t<tr><td>35</td><td> 1</td></tr>\n",
       "\t<tr><td>45</td><td> 1</td></tr>\n",
       "\t<tr><td>50</td><td> 1</td></tr>\n",
       "\t<tr><td> 1</td><td> 2</td></tr>\n",
       "\t<tr><td>35</td><td> 2</td></tr>\n",
       "\t<tr><td>45</td><td> 2</td></tr>\n",
       "\t<tr><td>50</td><td> 2</td></tr>\n",
       "\t<tr><td> 1</td><td> 3</td></tr>\n",
       "\t<tr><td>35</td><td> 3</td></tr>\n",
       "\t<tr><td>45</td><td> 3</td></tr>\n",
       "\t<tr><td>50</td><td> 3</td></tr>\n",
       "\t<tr><td> 1</td><td> 4</td></tr>\n",
       "\t<tr><td>35</td><td> 4</td></tr>\n",
       "\t<tr><td>45</td><td> 4</td></tr>\n",
       "\t<tr><td>50</td><td> 4</td></tr>\n",
       "\t<tr><td> 1</td><td> 5</td></tr>\n",
       "\t<tr><td>35</td><td> 5</td></tr>\n",
       "\t<tr><td>45</td><td> 5</td></tr>\n",
       "\t<tr><td>50</td><td> 5</td></tr>\n",
       "\t<tr><td> 1</td><td> 6</td></tr>\n",
       "\t<tr><td>35</td><td> 6</td></tr>\n",
       "\t<tr><td>45</td><td> 6</td></tr>\n",
       "\t<tr><td>50</td><td> 6</td></tr>\n",
       "\t<tr><td> 1</td><td> 7</td></tr>\n",
       "\t<tr><td>35</td><td> 7</td></tr>\n",
       "\t<tr><td>45</td><td> 7</td></tr>\n",
       "\t<tr><td>50</td><td> 7</td></tr>\n",
       "\t<tr><td> 1</td><td> 8</td></tr>\n",
       "\t<tr><td>35</td><td> 8</td></tr>\n",
       "\t<tr><td>45</td><td> 8</td></tr>\n",
       "\t<tr><td>50</td><td> 8</td></tr>\n",
       "\t<tr><td> 1</td><td> 9</td></tr>\n",
       "\t<tr><td> 2</td><td> 9</td></tr>\n",
       "\t<tr><td>35</td><td> 9</td></tr>\n",
       "\t<tr><td>45</td><td> 9</td></tr>\n",
       "\t<tr><td>50</td><td> 9</td></tr>\n",
       "\t<tr><td> 1</td><td>10</td></tr>\n",
       "\t<tr><td> 2</td><td>10</td></tr>\n",
       "\t<tr><td>35</td><td>10</td></tr>\n",
       "\t<tr><td>45</td><td>10</td></tr>\n",
       "\t<tr><td>50</td><td>10</td></tr>\n",
       "</tbody>\n",
       "</table>\n"
      ],
      "text/latex": [
       "A matrix: 42 × 2 of type int\n",
       "\\begin{tabular}{ll}\n",
       " row & col\\\\\n",
       "\\hline\n",
       "\t  1 &  1\\\\\n",
       "\t 35 &  1\\\\\n",
       "\t 45 &  1\\\\\n",
       "\t 50 &  1\\\\\n",
       "\t  1 &  2\\\\\n",
       "\t 35 &  2\\\\\n",
       "\t 45 &  2\\\\\n",
       "\t 50 &  2\\\\\n",
       "\t  1 &  3\\\\\n",
       "\t 35 &  3\\\\\n",
       "\t 45 &  3\\\\\n",
       "\t 50 &  3\\\\\n",
       "\t  1 &  4\\\\\n",
       "\t 35 &  4\\\\\n",
       "\t 45 &  4\\\\\n",
       "\t 50 &  4\\\\\n",
       "\t  1 &  5\\\\\n",
       "\t 35 &  5\\\\\n",
       "\t 45 &  5\\\\\n",
       "\t 50 &  5\\\\\n",
       "\t  1 &  6\\\\\n",
       "\t 35 &  6\\\\\n",
       "\t 45 &  6\\\\\n",
       "\t 50 &  6\\\\\n",
       "\t  1 &  7\\\\\n",
       "\t 35 &  7\\\\\n",
       "\t 45 &  7\\\\\n",
       "\t 50 &  7\\\\\n",
       "\t  1 &  8\\\\\n",
       "\t 35 &  8\\\\\n",
       "\t 45 &  8\\\\\n",
       "\t 50 &  8\\\\\n",
       "\t  1 &  9\\\\\n",
       "\t  2 &  9\\\\\n",
       "\t 35 &  9\\\\\n",
       "\t 45 &  9\\\\\n",
       "\t 50 &  9\\\\\n",
       "\t  1 & 10\\\\\n",
       "\t  2 & 10\\\\\n",
       "\t 35 & 10\\\\\n",
       "\t 45 & 10\\\\\n",
       "\t 50 & 10\\\\\n",
       "\\end{tabular}\n"
      ],
      "text/markdown": [
       "\n",
       "A matrix: 42 × 2 of type int\n",
       "\n",
       "| row | col |\n",
       "|---|---|\n",
       "|  1 |  1 |\n",
       "| 35 |  1 |\n",
       "| 45 |  1 |\n",
       "| 50 |  1 |\n",
       "|  1 |  2 |\n",
       "| 35 |  2 |\n",
       "| 45 |  2 |\n",
       "| 50 |  2 |\n",
       "|  1 |  3 |\n",
       "| 35 |  3 |\n",
       "| 45 |  3 |\n",
       "| 50 |  3 |\n",
       "|  1 |  4 |\n",
       "| 35 |  4 |\n",
       "| 45 |  4 |\n",
       "| 50 |  4 |\n",
       "|  1 |  5 |\n",
       "| 35 |  5 |\n",
       "| 45 |  5 |\n",
       "| 50 |  5 |\n",
       "|  1 |  6 |\n",
       "| 35 |  6 |\n",
       "| 45 |  6 |\n",
       "| 50 |  6 |\n",
       "|  1 |  7 |\n",
       "| 35 |  7 |\n",
       "| 45 |  7 |\n",
       "| 50 |  7 |\n",
       "|  1 |  8 |\n",
       "| 35 |  8 |\n",
       "| 45 |  8 |\n",
       "| 50 |  8 |\n",
       "|  1 |  9 |\n",
       "|  2 |  9 |\n",
       "| 35 |  9 |\n",
       "| 45 |  9 |\n",
       "| 50 |  9 |\n",
       "|  1 | 10 |\n",
       "|  2 | 10 |\n",
       "| 35 | 10 |\n",
       "| 45 | 10 |\n",
       "| 50 | 10 |\n",
       "\n"
      ],
      "text/plain": [
       "      row col\n",
       " [1,]  1   1 \n",
       " [2,] 35   1 \n",
       " [3,] 45   1 \n",
       " [4,] 50   1 \n",
       " [5,]  1   2 \n",
       " [6,] 35   2 \n",
       " [7,] 45   2 \n",
       " [8,] 50   2 \n",
       " [9,]  1   3 \n",
       "[10,] 35   3 \n",
       "[11,] 45   3 \n",
       "[12,] 50   3 \n",
       "[13,]  1   4 \n",
       "[14,] 35   4 \n",
       "[15,] 45   4 \n",
       "[16,] 50   4 \n",
       "[17,]  1   5 \n",
       "[18,] 35   5 \n",
       "[19,] 45   5 \n",
       "[20,] 50   5 \n",
       "[21,]  1   6 \n",
       "[22,] 35   6 \n",
       "[23,] 45   6 \n",
       "[24,] 50   6 \n",
       "[25,]  1   7 \n",
       "[26,] 35   7 \n",
       "[27,] 45   7 \n",
       "[28,] 50   7 \n",
       "[29,]  1   8 \n",
       "[30,] 35   8 \n",
       "[31,] 45   8 \n",
       "[32,] 50   8 \n",
       "[33,]  1   9 \n",
       "[34,]  2   9 \n",
       "[35,] 35   9 \n",
       "[36,] 45   9 \n",
       "[37,] 50   9 \n",
       "[38,]  1  10 \n",
       "[39,]  2  10 \n",
       "[40,] 35  10 \n",
       "[41,] 45  10 \n",
       "[42,] 50  10 "
      ]
     },
     "metadata": {},
     "output_type": "display_data"
    },
    {
     "data": {
      "text/html": [
       "<style>\n",
       ".dl-inline {width: auto; margin:0; padding: 0}\n",
       ".dl-inline>dt, .dl-inline>dd {float: none; width: auto; display: inline-block}\n",
       ".dl-inline>dt::after {content: \":\\0020\"; padding-right: .5ex}\n",
       ".dl-inline>dt:not(:first-of-type) {padding-left: .5ex}\n",
       "</style><dl class=dl-inline><dt>Code</dt><dd>0</dd><dt>Area</dt><dd>0</dd><dt>2011-12</dt><dd>0</dd><dt>2012-13</dt><dd>0</dd><dt>2013-14</dt><dd>0</dd><dt>2014-15</dt><dd>0</dd><dt>2015-16</dt><dd>0</dd><dt>2016-17</dt><dd>0</dd><dt>2017-18</dt><dd>1</dd><dt>2018-19</dt><dd>1</dd></dl>\n"
      ],
      "text/latex": [
       "\\begin{description*}\n",
       "\\item[Code] 0\n",
       "\\item[Area] 0\n",
       "\\item[2011-12] 0\n",
       "\\item[2012-13] 0\n",
       "\\item[2013-14] 0\n",
       "\\item[2014-15] 0\n",
       "\\item[2015-16] 0\n",
       "\\item[2016-17] 0\n",
       "\\item[2017-18] 1\n",
       "\\item[2018-19] 1\n",
       "\\end{description*}\n"
      ],
      "text/markdown": [
       "Code\n",
       ":   0Area\n",
       ":   02011-12\n",
       ":   02012-13\n",
       ":   02013-14\n",
       ":   02014-15\n",
       ":   02015-16\n",
       ":   02016-17\n",
       ":   02017-18\n",
       ":   12018-19\n",
       ":   1\n",
       "\n"
      ],
      "text/plain": [
       "   Code    Area 2011-12 2012-13 2013-14 2014-15 2015-16 2016-17 2017-18 2018-19 \n",
       "      0       0       0       0       0       0       0       0       1       1 "
      ]
     },
     "metadata": {},
     "output_type": "display_data"
    }
   ],
   "source": [
    "#Delete unnecessary columns\n",
    "wellbeing1<-wellbeing[,c(1:10)]\n",
    "\n",
    "#Rename of Column\n",
    "names(wellbeing1)[1]<-\"Code\"\n",
    "names(wellbeing1)[2]<-\"Area\"\n",
    "names(wellbeing1)[3]<-\"2011-12\"\n",
    "names(wellbeing1)[4]<-\"2012-13\"\n",
    "names(wellbeing1)[5]<-\"2013-14\"\n",
    "names(wellbeing1)[6]<-\"2014-15\"\n",
    "names(wellbeing1)[7]<-\"2015-16\"\n",
    "names(wellbeing1)[8]<-\"2016-17\"\n",
    "names(wellbeing1)[9]<-\"2017-18\"\n",
    "names(wellbeing1)[10]<-\"2018-19\"\n",
    "\n",
    "#Delete first row\n",
    "wellbeing1<-wellbeing1[-1,]\n",
    "\n",
    "#Check missing values for each column\n",
    "sapply(wellbeing1, function(x) sum(is.na(x)))\n",
    "#Show the rows with null values\n",
    "wellbeing1 %>%\n",
    "    filter_all(any_vars(is.na(.)))\n",
    "#Locate the rows with null values\n",
    "which(is.na(wellbeing1), arr.ind=TRUE)\n",
    "#Delete the rows with null values & check\n",
    "wellbeing2<-wellbeing1[-c(1,35,45,50),]\n",
    "sapply(wellbeing2, function(x) sum(is.na(x)))"
   ]
  },
  {
   "cell_type": "markdown",
   "id": "6fbaadb1",
   "metadata": {},
   "source": [
    "<br></br>\n",
    "<p>There are 5 rows of missing values and only 4 of them are deleted. No data in London of City, but it is still kept in the table.</p>\n",
    "<br></br>"
   ]
  },
  {
   "cell_type": "code",
   "execution_count": 60,
   "id": "569127ad",
   "metadata": {},
   "outputs": [
    {
     "data": {
      "text/html": [
       "<table class=\"dataframe\">\n",
       "<caption>A tibble: 10 × 4</caption>\n",
       "<thead>\n",
       "\t<tr><th scope=col>Code</th><th scope=col>Area</th><th scope=col>Year</th><th scope=col>Life_Satisfaction_Mean_Scores</th></tr>\n",
       "\t<tr><th scope=col>&lt;chr&gt;</th><th scope=col>&lt;chr&gt;</th><th scope=col>&lt;chr&gt;</th><th scope=col>&lt;chr&gt;</th></tr>\n",
       "</thead>\n",
       "<tbody>\n",
       "\t<tr><td>E09000001</td><td>City of London      </td><td>2011-12</td><td>x   </td></tr>\n",
       "\t<tr><td>E09000001</td><td>City of London      </td><td>2012-13</td><td>x   </td></tr>\n",
       "\t<tr><td>E09000001</td><td>City of London      </td><td>2013-14</td><td>x   </td></tr>\n",
       "\t<tr><td>E09000001</td><td>City of London      </td><td>2014-15</td><td>x   </td></tr>\n",
       "\t<tr><td>E09000001</td><td>City of London      </td><td>2015-16</td><td>x   </td></tr>\n",
       "\t<tr><td>E09000001</td><td>City of London      </td><td>2016-17</td><td>x   </td></tr>\n",
       "\t<tr><td>E09000001</td><td>City of London      </td><td>2017-18</td><td>NA  </td></tr>\n",
       "\t<tr><td>E09000001</td><td>City of London      </td><td>2018-19</td><td>NA  </td></tr>\n",
       "\t<tr><td>E09000002</td><td>Barking and Dagenham</td><td>2011-12</td><td>7.05</td></tr>\n",
       "\t<tr><td>E09000002</td><td>Barking and Dagenham</td><td>2012-13</td><td>7.09</td></tr>\n",
       "</tbody>\n",
       "</table>\n"
      ],
      "text/latex": [
       "A tibble: 10 × 4\n",
       "\\begin{tabular}{llll}\n",
       " Code & Area & Year & Life\\_Satisfaction\\_Mean\\_Scores\\\\\n",
       " <chr> & <chr> & <chr> & <chr>\\\\\n",
       "\\hline\n",
       "\t E09000001 & City of London       & 2011-12 & x   \\\\\n",
       "\t E09000001 & City of London       & 2012-13 & x   \\\\\n",
       "\t E09000001 & City of London       & 2013-14 & x   \\\\\n",
       "\t E09000001 & City of London       & 2014-15 & x   \\\\\n",
       "\t E09000001 & City of London       & 2015-16 & x   \\\\\n",
       "\t E09000001 & City of London       & 2016-17 & x   \\\\\n",
       "\t E09000001 & City of London       & 2017-18 & NA  \\\\\n",
       "\t E09000001 & City of London       & 2018-19 & NA  \\\\\n",
       "\t E09000002 & Barking and Dagenham & 2011-12 & 7.05\\\\\n",
       "\t E09000002 & Barking and Dagenham & 2012-13 & 7.09\\\\\n",
       "\\end{tabular}\n"
      ],
      "text/markdown": [
       "\n",
       "A tibble: 10 × 4\n",
       "\n",
       "| Code &lt;chr&gt; | Area &lt;chr&gt; | Year &lt;chr&gt; | Life_Satisfaction_Mean_Scores &lt;chr&gt; |\n",
       "|---|---|---|---|\n",
       "| E09000001 | City of London       | 2011-12 | x    |\n",
       "| E09000001 | City of London       | 2012-13 | x    |\n",
       "| E09000001 | City of London       | 2013-14 | x    |\n",
       "| E09000001 | City of London       | 2014-15 | x    |\n",
       "| E09000001 | City of London       | 2015-16 | x    |\n",
       "| E09000001 | City of London       | 2016-17 | x    |\n",
       "| E09000001 | City of London       | 2017-18 | NA   |\n",
       "| E09000001 | City of London       | 2018-19 | NA   |\n",
       "| E09000002 | Barking and Dagenham | 2011-12 | 7.05 |\n",
       "| E09000002 | Barking and Dagenham | 2012-13 | 7.09 |\n",
       "\n"
      ],
      "text/plain": [
       "   Code      Area                 Year    Life_Satisfaction_Mean_Scores\n",
       "1  E09000001 City of London       2011-12 x                            \n",
       "2  E09000001 City of London       2012-13 x                            \n",
       "3  E09000001 City of London       2013-14 x                            \n",
       "4  E09000001 City of London       2014-15 x                            \n",
       "5  E09000001 City of London       2015-16 x                            \n",
       "6  E09000001 City of London       2016-17 x                            \n",
       "7  E09000001 City of London       2017-18 NA                           \n",
       "8  E09000001 City of London       2018-19 NA                           \n",
       "9  E09000002 Barking and Dagenham 2011-12 7.05                         \n",
       "10 E09000002 Barking and Dagenham 2012-13 7.09                         "
      ]
     },
     "metadata": {},
     "output_type": "display_data"
    },
    {
     "data": {
      "text/html": [
       "'character'"
      ],
      "text/latex": [
       "'character'"
      ],
      "text/markdown": [
       "'character'"
      ],
      "text/plain": [
       "[1] \"character\""
      ]
     },
     "metadata": {},
     "output_type": "display_data"
    },
    {
     "name": "stderr",
     "output_type": "stream",
     "text": [
      "Warning message in eval(expr, envir, enclos):\n",
      "\"NAs introduced by coercion\"\n"
     ]
    },
    {
     "data": {
      "text/html": [
       "'numeric'"
      ],
      "text/latex": [
       "'numeric'"
      ],
      "text/markdown": [
       "'numeric'"
      ],
      "text/plain": [
       "[1] \"numeric\""
      ]
     },
     "metadata": {},
     "output_type": "display_data"
    },
    {
     "name": "stdout",
     "output_type": "stream",
     "text": [
      " [1] \"City of London\"           \"Barking and Dagenham\"    \n",
      " [3] \"Barnet\"                   \"Bexley\"                  \n",
      " [5] \"Brent\"                    \"Bromley\"                 \n",
      " [7] \"Camden\"                   \"Croydon\"                 \n",
      " [9] \"Ealing\"                   \"Enfield\"                 \n",
      "[11] \"Greenwich\"                \"Hackney\"                 \n",
      "[13] \"Hammersmith and Fulham\"   \"Haringey\"                \n",
      "[15] \"Harrow\"                   \"Havering\"                \n",
      "[17] \"Hillingdon\"               \"Hounslow\"                \n",
      "[19] \"Islington\"                \"Kensington and Chelsea\"  \n",
      "[21] \"Kingston upon Thames\"     \"Lambeth\"                 \n",
      "[23] \"Lewisham\"                 \"Merton\"                  \n",
      "[25] \"Newham\"                   \"Redbridge\"               \n",
      "[27] \"Richmond upon Thames\"     \"Southwark\"               \n",
      "[29] \"Sutton\"                   \"Tower Hamlets\"           \n",
      "[31] \"Waltham Forest\"           \"Wandsworth\"              \n",
      "[33] \"Westminster\"              \"North East\"              \n",
      "[35] \"North West\"               \"Yorkshire and The Humber\"\n",
      "[37] \"East Midlands\"            \"West Midlands\"           \n",
      "[39] \"East of England\"          \"London\"                  \n",
      "[41] \"South East\"               \"South West\"              \n",
      "[43] \"England\"                  \"Wales\"                   \n",
      "[45] \"Scotland\"                 \"Northern Ireland\"        \n",
      "[47] \"UK\"                      \n",
      " [1] \"City of London\"         \"Barking and Dagenham\"   \"Barnet\"                \n",
      " [4] \"Bexley\"                 \"Brent\"                  \"Bromley\"               \n",
      " [7] \"Camden\"                 \"Croydon\"                \"Ealing\"                \n",
      "[10] \"Enfield\"                \"Greenwich\"              \"Hackney\"               \n",
      "[13] \"Hammersmith and Fulham\" \"Haringey\"               \"Harrow\"                \n",
      "[16] \"Havering\"               \"Hillingdon\"             \"Hounslow\"              \n",
      "[19] \"Islington\"              \"Kensington and Chelsea\" \"Kingston upon Thames\"  \n",
      "[22] \"Lambeth\"                \"Lewisham\"               \"Merton\"                \n",
      "[25] \"Newham\"                 \"Redbridge\"              \"Richmond upon Thames\"  \n",
      "[28] \"Southwark\"              \"Sutton\"                 \"Tower Hamlets\"         \n",
      "[31] \"Waltham Forest\"         \"Wandsworth\"             \"Westminster\"           \n"
     ]
    }
   ],
   "source": [
    "#Reshape table\n",
    "wellbeing3<-pivot_longer(wellbeing2, col = 3:10, names_to = \"Year\", values_to = \"Life_Satisfaction_Mean_Scores\")\n",
    "head(wellbeing3,10)\n",
    "\n",
    "#Check data type\n",
    "class(wellbeing3$Life_Satisfaction_Mean_Scores)\n",
    "#Convert data type\n",
    "wellbeing3$Life_Satisfaction_Mean_Scores<-as.numeric(wellbeing3$Life_Satisfaction_Mean_Scores)\n",
    "#Check data type\n",
    "class(wellbeing3$Life_Satisfaction_Mean_Scores)\n",
    "\n",
    "#View data of Area\n",
    "print(unique(wellbeing3$Area))\n",
    "#Remove rows that are not grouped as 33 boroughs\n",
    "wellbeing3<-wellbeing3 %>%\n",
    "                filter(!Area %in% c(\"North East\",\"North West\",\"Yorkshire and The Humber\",\"East Midlands\",\"West Midlands\",\"East of England\",\"London\",\"South East\",\"South West\",\"England\",\"Wales\",\"Scotland\",\"Northern Ireland\",\"UK\"))\n",
    "#View data of Area\n",
    "print(unique(wellbeing3$Area))"
   ]
  },
  {
   "cell_type": "markdown",
   "id": "b98a106d",
   "metadata": {},
   "source": [
    "<br></br>\n",
    "<p>Data is unpivoted for data analysis. Columns with numbers are converted from character to number. As this review only focuses on London, places not related to 33 boroughs are removed.</p>\n",
    "<br></br>"
   ]
  },
  {
   "cell_type": "markdown",
   "id": "01191070",
   "metadata": {},
   "source": [
    "## 5. Data Analysis"
   ]
  },
  {
   "cell_type": "markdown",
   "id": "84244f75",
   "metadata": {},
   "source": [
    "### Rent"
   ]
  },
  {
   "cell_type": "code",
   "execution_count": 61,
   "id": "9a26cd5d",
   "metadata": {},
   "outputs": [
    {
     "name": "stderr",
     "output_type": "stream",
     "text": [
      "Warning message:\n",
      "\"package 'ggplot2' is in use and will not be installed\"\n"
     ]
    },
    {
     "data": {
      "image/png": "[encoded data removed]",
      "text/plain": [
       "plot without title"
      ]
     },
     "metadata": {
      "image/png": {
       "height": 420,
       "width": 420
      }
     },
     "output_type": "display_data"
    }
   ],
   "source": [
    "#Install packages\n",
    "install.packages(\"ggplot2\")\n",
    "library(ggplot2)\n",
    "\n",
    "#Line plot to show the trend of rent in London\n",
    "p1<-ggplot(rent2,aes(x = Year, y = Rent, group = Area, color = Area)) +\n",
    "    geom_line() +\n",
    "    theme(axis.text.x = element_text(angle = 90, hjust = 1), legend.position = \"none\") +\n",
    "    ggtitle(\"A Line Chart of Rent in London\") +\n",
    "    theme(plot.title=element_text(hjust=0.5,size=13))\n",
    "p1"
   ]
  },
  {
   "cell_type": "markdown",
   "id": "a3782ffc",
   "metadata": {},
   "source": [
    "<br></br>\n",
    "<p>From 1996 to 2019, the rent of all places in London was increasing.</p>\n",
    "<br></br>"
   ]
  },
  {
   "cell_type": "code",
   "execution_count": 62,
   "id": "d0072bb8",
   "metadata": {},
   "outputs": [
    {
     "data": {
      "text/html": [
       "<table class=\"dataframe\">\n",
       "<caption>A tibble: 10 × 6</caption>\n",
       "<thead>\n",
       "\t<tr><th scope=col>Area</th><th scope=col>Rent_2018</th><th scope=col>Code</th><th scope=col>New_Code</th><th scope=col>Rent_1996</th><th scope=col>Percentage_Change</th></tr>\n",
       "\t<tr><th scope=col>&lt;chr&gt;</th><th scope=col>&lt;dbl&gt;</th><th scope=col>&lt;chr&gt;</th><th scope=col>&lt;chr&gt;</th><th scope=col>&lt;dbl&gt;</th><th scope=col>&lt;dbl&gt;</th></tr>\n",
       "</thead>\n",
       "<tbody>\n",
       "\t<tr><td>Westminster           </td><td>140.33</td><td>00BK</td><td>E09000033</td><td>51.60</td><td>171.9574</td></tr>\n",
       "\t<tr><td>Kensington and Chelsea</td><td>126.37</td><td>00AW</td><td>E09000020</td><td>47.54</td><td>165.8183</td></tr>\n",
       "\t<tr><td>Hammersmith and Fulham</td><td>128.56</td><td>00AN</td><td>E09000013</td><td>50.15</td><td>156.3509</td></tr>\n",
       "\t<tr><td>City of London        </td><td>126.59</td><td>00AA</td><td>E09000001</td><td>49.44</td><td>156.0477</td></tr>\n",
       "\t<tr><td>Islington             </td><td>124.74</td><td>00AU</td><td>E09000019</td><td>50.50</td><td>147.0099</td></tr>\n",
       "\t<tr><td>Brent                 </td><td>133.71</td><td>00AE</td><td>E09000005</td><td>54.49</td><td>145.3845</td></tr>\n",
       "\t<tr><td>Southwark             </td><td>121.65</td><td>00BE</td><td>E09000028</td><td>49.97</td><td>143.4461</td></tr>\n",
       "\t<tr><td>Harrow                </td><td>132.14</td><td>00AQ</td><td>E09000015</td><td>54.42</td><td>142.8151</td></tr>\n",
       "\t<tr><td>Camden                </td><td>131.12</td><td>00AG</td><td>E09000007</td><td>54.04</td><td>142.6351</td></tr>\n",
       "\t<tr><td>Lambeth               </td><td>117.27</td><td>00AY</td><td>E09000022</td><td>48.47</td><td>141.9435</td></tr>\n",
       "</tbody>\n",
       "</table>\n"
      ],
      "text/latex": [
       "A tibble: 10 × 6\n",
       "\\begin{tabular}{llllll}\n",
       " Area & Rent\\_2018 & Code & New\\_Code & Rent\\_1996 & Percentage\\_Change\\\\\n",
       " <chr> & <dbl> & <chr> & <chr> & <dbl> & <dbl>\\\\\n",
       "\\hline\n",
       "\t Westminster            & 140.33 & 00BK & E09000033 & 51.60 & 171.9574\\\\\n",
       "\t Kensington and Chelsea & 126.37 & 00AW & E09000020 & 47.54 & 165.8183\\\\\n",
       "\t Hammersmith and Fulham & 128.56 & 00AN & E09000013 & 50.15 & 156.3509\\\\\n",
       "\t City of London         & 126.59 & 00AA & E09000001 & 49.44 & 156.0477\\\\\n",
       "\t Islington              & 124.74 & 00AU & E09000019 & 50.50 & 147.0099\\\\\n",
       "\t Brent                  & 133.71 & 00AE & E09000005 & 54.49 & 145.3845\\\\\n",
       "\t Southwark              & 121.65 & 00BE & E09000028 & 49.97 & 143.4461\\\\\n",
       "\t Harrow                 & 132.14 & 00AQ & E09000015 & 54.42 & 142.8151\\\\\n",
       "\t Camden                 & 131.12 & 00AG & E09000007 & 54.04 & 142.6351\\\\\n",
       "\t Lambeth                & 117.27 & 00AY & E09000022 & 48.47 & 141.9435\\\\\n",
       "\\end{tabular}\n"
      ],
      "text/markdown": [
       "\n",
       "A tibble: 10 × 6\n",
       "\n",
       "| Area &lt;chr&gt; | Rent_2018 &lt;dbl&gt; | Code &lt;chr&gt; | New_Code &lt;chr&gt; | Rent_1996 &lt;dbl&gt; | Percentage_Change &lt;dbl&gt; |\n",
       "|---|---|---|---|---|---|\n",
       "| Westminster            | 140.33 | 00BK | E09000033 | 51.60 | 171.9574 |\n",
       "| Kensington and Chelsea | 126.37 | 00AW | E09000020 | 47.54 | 165.8183 |\n",
       "| Hammersmith and Fulham | 128.56 | 00AN | E09000013 | 50.15 | 156.3509 |\n",
       "| City of London         | 126.59 | 00AA | E09000001 | 49.44 | 156.0477 |\n",
       "| Islington              | 124.74 | 00AU | E09000019 | 50.50 | 147.0099 |\n",
       "| Brent                  | 133.71 | 00AE | E09000005 | 54.49 | 145.3845 |\n",
       "| Southwark              | 121.65 | 00BE | E09000028 | 49.97 | 143.4461 |\n",
       "| Harrow                 | 132.14 | 00AQ | E09000015 | 54.42 | 142.8151 |\n",
       "| Camden                 | 131.12 | 00AG | E09000007 | 54.04 | 142.6351 |\n",
       "| Lambeth                | 117.27 | 00AY | E09000022 | 48.47 | 141.9435 |\n",
       "\n"
      ],
      "text/plain": [
       "   Area                   Rent_2018 Code New_Code  Rent_1996 Percentage_Change\n",
       "1  Westminster            140.33    00BK E09000033 51.60     171.9574         \n",
       "2  Kensington and Chelsea 126.37    00AW E09000020 47.54     165.8183         \n",
       "3  Hammersmith and Fulham 128.56    00AN E09000013 50.15     156.3509         \n",
       "4  City of London         126.59    00AA E09000001 49.44     156.0477         \n",
       "5  Islington              124.74    00AU E09000019 50.50     147.0099         \n",
       "6  Brent                  133.71    00AE E09000005 54.49     145.3845         \n",
       "7  Southwark              121.65    00BE E09000028 49.97     143.4461         \n",
       "8  Harrow                 132.14    00AQ E09000015 54.42     142.8151         \n",
       "9  Camden                 131.12    00AG E09000007 54.04     142.6351         \n",
       "10 Lambeth                117.27    00AY E09000022 48.47     141.9435         "
      ]
     },
     "metadata": {},
     "output_type": "display_data"
    }
   ],
   "source": [
    "#Create a table to show top 10 largest rental percentage change areas in London\n",
    "rent3<-rent2 %>%\n",
    "        filter(Year == \"1996-97\") %>%\n",
    "        rename(Rent_1996 = Rent) %>%\n",
    "        select(-c(Year))\n",
    "rent4<-rent2 %>%\n",
    "        filter(Year == \"2018-19\") %>%\n",
    "        select(Area,Year,Rent) %>%\n",
    "        rename(Rent_2018 = Rent) %>%\n",
    "        select(-c(Year)) %>%\n",
    "        inner_join(rent3, \"Area\") %>%\n",
    "        mutate(Percentage_Change = (Rent_2018-Rent_1996)/Rent_1996*100) %>%\n",
    "        arrange(desc(Percentage_Change))\n",
    "head(rent4,10)"
   ]
  },
  {
   "cell_type": "markdown",
   "id": "4ad3b98d",
   "metadata": {},
   "source": [
    "<br></br>\n",
    "<p>The largest rent percentage change is in Westminster and increases more than 171%. The top 10 rent percentage changes are all over +100%.</p>\n",
    "<br></br>"
   ]
  },
  {
   "cell_type": "code",
   "execution_count": 63,
   "id": "a644dde7",
   "metadata": {
    "scrolled": true
   },
   "outputs": [
    {
     "data": {
      "text/html": [
       "<table class=\"dataframe\">\n",
       "<caption>A tibble: 10 × 5</caption>\n",
       "<thead>\n",
       "\t<tr><th scope=col>Code</th><th scope=col>New_Code</th><th scope=col>Area</th><th scope=col>Year</th><th scope=col>Rent</th></tr>\n",
       "\t<tr><th scope=col>&lt;chr&gt;</th><th scope=col>&lt;chr&gt;</th><th scope=col>&lt;chr&gt;</th><th scope=col>&lt;chr&gt;</th><th scope=col>&lt;dbl&gt;</th></tr>\n",
       "</thead>\n",
       "<tbody>\n",
       "\t<tr><td>00BK</td><td>E09000033</td><td>Westminster</td><td>2015-16</td><td>141.5145</td></tr>\n",
       "\t<tr><td>00BB</td><td>E09000025</td><td>Newham     </td><td>2015-16</td><td>141.1848</td></tr>\n",
       "\t<tr><td>00BK</td><td>E09000033</td><td>Westminster</td><td>2018-19</td><td>140.3300</td></tr>\n",
       "\t<tr><td>00BB</td><td>E09000025</td><td>Newham     </td><td>2016-17</td><td>139.8664</td></tr>\n",
       "\t<tr><td>00AQ</td><td>E09000015</td><td>Harrow     </td><td>2015-16</td><td>137.3909</td></tr>\n",
       "\t<tr><td>00AE</td><td>E09000005</td><td>Brent      </td><td>2015-16</td><td>136.1921</td></tr>\n",
       "\t<tr><td>00AG</td><td>E09000007</td><td>Camden     </td><td>2016-17</td><td>135.5722</td></tr>\n",
       "\t<tr><td>00BJ</td><td>E09000032</td><td>Wandsworth </td><td>2015-16</td><td>134.5608</td></tr>\n",
       "\t<tr><td>00BB</td><td>E09000025</td><td>Newham     </td><td>2014-15</td><td>134.5200</td></tr>\n",
       "\t<tr><td>00AG</td><td>E09000007</td><td>Camden     </td><td>2015-16</td><td>134.1779</td></tr>\n",
       "</tbody>\n",
       "</table>\n"
      ],
      "text/latex": [
       "A tibble: 10 × 5\n",
       "\\begin{tabular}{lllll}\n",
       " Code & New\\_Code & Area & Year & Rent\\\\\n",
       " <chr> & <chr> & <chr> & <chr> & <dbl>\\\\\n",
       "\\hline\n",
       "\t 00BK & E09000033 & Westminster & 2015-16 & 141.5145\\\\\n",
       "\t 00BB & E09000025 & Newham      & 2015-16 & 141.1848\\\\\n",
       "\t 00BK & E09000033 & Westminster & 2018-19 & 140.3300\\\\\n",
       "\t 00BB & E09000025 & Newham      & 2016-17 & 139.8664\\\\\n",
       "\t 00AQ & E09000015 & Harrow      & 2015-16 & 137.3909\\\\\n",
       "\t 00AE & E09000005 & Brent       & 2015-16 & 136.1921\\\\\n",
       "\t 00AG & E09000007 & Camden      & 2016-17 & 135.5722\\\\\n",
       "\t 00BJ & E09000032 & Wandsworth  & 2015-16 & 134.5608\\\\\n",
       "\t 00BB & E09000025 & Newham      & 2014-15 & 134.5200\\\\\n",
       "\t 00AG & E09000007 & Camden      & 2015-16 & 134.1779\\\\\n",
       "\\end{tabular}\n"
      ],
      "text/markdown": [
       "\n",
       "A tibble: 10 × 5\n",
       "\n",
       "| Code &lt;chr&gt; | New_Code &lt;chr&gt; | Area &lt;chr&gt; | Year &lt;chr&gt; | Rent &lt;dbl&gt; |\n",
       "|---|---|---|---|---|\n",
       "| 00BK | E09000033 | Westminster | 2015-16 | 141.5145 |\n",
       "| 00BB | E09000025 | Newham      | 2015-16 | 141.1848 |\n",
       "| 00BK | E09000033 | Westminster | 2018-19 | 140.3300 |\n",
       "| 00BB | E09000025 | Newham      | 2016-17 | 139.8664 |\n",
       "| 00AQ | E09000015 | Harrow      | 2015-16 | 137.3909 |\n",
       "| 00AE | E09000005 | Brent       | 2015-16 | 136.1921 |\n",
       "| 00AG | E09000007 | Camden      | 2016-17 | 135.5722 |\n",
       "| 00BJ | E09000032 | Wandsworth  | 2015-16 | 134.5608 |\n",
       "| 00BB | E09000025 | Newham      | 2014-15 | 134.5200 |\n",
       "| 00AG | E09000007 | Camden      | 2015-16 | 134.1779 |\n",
       "\n"
      ],
      "text/plain": [
       "   Code New_Code  Area        Year    Rent    \n",
       "1  00BK E09000033 Westminster 2015-16 141.5145\n",
       "2  00BB E09000025 Newham      2015-16 141.1848\n",
       "3  00BK E09000033 Westminster 2018-19 140.3300\n",
       "4  00BB E09000025 Newham      2016-17 139.8664\n",
       "5  00AQ E09000015 Harrow      2015-16 137.3909\n",
       "6  00AE E09000005 Brent       2015-16 136.1921\n",
       "7  00AG E09000007 Camden      2016-17 135.5722\n",
       "8  00BJ E09000032 Wandsworth  2015-16 134.5608\n",
       "9  00BB E09000025 Newham      2014-15 134.5200\n",
       "10 00AG E09000007 Camden      2015-16 134.1779"
      ]
     },
     "metadata": {},
     "output_type": "display_data"
    }
   ],
   "source": [
    "#Show top 10 highest rental areas in London from 1996-2019\n",
    "rent2 %>%\n",
    "    arrange(desc(Rent)) %>%\n",
    "    head(10)"
   ]
  },
  {
   "cell_type": "markdown",
   "id": "fc875aee",
   "metadata": {},
   "source": [
    "<br></br>\n",
    "<p>The highest rental area is Westiminster in 2015-16 that rent is 141.5GBP per week per person. Newham is the most frequent borough in the top 10 list.</p>\n",
    "<br></br>"
   ]
  },
  {
   "cell_type": "code",
   "execution_count": 64,
   "id": "417c823b",
   "metadata": {},
   "outputs": [
    {
     "name": "stderr",
     "output_type": "stream",
     "text": [
      "Warning message:\n",
      "\"package 'gridExtra' is in use and will not be installed\"\n"
     ]
    },
    {
     "data": {
      "image/png": "[encoded data removed]",
      "text/plain": [
       "plot without title"
      ]
     },
     "metadata": {
      "image/png": {
       "height": 420,
       "width": 420
      }
     },
     "output_type": "display_data"
    }
   ],
   "source": [
    "#Show top 10 highest rental areas in London in the most recent 5 years(2014-2019)\n",
    "p2<-rent2 %>%\n",
    "        filter(Year == \"2014-15\" ) %>%\n",
    "        arrange(desc(Rent)) %>%\n",
    "        slice(1:10) %>%\n",
    "        ggplot(aes(x=reorder(Area,-Rent),y=Rent)) + geom_bar(fill=\"#16A085\",stat=\"identity\") + theme(axis.text.x=element_text(angle=90,vjust=0.5,hjust=1,size=11)) + labs(x=\"Area\",y=\"Rent\") + ggtitle(\"2014-15\") + theme(plot.title=element_text(hjust=0.5,size=13))\n",
    "p3<-rent2 %>%\n",
    "        filter(Year == \"2015-16\" ) %>%\n",
    "        arrange(desc(Rent)) %>%\n",
    "        slice(1:10) %>%\n",
    "        ggplot(aes(x=reorder(Area,-Rent),y=Rent)) + geom_bar(fill=\"#16A085\",stat=\"identity\") + theme(axis.text.x=element_text(angle=90,vjust=0.5,hjust=1,size=11)) + labs(x=\"Area\",y=\"Rent\") + ggtitle(\"2015-16\") + theme(plot.title=element_text(hjust=0.5,size=13))\n",
    "p4<-rent2 %>%\n",
    "        filter(Year == \"2016-17\" ) %>%\n",
    "        arrange(desc(Rent)) %>%\n",
    "        slice(1:10) %>%\n",
    "        ggplot(aes(x=reorder(Area,-Rent),y=Rent)) + geom_bar(fill=\"#16A085\",stat=\"identity\") + theme(axis.text.x=element_text(angle=90,vjust=0.5,hjust=1,size=11)) + labs(x=\"Area\",y=\"Rent\") + ggtitle(\"2016-17\") + theme(plot.title=element_text(hjust=0.5,size=13))\n",
    "p5<-rent2 %>%\n",
    "        filter(Year == \"2017-18\" ) %>%\n",
    "        arrange(desc(Rent)) %>%\n",
    "        slice(1:10) %>%\n",
    "        ggplot(aes(x=reorder(Area,-Rent),y=Rent)) + geom_bar(fill=\"#16A085\",stat=\"identity\") + theme(axis.text.x=element_text(angle=90,vjust=0.5,hjust=1,size=11)) + labs(x=\"Area\",y=\"Rent\") + ggtitle(\"2017-18\") + theme(plot.title=element_text(hjust=0.5,size=13))\n",
    "p6<-rent2 %>%\n",
    "        filter(Year == \"2018-19\" ) %>%\n",
    "        arrange(desc(Rent)) %>%\n",
    "        slice(1:10) %>%\n",
    "        ggplot(aes(x=reorder(Area,-Rent),y=Rent)) + geom_bar(fill=\"#16A085\",stat=\"identity\") + theme(axis.text.x=element_text(angle=90,vjust=0.5,hjust=1,size=11)) + labs(x=\"Area\",y=\"Rent\") + ggtitle(\"2018-19\") + theme(plot.title=element_text(hjust=0.5,size=13))\n",
    "\n",
    "#Installation of packages\n",
    "install.packages(\"gridExtra\")\n",
    "library(gridExtra)\n",
    "\n",
    "#Multiple plots on the same page\n",
    "grid.arrange(p2,p3,p4,p5,p6, nrow = 2, top = \"Bar Chart of Top 10 Highest Rental Areas in London in\")"
   ]
  },
  {
   "cell_type": "markdown",
   "id": "6cbf39f6",
   "metadata": {},
   "source": [
    "<br></br>\n",
    "<p>Camden, Harrow, Kingston upon Thames, Westminster, Wandsworth and Barnet are in the top 10 highest renta area in London from 2014-2019. Ealing always is in the top 10 list starting from 2015.</p>\n",
    "<br></br>"
   ]
  },
  {
   "cell_type": "code",
   "execution_count": 65,
   "id": "2eaf7313",
   "metadata": {},
   "outputs": [
    {
     "data": {
      "image/png": "[encoded data removed]",
      "text/plain": [
       "plot without title"
      ]
     },
     "metadata": {
      "image/png": {
       "height": 420,
       "width": 420
      }
     },
     "output_type": "display_data"
    }
   ],
   "source": [
    "#Show top 10 lowest rental areas in London in the most recent 5 years(2014-2019)\n",
    "p7<-rent2 %>%\n",
    "        filter(Year == \"2014-15\" ) %>%\n",
    "        arrange(Rent) %>%\n",
    "        slice(1:10) %>%\n",
    "        ggplot(aes(x=reorder(Area,Rent),y=Rent)) + geom_bar(fill=\"#16A085\",stat=\"identity\") + theme(axis.text.x=element_text(angle=90,vjust=0.5,hjust=1,size=11)) + labs(x=\"Area\",y=\"Rent\") + ggtitle(\"2014-15\") + theme(plot.title=element_text(hjust=0.5,size=13))\n",
    "p8<-rent2 %>%\n",
    "        filter(Year == \"2015-16\" ) %>%\n",
    "        arrange(Rent) %>%\n",
    "        slice(1:10) %>%\n",
    "        ggplot(aes(x=reorder(Area,Rent),y=Rent)) + geom_bar(fill=\"#16A085\",stat=\"identity\") + theme(axis.text.x=element_text(angle=90,vjust=0.5,hjust=1,size=11)) + labs(x=\"Area\",y=\"Rent\") + ggtitle(\"2015-16\") + theme(plot.title=element_text(hjust=0.5,size=13))\n",
    "p9<-rent2 %>%\n",
    "        filter(Year == \"2016-17\" ) %>%\n",
    "        arrange(Rent) %>%\n",
    "        slice(1:10) %>%\n",
    "        ggplot(aes(x=reorder(Area,Rent),y=Rent)) + geom_bar(fill=\"#16A085\",stat=\"identity\") + theme(axis.text.x=element_text(angle=90,vjust=0.5,hjust=1,size=11)) + labs(x=\"Area\",y=\"Rent\") + ggtitle(\"2016-17\") + theme(plot.title=element_text(hjust=0.5,size=13))\n",
    "p10<-rent2 %>%\n",
    "        filter(Year == \"2017-18\" ) %>%\n",
    "        arrange(Rent) %>%\n",
    "        slice(1:10) %>%\n",
    "        ggplot(aes(x=reorder(Area,Rent),y=Rent)) + geom_bar(fill=\"#16A085\",stat=\"identity\") + theme(axis.text.x=element_text(angle=90,vjust=0.5,hjust=1,size=11)) + labs(x=\"Area\",y=\"Rent\") + ggtitle(\"2017-18\") + theme(plot.title=element_text(hjust=0.5,size=13))\n",
    "p11<-rent2 %>%\n",
    "        filter(Year == \"2018-19\" ) %>%\n",
    "        arrange(Rent) %>%\n",
    "        slice(1:10) %>%\n",
    "        ggplot(aes(x=reorder(Area,Rent),y=Rent)) + geom_bar(fill=\"#16A085\",stat=\"identity\") + theme(axis.text.x=element_text(angle=90,vjust=0.5,hjust=1,size=11)) + labs(x=\"Area\",y=\"Rent\") + ggtitle(\"2018-19\") + theme(plot.title=element_text(hjust=0.5,size=13))\n",
    "\n",
    "#Multiple plots on the same page\n",
    "grid.arrange(p7,p8,p9,p10,p11, nrow = 2, top = \"Bar Chart of Top 10 Lowest Rental Areas in London in\")"
   ]
  },
  {
   "cell_type": "markdown",
   "id": "f71d6b73",
   "metadata": {},
   "source": [
    "<br></br>\n",
    "<p>Lewisham, Bexley, Merton, Bromley, Lambeth, Havering, Sutton are in the top 10 lowest renta area in London from 2014-2019. Waltham Forest always is in the top 10 list starting from 2015.</p>\n",
    "<br></br>"
   ]
  },
  {
   "cell_type": "markdown",
   "id": "629dcbc5",
   "metadata": {},
   "source": [
    "### Job Opportunity"
   ]
  },
  {
   "cell_type": "code",
   "execution_count": 66,
   "id": "466cd07d",
   "metadata": {},
   "outputs": [
    {
     "data": {
      "image/png": "[encoded data removed]",
      "text/plain": [
       "plot without title"
      ]
     },
     "metadata": {
      "image/png": {
       "height": 420,
       "width": 420
      }
     },
     "output_type": "display_data"
    }
   ],
   "source": [
    "#Line plot to show the trend of job density in London\n",
    "p12<-ggplot(jobs1,aes(x = Year, y = Jobs_Density, group = Area, color = Area)) +\n",
    "    geom_line() +\n",
    "    theme(axis.text.x = element_text(angle = 90, hjust = 1), legend.position = \"none\") +\n",
    "    ggtitle(\"A Line Chart of Job Density in London\") +\n",
    "    theme(plot.title=element_text(hjust=0.5,size=13)) +\n",
    "    scale_x_continuous(labels=as.character(jobs1$Year),breaks=jobs1$Year)\n",
    "p12"
   ]
  },
  {
   "cell_type": "markdown",
   "id": "0f50b7ed",
   "metadata": {},
   "source": [
    "<br></br>\n",
    "<p>From 2000 to 2019, the job density of all places in London was increasing.</p>\n",
    "<br></br>"
   ]
  },
  {
   "cell_type": "code",
   "execution_count": 69,
   "id": "eeefc2ea",
   "metadata": {},
   "outputs": [
    {
     "data": {
      "text/html": [
       "<table class=\"dataframe\">\n",
       "<caption>A tibble: 10 × 6</caption>\n",
       "<thead>\n",
       "\t<tr><th scope=col>Area</th><th scope=col>Jobs_Density_2019</th><th scope=col>Code</th><th scope=col>Number_of_Jobs</th><th scope=col>Jobs_Density_2000</th><th scope=col>Percentage_Change</th></tr>\n",
       "\t<tr><th scope=col>&lt;chr&gt;</th><th scope=col>&lt;dbl&gt;</th><th scope=col>&lt;chr&gt;</th><th scope=col>&lt;dbl&gt;</th><th scope=col>&lt;dbl&gt;</th><th scope=col>&lt;dbl&gt;</th></tr>\n",
       "</thead>\n",
       "<tbody>\n",
       "\t<tr><td>City of London        </td><td>102.32</td><td>E09000001</td><td>361000</td><td>67.10</td><td>52.488823</td></tr>\n",
       "\t<tr><td>Southwark             </td><td>  1.38</td><td>E09000028</td><td>182000</td><td> 1.05</td><td>31.428571</td></tr>\n",
       "\t<tr><td>Tower Hamlets         </td><td>  1.43</td><td>E09000030</td><td>152000</td><td> 1.15</td><td>24.347826</td></tr>\n",
       "\t<tr><td>Hammersmith and Fulham</td><td>  1.22</td><td>E09000013</td><td>120000</td><td> 1.00</td><td>22.000000</td></tr>\n",
       "\t<tr><td>Kensington and Chelsea</td><td>  1.54</td><td>E09000020</td><td>147000</td><td> 1.31</td><td>17.557252</td></tr>\n",
       "\t<tr><td>Richmond upon Thames  </td><td>  0.82</td><td>E09000027</td><td> 82000</td><td> 0.70</td><td>17.142857</td></tr>\n",
       "\t<tr><td>Ealing                </td><td>  0.71</td><td>E09000009</td><td>134000</td><td> 0.64</td><td>10.937500</td></tr>\n",
       "\t<tr><td>Merton                </td><td>  0.73</td><td>E09000024</td><td> 84000</td><td> 0.66</td><td>10.606061</td></tr>\n",
       "\t<tr><td>Bexley                </td><td>  0.59</td><td>E09000004</td><td> 76000</td><td> 0.55</td><td> 7.272727</td></tr>\n",
       "\t<tr><td>Newham                </td><td>  0.53</td><td>E09000025</td><td> 79000</td><td> 0.50</td><td> 6.000000</td></tr>\n",
       "</tbody>\n",
       "</table>\n"
      ],
      "text/latex": [
       "A tibble: 10 × 6\n",
       "\\begin{tabular}{llllll}\n",
       " Area & Jobs\\_Density\\_2019 & Code & Number\\_of\\_Jobs & Jobs\\_Density\\_2000 & Percentage\\_Change\\\\\n",
       " <chr> & <dbl> & <chr> & <dbl> & <dbl> & <dbl>\\\\\n",
       "\\hline\n",
       "\t City of London         & 102.32 & E09000001 & 361000 & 67.10 & 52.488823\\\\\n",
       "\t Southwark              &   1.38 & E09000028 & 182000 &  1.05 & 31.428571\\\\\n",
       "\t Tower Hamlets          &   1.43 & E09000030 & 152000 &  1.15 & 24.347826\\\\\n",
       "\t Hammersmith and Fulham &   1.22 & E09000013 & 120000 &  1.00 & 22.000000\\\\\n",
       "\t Kensington and Chelsea &   1.54 & E09000020 & 147000 &  1.31 & 17.557252\\\\\n",
       "\t Richmond upon Thames   &   0.82 & E09000027 &  82000 &  0.70 & 17.142857\\\\\n",
       "\t Ealing                 &   0.71 & E09000009 & 134000 &  0.64 & 10.937500\\\\\n",
       "\t Merton                 &   0.73 & E09000024 &  84000 &  0.66 & 10.606061\\\\\n",
       "\t Bexley                 &   0.59 & E09000004 &  76000 &  0.55 &  7.272727\\\\\n",
       "\t Newham                 &   0.53 & E09000025 &  79000 &  0.50 &  6.000000\\\\\n",
       "\\end{tabular}\n"
      ],
      "text/markdown": [
       "\n",
       "A tibble: 10 × 6\n",
       "\n",
       "| Area &lt;chr&gt; | Jobs_Density_2019 &lt;dbl&gt; | Code &lt;chr&gt; | Number_of_Jobs &lt;dbl&gt; | Jobs_Density_2000 &lt;dbl&gt; | Percentage_Change &lt;dbl&gt; |\n",
       "|---|---|---|---|---|---|\n",
       "| City of London         | 102.32 | E09000001 | 361000 | 67.10 | 52.488823 |\n",
       "| Southwark              |   1.38 | E09000028 | 182000 |  1.05 | 31.428571 |\n",
       "| Tower Hamlets          |   1.43 | E09000030 | 152000 |  1.15 | 24.347826 |\n",
       "| Hammersmith and Fulham |   1.22 | E09000013 | 120000 |  1.00 | 22.000000 |\n",
       "| Kensington and Chelsea |   1.54 | E09000020 | 147000 |  1.31 | 17.557252 |\n",
       "| Richmond upon Thames   |   0.82 | E09000027 |  82000 |  0.70 | 17.142857 |\n",
       "| Ealing                 |   0.71 | E09000009 | 134000 |  0.64 | 10.937500 |\n",
       "| Merton                 |   0.73 | E09000024 |  84000 |  0.66 | 10.606061 |\n",
       "| Bexley                 |   0.59 | E09000004 |  76000 |  0.55 |  7.272727 |\n",
       "| Newham                 |   0.53 | E09000025 |  79000 |  0.50 |  6.000000 |\n",
       "\n"
      ],
      "text/plain": [
       "   Area                   Jobs_Density_2019 Code      Number_of_Jobs\n",
       "1  City of London         102.32            E09000001 361000        \n",
       "2  Southwark                1.38            E09000028 182000        \n",
       "3  Tower Hamlets            1.43            E09000030 152000        \n",
       "4  Hammersmith and Fulham   1.22            E09000013 120000        \n",
       "5  Kensington and Chelsea   1.54            E09000020 147000        \n",
       "6  Richmond upon Thames     0.82            E09000027  82000        \n",
       "7  Ealing                   0.71            E09000009 134000        \n",
       "8  Merton                   0.73            E09000024  84000        \n",
       "9  Bexley                   0.59            E09000004  76000        \n",
       "10 Newham                   0.53            E09000025  79000        \n",
       "   Jobs_Density_2000 Percentage_Change\n",
       "1  67.10             52.488823        \n",
       "2   1.05             31.428571        \n",
       "3   1.15             24.347826        \n",
       "4   1.00             22.000000        \n",
       "5   1.31             17.557252        \n",
       "6   0.70             17.142857        \n",
       "7   0.64             10.937500        \n",
       "8   0.66             10.606061        \n",
       "9   0.55              7.272727        \n",
       "10  0.50              6.000000        "
      ]
     },
     "metadata": {},
     "output_type": "display_data"
    }
   ],
   "source": [
    "#Create a table to show top 10 largest job density percentage change areas in London\n",
    "jobs11<-jobs1 %>%\n",
    "        filter(Year == \"2000\") %>%\n",
    "        rename(Jobs_Density_2000 = Jobs_Density) %>%\n",
    "        select(-c(Year))\n",
    "jobs12<-jobs1 %>%\n",
    "        filter(Year == \"2019\") %>%\n",
    "        select(Area,Year,Jobs_Density) %>%\n",
    "        rename(Jobs_Density_2019 = Jobs_Density) %>%\n",
    "        select(-c(Year)) %>%\n",
    "        inner_join(jobs11, \"Area\") %>%\n",
    "        mutate(Percentage_Change = (Jobs_Density_2019-Jobs_Density_2000)/Jobs_Density_2000*100) %>%\n",
    "        arrange(desc(Percentage_Change))\n",
    "head(jobs12,10)"
   ]
  },
  {
   "cell_type": "markdown",
   "id": "424088e2",
   "metadata": {},
   "source": [
    "<br></br>\n",
    "<p>The largest job density percentage change is in City of London and increases more than 52%. The top 10 rent percentage changes are all over +6%.</p>\n",
    "<br></br>"
   ]
  },
  {
   "cell_type": "code",
   "execution_count": 68,
   "id": "f52c8aec",
   "metadata": {},
   "outputs": [
    {
     "data": {
      "text/html": [
       "<table class=\"dataframe\">\n",
       "<caption>A tibble: 10 × 5</caption>\n",
       "<thead>\n",
       "\t<tr><th scope=col>Code</th><th scope=col>Area</th><th scope=col>Year</th><th scope=col>Number_of_Jobs</th><th scope=col>Jobs_Density</th></tr>\n",
       "\t<tr><th scope=col>&lt;chr&gt;</th><th scope=col>&lt;chr&gt;</th><th scope=col>&lt;dbl&gt;</th><th scope=col>&lt;dbl&gt;</th><th scope=col>&lt;dbl&gt;</th></tr>\n",
       "</thead>\n",
       "<tbody>\n",
       "\t<tr><td>E09000001</td><td>City of London</td><td>2017</td><td>626000</td><td>124.78</td></tr>\n",
       "\t<tr><td>E09000001</td><td>City of London</td><td>2016</td><td>586000</td><td>121.96</td></tr>\n",
       "\t<tr><td>E09000001</td><td>City of London</td><td>2015</td><td>541000</td><td>121.73</td></tr>\n",
       "\t<tr><td>E09000001</td><td>City of London</td><td>2014</td><td>498000</td><td>121.23</td></tr>\n",
       "\t<tr><td>E09000001</td><td>City of London</td><td>2013</td><td>463000</td><td>110.98</td></tr>\n",
       "\t<tr><td>E09000001</td><td>City of London</td><td>2018</td><td>640000</td><td>110.11</td></tr>\n",
       "\t<tr><td>E09000001</td><td>City of London</td><td>2019</td><td>674000</td><td>102.32</td></tr>\n",
       "\t<tr><td>E09000001</td><td>City of London</td><td>2012</td><td>449000</td><td> 92.41</td></tr>\n",
       "\t<tr><td>E09000001</td><td>City of London</td><td>2011</td><td>436000</td><td> 75.79</td></tr>\n",
       "\t<tr><td>E09000001</td><td>City of London</td><td>2010</td><td>388000</td><td> 68.16</td></tr>\n",
       "</tbody>\n",
       "</table>\n"
      ],
      "text/latex": [
       "A tibble: 10 × 5\n",
       "\\begin{tabular}{lllll}\n",
       " Code & Area & Year & Number\\_of\\_Jobs & Jobs\\_Density\\\\\n",
       " <chr> & <chr> & <dbl> & <dbl> & <dbl>\\\\\n",
       "\\hline\n",
       "\t E09000001 & City of London & 2017 & 626000 & 124.78\\\\\n",
       "\t E09000001 & City of London & 2016 & 586000 & 121.96\\\\\n",
       "\t E09000001 & City of London & 2015 & 541000 & 121.73\\\\\n",
       "\t E09000001 & City of London & 2014 & 498000 & 121.23\\\\\n",
       "\t E09000001 & City of London & 2013 & 463000 & 110.98\\\\\n",
       "\t E09000001 & City of London & 2018 & 640000 & 110.11\\\\\n",
       "\t E09000001 & City of London & 2019 & 674000 & 102.32\\\\\n",
       "\t E09000001 & City of London & 2012 & 449000 &  92.41\\\\\n",
       "\t E09000001 & City of London & 2011 & 436000 &  75.79\\\\\n",
       "\t E09000001 & City of London & 2010 & 388000 &  68.16\\\\\n",
       "\\end{tabular}\n"
      ],
      "text/markdown": [
       "\n",
       "A tibble: 10 × 5\n",
       "\n",
       "| Code &lt;chr&gt; | Area &lt;chr&gt; | Year &lt;dbl&gt; | Number_of_Jobs &lt;dbl&gt; | Jobs_Density &lt;dbl&gt; |\n",
       "|---|---|---|---|---|\n",
       "| E09000001 | City of London | 2017 | 626000 | 124.78 |\n",
       "| E09000001 | City of London | 2016 | 586000 | 121.96 |\n",
       "| E09000001 | City of London | 2015 | 541000 | 121.73 |\n",
       "| E09000001 | City of London | 2014 | 498000 | 121.23 |\n",
       "| E09000001 | City of London | 2013 | 463000 | 110.98 |\n",
       "| E09000001 | City of London | 2018 | 640000 | 110.11 |\n",
       "| E09000001 | City of London | 2019 | 674000 | 102.32 |\n",
       "| E09000001 | City of London | 2012 | 449000 |  92.41 |\n",
       "| E09000001 | City of London | 2011 | 436000 |  75.79 |\n",
       "| E09000001 | City of London | 2010 | 388000 |  68.16 |\n",
       "\n"
      ],
      "text/plain": [
       "   Code      Area           Year Number_of_Jobs Jobs_Density\n",
       "1  E09000001 City of London 2017 626000         124.78      \n",
       "2  E09000001 City of London 2016 586000         121.96      \n",
       "3  E09000001 City of London 2015 541000         121.73      \n",
       "4  E09000001 City of London 2014 498000         121.23      \n",
       "5  E09000001 City of London 2013 463000         110.98      \n",
       "6  E09000001 City of London 2018 640000         110.11      \n",
       "7  E09000001 City of London 2019 674000         102.32      \n",
       "8  E09000001 City of London 2012 449000          92.41      \n",
       "9  E09000001 City of London 2011 436000          75.79      \n",
       "10 E09000001 City of London 2010 388000          68.16      "
      ]
     },
     "metadata": {},
     "output_type": "display_data"
    }
   ],
   "source": [
    "#Show top 10 largest job density areas in London from 2000-2019\n",
    "jobs1 %>%\n",
    "    arrange(desc(Jobs_Density)) %>%\n",
    "    head(10)"
   ]
  },
  {
   "cell_type": "markdown",
   "id": "19abd696",
   "metadata": {},
   "source": [
    "<br></br>\n",
    "<p>The highest job density area is City of London in 2017 that density is 124.78. Each person had 124.78 jobs. City of London is the most frequent borough in the top 10 list.</p>\n",
    "<br></br>"
   ]
  },
  {
   "cell_type": "code",
   "execution_count": 70,
   "id": "14d70d95",
   "metadata": {},
   "outputs": [
    {
     "data": {
      "image/png": "[encoded data removed]",
      "text/plain": [
       "plot without title"
      ]
     },
     "metadata": {
      "image/png": {
       "height": 420,
       "width": 420
      }
     },
     "output_type": "display_data"
    }
   ],
   "source": [
    "#Show top 10 highest job density areas in London in the most recent 5 years(2015-2019)\n",
    "p13<-jobs1 %>%\n",
    "        filter(Year == \"2015\" ) %>%\n",
    "        arrange(desc(Jobs_Density)) %>%\n",
    "        slice(1:10) %>%\n",
    "        ggplot(aes(x=reorder(Area,-Jobs_Density),y=Jobs_Density)) + geom_bar(fill=\"#16A085\",stat=\"identity\") + theme(axis.text.x=element_text(angle=90,vjust=0.5,hjust=1,size=11)) + labs(x=\"Area\",y=\"Jobs Density\") + ggtitle(\"2015\") + theme(plot.title=element_text(hjust=0.5,size=13))\n",
    "p14<-jobs1 %>%\n",
    "        filter(Year == \"2016\" ) %>%\n",
    "        arrange(desc(Jobs_Density)) %>%\n",
    "        slice(1:10) %>%\n",
    "        ggplot(aes(x=reorder(Area,-Jobs_Density),y=Jobs_Density)) + geom_bar(fill=\"#16A085\",stat=\"identity\") + theme(axis.text.x=element_text(angle=90,vjust=0.5,hjust=1,size=11)) + labs(x=\"Area\",y=\"Jobs Density\") + ggtitle(\"2016\") + theme(plot.title=element_text(hjust=0.5,size=13))\n",
    "p15<-jobs1 %>%\n",
    "        filter(Year == \"2017\" ) %>%\n",
    "        arrange(desc(Jobs_Density)) %>%\n",
    "        slice(1:10) %>%\n",
    "        ggplot(aes(x=reorder(Area,-Jobs_Density),y=Jobs_Density)) + geom_bar(fill=\"#16A085\",stat=\"identity\") + theme(axis.text.x=element_text(angle=90,vjust=0.5,hjust=1,size=11)) + labs(x=\"Area\",y=\"Jobs Density\") + ggtitle(\"2017\") + theme(plot.title=element_text(hjust=0.5,size=13))\n",
    "p16<-jobs1 %>%\n",
    "        filter(Year == \"2018\" ) %>%\n",
    "        arrange(desc(Jobs_Density)) %>%\n",
    "        slice(1:10) %>%\n",
    "        ggplot(aes(x=reorder(Area,-Jobs_Density),y=Jobs_Density)) + geom_bar(fill=\"#16A085\",stat=\"identity\") + theme(axis.text.x=element_text(angle=90,vjust=0.5,hjust=1,size=11)) + labs(x=\"Area\",y=\"Jobs Density\") + ggtitle(\"2018\") + theme(plot.title=element_text(hjust=0.5,size=13))\n",
    "p17<-jobs1 %>%\n",
    "        filter(Year == \"2019\" ) %>%\n",
    "        arrange(desc(Jobs_Density)) %>%\n",
    "        slice(1:10) %>%\n",
    "        ggplot(aes(x=reorder(Area,-Jobs_Density),y=Jobs_Density)) + geom_bar(fill=\"#16A085\",stat=\"identity\") + theme(axis.text.x=element_text(angle=90,vjust=0.5,hjust=1,size=11)) + labs(x=\"Area\",y=\"Jobs Density\") + ggtitle(\"2019\") + theme(plot.title=element_text(hjust=0.5,size=13))\n",
    "\n",
    "#Multiple plots on the same page\n",
    "grid.arrange(p13,p14,p15,p16,p17, nrow = 2, top = \"Bar Chart of Top 10 Highest Job Density Areas in London in\")"
   ]
  },
  {
   "cell_type": "markdown",
   "id": "a882b28b",
   "metadata": {},
   "source": [
    "<br></br>\n",
    "<p>The top 10 highest job density areas in London doesn't change from 2015 to 2019. </p>\n",
    "<br></br>"
   ]
  },
  {
   "cell_type": "code",
   "execution_count": 71,
   "id": "d45ae990",
   "metadata": {
    "scrolled": true
   },
   "outputs": [
    {
     "data": {
      "image/png": "[encoded data removed]",
      "text/plain": [
       "plot without title"
      ]
     },
     "metadata": {
      "image/png": {
       "height": 420,
       "width": 420
      }
     },
     "output_type": "display_data"
    }
   ],
   "source": [
    "#Show top 10 lowest job density areas in London in the most recent 5 years(2015-2019)\n",
    "p18<-jobs1 %>%\n",
    "        filter(Year == \"2015\" ) %>%\n",
    "        arrange(Jobs_Density) %>%\n",
    "        slice(1:10) %>%\n",
    "        ggplot(aes(x=reorder(Area,Jobs_Density),y=Jobs_Density)) + geom_bar(fill=\"#16A085\",stat=\"identity\") + theme(axis.text.x=element_text(angle=90,vjust=0.5,hjust=1,size=11)) + labs(x=\"Area\",y=\"Jobs Density\") + ggtitle(\"2015\") + theme(plot.title=element_text(hjust=0.5,size=13))\n",
    "p19<-jobs1 %>%\n",
    "        filter(Year == \"2016\" ) %>%\n",
    "        arrange(Jobs_Density) %>%\n",
    "        slice(1:10) %>%\n",
    "        ggplot(aes(x=reorder(Area,Jobs_Density),y=Jobs_Density)) + geom_bar(fill=\"#16A085\",stat=\"identity\") + theme(axis.text.x=element_text(angle=90,vjust=0.5,hjust=1,size=11)) + labs(x=\"Area\",y=\"Jobs Density\") + ggtitle(\"2016\") + theme(plot.title=element_text(hjust=0.5,size=13))\n",
    "p20<-jobs1 %>%\n",
    "        filter(Year == \"2017\" ) %>%\n",
    "        arrange(Jobs_Density) %>%\n",
    "        slice(1:10) %>%\n",
    "        ggplot(aes(x=reorder(Area,Jobs_Density),y=Jobs_Density)) + geom_bar(fill=\"#16A085\",stat=\"identity\") + theme(axis.text.x=element_text(angle=90,vjust=0.5,hjust=1,size=11)) + labs(x=\"Area\",y=\"Jobs Density\") + ggtitle(\"2017\") + theme(plot.title=element_text(hjust=0.5,size=13))\n",
    "p21<-jobs1 %>%\n",
    "        filter(Year == \"2018\" ) %>%\n",
    "        arrange(Jobs_Density) %>%\n",
    "        slice(1:10) %>%\n",
    "        ggplot(aes(x=reorder(Area,Jobs_Density),y=Jobs_Density)) + geom_bar(fill=\"#16A085\",stat=\"identity\") + theme(axis.text.x=element_text(angle=90,vjust=0.5,hjust=1,size=11)) + labs(x=\"Area\",y=\"Jobs Density\") + ggtitle(\"2018\") + theme(plot.title=element_text(hjust=0.5,size=13))\n",
    "p22<-jobs1 %>%\n",
    "        filter(Year == \"2019\" ) %>%\n",
    "        arrange(Jobs_Density) %>%\n",
    "        slice(1:10) %>%\n",
    "        ggplot(aes(x=reorder(Area,Jobs_Density),y=Jobs_Density)) + geom_bar(fill=\"#16A085\",stat=\"identity\") + theme(axis.text.x=element_text(angle=90,vjust=0.5,hjust=1,size=11)) + labs(x=\"Area\",y=\"Jobs Density\") + ggtitle(\"2019\") + theme(plot.title=element_text(hjust=0.5,size=13))\n",
    "\n",
    "#Multiple plots on the same page\n",
    "grid.arrange(p18,p19,p20,p21,p22, nrow = 2, top = \"Bar Chart of Top 10 Lowest Job Density Areas in London in\")"
   ]
  },
  {
   "cell_type": "markdown",
   "id": "eba67865",
   "metadata": {},
   "source": [
    "<br></br>\n",
    "<p>The top 10 lowest job density areas in London doesn't change from 2015 to 2019, except Croydon in 2017. </p>\n",
    "<br></br>"
   ]
  },
  {
   "cell_type": "code",
   "execution_count": 72,
   "id": "135142fb",
   "metadata": {},
   "outputs": [
    {
     "data": {
      "image/png": "[encoded data removed]",
      "text/plain": [
       "plot without title"
      ]
     },
     "metadata": {
      "image/png": {
       "height": 420,
       "width": 420
      }
     },
     "output_type": "display_data"
    }
   ],
   "source": [
    "#Show top 10 popular industry in City of London in 2019\n",
    "p23<-jobs22 %>%\n",
    "        filter(Area == \"City of London\") %>%\n",
    "        arrange(desc(Number_of_Jobs)) %>%\n",
    "        slice(1:10) %>%\n",
    "        ggplot(aes(x=reorder(Industry,-Number_of_Jobs),y=Number_of_Jobs)) + geom_bar(fill=\"#16A085\",stat=\"identity\") + theme(axis.text.x=element_text(angle=90,vjust=0.5,hjust=1,size=11)) + labs(x=\"Industry\",y=\"Number of Jobs\") + ggtitle(\"City of London\") + theme(plot.title=element_text(hjust=0.5,size=13))\n",
    "#Show top 10 popular industry in Westminster in 2019\n",
    "p24<-jobs22 %>%\n",
    "        filter(Area == \"Westminster\") %>%\n",
    "        arrange(desc(Number_of_Jobs)) %>%\n",
    "        slice(1:10) %>%\n",
    "        ggplot(aes(x=reorder(Industry,-Number_of_Jobs),y=Number_of_Jobs)) + geom_bar(fill=\"#16A085\",stat=\"identity\") + theme(axis.text.x=element_text(angle=90,vjust=0.5,hjust=1,size=11)) + labs(x=\"Industry\",y=\"Number of Jobs\") + ggtitle(\"Westminster\") + theme(plot.title=element_text(hjust=0.5,size=13))\n",
    "#Show top 10 popular industry in Camden in 2019\n",
    "p25<-jobs22 %>%\n",
    "        filter(Area == \"Camden\") %>%\n",
    "        arrange(desc(Number_of_Jobs)) %>%\n",
    "        slice(1:10) %>%\n",
    "        ggplot(aes(x=reorder(Industry,-Number_of_Jobs),y=Number_of_Jobs)) + geom_bar(fill=\"#16A085\",stat=\"identity\") + theme(axis.text.x=element_text(angle=90,vjust=0.5,hjust=1,size=11)) + labs(x=\"Industry\",y=\"Number of Jobs\") + ggtitle(\"Camden\") + theme(plot.title=element_text(hjust=0.5,size=13))\n",
    "\n",
    "#Multiple plots on the same page\n",
    "grid.arrange(p23,p24,p25, nrow = 1, top = \"Bar Chart of Top 10 Popular Industry in 2019 in\")"
   ]
  },
  {
   "cell_type": "markdown",
   "id": "941d673e",
   "metadata": {},
   "source": [
    "<br></br>\n",
    "<p>Top 3 highest job density is selected to show their popular industries, Financial & Insurance in City of London, Professional & scientific & technical in Westminste and Camden.</p>\n",
    "<br></br>"
   ]
  },
  {
   "cell_type": "markdown",
   "id": "0d8f078c",
   "metadata": {},
   "source": [
    "### Safety"
   ]
  },
  {
   "cell_type": "code",
   "execution_count": 73,
   "id": "ef0f147e",
   "metadata": {},
   "outputs": [
    {
     "data": {
      "image/png": "[encoded data removed]",
      "text/plain": [
       "plot without title"
      ]
     },
     "metadata": {
      "image/png": {
       "height": 420,
       "width": 420
      }
     },
     "output_type": "display_data"
    }
   ],
   "source": [
    "#Line plot to show the trend of crime rate in London\n",
    "safety2<-safety1 %>%\n",
    "            filter(Offences == \"All recorded offences\")\n",
    "\n",
    "p26<-ggplot(safety2,aes(x = Year, y = Rate, group = Borough, color = Borough)) +\n",
    "    geom_line() +\n",
    "    theme(axis.text.x = element_text(angle = 90, hjust = 1), legend.position = \"none\") +\n",
    "    ggtitle(\"A Line Chart of Crime Rate in London\") +\n",
    "    theme(plot.title=element_text(hjust=0.5,size=13))\n",
    "p26"
   ]
  },
  {
   "cell_type": "markdown",
   "id": "9a4d0a65",
   "metadata": {},
   "source": [
    "<br></br>\n",
    "<p>From 1999 to 2017, the crime rate of all places in London was decreasing.</p>\n",
    "<br></br>"
   ]
  },
  {
   "cell_type": "code",
   "execution_count": 74,
   "id": "312180e2",
   "metadata": {},
   "outputs": [
    {
     "data": {
      "text/html": [
       "<table class=\"dataframe\">\n",
       "<caption>A tibble: 10 × 7</caption>\n",
       "<thead>\n",
       "\t<tr><th scope=col>Borough</th><th scope=col>Rate_2017</th><th scope=col>Code</th><th scope=col>Offences</th><th scope=col>Rate_1999</th><th scope=col>Number_of_offences</th><th scope=col>Percentage_Change</th></tr>\n",
       "\t<tr><th scope=col>&lt;chr&gt;</th><th scope=col>&lt;dbl&gt;</th><th scope=col>&lt;chr&gt;</th><th scope=col>&lt;chr&gt;</th><th scope=col>&lt;dbl&gt;</th><th scope=col>&lt;dbl&gt;</th><th scope=col>&lt;dbl&gt;</th></tr>\n",
       "</thead>\n",
       "<tbody>\n",
       "\t<tr><td>Westminster  </td><td>171.3</td><td>E09000033</td><td>All recorded offences</td><td>463.0</td><td>87615</td><td>-63.00216</td></tr>\n",
       "\t<tr><td>Camden       </td><td>103.1</td><td>E09000007</td><td>All recorded offences</td><td>241.0</td><td>45800</td><td>-57.21992</td></tr>\n",
       "\t<tr><td>Islington    </td><td> 99.9</td><td>E09000019</td><td>All recorded offences</td><td>218.7</td><td>38427</td><td>-54.32099</td></tr>\n",
       "\t<tr><td>Lambeth      </td><td> 90.8</td><td>E09000022</td><td>All recorded offences</td><td>195.7</td><td>52212</td><td>-53.60245</td></tr>\n",
       "\t<tr><td>Hackney      </td><td> 91.2</td><td>E09000012</td><td>All recorded offences</td><td>195.9</td><td>39007</td><td>-53.44564</td></tr>\n",
       "\t<tr><td>Bexley       </td><td> 45.6</td><td>E09000004</td><td>All recorded offences</td><td> 95.1</td><td>20680</td><td>-52.05047</td></tr>\n",
       "\t<tr><td>Newham       </td><td> 77.1</td><td>E09000025</td><td>All recorded offences</td><td>159.4</td><td>38335</td><td>-51.63112</td></tr>\n",
       "\t<tr><td>Tower Hamlets</td><td> 85.3</td><td>E09000030</td><td>All recorded offences</td><td>176.1</td><td>34071</td><td>-51.56161</td></tr>\n",
       "\t<tr><td>Wandsworth   </td><td> 65.8</td><td>E09000032</td><td>All recorded offences</td><td>134.5</td><td>35527</td><td>-51.07807</td></tr>\n",
       "\t<tr><td>Hounslow     </td><td> 71.3</td><td>E09000018</td><td>All recorded offences</td><td>144.8</td><td>31032</td><td>-50.75967</td></tr>\n",
       "</tbody>\n",
       "</table>\n"
      ],
      "text/latex": [
       "A tibble: 10 × 7\n",
       "\\begin{tabular}{lllllll}\n",
       " Borough & Rate\\_2017 & Code & Offences & Rate\\_1999 & Number\\_of\\_offences & Percentage\\_Change\\\\\n",
       " <chr> & <dbl> & <chr> & <chr> & <dbl> & <dbl> & <dbl>\\\\\n",
       "\\hline\n",
       "\t Westminster   & 171.3 & E09000033 & All recorded offences & 463.0 & 87615 & -63.00216\\\\\n",
       "\t Camden        & 103.1 & E09000007 & All recorded offences & 241.0 & 45800 & -57.21992\\\\\n",
       "\t Islington     &  99.9 & E09000019 & All recorded offences & 218.7 & 38427 & -54.32099\\\\\n",
       "\t Lambeth       &  90.8 & E09000022 & All recorded offences & 195.7 & 52212 & -53.60245\\\\\n",
       "\t Hackney       &  91.2 & E09000012 & All recorded offences & 195.9 & 39007 & -53.44564\\\\\n",
       "\t Bexley        &  45.6 & E09000004 & All recorded offences &  95.1 & 20680 & -52.05047\\\\\n",
       "\t Newham        &  77.1 & E09000025 & All recorded offences & 159.4 & 38335 & -51.63112\\\\\n",
       "\t Tower Hamlets &  85.3 & E09000030 & All recorded offences & 176.1 & 34071 & -51.56161\\\\\n",
       "\t Wandsworth    &  65.8 & E09000032 & All recorded offences & 134.5 & 35527 & -51.07807\\\\\n",
       "\t Hounslow      &  71.3 & E09000018 & All recorded offences & 144.8 & 31032 & -50.75967\\\\\n",
       "\\end{tabular}\n"
      ],
      "text/markdown": [
       "\n",
       "A tibble: 10 × 7\n",
       "\n",
       "| Borough &lt;chr&gt; | Rate_2017 &lt;dbl&gt; | Code &lt;chr&gt; | Offences &lt;chr&gt; | Rate_1999 &lt;dbl&gt; | Number_of_offences &lt;dbl&gt; | Percentage_Change &lt;dbl&gt; |\n",
       "|---|---|---|---|---|---|---|\n",
       "| Westminster   | 171.3 | E09000033 | All recorded offences | 463.0 | 87615 | -63.00216 |\n",
       "| Camden        | 103.1 | E09000007 | All recorded offences | 241.0 | 45800 | -57.21992 |\n",
       "| Islington     |  99.9 | E09000019 | All recorded offences | 218.7 | 38427 | -54.32099 |\n",
       "| Lambeth       |  90.8 | E09000022 | All recorded offences | 195.7 | 52212 | -53.60245 |\n",
       "| Hackney       |  91.2 | E09000012 | All recorded offences | 195.9 | 39007 | -53.44564 |\n",
       "| Bexley        |  45.6 | E09000004 | All recorded offences |  95.1 | 20680 | -52.05047 |\n",
       "| Newham        |  77.1 | E09000025 | All recorded offences | 159.4 | 38335 | -51.63112 |\n",
       "| Tower Hamlets |  85.3 | E09000030 | All recorded offences | 176.1 | 34071 | -51.56161 |\n",
       "| Wandsworth    |  65.8 | E09000032 | All recorded offences | 134.5 | 35527 | -51.07807 |\n",
       "| Hounslow      |  71.3 | E09000018 | All recorded offences | 144.8 | 31032 | -50.75967 |\n",
       "\n"
      ],
      "text/plain": [
       "   Borough       Rate_2017 Code      Offences              Rate_1999\n",
       "1  Westminster   171.3     E09000033 All recorded offences 463.0    \n",
       "2  Camden        103.1     E09000007 All recorded offences 241.0    \n",
       "3  Islington      99.9     E09000019 All recorded offences 218.7    \n",
       "4  Lambeth        90.8     E09000022 All recorded offences 195.7    \n",
       "5  Hackney        91.2     E09000012 All recorded offences 195.9    \n",
       "6  Bexley         45.6     E09000004 All recorded offences  95.1    \n",
       "7  Newham         77.1     E09000025 All recorded offences 159.4    \n",
       "8  Tower Hamlets  85.3     E09000030 All recorded offences 176.1    \n",
       "9  Wandsworth     65.8     E09000032 All recorded offences 134.5    \n",
       "10 Hounslow       71.3     E09000018 All recorded offences 144.8    \n",
       "   Number_of_offences Percentage_Change\n",
       "1  87615              -63.00216        \n",
       "2  45800              -57.21992        \n",
       "3  38427              -54.32099        \n",
       "4  52212              -53.60245        \n",
       "5  39007              -53.44564        \n",
       "6  20680              -52.05047        \n",
       "7  38335              -51.63112        \n",
       "8  34071              -51.56161        \n",
       "9  35527              -51.07807        \n",
       "10 31032              -50.75967        "
      ]
     },
     "metadata": {},
     "output_type": "display_data"
    }
   ],
   "source": [
    "#Create a table to show top 10 highest crime rate percentage change areas in London\n",
    "safety3<-safety2 %>%\n",
    "        filter(Year == \"1999-00\") %>%\n",
    "        rename(Rate_1999 = Rate) %>%\n",
    "        select(-c(Year))\n",
    "safety4<-safety2 %>%\n",
    "        filter(Year == \"2016-17\") %>%\n",
    "        select(Borough,Year,Rate) %>%\n",
    "        rename(Rate_2017 = Rate) %>%\n",
    "        select(-c(Year)) %>%\n",
    "        inner_join(safety3, \"Borough\") %>%\n",
    "        mutate(Percentage_Change = (Rate_2017-Rate_1999)/Rate_1999*100) %>%\n",
    "        arrange(Percentage_Change)\n",
    "head(safety4,10)"
   ]
  },
  {
   "cell_type": "markdown",
   "id": "b7482e00",
   "metadata": {},
   "source": [
    "<br></br>\n",
    "<p>The largest crime rate percentage change is in Westminster and decreases more than 63%. The top 10 rent percentage changes are all over -50%.</p>\n",
    "<br></br>"
   ]
  },
  {
   "cell_type": "code",
   "execution_count": 75,
   "id": "c33b70f1",
   "metadata": {},
   "outputs": [
    {
     "data": {
      "text/html": [
       "<table class=\"dataframe\">\n",
       "<caption>A tibble: 10 × 6</caption>\n",
       "<thead>\n",
       "\t<tr><th scope=col>Code</th><th scope=col>Borough</th><th scope=col>Year</th><th scope=col>Offences</th><th scope=col>Rate</th><th scope=col>Number_of_offences</th></tr>\n",
       "\t<tr><th scope=col>&lt;chr&gt;</th><th scope=col>&lt;chr&gt;</th><th scope=col>&lt;chr&gt;</th><th scope=col>&lt;chr&gt;</th><th scope=col>&lt;dbl&gt;</th><th scope=col>&lt;dbl&gt;</th></tr>\n",
       "</thead>\n",
       "<tbody>\n",
       "\t<tr><td>E09000033</td><td>Westminster</td><td>1999-00</td><td>All recorded offences</td><td>463.0</td><td>87615</td></tr>\n",
       "\t<tr><td>E09000033</td><td>Westminster</td><td>2000-01</td><td>All recorded offences</td><td>424.4</td><td>83379</td></tr>\n",
       "\t<tr><td>E09000033</td><td>Westminster</td><td>2001-02</td><td>All recorded offences</td><td>424.3</td><td>86270</td></tr>\n",
       "\t<tr><td>E09000033</td><td>Westminster</td><td>2002-03</td><td>All recorded offences</td><td>414.0</td><td>86151</td></tr>\n",
       "\t<tr><td>E09000033</td><td>Westminster</td><td>2003-04</td><td>All recorded offences</td><td>375.8</td><td>79296</td></tr>\n",
       "\t<tr><td>E09000033</td><td>Westminster</td><td>2004-05</td><td>All recorded offences</td><td>369.8</td><td>79338</td></tr>\n",
       "\t<tr><td>E09000033</td><td>Westminster</td><td>2005-06</td><td>All recorded offences</td><td>320.8</td><td>71582</td></tr>\n",
       "\t<tr><td>E09000033</td><td>Westminster</td><td>2011-12</td><td>All recorded offences</td><td>302.0</td><td>66315</td></tr>\n",
       "\t<tr><td>E09000033</td><td>Westminster</td><td>2006-07</td><td>All recorded offences</td><td>297.4</td><td>66267</td></tr>\n",
       "\t<tr><td>E09000033</td><td>Westminster</td><td>2009-10</td><td>All recorded offences</td><td>295.1</td><td>64022</td></tr>\n",
       "</tbody>\n",
       "</table>\n"
      ],
      "text/latex": [
       "A tibble: 10 × 6\n",
       "\\begin{tabular}{llllll}\n",
       " Code & Borough & Year & Offences & Rate & Number\\_of\\_offences\\\\\n",
       " <chr> & <chr> & <chr> & <chr> & <dbl> & <dbl>\\\\\n",
       "\\hline\n",
       "\t E09000033 & Westminster & 1999-00 & All recorded offences & 463.0 & 87615\\\\\n",
       "\t E09000033 & Westminster & 2000-01 & All recorded offences & 424.4 & 83379\\\\\n",
       "\t E09000033 & Westminster & 2001-02 & All recorded offences & 424.3 & 86270\\\\\n",
       "\t E09000033 & Westminster & 2002-03 & All recorded offences & 414.0 & 86151\\\\\n",
       "\t E09000033 & Westminster & 2003-04 & All recorded offences & 375.8 & 79296\\\\\n",
       "\t E09000033 & Westminster & 2004-05 & All recorded offences & 369.8 & 79338\\\\\n",
       "\t E09000033 & Westminster & 2005-06 & All recorded offences & 320.8 & 71582\\\\\n",
       "\t E09000033 & Westminster & 2011-12 & All recorded offences & 302.0 & 66315\\\\\n",
       "\t E09000033 & Westminster & 2006-07 & All recorded offences & 297.4 & 66267\\\\\n",
       "\t E09000033 & Westminster & 2009-10 & All recorded offences & 295.1 & 64022\\\\\n",
       "\\end{tabular}\n"
      ],
      "text/markdown": [
       "\n",
       "A tibble: 10 × 6\n",
       "\n",
       "| Code &lt;chr&gt; | Borough &lt;chr&gt; | Year &lt;chr&gt; | Offences &lt;chr&gt; | Rate &lt;dbl&gt; | Number_of_offences &lt;dbl&gt; |\n",
       "|---|---|---|---|---|---|\n",
       "| E09000033 | Westminster | 1999-00 | All recorded offences | 463.0 | 87615 |\n",
       "| E09000033 | Westminster | 2000-01 | All recorded offences | 424.4 | 83379 |\n",
       "| E09000033 | Westminster | 2001-02 | All recorded offences | 424.3 | 86270 |\n",
       "| E09000033 | Westminster | 2002-03 | All recorded offences | 414.0 | 86151 |\n",
       "| E09000033 | Westminster | 2003-04 | All recorded offences | 375.8 | 79296 |\n",
       "| E09000033 | Westminster | 2004-05 | All recorded offences | 369.8 | 79338 |\n",
       "| E09000033 | Westminster | 2005-06 | All recorded offences | 320.8 | 71582 |\n",
       "| E09000033 | Westminster | 2011-12 | All recorded offences | 302.0 | 66315 |\n",
       "| E09000033 | Westminster | 2006-07 | All recorded offences | 297.4 | 66267 |\n",
       "| E09000033 | Westminster | 2009-10 | All recorded offences | 295.1 | 64022 |\n",
       "\n"
      ],
      "text/plain": [
       "   Code      Borough     Year    Offences              Rate  Number_of_offences\n",
       "1  E09000033 Westminster 1999-00 All recorded offences 463.0 87615             \n",
       "2  E09000033 Westminster 2000-01 All recorded offences 424.4 83379             \n",
       "3  E09000033 Westminster 2001-02 All recorded offences 424.3 86270             \n",
       "4  E09000033 Westminster 2002-03 All recorded offences 414.0 86151             \n",
       "5  E09000033 Westminster 2003-04 All recorded offences 375.8 79296             \n",
       "6  E09000033 Westminster 2004-05 All recorded offences 369.8 79338             \n",
       "7  E09000033 Westminster 2005-06 All recorded offences 320.8 71582             \n",
       "8  E09000033 Westminster 2011-12 All recorded offences 302.0 66315             \n",
       "9  E09000033 Westminster 2006-07 All recorded offences 297.4 66267             \n",
       "10 E09000033 Westminster 2009-10 All recorded offences 295.1 64022             "
      ]
     },
     "metadata": {},
     "output_type": "display_data"
    }
   ],
   "source": [
    "#Show top 10 highest crime rate areas in London from 1999-2017\n",
    "safety2 %>%\n",
    "    arrange(desc(Rate)) %>%\n",
    "    head(10)"
   ]
  },
  {
   "cell_type": "markdown",
   "id": "70f5d8c4",
   "metadata": {},
   "source": [
    "<br></br>\n",
    "<p>The highest crime rate area is Westminster in 1999-2000 that rate is 463. Westminster is the most frequent borough in the top 10 list.</p>\n",
    "<br></br>"
   ]
  },
  {
   "cell_type": "code",
   "execution_count": 76,
   "id": "a6664100",
   "metadata": {},
   "outputs": [
    {
     "data": {
      "image/png": "[encoded data removed]",
      "text/plain": [
       "plot without title"
      ]
     },
     "metadata": {
      "image/png": {
       "height": 420,
       "width": 420
      }
     },
     "output_type": "display_data"
    }
   ],
   "source": [
    "#Show top 10 highest crime rate areas in London in the most recent 5 years(2013-2017)\n",
    "p27<-safety2 %>%\n",
    "        filter(Year == \"2012-13\" ) %>%\n",
    "        arrange(desc(Rate)) %>%\n",
    "        slice(1:10) %>%\n",
    "        ggplot(aes(x=reorder(Borough,-Rate),y=Rate)) + geom_bar(fill=\"#16A085\",stat=\"identity\") + theme(axis.text.x=element_text(angle=90,vjust=0.5,hjust=1,size=11)) + labs(x=\"Area\",y=\"Rate\") + ggtitle(\"2012-13\") + theme(plot.title=element_text(hjust=0.5,size=13))\n",
    "p28<-safety2  %>%\n",
    "        filter(Year == \"2013-14\" ) %>%\n",
    "        arrange(desc(Rate)) %>%\n",
    "        slice(1:10) %>%\n",
    "        ggplot(aes(x=reorder(Borough,-Rate),y=Rate)) + geom_bar(fill=\"#16A085\",stat=\"identity\") + theme(axis.text.x=element_text(angle=90,vjust=0.5,hjust=1,size=11)) + labs(x=\"Area\",y=\"Rate\") + ggtitle(\"2013-14\") + theme(plot.title=element_text(hjust=0.5,size=13))\n",
    "p29<-safety2  %>%\n",
    "        filter(Year == \"2014-15\" ) %>%\n",
    "        arrange(desc(Rate)) %>%\n",
    "        slice(1:10) %>%\n",
    "        ggplot(aes(x=reorder(Borough,-Rate),y=Rate)) + geom_bar(fill=\"#16A085\",stat=\"identity\") + theme(axis.text.x=element_text(angle=90,vjust=0.5,hjust=1,size=11)) + labs(x=\"Area\",y=\"Rate\") + ggtitle(\"2014-15\") + theme(plot.title=element_text(hjust=0.5,size=13))\n",
    "p30<-safety2 %>%\n",
    "        filter(Year == \"2015-16\" ) %>%\n",
    "        arrange(desc(Rate)) %>%\n",
    "        slice(1:10) %>%\n",
    "        ggplot(aes(x=reorder(Borough,-Rate),y=Rate)) + geom_bar(fill=\"#16A085\",stat=\"identity\") + theme(axis.text.x=element_text(angle=90,vjust=0.5,hjust=1,size=11)) + labs(x=\"Area\",y=\"Rate\") + ggtitle(\"2015-16\") + theme(plot.title=element_text(hjust=0.5,size=13))\n",
    "p31<-safety2  %>%\n",
    "        filter(Year == \"2016-17\" ) %>%\n",
    "        arrange(desc(Rate)) %>%\n",
    "        slice(1:10) %>%\n",
    "        ggplot(aes(x=reorder(Borough,-Rate),y=Rate)) + geom_bar(fill=\"#16A085\",stat=\"identity\") + theme(axis.text.x=element_text(angle=90,vjust=0.5,hjust=1,size=11)) + labs(x=\"Area\",y=\"Rate\") + ggtitle(\"2016-17\") + theme(plot.title=element_text(hjust=0.5,size=13))\n",
    "\n",
    "#Multiple plots on the same page\n",
    "grid.arrange(p27,p28,p29,p30,p31, nrow = 2, top = \"Bar Chart of Top 10 Highest Crime Rate Areas in London in\")"
   ]
  },
  {
   "cell_type": "markdown",
   "id": "6c02661c",
   "metadata": {},
   "source": [
    "<br></br>\n",
    "<p>The top 10 highest crime rate areas in London doesn't change from 2012 to 2017, except Newham in 2015-2017.</p>\n",
    "<br></br>"
   ]
  },
  {
   "cell_type": "code",
   "execution_count": 77,
   "id": "23321fa5",
   "metadata": {
    "scrolled": false
   },
   "outputs": [
    {
     "data": {
      "image/png": "[encoded data removed]",
      "text/plain": [
       "plot without title"
      ]
     },
     "metadata": {
      "image/png": {
       "height": 420,
       "width": 420
      }
     },
     "output_type": "display_data"
    }
   ],
   "source": [
    "#Show top 10 lowest crime rate areas in London in the most recent 5 years(2013-2017)\n",
    "p32<-safety2 %>%\n",
    "        filter(Year == \"2012-13\" ) %>%\n",
    "        arrange(Rate) %>%\n",
    "        slice(1:10) %>%\n",
    "        ggplot(aes(x=reorder(Borough,Rate),y=Rate)) + geom_bar(fill=\"#16A085\",stat=\"identity\") + theme(axis.text.x=element_text(angle=90,vjust=0.5,hjust=1,size=11)) + labs(x=\"Area\",y=\"Rate\") + ggtitle(\"2012-13\") + theme(plot.title=element_text(hjust=0.5,size=13))\n",
    "p33<-safety2  %>%\n",
    "        filter(Year == \"2013-14\" ) %>%\n",
    "        arrange(Rate) %>%\n",
    "        slice(1:10) %>%\n",
    "        ggplot(aes(x=reorder(Borough,Rate),y=Rate)) + geom_bar(fill=\"#16A085\",stat=\"identity\") + theme(axis.text.x=element_text(angle=90,vjust=0.5,hjust=1,size=11)) + labs(x=\"Area\",y=\"Rate\") + ggtitle(\"2013-14\") + theme(plot.title=element_text(hjust=0.5,size=13))\n",
    "p34<-safety2  %>%\n",
    "        filter(Year == \"2014-15\" ) %>%\n",
    "        arrange(Rate) %>%\n",
    "        slice(1:10) %>%\n",
    "        ggplot(aes(x=reorder(Borough,Rate),y=Rate)) + geom_bar(fill=\"#16A085\",stat=\"identity\") + theme(axis.text.x=element_text(angle=90,vjust=0.5,hjust=1,size=11)) + labs(x=\"Area\",y=\"Rate\") + ggtitle(\"2014-15\") + theme(plot.title=element_text(hjust=0.5,size=13))\n",
    "p35<-safety2 %>%\n",
    "        filter(Year == \"2015-16\" ) %>%\n",
    "        arrange(Rate) %>%\n",
    "        slice(1:10) %>%\n",
    "        ggplot(aes(x=reorder(Borough,Rate),y=Rate)) + geom_bar(fill=\"#16A085\",stat=\"identity\") + theme(axis.text.x=element_text(angle=90,vjust=0.5,hjust=1,size=11)) + labs(x=\"Area\",y=\"Rate\") + ggtitle(\"2015-16\") + theme(plot.title=element_text(hjust=0.5,size=13))\n",
    "p36<-safety2  %>%\n",
    "        filter(Year == \"2016-17\" ) %>%\n",
    "        arrange(Rate) %>%\n",
    "        slice(1:10) %>%\n",
    "        ggplot(aes(x=reorder(Borough,Rate),y=Rate)) + geom_bar(fill=\"#16A085\",stat=\"identity\") + theme(axis.text.x=element_text(angle=90,vjust=0.5,hjust=1,size=11)) + labs(x=\"Area\",y=\"Rate\") + ggtitle(\"2016-17\") + theme(plot.title=element_text(hjust=0.5,size=13))\n",
    "\n",
    "#Multiple plots on the same page\n",
    "grid.arrange(p32,p33,p34,p35,p36, nrow = 2, top = \"Bar Chart of Top 10 Lowest Crime Rate Areas in London in\")"
   ]
  },
  {
   "cell_type": "markdown",
   "id": "440064f9",
   "metadata": {},
   "source": [
    "<br></br>\n",
    "<p>The top 10 lowest crime rate areas in London doesn't change from 2012 to 2017, except Hillingdon in 2013 to 2014 and Redbridge in 2015 to 2017. </p>\n",
    "<br></br>"
   ]
  },
  {
   "cell_type": "code",
   "execution_count": 78,
   "id": "e4a7f439",
   "metadata": {},
   "outputs": [
    {
     "data": {
      "image/png": "[encoded data removed]",
      "text/plain": [
       "plot without title"
      ]
     },
     "metadata": {
      "image/png": {
       "height": 420,
       "width": 420
      }
     },
     "output_type": "display_data"
    }
   ],
   "source": [
    "#Show top 10 most common offences in Westminster in 2016-17\n",
    "p37<-safety1 %>%\n",
    "        filter(Borough == \"Westminster\" & Year == \"2016-17\" & Offences!= \"All recorded offences\") %>%\n",
    "        arrange(desc(Rate)) %>%\n",
    "        slice(1:10) %>%\n",
    "        ggplot(aes(x=reorder(Offences,-Rate),y=Rate)) + geom_bar(fill=\"#16A085\",stat=\"identity\") + theme(axis.text.x=element_text(angle=90,vjust=0.5,hjust=1,size=11)) + labs(x=\"Type of Offences\",y=\"Rate\") + ggtitle(\"Westminster\") + theme(plot.title=element_text(hjust=0.5,size=13))\n",
    "#Show top 10 most common offences in Camden in 2016-17\n",
    "p38<-safety1 %>%\n",
    "        filter(Borough == \"Camden\" & Year == \"2016-17\"& Offences!= \"All recorded offences\") %>%\n",
    "        arrange(desc(Rate)) %>%\n",
    "        slice(1:10) %>%\n",
    "        ggplot(aes(x=reorder(Offences,-Rate),y=Rate)) + geom_bar(fill=\"#16A085\",stat=\"identity\") + theme(axis.text.x=element_text(angle=90,vjust=0.5,hjust=1,size=11)) + labs(x=\"Type of Offences\",y=\"Rate\") + ggtitle(\"Camden\") + theme(plot.title=element_text(hjust=0.5,size=13))\n",
    "#Show top 10 most common offences in Kensington and Chelsea in 2016-17\n",
    "p39<-safety1 %>%\n",
    "        filter(Borough == \"Kensington and Chelsea\" & Year == \"2016-17\"& Offences!= \"All recorded offences\") %>%\n",
    "        arrange(desc(Rate)) %>%\n",
    "        slice(1:10) %>%\n",
    "        ggplot(aes(x=reorder(Offences,-Rate),y=Rate)) + geom_bar(fill=\"#16A085\",stat=\"identity\") + theme(axis.text.x=element_text(angle=90,vjust=0.5,hjust=1,size=11)) + labs(x=\"Type of Offences\",y=\"Rate\") + ggtitle(\"Kensington and Chelsea\") + theme(plot.title=element_text(hjust=0.5,size=13))\n",
    "\n",
    "#Multiple plots on the same page\n",
    "grid.arrange(p37,p38,p39, nrow = 1, top = \"Bar Chart of Top 10 Most Common Offences in 2016-17 in\")"
   ]
  },
  {
   "cell_type": "markdown",
   "id": "f26e989e",
   "metadata": {},
   "source": [
    "<br></br>\n",
    "<p>Top 3 highest crime rate is selected to show their common offences. Theft and handling is the most common offence in these areas.</p>\n",
    "<br></br>"
   ]
  },
  {
   "cell_type": "markdown",
   "id": "958967b8",
   "metadata": {},
   "source": [
    "### Well-being"
   ]
  },
  {
   "cell_type": "code",
   "execution_count": 79,
   "id": "5a88509c",
   "metadata": {},
   "outputs": [
    {
     "name": "stderr",
     "output_type": "stream",
     "text": [
      "Warning message:\n",
      "\"Removed 8 row(s) containing missing values (geom_path).\"\n"
     ]
    },
    {
     "data": {
      "image/png": "[encoded data removed]",
      "text/plain": [
       "plot without title"
      ]
     },
     "metadata": {
      "image/png": {
       "height": 420,
       "width": 420
      }
     },
     "output_type": "display_data"
    }
   ],
   "source": [
    "#Line plot to show the trend of life satisfaction in London\n",
    "p40<-ggplot(wellbeing3,aes(x = Year, y = Life_Satisfaction_Mean_Scores, group = Area, color = Area)) +\n",
    "    geom_line() +\n",
    "    theme(axis.text.x = element_text(angle = 90, hjust = 1), legend.position = \"none\") +\n",
    "    ggtitle(\"A Line Chart of Life Satisfaction Mean Scores in London\") +\n",
    "    theme(plot.title=element_text(hjust=0.5,size=13))\n",
    "p40"
   ]
  },
  {
   "cell_type": "markdown",
   "id": "955aeadd",
   "metadata": {},
   "source": [
    "<br></br>\n",
    "<p>From 2011 to 2019, no clear trend of the life satisfaction mean scores of all places in London can be shown.</p>\n",
    "<br></br>"
   ]
  },
  {
   "cell_type": "code",
   "execution_count": 80,
   "id": "2aa09aad",
   "metadata": {},
   "outputs": [
    {
     "data": {
      "text/html": [
       "<table class=\"dataframe\">\n",
       "<caption>A tibble: 10 × 5</caption>\n",
       "<thead>\n",
       "\t<tr><th scope=col>Area</th><th scope=col>Life_Satisfaction_Mean_Scores_2019</th><th scope=col>Code</th><th scope=col>Life_Satisfaction_Mean_Scores_2011</th><th scope=col>Percentage_Change</th></tr>\n",
       "\t<tr><th scope=col>&lt;chr&gt;</th><th scope=col>&lt;dbl&gt;</th><th scope=col>&lt;chr&gt;</th><th scope=col>&lt;dbl&gt;</th><th scope=col>&lt;dbl&gt;</th></tr>\n",
       "</thead>\n",
       "<tbody>\n",
       "\t<tr><td>Kensington and Chelsea</td><td>7.23</td><td>E09000020</td><td>7.57</td><td>-4.4914135</td></tr>\n",
       "\t<tr><td>Southwark             </td><td>7.34</td><td>E09000028</td><td>7.36</td><td>-0.2717391</td></tr>\n",
       "\t<tr><td>Bromley               </td><td>7.57</td><td>E09000006</td><td>7.50</td><td> 0.9333333</td></tr>\n",
       "\t<tr><td>Lambeth               </td><td>7.22</td><td>E09000022</td><td>7.13</td><td> 1.2622721</td></tr>\n",
       "\t<tr><td>Barnet                </td><td>7.55</td><td>E09000003</td><td>7.43</td><td> 1.6150740</td></tr>\n",
       "\t<tr><td>Bexley                </td><td>7.54</td><td>E09000004</td><td>7.42</td><td> 1.6172507</td></tr>\n",
       "\t<tr><td>Enfield               </td><td>7.37</td><td>E09000010</td><td>7.23</td><td> 1.9363762</td></tr>\n",
       "\t<tr><td>Richmond upon Thames  </td><td>7.70</td><td>E09000027</td><td>7.52</td><td> 2.3936170</td></tr>\n",
       "\t<tr><td>Wandsworth            </td><td>7.65</td><td>E09000032</td><td>7.46</td><td> 2.5469169</td></tr>\n",
       "\t<tr><td>Redbridge             </td><td>7.54</td><td>E09000026</td><td>7.33</td><td> 2.8649386</td></tr>\n",
       "</tbody>\n",
       "</table>\n"
      ],
      "text/latex": [
       "A tibble: 10 × 5\n",
       "\\begin{tabular}{lllll}\n",
       " Area & Life\\_Satisfaction\\_Mean\\_Scores\\_2019 & Code & Life\\_Satisfaction\\_Mean\\_Scores\\_2011 & Percentage\\_Change\\\\\n",
       " <chr> & <dbl> & <chr> & <dbl> & <dbl>\\\\\n",
       "\\hline\n",
       "\t Kensington and Chelsea & 7.23 & E09000020 & 7.57 & -4.4914135\\\\\n",
       "\t Southwark              & 7.34 & E09000028 & 7.36 & -0.2717391\\\\\n",
       "\t Bromley                & 7.57 & E09000006 & 7.50 &  0.9333333\\\\\n",
       "\t Lambeth                & 7.22 & E09000022 & 7.13 &  1.2622721\\\\\n",
       "\t Barnet                 & 7.55 & E09000003 & 7.43 &  1.6150740\\\\\n",
       "\t Bexley                 & 7.54 & E09000004 & 7.42 &  1.6172507\\\\\n",
       "\t Enfield                & 7.37 & E09000010 & 7.23 &  1.9363762\\\\\n",
       "\t Richmond upon Thames   & 7.70 & E09000027 & 7.52 &  2.3936170\\\\\n",
       "\t Wandsworth             & 7.65 & E09000032 & 7.46 &  2.5469169\\\\\n",
       "\t Redbridge              & 7.54 & E09000026 & 7.33 &  2.8649386\\\\\n",
       "\\end{tabular}\n"
      ],
      "text/markdown": [
       "\n",
       "A tibble: 10 × 5\n",
       "\n",
       "| Area &lt;chr&gt; | Life_Satisfaction_Mean_Scores_2019 &lt;dbl&gt; | Code &lt;chr&gt; | Life_Satisfaction_Mean_Scores_2011 &lt;dbl&gt; | Percentage_Change &lt;dbl&gt; |\n",
       "|---|---|---|---|---|\n",
       "| Kensington and Chelsea | 7.23 | E09000020 | 7.57 | -4.4914135 |\n",
       "| Southwark              | 7.34 | E09000028 | 7.36 | -0.2717391 |\n",
       "| Bromley                | 7.57 | E09000006 | 7.50 |  0.9333333 |\n",
       "| Lambeth                | 7.22 | E09000022 | 7.13 |  1.2622721 |\n",
       "| Barnet                 | 7.55 | E09000003 | 7.43 |  1.6150740 |\n",
       "| Bexley                 | 7.54 | E09000004 | 7.42 |  1.6172507 |\n",
       "| Enfield                | 7.37 | E09000010 | 7.23 |  1.9363762 |\n",
       "| Richmond upon Thames   | 7.70 | E09000027 | 7.52 |  2.3936170 |\n",
       "| Wandsworth             | 7.65 | E09000032 | 7.46 |  2.5469169 |\n",
       "| Redbridge              | 7.54 | E09000026 | 7.33 |  2.8649386 |\n",
       "\n"
      ],
      "text/plain": [
       "   Area                   Life_Satisfaction_Mean_Scores_2019 Code     \n",
       "1  Kensington and Chelsea 7.23                               E09000020\n",
       "2  Southwark              7.34                               E09000028\n",
       "3  Bromley                7.57                               E09000006\n",
       "4  Lambeth                7.22                               E09000022\n",
       "5  Barnet                 7.55                               E09000003\n",
       "6  Bexley                 7.54                               E09000004\n",
       "7  Enfield                7.37                               E09000010\n",
       "8  Richmond upon Thames   7.70                               E09000027\n",
       "9  Wandsworth             7.65                               E09000032\n",
       "10 Redbridge              7.54                               E09000026\n",
       "   Life_Satisfaction_Mean_Scores_2011 Percentage_Change\n",
       "1  7.57                               -4.4914135       \n",
       "2  7.36                               -0.2717391       \n",
       "3  7.50                                0.9333333       \n",
       "4  7.13                                1.2622721       \n",
       "5  7.43                                1.6150740       \n",
       "6  7.42                                1.6172507       \n",
       "7  7.23                                1.9363762       \n",
       "8  7.52                                2.3936170       \n",
       "9  7.46                                2.5469169       \n",
       "10 7.33                                2.8649386       "
      ]
     },
     "metadata": {},
     "output_type": "display_data"
    }
   ],
   "source": [
    "#Create a table to show top 10 highest life satisfaction mean scores percentage change areas in London\n",
    "wellbeing4<-wellbeing3 %>%\n",
    "        filter(Year == \"2011-12\") %>%\n",
    "        rename(Life_Satisfaction_Mean_Scores_2011 = Life_Satisfaction_Mean_Scores) %>%\n",
    "        select(-c(Year))\n",
    "wellbeing5<-wellbeing3 %>%\n",
    "        filter(Year == \"2018-19\") %>%\n",
    "        select(Area,Year,Life_Satisfaction_Mean_Scores) %>%\n",
    "        rename(Life_Satisfaction_Mean_Scores_2019 = Life_Satisfaction_Mean_Scores) %>%\n",
    "        select(-c(Year)) %>%\n",
    "        inner_join(wellbeing4, \"Area\") %>%\n",
    "        mutate(Percentage_Change = (Life_Satisfaction_Mean_Scores_2019-Life_Satisfaction_Mean_Scores_2011)/Life_Satisfaction_Mean_Scores_2011*100) %>%\n",
    "        arrange(Percentage_Change)\n",
    "head(wellbeing5,10)"
   ]
  },
  {
   "cell_type": "markdown",
   "id": "bbcc7d2c",
   "metadata": {},
   "source": [
    "<br></br>\n",
    "<p>The largest rent percentage change is in Kensington and Chelsea and decreases more than 4%.</p>\n",
    "<br></br>"
   ]
  },
  {
   "cell_type": "code",
   "execution_count": 81,
   "id": "f6e5e466",
   "metadata": {},
   "outputs": [
    {
     "data": {
      "text/html": [
       "<table class=\"dataframe\">\n",
       "<caption>A tibble: 10 × 4</caption>\n",
       "<thead>\n",
       "\t<tr><th scope=col>Code</th><th scope=col>Area</th><th scope=col>Year</th><th scope=col>Life_Satisfaction_Mean_Scores</th></tr>\n",
       "\t<tr><th scope=col>&lt;chr&gt;</th><th scope=col>&lt;chr&gt;</th><th scope=col>&lt;chr&gt;</th><th scope=col>&lt;dbl&gt;</th></tr>\n",
       "</thead>\n",
       "<tbody>\n",
       "\t<tr><td>E09000018</td><td>Hounslow              </td><td>2016-17</td><td>7.96</td></tr>\n",
       "\t<tr><td>E09000029</td><td>Sutton                </td><td>2017-18</td><td>7.91</td></tr>\n",
       "\t<tr><td>E09000029</td><td>Sutton                </td><td>2018-19</td><td>7.88</td></tr>\n",
       "\t<tr><td>E09000026</td><td>Redbridge             </td><td>2015-16</td><td>7.87</td></tr>\n",
       "\t<tr><td>E09000018</td><td>Hounslow              </td><td>2018-19</td><td>7.85</td></tr>\n",
       "\t<tr><td>E09000024</td><td>Merton                </td><td>2018-19</td><td>7.84</td></tr>\n",
       "\t<tr><td>E09000030</td><td>Tower Hamlets         </td><td>2018-19</td><td>7.82</td></tr>\n",
       "\t<tr><td>E09000005</td><td>Brent                 </td><td>2017-18</td><td>7.79</td></tr>\n",
       "\t<tr><td>E09000015</td><td>Harrow                </td><td>2017-18</td><td>7.79</td></tr>\n",
       "\t<tr><td>E09000020</td><td>Kensington and Chelsea</td><td>2015-16</td><td>7.78</td></tr>\n",
       "</tbody>\n",
       "</table>\n"
      ],
      "text/latex": [
       "A tibble: 10 × 4\n",
       "\\begin{tabular}{llll}\n",
       " Code & Area & Year & Life\\_Satisfaction\\_Mean\\_Scores\\\\\n",
       " <chr> & <chr> & <chr> & <dbl>\\\\\n",
       "\\hline\n",
       "\t E09000018 & Hounslow               & 2016-17 & 7.96\\\\\n",
       "\t E09000029 & Sutton                 & 2017-18 & 7.91\\\\\n",
       "\t E09000029 & Sutton                 & 2018-19 & 7.88\\\\\n",
       "\t E09000026 & Redbridge              & 2015-16 & 7.87\\\\\n",
       "\t E09000018 & Hounslow               & 2018-19 & 7.85\\\\\n",
       "\t E09000024 & Merton                 & 2018-19 & 7.84\\\\\n",
       "\t E09000030 & Tower Hamlets          & 2018-19 & 7.82\\\\\n",
       "\t E09000005 & Brent                  & 2017-18 & 7.79\\\\\n",
       "\t E09000015 & Harrow                 & 2017-18 & 7.79\\\\\n",
       "\t E09000020 & Kensington and Chelsea & 2015-16 & 7.78\\\\\n",
       "\\end{tabular}\n"
      ],
      "text/markdown": [
       "\n",
       "A tibble: 10 × 4\n",
       "\n",
       "| Code &lt;chr&gt; | Area &lt;chr&gt; | Year &lt;chr&gt; | Life_Satisfaction_Mean_Scores &lt;dbl&gt; |\n",
       "|---|---|---|---|\n",
       "| E09000018 | Hounslow               | 2016-17 | 7.96 |\n",
       "| E09000029 | Sutton                 | 2017-18 | 7.91 |\n",
       "| E09000029 | Sutton                 | 2018-19 | 7.88 |\n",
       "| E09000026 | Redbridge              | 2015-16 | 7.87 |\n",
       "| E09000018 | Hounslow               | 2018-19 | 7.85 |\n",
       "| E09000024 | Merton                 | 2018-19 | 7.84 |\n",
       "| E09000030 | Tower Hamlets          | 2018-19 | 7.82 |\n",
       "| E09000005 | Brent                  | 2017-18 | 7.79 |\n",
       "| E09000015 | Harrow                 | 2017-18 | 7.79 |\n",
       "| E09000020 | Kensington and Chelsea | 2015-16 | 7.78 |\n",
       "\n"
      ],
      "text/plain": [
       "   Code      Area                   Year    Life_Satisfaction_Mean_Scores\n",
       "1  E09000018 Hounslow               2016-17 7.96                         \n",
       "2  E09000029 Sutton                 2017-18 7.91                         \n",
       "3  E09000029 Sutton                 2018-19 7.88                         \n",
       "4  E09000026 Redbridge              2015-16 7.87                         \n",
       "5  E09000018 Hounslow               2018-19 7.85                         \n",
       "6  E09000024 Merton                 2018-19 7.84                         \n",
       "7  E09000030 Tower Hamlets          2018-19 7.82                         \n",
       "8  E09000005 Brent                  2017-18 7.79                         \n",
       "9  E09000015 Harrow                 2017-18 7.79                         \n",
       "10 E09000020 Kensington and Chelsea 2015-16 7.78                         "
      ]
     },
     "metadata": {},
     "output_type": "display_data"
    }
   ],
   "source": [
    "#Show top 10 highest life satisfaction mean scores areas in London from 2011-2019\n",
    "wellbeing3 %>%\n",
    "    arrange(desc(Life_Satisfaction_Mean_Scores)) %>%\n",
    "    head(10)"
   ]
  },
  {
   "cell_type": "markdown",
   "id": "658052b2",
   "metadata": {},
   "source": [
    "<br></br>\n",
    "<p>The highest scores area is CHounslow in 2016-2017 that density is 7.96. Hounslow and Sutton are the most frequent borough in the top 10 list.</p>\n",
    "<br></br>"
   ]
  },
  {
   "cell_type": "code",
   "execution_count": 82,
   "id": "c780837b",
   "metadata": {},
   "outputs": [
    {
     "data": {
      "image/png": "[encoded data removed]",
      "text/plain": [
       "plot without title"
      ]
     },
     "metadata": {
      "image/png": {
       "height": 420,
       "width": 420
      }
     },
     "output_type": "display_data"
    }
   ],
   "source": [
    "#Show top 10 highest life satisfaction mean scores areas in London in the most recent 5 years(2014-2019)\n",
    "p41<-wellbeing3 %>%\n",
    "        filter(Year == \"2014-15\" ) %>%\n",
    "        arrange(desc(Life_Satisfaction_Mean_Scores)) %>%\n",
    "        slice(1:10) %>%\n",
    "        ggplot(aes(x=reorder(Area,-Life_Satisfaction_Mean_Scores),y=Life_Satisfaction_Mean_Scores)) + geom_bar(fill=\"#16A085\",stat=\"identity\") + theme(axis.text.x=element_text(angle=90,vjust=0.5,hjust=1,size=11)) + labs(x=\"Area\",y=\"Life Satisfaction Mean Scores\") + ggtitle(\"2014-15\") + theme(plot.title=element_text(hjust=0.5,size=13))\n",
    "p42<-wellbeing3  %>%\n",
    "        filter(Year == \"2015-16\" ) %>%\n",
    "        arrange(desc(Life_Satisfaction_Mean_Scores)) %>%\n",
    "        slice(1:10) %>%\n",
    "        ggplot(aes(x=reorder(Area,-Life_Satisfaction_Mean_Scores),y=Life_Satisfaction_Mean_Scores)) + geom_bar(fill=\"#16A085\",stat=\"identity\") + theme(axis.text.x=element_text(angle=90,vjust=0.5,hjust=1,size=11)) + labs(x=\"Area\",y=\"Life Satisfaction Mean Scores\") + ggtitle(\"2015-16\") + theme(plot.title=element_text(hjust=0.5,size=13))\n",
    "p43<-wellbeing3  %>%\n",
    "        filter(Year == \"2016-17\" ) %>%\n",
    "        arrange(desc(Life_Satisfaction_Mean_Scores)) %>%\n",
    "        slice(1:10) %>%\n",
    "        ggplot(aes(x=reorder(Area,-Life_Satisfaction_Mean_Scores),y=Life_Satisfaction_Mean_Scores)) + geom_bar(fill=\"#16A085\",stat=\"identity\") + theme(axis.text.x=element_text(angle=90,vjust=0.5,hjust=1,size=11)) + labs(x=\"Area\",y=\"Life Satisfaction Mean Scores\") + ggtitle(\"2016-17\") + theme(plot.title=element_text(hjust=0.5,size=13))\n",
    "p44<-wellbeing3 %>%\n",
    "        filter(Year == \"2017-18\" ) %>%\n",
    "        arrange(desc(Life_Satisfaction_Mean_Scores)) %>%\n",
    "        slice(1:10) %>%\n",
    "        ggplot(aes(x=reorder(Area,-Life_Satisfaction_Mean_Scores),y=Life_Satisfaction_Mean_Scores)) + geom_bar(fill=\"#16A085\",stat=\"identity\") + theme(axis.text.x=element_text(angle=90,vjust=0.5,hjust=1,size=11)) + labs(x=\"Area\",y=\"Life Satisfaction Mean Scores\") + ggtitle(\"2017-18\") + theme(plot.title=element_text(hjust=0.5,size=13))\n",
    "p45<-wellbeing3  %>%\n",
    "        filter(Year == \"2018-19\" ) %>%\n",
    "        arrange(desc(Life_Satisfaction_Mean_Scores)) %>%\n",
    "        slice(1:10) %>%\n",
    "        ggplot(aes(x=reorder(Area,-Life_Satisfaction_Mean_Scores),y=Life_Satisfaction_Mean_Scores)) + geom_bar(fill=\"#16A085\",stat=\"identity\") + theme(axis.text.x=element_text(angle=90,vjust=0.5,hjust=1,size=11)) + labs(x=\"Area\",y=\"Life Satisfaction Mean Scores\") + ggtitle(\"2018-19\") + theme(plot.title=element_text(hjust=0.5,size=13))\n",
    "\n",
    "#Multiple plots on the same page\n",
    "grid.arrange(p41,p42,p43,p44,p45, nrow = 2, top = \"Bar Chart of Top 10 Highest Life Satisfaction Mean Scores Areas in London in\")"
   ]
  },
  {
   "cell_type": "markdown",
   "id": "6e43398e",
   "metadata": {},
   "source": [
    "<br></br>\n",
    "<p>Sutton and Richmond upon Thames are the most common areas in the top 10 highest scores area in London from 2014-2019.</p>\n",
    "<br></br>"
   ]
  },
  {
   "cell_type": "code",
   "execution_count": 83,
   "id": "ea85dec4",
   "metadata": {},
   "outputs": [
    {
     "data": {
      "image/png": "[encoded data removed]",
      "text/plain": [
       "plot without title"
      ]
     },
     "metadata": {
      "image/png": {
       "height": 420,
       "width": 420
      }
     },
     "output_type": "display_data"
    }
   ],
   "source": [
    "#Show top 10 lowest life satisfaction mean scores areas in London in the most recent 5 years(2014-2019)\n",
    "p46<-wellbeing3 %>%\n",
    "        filter(Year == \"2014-15\" ) %>%\n",
    "        arrange(Life_Satisfaction_Mean_Scores) %>%\n",
    "        slice(1:10) %>%\n",
    "        ggplot(aes(x=reorder(Area,Life_Satisfaction_Mean_Scores),y=Life_Satisfaction_Mean_Scores)) + geom_bar(fill=\"#16A085\",stat=\"identity\") + theme(axis.text.x=element_text(angle=90,vjust=0.5,hjust=1,size=11)) + labs(x=\"Area\",y=\"Life Satisfaction Mean Scores\") + ggtitle(\"2014-15\") + theme(plot.title=element_text(hjust=0.5,size=13))\n",
    "p47<-wellbeing3  %>%\n",
    "        filter(Year == \"2015-16\" ) %>%\n",
    "        arrange(Life_Satisfaction_Mean_Scores) %>%\n",
    "        slice(1:10) %>%\n",
    "        ggplot(aes(x=reorder(Area,Life_Satisfaction_Mean_Scores),y=Life_Satisfaction_Mean_Scores)) + geom_bar(fill=\"#16A085\",stat=\"identity\") + theme(axis.text.x=element_text(angle=90,vjust=0.5,hjust=1,size=11)) + labs(x=\"Area\",y=\"Life Satisfaction Mean Scores\") + ggtitle(\"2015-16\") + theme(plot.title=element_text(hjust=0.5,size=13))\n",
    "p48<-wellbeing3  %>%\n",
    "        filter(Year == \"2016-17\" ) %>%\n",
    "        arrange(Life_Satisfaction_Mean_Scores) %>%\n",
    "        slice(1:10) %>%\n",
    "        ggplot(aes(x=reorder(Area,Life_Satisfaction_Mean_Scores),y=Life_Satisfaction_Mean_Scores)) + geom_bar(fill=\"#16A085\",stat=\"identity\") + theme(axis.text.x=element_text(angle=90,vjust=0.5,hjust=1,size=11)) + labs(x=\"Area\",y=\"Life Satisfaction Mean Scores\") + ggtitle(\"2016-17\") + theme(plot.title=element_text(hjust=0.5,size=13))\n",
    "p49<-wellbeing3 %>%\n",
    "        filter(Year == \"2017-18\" ) %>%\n",
    "        arrange(Life_Satisfaction_Mean_Scores) %>%\n",
    "        slice(1:10) %>%\n",
    "        ggplot(aes(x=reorder(Area,Life_Satisfaction_Mean_Scores),y=Life_Satisfaction_Mean_Scores)) + geom_bar(fill=\"#16A085\",stat=\"identity\") + theme(axis.text.x=element_text(angle=90,vjust=0.5,hjust=1,size=11)) + labs(x=\"Area\",y=\"Life Satisfaction Mean Scores\") + ggtitle(\"2017-18\") + theme(plot.title=element_text(hjust=0.5,size=13))\n",
    "p50<-wellbeing3  %>%\n",
    "        filter(Year == \"2018-19\" ) %>%\n",
    "        arrange(Life_Satisfaction_Mean_Scores) %>%\n",
    "        slice(1:10) %>%\n",
    "        ggplot(aes(x=reorder(Area,Life_Satisfaction_Mean_Scores),y=Life_Satisfaction_Mean_Scores)) + geom_bar(fill=\"#16A085\",stat=\"identity\") + theme(axis.text.x=element_text(angle=90,vjust=0.5,hjust=1,size=11)) + labs(x=\"Area\",y=\"Life Satisfaction Mean Scores\") + ggtitle(\"2018-19\") + theme(plot.title=element_text(hjust=0.5,size=13))\n",
    "\n",
    "#Multiple plots on the same page\n",
    "grid.arrange(p46,p47,p48,p49,p50, nrow = 2, top = \"Bar Chart of Top 10 Lowest Life Satisfaction Mean Scores Areas in London in\")"
   ]
  },
  {
   "cell_type": "markdown",
   "id": "090754c0",
   "metadata": {},
   "source": [
    "<br></br>\n",
    "<p>Camden, Lewisham and Islington are the most common areas in the top 10 lowest scores area in London from 2014-2019.</p>\n",
    "<br></br>"
   ]
  },
  {
   "cell_type": "code",
   "execution_count": 91,
   "id": "87b77c7a",
   "metadata": {},
   "outputs": [
    {
     "data": {
      "text/html": [
       "<table class=\"dataframe\">\n",
       "<caption>A tibble: 33 × 5</caption>\n",
       "<thead>\n",
       "\t<tr><th scope=col>Area</th><th scope=col>Life_Satisfaction_Mean_Scores</th><th scope=col>Crime_Rate</th><th scope=col>Jobs_Density</th><th scope=col>Rent</th></tr>\n",
       "\t<tr><th scope=col>&lt;chr&gt;</th><th scope=col>&lt;dbl&gt;</th><th scope=col>&lt;dbl&gt;</th><th scope=col>&lt;dbl&gt;</th><th scope=col>&lt;dbl&gt;</th></tr>\n",
       "</thead>\n",
       "<tbody>\n",
       "\t<tr><td>City of London        </td><td>  NA</td><td>  0.0</td><td>124.78</td><td>126.8300</td></tr>\n",
       "\t<tr><td>Barking and Dagenham  </td><td>7.66</td><td> 70.9</td><td>  0.49</td><td>118.5148</td></tr>\n",
       "\t<tr><td>Barnet                </td><td>7.63</td><td> 55.8</td><td>  0.70</td><td>127.6829</td></tr>\n",
       "\t<tr><td>Bexley                </td><td>7.42</td><td> 45.6</td><td>  0.59</td><td>110.7533</td></tr>\n",
       "\t<tr><td>Brent                 </td><td>7.79</td><td> 70.8</td><td>  0.71</td><td>125.6015</td></tr>\n",
       "\t<tr><td>Bromley               </td><td>7.31</td><td> 52.7</td><td>  0.65</td><td>115.7219</td></tr>\n",
       "\t<tr><td>Camden                </td><td>7.31</td><td>103.1</td><td>  2.23</td><td>133.5236</td></tr>\n",
       "\t<tr><td>Croydon               </td><td>7.49</td><td> 67.4</td><td>  0.63</td><td>123.3930</td></tr>\n",
       "\t<tr><td>Ealing                </td><td>7.55</td><td> 69.0</td><td>  0.74</td><td>126.9215</td></tr>\n",
       "\t<tr><td>Enfield               </td><td>7.34</td><td> 58.5</td><td>  0.59</td><td>122.2039</td></tr>\n",
       "\t<tr><td>Greenwich             </td><td>7.47</td><td> 71.6</td><td>  0.53</td><td>119.2549</td></tr>\n",
       "\t<tr><td>Hackney               </td><td>7.34</td><td> 91.2</td><td>  0.70</td><td>120.0111</td></tr>\n",
       "\t<tr><td>Hammersmith and Fulham</td><td>7.34</td><td> 98.1</td><td>  1.21</td><td>128.6807</td></tr>\n",
       "\t<tr><td>Haringey              </td><td>7.60</td><td> 85.8</td><td>  0.49</td><td>118.0898</td></tr>\n",
       "\t<tr><td>Harrow                </td><td>7.79</td><td> 45.5</td><td>  0.61</td><td>130.9131</td></tr>\n",
       "\t<tr><td>Havering              </td><td>7.58</td><td> 58.1</td><td>  0.65</td><td>118.0929</td></tr>\n",
       "\t<tr><td>Hillingdon            </td><td>7.55</td><td> 63.5</td><td>  1.10</td><td>124.1279</td></tr>\n",
       "\t<tr><td>Hounslow              </td><td>7.34</td><td> 71.3</td><td>  1.04</td><td>124.3491</td></tr>\n",
       "\t<tr><td>Islington             </td><td>7.38</td><td> 99.9</td><td>  1.40</td><td>124.9860</td></tr>\n",
       "\t<tr><td>Kensington and Chelsea</td><td>7.31</td><td>109.8</td><td>  1.56</td><td>126.9225</td></tr>\n",
       "\t<tr><td>Kingston upon Thames  </td><td>7.60</td><td> 49.6</td><td>  0.86</td><td>130.6143</td></tr>\n",
       "\t<tr><td>Lambeth               </td><td>7.42</td><td> 90.8</td><td>  0.78</td><td>117.7786</td></tr>\n",
       "\t<tr><td>Lewisham              </td><td>7.31</td><td> 68.4</td><td>  0.42</td><td>109.9122</td></tr>\n",
       "\t<tr><td>Merton                </td><td>7.55</td><td> 53.5</td><td>  0.76</td><td>113.6937</td></tr>\n",
       "\t<tr><td>Newham                </td><td>7.47</td><td> 77.1</td><td>  0.51</td><td>119.3796</td></tr>\n",
       "\t<tr><td>Redbridge             </td><td>7.55</td><td> 56.7</td><td>  0.50</td><td>124.7279</td></tr>\n",
       "\t<tr><td>Richmond upon Thames  </td><td>7.73</td><td> 49.9</td><td>  0.85</td><td>122.6827</td></tr>\n",
       "\t<tr><td>Southwark             </td><td>7.47</td><td> 87.9</td><td>  1.38</td><td>122.3278</td></tr>\n",
       "\t<tr><td>Sutton                </td><td>7.91</td><td> 45.0</td><td>  0.66</td><td>117.5219</td></tr>\n",
       "\t<tr><td>Tower Hamlets         </td><td>7.51</td><td> 85.3</td><td>  1.40</td><td>124.9250</td></tr>\n",
       "\t<tr><td>Waltham Forest        </td><td>7.73</td><td> 64.9</td><td>  0.47</td><td>116.7353</td></tr>\n",
       "\t<tr><td>Wandsworth            </td><td>7.64</td><td> 65.8</td><td>  0.64</td><td>128.3816</td></tr>\n",
       "\t<tr><td>Westminster           </td><td>7.57</td><td>171.3</td><td>  4.33</td><td>130.4612</td></tr>\n",
       "</tbody>\n",
       "</table>\n"
      ],
      "text/latex": [
       "A tibble: 33 × 5\n",
       "\\begin{tabular}{lllll}\n",
       " Area & Life\\_Satisfaction\\_Mean\\_Scores & Crime\\_Rate & Jobs\\_Density & Rent\\\\\n",
       " <chr> & <dbl> & <dbl> & <dbl> & <dbl>\\\\\n",
       "\\hline\n",
       "\t City of London         &   NA &   0.0 & 124.78 & 126.8300\\\\\n",
       "\t Barking and Dagenham   & 7.66 &  70.9 &   0.49 & 118.5148\\\\\n",
       "\t Barnet                 & 7.63 &  55.8 &   0.70 & 127.6829\\\\\n",
       "\t Bexley                 & 7.42 &  45.6 &   0.59 & 110.7533\\\\\n",
       "\t Brent                  & 7.79 &  70.8 &   0.71 & 125.6015\\\\\n",
       "\t Bromley                & 7.31 &  52.7 &   0.65 & 115.7219\\\\\n",
       "\t Camden                 & 7.31 & 103.1 &   2.23 & 133.5236\\\\\n",
       "\t Croydon                & 7.49 &  67.4 &   0.63 & 123.3930\\\\\n",
       "\t Ealing                 & 7.55 &  69.0 &   0.74 & 126.9215\\\\\n",
       "\t Enfield                & 7.34 &  58.5 &   0.59 & 122.2039\\\\\n",
       "\t Greenwich              & 7.47 &  71.6 &   0.53 & 119.2549\\\\\n",
       "\t Hackney                & 7.34 &  91.2 &   0.70 & 120.0111\\\\\n",
       "\t Hammersmith and Fulham & 7.34 &  98.1 &   1.21 & 128.6807\\\\\n",
       "\t Haringey               & 7.60 &  85.8 &   0.49 & 118.0898\\\\\n",
       "\t Harrow                 & 7.79 &  45.5 &   0.61 & 130.9131\\\\\n",
       "\t Havering               & 7.58 &  58.1 &   0.65 & 118.0929\\\\\n",
       "\t Hillingdon             & 7.55 &  63.5 &   1.10 & 124.1279\\\\\n",
       "\t Hounslow               & 7.34 &  71.3 &   1.04 & 124.3491\\\\\n",
       "\t Islington              & 7.38 &  99.9 &   1.40 & 124.9860\\\\\n",
       "\t Kensington and Chelsea & 7.31 & 109.8 &   1.56 & 126.9225\\\\\n",
       "\t Kingston upon Thames   & 7.60 &  49.6 &   0.86 & 130.6143\\\\\n",
       "\t Lambeth                & 7.42 &  90.8 &   0.78 & 117.7786\\\\\n",
       "\t Lewisham               & 7.31 &  68.4 &   0.42 & 109.9122\\\\\n",
       "\t Merton                 & 7.55 &  53.5 &   0.76 & 113.6937\\\\\n",
       "\t Newham                 & 7.47 &  77.1 &   0.51 & 119.3796\\\\\n",
       "\t Redbridge              & 7.55 &  56.7 &   0.50 & 124.7279\\\\\n",
       "\t Richmond upon Thames   & 7.73 &  49.9 &   0.85 & 122.6827\\\\\n",
       "\t Southwark              & 7.47 &  87.9 &   1.38 & 122.3278\\\\\n",
       "\t Sutton                 & 7.91 &  45.0 &   0.66 & 117.5219\\\\\n",
       "\t Tower Hamlets          & 7.51 &  85.3 &   1.40 & 124.9250\\\\\n",
       "\t Waltham Forest         & 7.73 &  64.9 &   0.47 & 116.7353\\\\\n",
       "\t Wandsworth             & 7.64 &  65.8 &   0.64 & 128.3816\\\\\n",
       "\t Westminster            & 7.57 & 171.3 &   4.33 & 130.4612\\\\\n",
       "\\end{tabular}\n"
      ],
      "text/markdown": [
       "\n",
       "A tibble: 33 × 5\n",
       "\n",
       "| Area &lt;chr&gt; | Life_Satisfaction_Mean_Scores &lt;dbl&gt; | Crime_Rate &lt;dbl&gt; | Jobs_Density &lt;dbl&gt; | Rent &lt;dbl&gt; |\n",
       "|---|---|---|---|---|\n",
       "| City of London         |   NA |   0.0 | 124.78 | 126.8300 |\n",
       "| Barking and Dagenham   | 7.66 |  70.9 |   0.49 | 118.5148 |\n",
       "| Barnet                 | 7.63 |  55.8 |   0.70 | 127.6829 |\n",
       "| Bexley                 | 7.42 |  45.6 |   0.59 | 110.7533 |\n",
       "| Brent                  | 7.79 |  70.8 |   0.71 | 125.6015 |\n",
       "| Bromley                | 7.31 |  52.7 |   0.65 | 115.7219 |\n",
       "| Camden                 | 7.31 | 103.1 |   2.23 | 133.5236 |\n",
       "| Croydon                | 7.49 |  67.4 |   0.63 | 123.3930 |\n",
       "| Ealing                 | 7.55 |  69.0 |   0.74 | 126.9215 |\n",
       "| Enfield                | 7.34 |  58.5 |   0.59 | 122.2039 |\n",
       "| Greenwich              | 7.47 |  71.6 |   0.53 | 119.2549 |\n",
       "| Hackney                | 7.34 |  91.2 |   0.70 | 120.0111 |\n",
       "| Hammersmith and Fulham | 7.34 |  98.1 |   1.21 | 128.6807 |\n",
       "| Haringey               | 7.60 |  85.8 |   0.49 | 118.0898 |\n",
       "| Harrow                 | 7.79 |  45.5 |   0.61 | 130.9131 |\n",
       "| Havering               | 7.58 |  58.1 |   0.65 | 118.0929 |\n",
       "| Hillingdon             | 7.55 |  63.5 |   1.10 | 124.1279 |\n",
       "| Hounslow               | 7.34 |  71.3 |   1.04 | 124.3491 |\n",
       "| Islington              | 7.38 |  99.9 |   1.40 | 124.9860 |\n",
       "| Kensington and Chelsea | 7.31 | 109.8 |   1.56 | 126.9225 |\n",
       "| Kingston upon Thames   | 7.60 |  49.6 |   0.86 | 130.6143 |\n",
       "| Lambeth                | 7.42 |  90.8 |   0.78 | 117.7786 |\n",
       "| Lewisham               | 7.31 |  68.4 |   0.42 | 109.9122 |\n",
       "| Merton                 | 7.55 |  53.5 |   0.76 | 113.6937 |\n",
       "| Newham                 | 7.47 |  77.1 |   0.51 | 119.3796 |\n",
       "| Redbridge              | 7.55 |  56.7 |   0.50 | 124.7279 |\n",
       "| Richmond upon Thames   | 7.73 |  49.9 |   0.85 | 122.6827 |\n",
       "| Southwark              | 7.47 |  87.9 |   1.38 | 122.3278 |\n",
       "| Sutton                 | 7.91 |  45.0 |   0.66 | 117.5219 |\n",
       "| Tower Hamlets          | 7.51 |  85.3 |   1.40 | 124.9250 |\n",
       "| Waltham Forest         | 7.73 |  64.9 |   0.47 | 116.7353 |\n",
       "| Wandsworth             | 7.64 |  65.8 |   0.64 | 128.3816 |\n",
       "| Westminster            | 7.57 | 171.3 |   4.33 | 130.4612 |\n",
       "\n"
      ],
      "text/plain": [
       "   Area                   Life_Satisfaction_Mean_Scores Crime_Rate Jobs_Density\n",
       "1  City of London           NA                            0.0      124.78      \n",
       "2  Barking and Dagenham   7.66                           70.9        0.49      \n",
       "3  Barnet                 7.63                           55.8        0.70      \n",
       "4  Bexley                 7.42                           45.6        0.59      \n",
       "5  Brent                  7.79                           70.8        0.71      \n",
       "6  Bromley                7.31                           52.7        0.65      \n",
       "7  Camden                 7.31                          103.1        2.23      \n",
       "8  Croydon                7.49                           67.4        0.63      \n",
       "9  Ealing                 7.55                           69.0        0.74      \n",
       "10 Enfield                7.34                           58.5        0.59      \n",
       "11 Greenwich              7.47                           71.6        0.53      \n",
       "12 Hackney                7.34                           91.2        0.70      \n",
       "13 Hammersmith and Fulham 7.34                           98.1        1.21      \n",
       "14 Haringey               7.60                           85.8        0.49      \n",
       "15 Harrow                 7.79                           45.5        0.61      \n",
       "16 Havering               7.58                           58.1        0.65      \n",
       "17 Hillingdon             7.55                           63.5        1.10      \n",
       "18 Hounslow               7.34                           71.3        1.04      \n",
       "19 Islington              7.38                           99.9        1.40      \n",
       "20 Kensington and Chelsea 7.31                          109.8        1.56      \n",
       "21 Kingston upon Thames   7.60                           49.6        0.86      \n",
       "22 Lambeth                7.42                           90.8        0.78      \n",
       "23 Lewisham               7.31                           68.4        0.42      \n",
       "24 Merton                 7.55                           53.5        0.76      \n",
       "25 Newham                 7.47                           77.1        0.51      \n",
       "26 Redbridge              7.55                           56.7        0.50      \n",
       "27 Richmond upon Thames   7.73                           49.9        0.85      \n",
       "28 Southwark              7.47                           87.9        1.38      \n",
       "29 Sutton                 7.91                           45.0        0.66      \n",
       "30 Tower Hamlets          7.51                           85.3        1.40      \n",
       "31 Waltham Forest         7.73                           64.9        0.47      \n",
       "32 Wandsworth             7.64                           65.8        0.64      \n",
       "33 Westminster            7.57                          171.3        4.33      \n",
       "   Rent    \n",
       "1  126.8300\n",
       "2  118.5148\n",
       "3  127.6829\n",
       "4  110.7533\n",
       "5  125.6015\n",
       "6  115.7219\n",
       "7  133.5236\n",
       "8  123.3930\n",
       "9  126.9215\n",
       "10 122.2039\n",
       "11 119.2549\n",
       "12 120.0111\n",
       "13 128.6807\n",
       "14 118.0898\n",
       "15 130.9131\n",
       "16 118.0929\n",
       "17 124.1279\n",
       "18 124.3491\n",
       "19 124.9860\n",
       "20 126.9225\n",
       "21 130.6143\n",
       "22 117.7786\n",
       "23 109.9122\n",
       "24 113.6937\n",
       "25 119.3796\n",
       "26 124.7279\n",
       "27 122.6827\n",
       "28 122.3278\n",
       "29 117.5219\n",
       "30 124.9250\n",
       "31 116.7353\n",
       "32 128.3816\n",
       "33 130.4612"
      ]
     },
     "metadata": {},
     "output_type": "display_data"
    }
   ],
   "source": [
    "#Consolidate 2017 data in one table\n",
    "#Rent\n",
    "df<-rent2 %>%\n",
    "        filter(Year == \"2017-18\") %>%\n",
    "        select(Area,Rent)\n",
    "#Job Opportunity\n",
    "df<-jobs1 %>%\n",
    "        filter(Year == \"2017\") %>%\n",
    "        select(Area, Jobs_Density) %>%\n",
    "        right_join(df, by = \"Area\")\n",
    "#Safety\n",
    "#Add dummy row into safety2 \n",
    "safety5<-safety2 %>%\n",
    "            add_row(Code = \"E09000001\", Borough = \"City of London\", Year = \"2016-17\", Offences = \"All recorded offences\", Rate = 0, Number_of_offences = 0)\n",
    "df<-safety5 %>%\n",
    "        filter(Year == \"2016-17\") %>%\n",
    "        select(Borough, Rate) %>%\n",
    "        rename(Area = Borough, Crime_Rate = Rate) %>%\n",
    "        right_join(df, by = \"Area\")\n",
    "#Well-being\n",
    "#Add dummy row into wellbeing3\n",
    "wellbeing6<-wellbeing3 %>%\n",
    "            add_row(Code = \"E09000001\", Area = \"City of London\", Year = \"2017-18\", Life_Satisfaction_Mean_Scores = 0)\n",
    "df<-wellbeing6 %>%\n",
    "        filter(Year == \"2017-18\") %>%\n",
    "        select(Area, Life_Satisfaction_Mean_Scores) %>%\n",
    "        right_join(df, by = \"Area\")\n",
    "\n",
    "head(df,33)"
   ]
  },
  {
   "cell_type": "markdown",
   "id": "fd6a8e91",
   "metadata": {},
   "source": [
    "<br></br>\n",
    "<p>Take reference of 2017 data, if you want to have more job opportunities, you can go to City of London. If you have limited budget for rent, you can choose Lewisham. If you want to live with lower crime rate, you can select Harrow. If you want to have better well-being life, you can go to Brent or Harrow.</p>\n",
    "<br></br>"
   ]
  },
  {
   "cell_type": "markdown",
   "id": "307e0899",
   "metadata": {},
   "source": [
    "## 6. Conclusion"
   ]
  },
  {
   "cell_type": "markdown",
   "id": "6ba10349",
   "metadata": {},
   "source": [
    "<br></br>\n",
    "<p>There is no perfect living place, low rental, safe, high job opportunity and good well-being. It is important to make good chioces among these considerations depending on your needs and capability.</p>\n",
    "<br></br>"
   ]
  },
  {
   "cell_type": "markdown",
   "id": "09ac1b8b",
   "metadata": {},
   "source": [
    "## 7. Reference\n",
    "### (1) Ministry of Housing, Communities & Local Government, Registered Social Landlords Average Rents\n",
    "https://data.london.gov.uk/dataset/registered-social-landlords-average-rents\n",
    "\n",
    "### (2) Office for National Statistics (ONS), Jobs and Job Density, Borough\n",
    "https://data.london.gov.uk/dataset/jobs-and-job-density-borough\n",
    "\n",
    "### (3) Office for National Statistics (ONS), Workplace Employment by Industry, Borough\n",
    "https://data.london.gov.uk/dataset/workplace-employment-industry-borough\n",
    "\n",
    "### (4) Metropolitan Police Service, Recorded Crime: Borough Rates\n",
    "https://data.london.gov.uk/dataset/recorded_crime_rates\n",
    "\n",
    "### (5) Office for National Statistics (ONS), Personal Well-being (Happiness) by Borough\n",
    "https://data.london.gov.uk/dataset/subjective-personal-well-being-borough"
   ]
  }
 ],
 "metadata": {
  "kernelspec": {
   "display_name": "R",
   "language": "R",
   "name": "ir"
  },
  "language_info": {
   "codemirror_mode": "r",
   "file_extension": ".r",
   "mimetype": "text/x-r-source",
   "name": "R",
   "pygments_lexer": "r",
   "version": "4.1.1"
  }
 },
 "nbformat": 4,
 "nbformat_minor": 5
}
