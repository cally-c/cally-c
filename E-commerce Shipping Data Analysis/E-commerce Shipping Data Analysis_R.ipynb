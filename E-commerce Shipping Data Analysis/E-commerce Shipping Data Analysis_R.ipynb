{
 "cells": [
  {
   "cell_type": "markdown",
   "id": "recreational-carpet",
   "metadata": {},
   "source": [
    "# E-commerce Shipping Data Analysis"
   ]
  },
  {
   "cell_type": "markdown",
   "id": "experimental-lease",
   "metadata": {},
   "source": [
    "## Content\n",
    "<p>1. Introduction</p>\n",
    "<p>2. Objective</p>\n",
    "<p>3. Getting to Know Data & Variables</p>\n",
    "<p>4. Data Preparation</p>\n",
    "<p>5. Data Analysis</p>\n",
    "<p>6. Modelling & Assessment</p>\n",
    "<p>7. Conclusion</p>\n",
    "<p>8. Reference</p>"
   ]
  },
  {
   "cell_type": "markdown",
   "id": "accessory-satellite",
   "metadata": {},
   "source": [
    "## 1. Introduction\n",
    "<p>An international e-commerce company reqeusts data team to discover key insights from customers databse by advance statistical methods and share the result to other teams for improvement project. The company sells electronic products.</p>"
   ]
  },
  {
   "cell_type": "markdown",
   "id": "otherwise-cathedral",
   "metadata": {},
   "source": [
    "## 2. Objective\n",
    "<p>To initiate service level improvement project for Sales and Operation team.</p>"
   ]
  },
  {
   "cell_type": "markdown",
   "id": "twenty-skirt",
   "metadata": {},
   "source": [
    "## 3. Getting to Know Data & Variables\n",
    "\n",
    "### 3.1 Data Import\n",
    "<p>Data in csv format is imported.</p>"
   ]
  },
  {
   "cell_type": "code",
   "execution_count": 24,
   "id": "ranging-visitor",
   "metadata": {},
   "outputs": [],
   "source": [
    "#Import Data\n",
    "data<-read.csv(\"Train.csv\")"
   ]
  },
  {
   "cell_type": "markdown",
   "id": "fallen-burner",
   "metadata": {},
   "source": [
    "### 3.2 Data Preview"
   ]
  },
  {
   "cell_type": "code",
   "execution_count": 25,
   "id": "settled-battlefield",
   "metadata": {
    "scrolled": true
   },
   "outputs": [
    {
     "data": {
      "text/html": [
       "<table class=\"dataframe\">\n",
       "<caption>A data.frame: 6 × 12</caption>\n",
       "<thead>\n",
       "\t<tr><th></th><th scope=col>ï..ID</th><th scope=col>Warehouse_block</th><th scope=col>Mode_of_Shipment</th><th scope=col>Customer_care_calls</th><th scope=col>Customer_rating</th><th scope=col>Cost_of_the_Product</th><th scope=col>Prior_purchases</th><th scope=col>Product_importance</th><th scope=col>Gender</th><th scope=col>Discount_offered</th><th scope=col>Weight_in_gms</th><th scope=col>Reached.on.Time_Y.N</th></tr>\n",
       "\t<tr><th></th><th scope=col>&lt;int&gt;</th><th scope=col>&lt;chr&gt;</th><th scope=col>&lt;chr&gt;</th><th scope=col>&lt;int&gt;</th><th scope=col>&lt;int&gt;</th><th scope=col>&lt;int&gt;</th><th scope=col>&lt;int&gt;</th><th scope=col>&lt;chr&gt;</th><th scope=col>&lt;chr&gt;</th><th scope=col>&lt;int&gt;</th><th scope=col>&lt;int&gt;</th><th scope=col>&lt;int&gt;</th></tr>\n",
       "</thead>\n",
       "<tbody>\n",
       "\t<tr><th scope=row>1</th><td>1</td><td>D</td><td>Flight</td><td>4</td><td>2</td><td>177</td><td>3</td><td>low   </td><td>F</td><td>44</td><td>1233</td><td>1</td></tr>\n",
       "\t<tr><th scope=row>2</th><td>2</td><td>F</td><td>Flight</td><td>4</td><td>5</td><td>216</td><td>2</td><td>low   </td><td>M</td><td>59</td><td>3088</td><td>1</td></tr>\n",
       "\t<tr><th scope=row>3</th><td>3</td><td>A</td><td>Flight</td><td>2</td><td>2</td><td>183</td><td>4</td><td>low   </td><td>M</td><td>48</td><td>3374</td><td>1</td></tr>\n",
       "\t<tr><th scope=row>4</th><td>4</td><td>B</td><td>Flight</td><td>3</td><td>3</td><td>176</td><td>4</td><td>medium</td><td>M</td><td>10</td><td>1177</td><td>1</td></tr>\n",
       "\t<tr><th scope=row>5</th><td>5</td><td>C</td><td>Flight</td><td>2</td><td>2</td><td>184</td><td>3</td><td>medium</td><td>F</td><td>46</td><td>2484</td><td>1</td></tr>\n",
       "\t<tr><th scope=row>6</th><td>6</td><td>F</td><td>Flight</td><td>3</td><td>1</td><td>162</td><td>3</td><td>medium</td><td>F</td><td>12</td><td>1417</td><td>1</td></tr>\n",
       "</tbody>\n",
       "</table>\n"
      ],
      "text/latex": [
       "A data.frame: 6 × 12\n",
       "\\begin{tabular}{r|llllllllllll}\n",
       "  & ï..ID & Warehouse\\_block & Mode\\_of\\_Shipment & Customer\\_care\\_calls & Customer\\_rating & Cost\\_of\\_the\\_Product & Prior\\_purchases & Product\\_importance & Gender & Discount\\_offered & Weight\\_in\\_gms & Reached.on.Time\\_Y.N\\\\\n",
       "  & <int> & <chr> & <chr> & <int> & <int> & <int> & <int> & <chr> & <chr> & <int> & <int> & <int>\\\\\n",
       "\\hline\n",
       "\t1 & 1 & D & Flight & 4 & 2 & 177 & 3 & low    & F & 44 & 1233 & 1\\\\\n",
       "\t2 & 2 & F & Flight & 4 & 5 & 216 & 2 & low    & M & 59 & 3088 & 1\\\\\n",
       "\t3 & 3 & A & Flight & 2 & 2 & 183 & 4 & low    & M & 48 & 3374 & 1\\\\\n",
       "\t4 & 4 & B & Flight & 3 & 3 & 176 & 4 & medium & M & 10 & 1177 & 1\\\\\n",
       "\t5 & 5 & C & Flight & 2 & 2 & 184 & 3 & medium & F & 46 & 2484 & 1\\\\\n",
       "\t6 & 6 & F & Flight & 3 & 1 & 162 & 3 & medium & F & 12 & 1417 & 1\\\\\n",
       "\\end{tabular}\n"
      ],
      "text/markdown": [
       "\n",
       "A data.frame: 6 × 12\n",
       "\n",
       "| <!--/--> | ï..ID &lt;int&gt; | Warehouse_block &lt;chr&gt; | Mode_of_Shipment &lt;chr&gt; | Customer_care_calls &lt;int&gt; | Customer_rating &lt;int&gt; | Cost_of_the_Product &lt;int&gt; | Prior_purchases &lt;int&gt; | Product_importance &lt;chr&gt; | Gender &lt;chr&gt; | Discount_offered &lt;int&gt; | Weight_in_gms &lt;int&gt; | Reached.on.Time_Y.N &lt;int&gt; |\n",
       "|---|---|---|---|---|---|---|---|---|---|---|---|---|\n",
       "| 1 | 1 | D | Flight | 4 | 2 | 177 | 3 | low    | F | 44 | 1233 | 1 |\n",
       "| 2 | 2 | F | Flight | 4 | 5 | 216 | 2 | low    | M | 59 | 3088 | 1 |\n",
       "| 3 | 3 | A | Flight | 2 | 2 | 183 | 4 | low    | M | 48 | 3374 | 1 |\n",
       "| 4 | 4 | B | Flight | 3 | 3 | 176 | 4 | medium | M | 10 | 1177 | 1 |\n",
       "| 5 | 5 | C | Flight | 2 | 2 | 184 | 3 | medium | F | 46 | 2484 | 1 |\n",
       "| 6 | 6 | F | Flight | 3 | 1 | 162 | 3 | medium | F | 12 | 1417 | 1 |\n",
       "\n"
      ],
      "text/plain": [
       "  ï..ID Warehouse_block Mode_of_Shipment Customer_care_calls Customer_rating\n",
       "1 1     D               Flight           4                   2              \n",
       "2 2     F               Flight           4                   5              \n",
       "3 3     A               Flight           2                   2              \n",
       "4 4     B               Flight           3                   3              \n",
       "5 5     C               Flight           2                   2              \n",
       "6 6     F               Flight           3                   1              \n",
       "  Cost_of_the_Product Prior_purchases Product_importance Gender\n",
       "1 177                 3               low                F     \n",
       "2 216                 2               low                M     \n",
       "3 183                 4               low                M     \n",
       "4 176                 4               medium             M     \n",
       "5 184                 3               medium             F     \n",
       "6 162                 3               medium             F     \n",
       "  Discount_offered Weight_in_gms Reached.on.Time_Y.N\n",
       "1 44               1233          1                  \n",
       "2 59               3088          1                  \n",
       "3 48               3374          1                  \n",
       "4 10               1177          1                  \n",
       "5 46               2484          1                  \n",
       "6 12               1417          1                  "
      ]
     },
     "metadata": {},
     "output_type": "display_data"
    }
   ],
   "source": [
    "#Data preview\n",
    "head(data)"
   ]
  },
  {
   "cell_type": "markdown",
   "id": "constant-journalism",
   "metadata": {},
   "source": [
    "<br></br>\n",
    "<p>From the preview, columns needed to be renamed and looks tidier.</p>\n",
    "<br></br>"
   ]
  },
  {
   "cell_type": "code",
   "execution_count": 26,
   "id": "studied-range",
   "metadata": {},
   "outputs": [
    {
     "data": {
      "text/html": [
       "<table class=\"dataframe\">\n",
       "<caption>A data.frame: 6 × 12</caption>\n",
       "<thead>\n",
       "\t<tr><th></th><th scope=col>ID</th><th scope=col>Warehouse_Block</th><th scope=col>Mode_of_Shipment</th><th scope=col>Customer_Care_Calls</th><th scope=col>Customer_Rating</th><th scope=col>Cost_of_Product</th><th scope=col>Prior_Purchases</th><th scope=col>Product_Importance</th><th scope=col>Gender</th><th scope=col>Discount_Offered</th><th scope=col>Weight_in_gms</th><th scope=col>Reached_on_Time</th></tr>\n",
       "\t<tr><th></th><th scope=col>&lt;int&gt;</th><th scope=col>&lt;chr&gt;</th><th scope=col>&lt;chr&gt;</th><th scope=col>&lt;int&gt;</th><th scope=col>&lt;int&gt;</th><th scope=col>&lt;int&gt;</th><th scope=col>&lt;int&gt;</th><th scope=col>&lt;chr&gt;</th><th scope=col>&lt;chr&gt;</th><th scope=col>&lt;int&gt;</th><th scope=col>&lt;int&gt;</th><th scope=col>&lt;int&gt;</th></tr>\n",
       "</thead>\n",
       "<tbody>\n",
       "\t<tr><th scope=row>1</th><td>1</td><td>D</td><td>Flight</td><td>4</td><td>2</td><td>177</td><td>3</td><td>low   </td><td>F</td><td>44</td><td>1233</td><td>1</td></tr>\n",
       "\t<tr><th scope=row>2</th><td>2</td><td>F</td><td>Flight</td><td>4</td><td>5</td><td>216</td><td>2</td><td>low   </td><td>M</td><td>59</td><td>3088</td><td>1</td></tr>\n",
       "\t<tr><th scope=row>3</th><td>3</td><td>A</td><td>Flight</td><td>2</td><td>2</td><td>183</td><td>4</td><td>low   </td><td>M</td><td>48</td><td>3374</td><td>1</td></tr>\n",
       "\t<tr><th scope=row>4</th><td>4</td><td>B</td><td>Flight</td><td>3</td><td>3</td><td>176</td><td>4</td><td>medium</td><td>M</td><td>10</td><td>1177</td><td>1</td></tr>\n",
       "\t<tr><th scope=row>5</th><td>5</td><td>C</td><td>Flight</td><td>2</td><td>2</td><td>184</td><td>3</td><td>medium</td><td>F</td><td>46</td><td>2484</td><td>1</td></tr>\n",
       "\t<tr><th scope=row>6</th><td>6</td><td>F</td><td>Flight</td><td>3</td><td>1</td><td>162</td><td>3</td><td>medium</td><td>F</td><td>12</td><td>1417</td><td>1</td></tr>\n",
       "</tbody>\n",
       "</table>\n"
      ],
      "text/latex": [
       "A data.frame: 6 × 12\n",
       "\\begin{tabular}{r|llllllllllll}\n",
       "  & ID & Warehouse\\_Block & Mode\\_of\\_Shipment & Customer\\_Care\\_Calls & Customer\\_Rating & Cost\\_of\\_Product & Prior\\_Purchases & Product\\_Importance & Gender & Discount\\_Offered & Weight\\_in\\_gms & Reached\\_on\\_Time\\\\\n",
       "  & <int> & <chr> & <chr> & <int> & <int> & <int> & <int> & <chr> & <chr> & <int> & <int> & <int>\\\\\n",
       "\\hline\n",
       "\t1 & 1 & D & Flight & 4 & 2 & 177 & 3 & low    & F & 44 & 1233 & 1\\\\\n",
       "\t2 & 2 & F & Flight & 4 & 5 & 216 & 2 & low    & M & 59 & 3088 & 1\\\\\n",
       "\t3 & 3 & A & Flight & 2 & 2 & 183 & 4 & low    & M & 48 & 3374 & 1\\\\\n",
       "\t4 & 4 & B & Flight & 3 & 3 & 176 & 4 & medium & M & 10 & 1177 & 1\\\\\n",
       "\t5 & 5 & C & Flight & 2 & 2 & 184 & 3 & medium & F & 46 & 2484 & 1\\\\\n",
       "\t6 & 6 & F & Flight & 3 & 1 & 162 & 3 & medium & F & 12 & 1417 & 1\\\\\n",
       "\\end{tabular}\n"
      ],
      "text/markdown": [
       "\n",
       "A data.frame: 6 × 12\n",
       "\n",
       "| <!--/--> | ID &lt;int&gt; | Warehouse_Block &lt;chr&gt; | Mode_of_Shipment &lt;chr&gt; | Customer_Care_Calls &lt;int&gt; | Customer_Rating &lt;int&gt; | Cost_of_Product &lt;int&gt; | Prior_Purchases &lt;int&gt; | Product_Importance &lt;chr&gt; | Gender &lt;chr&gt; | Discount_Offered &lt;int&gt; | Weight_in_gms &lt;int&gt; | Reached_on_Time &lt;int&gt; |\n",
       "|---|---|---|---|---|---|---|---|---|---|---|---|---|\n",
       "| 1 | 1 | D | Flight | 4 | 2 | 177 | 3 | low    | F | 44 | 1233 | 1 |\n",
       "| 2 | 2 | F | Flight | 4 | 5 | 216 | 2 | low    | M | 59 | 3088 | 1 |\n",
       "| 3 | 3 | A | Flight | 2 | 2 | 183 | 4 | low    | M | 48 | 3374 | 1 |\n",
       "| 4 | 4 | B | Flight | 3 | 3 | 176 | 4 | medium | M | 10 | 1177 | 1 |\n",
       "| 5 | 5 | C | Flight | 2 | 2 | 184 | 3 | medium | F | 46 | 2484 | 1 |\n",
       "| 6 | 6 | F | Flight | 3 | 1 | 162 | 3 | medium | F | 12 | 1417 | 1 |\n",
       "\n"
      ],
      "text/plain": [
       "  ID Warehouse_Block Mode_of_Shipment Customer_Care_Calls Customer_Rating\n",
       "1 1  D               Flight           4                   2              \n",
       "2 2  F               Flight           4                   5              \n",
       "3 3  A               Flight           2                   2              \n",
       "4 4  B               Flight           3                   3              \n",
       "5 5  C               Flight           2                   2              \n",
       "6 6  F               Flight           3                   1              \n",
       "  Cost_of_Product Prior_Purchases Product_Importance Gender Discount_Offered\n",
       "1 177             3               low                F      44              \n",
       "2 216             2               low                M      59              \n",
       "3 183             4               low                M      48              \n",
       "4 176             4               medium             M      10              \n",
       "5 184             3               medium             F      46              \n",
       "6 162             3               medium             F      12              \n",
       "  Weight_in_gms Reached_on_Time\n",
       "1 1233          1              \n",
       "2 3088          1              \n",
       "3 3374          1              \n",
       "4 1177          1              \n",
       "5 2484          1              \n",
       "6 1417          1              "
      ]
     },
     "metadata": {},
     "output_type": "display_data"
    },
    {
     "name": "stdout",
     "output_type": "stream",
     "text": [
      "'data.frame':\t10999 obs. of  12 variables:\n",
      " $ ID                 : int  1 2 3 4 5 6 7 8 9 10 ...\n",
      " $ Warehouse_Block    : chr  \"D\" \"F\" \"A\" \"B\" ...\n",
      " $ Mode_of_Shipment   : chr  \"Flight\" \"Flight\" \"Flight\" \"Flight\" ...\n",
      " $ Customer_Care_Calls: int  4 4 2 3 2 3 3 4 3 3 ...\n",
      " $ Customer_Rating    : int  2 5 2 3 2 1 4 1 4 2 ...\n",
      " $ Cost_of_Product    : int  177 216 183 176 184 162 250 233 150 164 ...\n",
      " $ Prior_Purchases    : int  3 2 4 4 3 3 3 2 3 3 ...\n",
      " $ Product_Importance : chr  \"low\" \"low\" \"low\" \"medium\" ...\n",
      " $ Gender             : chr  \"F\" \"M\" \"M\" \"M\" ...\n",
      " $ Discount_Offered   : int  44 59 48 10 46 12 3 48 11 29 ...\n",
      " $ Weight_in_gms      : int  1233 3088 3374 1177 2484 1417 2371 2804 1861 1187 ...\n",
      " $ Reached_on_Time    : int  1 1 1 1 1 1 1 1 1 1 ...\n"
     ]
    }
   ],
   "source": [
    "#Tidy up of columns' names\n",
    "names(data)[1]<-\"ID\"\n",
    "names(data)[2]<-\"Warehouse_Block\"\n",
    "names(data)[3]<-\"Mode_of_Shipment\"\n",
    "names(data)[4]<-\"Customer_Care_Calls\"\n",
    "names(data)[5]<-\"Customer_Rating\"\n",
    "names(data)[6]<-\"Cost_of_Product\"\n",
    "names(data)[7]<-\"Prior_Purchases\"\n",
    "names(data)[8]<-\"Product_Importance\"\n",
    "names(data)[9]<-\"Gender\"\n",
    "names(data)[10]<-\"Discount_Offered\"\n",
    "names(data)[11]<-\"Weight_in_gms\"\n",
    "names(data)[12]<-\"Reached_on_Time\"\n",
    "head(data)\n",
    "str(data)"
   ]
  },
  {
   "cell_type": "markdown",
   "id": "aware-colonial",
   "metadata": {},
   "source": [
    "<br></br>\n",
    "<p>There are 10,999 records with 12 variables. Below table shows summary of the variales' description and data type.</p>\n",
    "<br></br>\n",
    "\n",
    "|   **Variable**    |                           **Description**                   |  **Data Type**  |\n",
    "|:-----------------:|:------------------------------------------------------------|:----------------|\n",
    "|ID                 |ID No. of Customers.                                         |Nominal Number   |\n",
    "|Warehouse Block    |A to E Warehouse block.                                      |Character        | \n",
    "|Mode of Shipment   |Ship products by Ship/Flight/Road.                           |Character        | \n",
    "|Customer Care Calls|No. of enquiry calls for shipment.                           |Discrete Number  | \n",
    "|Customer Rating    |Company is rated by customers.1 is the worst & 5 is the best.|Ordinal Number   | \n",
    "|Cost of Product    |Cost of products in USD.                                     |Continuous Number| \n",
    "|Prior Purchases    |No. of prior purchases.                                      |Discrete Number  | \n",
    "|Product Importance |Company categorizes products in low, medium and high.        |Character        | \n",
    "|Gender             |Gender of customers, F/M.                                    |Character        | \n",
    "|Discount Offered   |Discount offered on the specific product.                    |Continuous Number| \n",
    "|Weight in gms      |Weight of product in grams.                                  |Continuous Number| \n",
    "|Reached on Time    |1: Not reach on time 0: Reach on time                        |Binary Number    |\n",
    "\n",
    "<br></br>\n",
    "<p>There are 4 variables for character and 8 variables for number. \"Reached on Time\" and \"Customer Rating\" can be the target variables for Sales and Operation team to evaluate the service level.</p>\n",
    "<br></br>"
   ]
  },
  {
   "cell_type": "markdown",
   "id": "foster-display",
   "metadata": {},
   "source": [
    "## 4. Data Preparation\n",
    "### 4.1 Missing Values Detection"
   ]
  },
  {
   "cell_type": "code",
   "execution_count": 27,
   "id": "known-dodge",
   "metadata": {
    "scrolled": false
   },
   "outputs": [
    {
     "data": {
      "text/plain": [
       "       ID        Warehouse_Block    Mode_of_Shipment   Customer_Care_Calls\n",
       " Min.   :    1   Length:10999       Length:10999       Min.   :2.000      \n",
       " 1st Qu.: 2750   Class :character   Class :character   1st Qu.:3.000      \n",
       " Median : 5500   Mode  :character   Mode  :character   Median :4.000      \n",
       " Mean   : 5500                                         Mean   :4.054      \n",
       " 3rd Qu.: 8250                                         3rd Qu.:5.000      \n",
       " Max.   :10999                                         Max.   :7.000      \n",
       " Customer_Rating Cost_of_Product Prior_Purchases  Product_Importance\n",
       " Min.   :1.000   Min.   : 96.0   Min.   : 2.000   Length:10999      \n",
       " 1st Qu.:2.000   1st Qu.:169.0   1st Qu.: 3.000   Class :character  \n",
       " Median :3.000   Median :214.0   Median : 3.000   Mode  :character  \n",
       " Mean   :2.991   Mean   :210.2   Mean   : 3.568                     \n",
       " 3rd Qu.:4.000   3rd Qu.:251.0   3rd Qu.: 4.000                     \n",
       " Max.   :5.000   Max.   :310.0   Max.   :10.000                     \n",
       "    Gender          Discount_Offered Weight_in_gms  Reached_on_Time \n",
       " Length:10999       Min.   : 1.00    Min.   :1001   Min.   :0.0000  \n",
       " Class :character   1st Qu.: 4.00    1st Qu.:1840   1st Qu.:0.0000  \n",
       " Mode  :character   Median : 7.00    Median :4149   Median :1.0000  \n",
       "                    Mean   :13.37    Mean   :3634   Mean   :0.5967  \n",
       "                    3rd Qu.:10.00    3rd Qu.:5050   3rd Qu.:1.0000  \n",
       "                    Max.   :65.00    Max.   :7846   Max.   :1.0000  "
      ]
     },
     "metadata": {},
     "output_type": "display_data"
    }
   ],
   "source": [
    "#View statistical summary\n",
    "summary(data)"
   ]
  },
  {
   "cell_type": "markdown",
   "id": "amazing-dakota",
   "metadata": {},
   "source": [
    "<br></br>\n",
    "<p>No missing values are found as no NA values are displayed from statistical summary.</p>\n",
    "<br></br>"
   ]
  },
  {
   "cell_type": "markdown",
   "id": "featured-series",
   "metadata": {},
   "source": [
    "### 4.2 Outliers Detection\n",
    "#### 4.2.1 Variables with Continuous and Discrete Values\n",
    "<p>Boxplot is used to detect outliers for variables with continuous and discrete values.</p>"
   ]
  },
  {
   "cell_type": "code",
   "execution_count": 28,
   "id": "documented-springfield",
   "metadata": {},
   "outputs": [
    {
     "data": {
      "text/html": [
       "<table class=\"dataframe\">\n",
       "<caption>A matrix: 0 × 17 of type chr</caption>\n",
       "<thead>\n",
       "\t<tr><th scope=col>Package</th><th scope=col>LibPath</th><th scope=col>Version</th><th scope=col>Priority</th><th scope=col>Depends</th><th scope=col>Imports</th><th scope=col>LinkingTo</th><th scope=col>Suggests</th><th scope=col>Enhances</th><th scope=col>License</th><th scope=col>License_is_FOSS</th><th scope=col>License_restricts_use</th><th scope=col>OS_type</th><th scope=col>Archs</th><th scope=col>MD5sum</th><th scope=col>NeedsCompilation</th><th scope=col>Built</th></tr>\n",
       "</thead>\n",
       "<tbody>\n",
       "</tbody>\n",
       "</table>\n"
      ],
      "text/latex": [
       "A matrix: 0 × 17 of type chr\n",
       "\\begin{tabular}{lllllllllllllllll}\n",
       " Package & LibPath & Version & Priority & Depends & Imports & LinkingTo & Suggests & Enhances & License & License\\_is\\_FOSS & License\\_restricts\\_use & OS\\_type & Archs & MD5sum & NeedsCompilation & Built\\\\\n",
       "\\hline\n",
       "\\end{tabular}\n"
      ],
      "text/markdown": [
       "\n",
       "A matrix: 0 × 17 of type chr\n",
       "\n",
       "| Package | LibPath | Version | Priority | Depends | Imports | LinkingTo | Suggests | Enhances | License | License_is_FOSS | License_restricts_use | OS_type | Archs | MD5sum | NeedsCompilation | Built |\n",
       "|---|---|---|---|---|---|---|---|---|---|---|---|---|---|---|---|---|\n",
       "\n"
      ],
      "text/plain": [
       "     Package LibPath Version Priority Depends Imports LinkingTo Suggests\n",
       "     Enhances License License_is_FOSS License_restricts_use OS_type Archs\n",
       "     MD5sum NeedsCompilation Built"
      ]
     },
     "metadata": {},
     "output_type": "display_data"
    },
    {
     "name": "stderr",
     "output_type": "stream",
     "text": [
      "Warning message:\n",
      "\"package 'gridExtra' is in use and will not be installed\"\n"
     ]
    },
    {
     "data": {
      "image/png": "[encoded data removed]",
      "text/plain": [
       "plot without title"
      ]
     },
     "metadata": {
      "image/png": {
       "height": 420,
       "width": 420
      }
     },
     "output_type": "display_data"
    }
   ],
   "source": [
    "#Installation of necessary packages\n",
    "installed.packages(\"ggplot2\")\n",
    "library(ggplot2)\n",
    "install.packages(\"gridExtra\")\n",
    "library(gridExtra)\n",
    "\n",
    "#Boxplot for variables with continuous & discrete values\n",
    "p1<-ggplot(data,aes(x = \"\",y = Cost_of_Product))+ \n",
    "        geom_boxplot(fill = \"cyan3\", alpha = 0.5)+\n",
    "        ggtitle(\"Boxplot of Cost of Product\")+\n",
    "        theme(plot.title = element_text(hjust = 0.5, size = 10))+\n",
    "        labs(x=\"x\",y=\"Value\")\n",
    "\n",
    "p2<-ggplot(data,aes(x = \"\",y = Discount_Offered))+ \n",
    "        geom_boxplot(fill = \"yellow\", alpha = 0.5)+\n",
    "        ggtitle(\"Boxplot of Discount Offered\")+\n",
    "        theme(plot.title = element_text(hjust = 0.5,  size= 10))+\n",
    "        labs(x=\"x\",y=\"Value\")\n",
    "\n",
    "p3<-ggplot(data,aes(x = \"\", y = Weight_in_gms))+\n",
    "        geom_boxplot(fill = \"seagreen3\", alpha = 0.5)+\n",
    "        ggtitle(\"Boxplot of Weight_in_gms\")+\n",
    "        theme(plot.title = element_text(hjust = 0.5, size = 10))+\n",
    "        labs(x=\"x\",y=\"Value\")\n",
    "\n",
    "p4<-ggplot(data,aes(x = \"\",y = Customer_Care_Calls))+\n",
    "        geom_boxplot(fill = \"red\", alpha = 0.5)+\n",
    "        ggtitle(\"Boxplot of Customer Care Calls\")+\n",
    "        theme(plot.title = element_text(hjust = 0.5, size = 10))+\n",
    "        labs(x=\"x\",y=\"Value\")\n",
    "\n",
    "p5<-ggplot(data,aes(x = \"\",y = Prior_Purchases))+\n",
    "        geom_boxplot(fill = \"steelblue3\", alpha = 0.5)+\n",
    "        ggtitle(\"Boxplot of Prior Purchases\")+\n",
    "        theme(plot.title = element_text(hjust = 0.5, size = 10))+\n",
    "        labs(x=\"x\",y=\"Value\")\n",
    "\n",
    "#Mulitple plots on the same page\n",
    "grid.arrange(p1,p2,p3,p4,p5,nrow = 2)"
   ]
  },
  {
   "cell_type": "markdown",
   "id": "fitted-package",
   "metadata": {},
   "source": [
    "<br></br>\n",
    "<p>In the boxplot of Discount Offered and Prior Purchases, there are data points larger than maximum that are outliers.</p>\n",
    "<br></br>"
   ]
  },
  {
   "cell_type": "code",
   "execution_count": 29,
   "id": "general-princeton",
   "metadata": {
    "scrolled": false
   },
   "outputs": [
    {
     "name": "stdout",
     "output_type": "stream",
     "text": [
      "[1] \"Value of Outliers in Discount Offered: > 19\"\n",
      "[1] \"No. of Outliers in Discount Offered: 2209\"\n",
      "[1] \"Value of Outliers in Prior Purchases:> 5.5\"\n",
      "[1] \"No. of Outliers in Prior Purchases: 1003\"\n"
     ]
    },
    {
     "data": {
      "text/html": [
       "<style>\n",
       ".list-inline {list-style: none; margin:0; padding: 0}\n",
       ".list-inline>li {display: inline-block}\n",
       ".list-inline>li:not(:last-child)::after {content: \"\\00b7\"; padding: 0 .5ex}\n",
       "</style>\n",
       "<ol class=list-inline><li>7971</li><li>12</li></ol>\n"
      ],
      "text/latex": [
       "\\begin{enumerate*}\n",
       "\\item 7971\n",
       "\\item 12\n",
       "\\end{enumerate*}\n"
      ],
      "text/markdown": [
       "1. 7971\n",
       "2. 12\n",
       "\n",
       "\n"
      ],
      "text/plain": [
       "[1] 7971   12"
      ]
     },
     "metadata": {},
     "output_type": "display_data"
    },
    {
     "data": {
      "text/plain": [
       "       ID        Warehouse_Block    Mode_of_Shipment   Customer_Care_Calls\n",
       " Min.   :    1   Length:10999       Length:10999       Min.   :2.000      \n",
       " 1st Qu.: 2750   Class :character   Class :character   1st Qu.:3.000      \n",
       " Median : 5500   Mode  :character   Mode  :character   Median :4.000      \n",
       " Mean   : 5500                                         Mean   :4.054      \n",
       " 3rd Qu.: 8250                                         3rd Qu.:5.000      \n",
       " Max.   :10999                                         Max.   :7.000      \n",
       " Customer_Rating Cost_of_Product Prior_Purchases Product_Importance\n",
       " Min.   :1.000   Min.   : 96.0   Min.   :2.000   Length:10999      \n",
       " 1st Qu.:2.000   1st Qu.:169.0   1st Qu.:3.000   Class :character  \n",
       " Median :3.000   Median :214.0   Median :3.000   Mode  :character  \n",
       " Mean   :2.991   Mean   :210.2   Mean   :3.194                     \n",
       " 3rd Qu.:4.000   3rd Qu.:251.0   3rd Qu.:4.000                     \n",
       " Max.   :5.000   Max.   :310.0   Max.   :5.000                     \n",
       "    Gender          Discount_Offered Weight_in_gms  Reached_on_Time \n",
       " Length:10999       Min.   : 1.000   Min.   :1001   Min.   :0.0000  \n",
       " Class :character   1st Qu.: 4.000   1st Qu.:1840   1st Qu.:0.0000  \n",
       " Mode  :character   Median : 6.000   Median :4149   Median :1.0000  \n",
       "                    Mean   : 5.917   Mean   :3634   Mean   :0.5967  \n",
       "                    3rd Qu.: 8.000   3rd Qu.:5050   3rd Qu.:1.0000  \n",
       "                    Max.   :18.000   Max.   :7846   Max.   :1.0000  "
      ]
     },
     "metadata": {},
     "output_type": "display_data"
    }
   ],
   "source": [
    "#Find out outliers from the boxplot in Discount Offered\n",
    "y<-quantile(data$Discount_Offered, probs = c(0.75)) + 1.5 * IQR(data$Discount_Offered)\n",
    "print((paste(\"Value of Outliers in Discount Offered: >\", y)))\n",
    "y1<-nrow(data[data$Discount_Offered > y, ])\n",
    "print((paste(\"No. of Outliers in Discount Offered:\", y1)))\n",
    "\n",
    "#Find out outliers from the boxplot in Prior Purchases\n",
    "w<-quantile(data$Prior_Purchases, probs = c(0.75)) + 1.5 * IQR(data$Prior_Purchases)\n",
    "print((paste(\"Value of Outliers in Prior Purchases:>\", w)))\n",
    "w1<-nrow(data[data$Prior_Purchases>w, ])\n",
    "print((paste(\"No. of Outliers in Prior Purchases:\", w1)))\n",
    "\n",
    "#Remove outliers from Data\n",
    "data1<-data[data$Discount_Offered <= y & data$Prior_Purchases <= w, ]\n",
    "dim(data1)\n",
    "\n",
    "#Find out median without outliers\n",
    "med1<-median(data1$Discount_Offered)\n",
    "med2<-median(data1$Prior_Purchases)\n",
    "\n",
    "#Replace outliers by respective median \n",
    "data$Discount_Offered[data$Discount_Offered >= y]<-med1\n",
    "data$Prior_Purchases[data$Prior_Purchases >= w]<-med2\n",
    "\n",
    "summary(data)"
   ]
  },
  {
   "cell_type": "markdown",
   "id": "breeding-sierra",
   "metadata": {},
   "source": [
    "<br></br>\n",
    "<p>If outliers are removed and deleted in rows, sample size will be reduced by 28%.This can distort data distribution.Outliers in Discount Offered and Prior Purchases are replaced by respective median to improve data accuracy.</p>\n",
    "<br></br>"
   ]
  },
  {
   "cell_type": "markdown",
   "id": "public-utility",
   "metadata": {},
   "source": [
    "## 5. Data Analysis\n",
    "<p>Customer Rating is the target variable to measure service level performance. Visualise the relationship bewteen Reached on Time and Customer Rating. More details are shown as below.</p>"
   ]
  },
  {
   "cell_type": "code",
   "execution_count": 30,
   "id": "driving-service",
   "metadata": {},
   "outputs": [
    {
     "data": {
      "image/png": "[encoded data removed]",
      "text/plain": [
       "plot without title"
      ]
     },
     "metadata": {
      "image/png": {
       "height": 420,
       "width": 420
      }
     },
     "output_type": "display_data"
    }
   ],
   "source": [
    "#Bar chart of Customer Rating\n",
    "p6<-ggplot(data, aes(x = Customer_Rating)) + \n",
    "        geom_bar(fill = \"cyan3\") +\n",
    "        ggtitle(\"Bar Chart of Customer Rating\") +\n",
    "        theme(plot.title = element_text(hjust = 0.5)) +\n",
    "        geom_text(aes(label = ..count..), stat = \"count\", colour = \"white\", size = 5, hjust = 0.5, vjust = 2) +\n",
    "        labs(x = \"Customer Rating\", y = \"Count\")\n",
    "p6        "
   ]
  },
  {
   "cell_type": "markdown",
   "id": "functional-meaning",
   "metadata": {},
   "source": [
    "<br></br>\n",
    "<p>There is even distribution in Customer Rating. </p>\n",
    "<br></br>"
   ]
  },
  {
   "cell_type": "markdown",
   "id": "educational-respect",
   "metadata": {},
   "source": [
    "### 5.1 Reached on Time & Customer Rating\n",
    "<p>Reached on Time is selected to evaluate Customer Rating as punctual shipping service is one of the basic reqiurements from customers.</p>"
   ]
  },
  {
   "cell_type": "code",
   "execution_count": 31,
   "id": "according-slope",
   "metadata": {},
   "outputs": [
    {
     "data": {
      "image/png": "[encoded data removed]",
      "text/plain": [
       "plot without title"
      ]
     },
     "metadata": {
      "image/png": {
       "height": 420,
       "width": 420
      }
     },
     "output_type": "display_data"
    },
    {
     "data": {
      "image/png": "[encoded data removed]",
      "text/plain": [
       "plot without title"
      ]
     },
     "metadata": {
      "image/png": {
       "height": 420,
       "width": 420
      }
     },
     "output_type": "display_data"
    }
   ],
   "source": [
    "#Bar chart of Reached on Time\n",
    "p7<-ggplot(data, aes(fill = as.factor(Reached_on_Time), x = as.factor(Customer_Rating))) + \n",
    "        geom_bar(position = \"dodge\") +\n",
    "        ggtitle(\"Bar Chart of Customer Rating by Reached on Time\") +\n",
    "        theme(plot.title = element_text(hjust = 0.5)) +\n",
    "        geom_text(aes(label = ..count..), stat = \"count\", colour = \"white\", position = position_dodge(width = 1), size = 4, vjust = 2) +\n",
    "        labs(x = \"Customer Rating\", y = \"Count\", fill = \"Reached on Time\")\n",
    "p7\n",
    "\n",
    "#Pie chart of Reached on Time\n",
    "#Compute percentages for Reached on Time\n",
    "reach<-nrow(data)\n",
    "reach0<-nrow(data[data$Reached_on_Time == 0, ])\n",
    "reach1<-nrow(data[data$Reached_on_Time == 1, ])\n",
    "reach0p<-round(reach0 / reach * 100, 0)\n",
    "reach1p<-round(reach1 / reach * 100, 0)\n",
    "\n",
    "#Data frame of pie chart\n",
    "df<-data.frame(group = c(\"0\", \"1\"), value = c(reach0p, reach1p))\n",
    "\n",
    "#Pie chart\n",
    "p8<-ggplot(df, aes(x = \"\", y = value, fill = group)) +\n",
    "        geom_bar(width = 1, stat = \"identity\") +\n",
    "        coord_polar(\"y\", start = 0) +\n",
    "        ggtitle(\"Pie Chart of Reached on Time\") +\n",
    "        theme(axis.text.x = element_blank(), plot.title = element_text(hjust = 0.5)) +\n",
    "        labs(x = \"\", y = \"\", fill = \"Reached on Time\") +\n",
    "        geom_text(aes(label = paste(value,\"%\")), color = \"white\", size = 6, position = position_stack(vjust = 0.5))\n",
    "p8"
   ]
  },
  {
   "cell_type": "markdown",
   "id": "corresponding-waterproof",
   "metadata": {},
   "source": [
    "<br></br>\n",
    "<p>The customer rating distribution is even for both delivery conditions, reached on time and not reached on time. So, delivery time is not the key factor to affect customer rating. However, more than half of prodcuts can't reach on time that is the trigger point to know reason behind and suggest potential improvement. Mode of Shipment, Warehouse Block and Weight in gms are selected to investigate the delivery service perforamnce.</p>\n",
    "<br></br>"
   ]
  },
  {
   "cell_type": "code",
   "execution_count": 32,
   "id": "therapeutic-gender",
   "metadata": {
    "scrolled": false
   },
   "outputs": [
    {
     "data": {
      "image/png": "[encoded data removed]",
      "text/plain": [
       "plot without title"
      ]
     },
     "metadata": {
      "image/png": {
       "height": 420,
       "width": 420
      }
     },
     "output_type": "display_data"
    }
   ],
   "source": [
    "#Bar chart of Reached on Time by Mode of Shipment\n",
    "p9<-ggplot(data, aes(fill = Mode_of_Shipment,x = as.factor(Reached_on_Time))) + \n",
    "        geom_bar(position = \"dodge\") +\n",
    "        ggtitle(\"Bar Chart of Reached on Time by Mode of Shipment\") +\n",
    "        theme(plot.title = element_text(hjust = 0.5)) +\n",
    "        labs(x = \"Reached on Time\",y = \"Count\",fill = \"Mode of Shipment\")\n",
    "p9"
   ]
  },
  {
   "cell_type": "markdown",
   "id": "protective-kruger",
   "metadata": {},
   "source": [
    "<br></br>\n",
    "<p>The delivery performance of all three modes is bad. Shipping is the most common delivery method in this company. To maximize the improvement on delivery performance, we can communicate with operation team and know more about the operation flow of shipping.</p>\n",
    "<br></br>"
   ]
  },
  {
   "cell_type": "code",
   "execution_count": 33,
   "id": "enhanced-trigger",
   "metadata": {},
   "outputs": [
    {
     "data": {
      "image/png": "[encoded data removed]",
      "text/plain": [
       "plot without title"
      ]
     },
     "metadata": {
      "image/png": {
       "height": 420,
       "width": 420
      }
     },
     "output_type": "display_data"
    }
   ],
   "source": [
    "#Bar chart of Reached on Time by Warehouse Block\n",
    "p10<-ggplot(data, aes(fill = Warehouse_Block,x = as.factor(Reached_on_Time))) + \n",
    "        geom_bar(position = \"dodge\") +\n",
    "        ggtitle(\"Bar Chart of Reached on Time by Warehouse Block\") +\n",
    "        theme(plot.title = element_text(hjust = 0.5)) +\n",
    "        labs(x = \"Reached on Time\",y = \"Count\",fill = \"Warehouse Block\")\n",
    "p10"
   ]
  },
  {
   "cell_type": "markdown",
   "id": "silver-sherman",
   "metadata": {},
   "source": [
    "<br></br>\n",
    "<p>The delivery performance of all six warehouse is bad. Warehouse Block F is the busiest block in this company. To maximize the improvement on delivery performance, we can communicate with operation team and know more about the operation flow in Warehouse Block F.</p>\n",
    "<br></br>"
   ]
  },
  {
   "cell_type": "code",
   "execution_count": 34,
   "id": "overhead-retirement",
   "metadata": {},
   "outputs": [
    {
     "data": {
      "image/png": "[encoded data removed]",
      "text/plain": [
       "plot without title"
      ]
     },
     "metadata": {
      "image/png": {
       "height": 420,
       "width": 420
      }
     },
     "output_type": "display_data"
    }
   ],
   "source": [
    "#Create new column to categorize Weight in gms\n",
    "data$Weight_in_gms1<-cut(data$Weight_in_gms, c(0,2500,5000,7500,10000))\n",
    "\n",
    "#Bar chart of Reached on Time by Weight in gms1\n",
    "p11<-ggplot(data, aes(fill = Weight_in_gms1,x = as.factor(Reached_on_Time))) + \n",
    "        geom_bar(position = \"dodge\", width=0.5) +\n",
    "        ggtitle(\"Bar Chart of Reached on Time by Weight in gms\") +\n",
    "        theme(plot.title = element_text(hjust = 0.5)) +\n",
    "        labs(x = \"Reached on Time\",y = \"Count\", fill = \"Weight in gms\")\n",
    "p11"
   ]
  },
  {
   "cell_type": "markdown",
   "id": "moving-carol",
   "metadata": {},
   "source": [
    "<br></br>\n",
    "<p>Wight in gms is transformed from continuous to categorical variable by grouping into 4 groups, (0,2500], (2500,5000] (5000,7500] and (7500,10000] which can helps to visualise the relationship between Reached on Time and Weight in gms.</p>\n",
    "<p>Group (5000,7500] have better delivery performance than group (0,2500], and (7500,10000].</p>\n",
    "<br></br>"
   ]
  },
  {
   "cell_type": "markdown",
   "id": "human-standing",
   "metadata": {},
   "source": [
    "<br></br>\n",
    "<p>In conclusion, delivery time is not the key factor to determine cusotmer rating. However, it is important to address that more than half of products can't be delivered on time. More details of shipping mode, Warehouse Block F and weight group (0,2500] and (2500,5000] should be found to initiate delivery time improvement project. </p>\n",
    "<br></br>"
   ]
  },
  {
   "cell_type": "markdown",
   "id": "c57ca18d",
   "metadata": {},
   "source": [
    "### 5.2 Highest & Lowest Customer Rating "
   ]
  },
  {
   "cell_type": "code",
   "execution_count": 35,
   "id": "3f413e74",
   "metadata": {},
   "outputs": [
    {
     "data": {
      "image/png": "[encoded data removed]",
      "text/plain": [
       "plot without title"
      ]
     },
     "metadata": {
      "image/png": {
       "height": 420,
       "width": 420
      }
     },
     "output_type": "display_data"
    },
    {
     "data": {
      "image/png": "[encoded data removed]",
      "text/plain": [
       "plot without title"
      ]
     },
     "metadata": {
      "image/png": {
       "height": 420,
       "width": 420
      }
     },
     "output_type": "display_data"
    },
    {
     "data": {
      "image/png": "[encoded data removed]",
      "text/plain": [
       "plot without title"
      ]
     },
     "metadata": {
      "image/png": {
       "height": 420,
       "width": 420
      }
     },
     "output_type": "display_data"
    }
   ],
   "source": [
    "#Data with highest & lowest Customer Rating\n",
    "data1<-data[data$Customer_Rating == 1 | data$Customer_Rating == 5 ,]\n",
    "\n",
    "#Bar Chart of Highest & Lowest Customer Rating by Gender\n",
    "p12<-ggplot(data1, aes(x = as.factor(Customer_Rating), fill = Gender)) + \n",
    "        geom_bar(position = \"dodge\") +\n",
    "        ggtitle(\"Bar Chart of Highest & Lowest Customer Rating by Gender\") +\n",
    "        theme(plot.title = element_text(hjust = 0.5)) +\n",
    "        labs(x = \"Customer Rating\", y = \"Count\")\n",
    "p12\n",
    "\n",
    "\n",
    "#Create new column to categorize Prior Purchases\n",
    "data1$Prior_Purchases1<-cut(data1$Prior_Purchases, c(0,2,4,6,8,10))\n",
    "\n",
    "#Bar chart of Highest & Lowest Customer Rating by Prior Purchases\n",
    "p13<-ggplot(data1, aes(fill = Prior_Purchases1,x = as.factor(Customer_Rating))) + \n",
    "        geom_bar(position = \"dodge\", width=0.5) +\n",
    "        ggtitle(\"Bar Chart of Highest & Lowest Customer Rating by Prior Purchases\") +\n",
    "        theme(plot.title = element_text(hjust = 0.5)) +\n",
    "        labs(x = \"Customer Rating\",y = \"Count\", fill = \"Prior Purchases\")\n",
    "p13\n",
    "\n",
    "\n",
    "#Create new column to categorize Discount Offered\n",
    "data1$Discount_Offered1<-cut(data1$Discount_Offered, c(0,5,10,15,20))\n",
    "\n",
    "#Bar chart of Highest & Lowest Customer Rating by Prior Purchases\n",
    "p14<-ggplot(data1, aes(fill = Discount_Offered1,x = as.factor(Customer_Rating))) + \n",
    "        geom_bar(position = \"dodge\", width=0.5) +\n",
    "        ggtitle(\"Bar Chart of Highest & Lowest Customer Rating by Discount Offered\") +\n",
    "        theme(plot.title = element_text(hjust = 0.5)) +\n",
    "        labs(x = \"Customer Rating\",y = \"Count\", fill = \"Discount Offered\")\n",
    "p14"
   ]
  },
  {
   "cell_type": "markdown",
   "id": "loving-italic",
   "metadata": {},
   "source": [
    "<br></br>\n",
    "<p>Focused on the highest and lowest Customer Rating, it is difficult to find the rating reason by Gender, Prior Purchases and Discount Offered. Gender distribution between them is similar. More, most of them have 2 to 4 times of prior purchases and get 5 to 10 dollars discount.</p>\n",
    "<br></br>"
   ]
  },
  {
   "cell_type": "markdown",
   "id": "optical-vampire",
   "metadata": {},
   "source": [
    "### 5.3 Correlation among Variables"
   ]
  },
  {
   "cell_type": "code",
   "execution_count": 36,
   "id": "infinite-termination",
   "metadata": {},
   "outputs": [
    {
     "name": "stderr",
     "output_type": "stream",
     "text": [
      "Installing package into 'C:/Users/Tiffany Chung/Documents/R/win-library/4.1'\n",
      "(as 'lib' is unspecified)\n",
      "\n"
     ]
    },
    {
     "name": "stdout",
     "output_type": "stream",
     "text": [
      "package 'ggcorrplot' successfully unpacked and MD5 sums checked\n",
      "\n",
      "The downloaded binary packages are in\n",
      "\tC:\\Users\\Tiffany Chung\\AppData\\Local\\Temp\\Rtmpme3I3F\\downloaded_packages\n"
     ]
    },
    {
     "data": {
      "image/png": "[encoded data removed]",
      "text/plain": [
       "plot without title"
      ]
     },
     "metadata": {
      "image/png": {
       "height": 420,
       "width": 420
      }
     },
     "output_type": "display_data"
    }
   ],
   "source": [
    "#Install required packages\n",
    "install.packages(\"ggcorrplot\")\n",
    "library(ggcorrplot)\n",
    "\n",
    "#Correlation of data\n",
    "p15<-ggcorrplot(cor(data[,c(4,6,7,10,11)]),lab = TRUE) +\n",
    "        ggtitle(\"Correlation among Variables\") +\n",
    "        theme(plot.title = element_text(hjust = 0.5))\n",
    "p15"
   ]
  },
  {
   "cell_type": "markdown",
   "id": "bf947aa1",
   "metadata": {},
   "source": [
    "<br></br>\n",
    "<p>(1) Customers Care Calls & Cost of Product, (2) Customers Care Calls & Prior Purchases, and (3) Cost of Product & Prior Purchases have weak positive relationship. One variable increases, another variable also increases.</p>\n",
    "<p>(4) Customers Care Calls & Weight in gms, (5) Cost of Product & Weight in gms, and (6) Prior Purchases & Weight in gms have weak negative relationship. One variable increases, another variable decreases.</p>\n",
    "<br></br>"
   ]
  },
  {
   "cell_type": "markdown",
   "id": "unable-island",
   "metadata": {},
   "source": [
    "## 6. Modelling & Assessment\n",
    "### 6.1 Objective\n",
    "<p>To predict Reached on Time by logistic regression.</p>"
   ]
  },
  {
   "cell_type": "markdown",
   "id": "provincial-climb",
   "metadata": {},
   "source": [
    "### 6.2 Transformation\n",
    "#### 6.2.1 Transformation for Continuous and Discrete Variables"
   ]
  },
  {
   "cell_type": "code",
   "execution_count": 37,
   "id": "small-stack",
   "metadata": {},
   "outputs": [
    {
     "data": {
      "text/html": [
       "3099598.98224825"
      ],
      "text/latex": [
       "3099598.98224825"
      ],
      "text/markdown": [
       "3099598.98224825"
      ],
      "text/plain": [
       "[1] 3099599"
      ]
     },
     "metadata": {},
     "output_type": "display_data"
    }
   ],
   "source": [
    "#Variance of continuous and discrete Variables\n",
    "var_vector<-apply(data[ , c(4,6,7,10,11)], 2, var)\n",
    "max(var_vector) / min(var_vector)"
   ]
  },
  {
   "cell_type": "markdown",
   "id": "flying-profit",
   "metadata": {},
   "source": [
    "<br></br>\n",
    "<p>The variations of variables diff greatly and the variables are in different units, so standardization is used to prevent some variables dominating the result.</p>\n",
    "<br></br>"
   ]
  },
  {
   "cell_type": "code",
   "execution_count": 1,
   "id": "useful-native",
   "metadata": {},
   "outputs": [
    {
     "ename": "ERROR",
     "evalue": "Error in data[, c(4, 6, 7, 10, 11)]: object of type 'closure' is not subsettable\n",
     "output_type": "error",
     "traceback": [
      "Error in data[, c(4, 6, 7, 10, 11)]: object of type 'closure' is not subsettable\nTraceback:\n",
      "1. scale(data[, c(4, 6, 7, 10, 11)])"
     ]
    }
   ],
   "source": [
    "#Standardization of continuous and discrete Variables\n",
    "s<-scale(data[ , c(4,6,7,10,11)])\n",
    "data[ ,c(4,6,7,10,11)]<-s[ , ]"
   ]
  },
  {
   "cell_type": "markdown",
   "id": "early-warren",
   "metadata": {},
   "source": [
    "### 6.3 Analysis"
   ]
  },
  {
   "cell_type": "code",
   "execution_count": 40,
   "id": "9ab2400f",
   "metadata": {},
   "outputs": [
    {
     "data": {
      "text/plain": [
       "\n",
       "Call:\n",
       "glm(formula = Reached_on_Time ~ Customer_Care_Calls + Customer_Rating + \n",
       "    Cost_of_Product + Prior_Purchases + Discount_Offered + Weight_in_gms, \n",
       "    family = binomial, data = train)\n",
       "\n",
       "Deviance Residuals: \n",
       "    Min       1Q   Median       3Q      Max  \n",
       "-2.3412  -1.1410   0.5680   0.9919   2.0646  \n",
       "\n",
       "Coefficients:\n",
       "                    Estimate Std. Error z value Pr(>|z|)    \n",
       "(Intercept)          0.39921    0.05954   6.705 2.02e-11 ***\n",
       "Customer_Care_Calls -0.25392    0.02881  -8.815  < 2e-16 ***\n",
       "Customer_Rating      0.02524    0.01802   1.401    0.161    \n",
       "Cost_of_Product     -0.14539    0.02771  -5.246 1.55e-07 ***\n",
       "Prior_Purchases     -0.35130    0.02857 -12.297  < 2e-16 ***\n",
       "Discount_Offered     0.14065    0.02646   5.316 1.06e-07 ***\n",
       "Weight_in_gms       -0.82684    0.03105 -26.630  < 2e-16 ***\n",
       "---\n",
       "Signif. codes:  0 '***' 0.001 '**' 0.01 '*' 0.05 '.' 0.1 ' ' 1\n",
       "\n",
       "(Dispersion parameter for binomial family taken to be 1)\n",
       "\n",
       "    Null deviance: 9883.1  on 7332  degrees of freedom\n",
       "Residual deviance: 8899.0  on 7326  degrees of freedom\n",
       "AIC: 8913\n",
       "\n",
       "Number of Fisher Scoring iterations: 4\n"
      ]
     },
     "metadata": {},
     "output_type": "display_data"
    }
   ],
   "source": [
    "#Set seed\n",
    "set.seed(1234)\n",
    "\n",
    "#Set sample ratio\n",
    "r<-2/3\n",
    "\n",
    "#Split data into training Data and testing Data\n",
    "n<-nrow(data)\n",
    "id<-sample(1:n, size = round(r * n), replace = F)\n",
    "train<-data[id,]\n",
    "test<-data[-id,]\n",
    "\n",
    "#Logistic regression\n",
    "lreg<-glm(Reached_on_Time ~ Customer_Care_Calls + Customer_Rating + Cost_of_Product + Prior_Purchases + Discount_Offered + Weight_in_gms, data = train, binomial)\n",
    "summary(lreg)"
   ]
  },
  {
   "cell_type": "markdown",
   "id": "ef5c0568",
   "metadata": {},
   "source": [
    "<br></br>\n",
    "<p>Backware elimination is performed to access final model. From the result, Customer Rating is removed from data as it has large p-value.</p>\n",
    "<br></br>"
   ]
  },
  {
   "cell_type": "code",
   "execution_count": 41,
   "id": "f5aa4e8f",
   "metadata": {},
   "outputs": [
    {
     "data": {
      "text/plain": [
       "\n",
       "Call:\n",
       "glm(formula = Reached_on_Time ~ Customer_Care_Calls + Cost_of_Product + \n",
       "    Prior_Purchases + Discount_Offered + Weight_in_gms, family = binomial, \n",
       "    data = train)\n",
       "\n",
       "Deviance Residuals: \n",
       "    Min       1Q   Median       3Q      Max  \n",
       "-2.3203  -1.1406   0.5683   0.9916   2.0856  \n",
       "\n",
       "Coefficients:\n",
       "                    Estimate Std. Error z value Pr(>|z|)    \n",
       "(Intercept)          0.47434    0.02608  18.189  < 2e-16 ***\n",
       "Customer_Care_Calls -0.25356    0.02880  -8.803  < 2e-16 ***\n",
       "Cost_of_Product     -0.14532    0.02771  -5.245 1.57e-07 ***\n",
       "Prior_Purchases     -0.35113    0.02857 -12.290  < 2e-16 ***\n",
       "Discount_Offered     0.14037    0.02645   5.306 1.12e-07 ***\n",
       "Weight_in_gms       -0.82657    0.03105 -26.622  < 2e-16 ***\n",
       "---\n",
       "Signif. codes:  0 '***' 0.001 '**' 0.01 '*' 0.05 '.' 0.1 ' ' 1\n",
       "\n",
       "(Dispersion parameter for binomial family taken to be 1)\n",
       "\n",
       "    Null deviance: 9883.1  on 7332  degrees of freedom\n",
       "Residual deviance: 8901.0  on 7327  degrees of freedom\n",
       "AIC: 8913\n",
       "\n",
       "Number of Fisher Scoring iterations: 4\n"
      ]
     },
     "metadata": {},
     "output_type": "display_data"
    },
    {
     "data": {
      "text/plain": [
       "       \n",
       "pr1        0    1\n",
       "  FALSE 1269  975\n",
       "  TRUE  1680 3409"
      ]
     },
     "metadata": {},
     "output_type": "display_data"
    }
   ],
   "source": [
    "#Logistic regression\n",
    "lreg<-glm(Reached_on_Time ~ Customer_Care_Calls + Cost_of_Product + Prior_Purchases + Discount_Offered + Weight_in_gms, data = train, binomial)\n",
    "summary(lreg)\n",
    "\n",
    "#Logistic regression assessment\n",
    "# pr=T if prob>0.5\n",
    "pr1<-lreg$fit > 0.5 \n",
    "\n",
    "#Classification table\n",
    "t1<-table(pr1, train$Reached_on_Time) \n",
    "t1\n"
   ]
  },
  {
   "cell_type": "markdown",
   "id": "double-identity",
   "metadata": {},
   "source": [
    "<br></br>\n",
    "<p>For the finalized logistic regression model, Customer Care Calls, Cost of Product, Prior Purchases, Discount Offered, Weight in gms have small p-values. With 95% confidence level, assume that there is an association between Reached on Time and these independent variables. All varibles, except Discount Offered, have negative relationship with the target variable.</p>\n",
    "<br></br>"
   ]
  },
  {
   "cell_type": "code",
   "execution_count": 42,
   "id": "e3269e92",
   "metadata": {},
   "outputs": [
    {
     "data": {
      "text/plain": [
       "       \n",
       "cl         0    1\n",
       "  FALSE  601  494\n",
       "  TRUE   886 1685"
      ]
     },
     "metadata": {},
     "output_type": "display_data"
    },
    {
     "data": {
      "text/html": [
       "'Accuracy: 0.62'"
      ],
      "text/latex": [
       "'Accuracy: 0.62'"
      ],
      "text/markdown": [
       "'Accuracy: 0.62'"
      ],
      "text/plain": [
       "[1] \"Accuracy: 0.62\""
      ]
     },
     "metadata": {},
     "output_type": "display_data"
    },
    {
     "data": {
      "text/html": [
       "'Precision: 0.66'"
      ],
      "text/latex": [
       "'Precision: 0.66'"
      ],
      "text/markdown": [
       "'Precision: 0.66'"
      ],
      "text/plain": [
       "[1] \"Precision: 0.66\""
      ]
     },
     "metadata": {},
     "output_type": "display_data"
    },
    {
     "data": {
      "text/html": [
       "'Recall: 0.77'"
      ],
      "text/latex": [
       "'Recall: 0.77'"
      ],
      "text/markdown": [
       "'Recall: 0.77'"
      ],
      "text/plain": [
       "[1] \"Recall: 0.77\""
      ]
     },
     "metadata": {},
     "output_type": "display_data"
    },
    {
     "data": {
      "text/html": [
       "'F1 Score: 0.71'"
      ],
      "text/latex": [
       "'F1 Score: 0.71'"
      ],
      "text/markdown": [
       "'F1 Score: 0.71'"
      ],
      "text/plain": [
       "[1] \"F1 Score: 0.71\""
      ]
     },
     "metadata": {},
     "output_type": "display_data"
    }
   ],
   "source": [
    "#Prediction of testing data\n",
    "pr2<-predict(lreg, test)\n",
    "prob<-exp(pr2) / (1+exp(pr2))\n",
    "cl<-prob > 0.5 \n",
    "t2<-table(cl,test$Reached_on_Time)\n",
    "t2\n",
    "\n",
    "#Prediction assessment\n",
    "paste(\"Accuracy:\", accuracy<-round(sum(diag(t2)) / sum(t2[ , ]), 2))\n",
    "\n",
    "paste(\"Precision:\", precision<-round(t2[2,2] / sum(t2[2, ]), 2))\n",
    "\n",
    "paste(\"Recall:\", recall<-round(t2[2,2] / sum(t2[ ,2]), 2))\n",
    "\n",
    "paste(\"F1 Score:\", F1<-round((2 * precision * recall) / (precision + recall), 2))"
   ]
  },
  {
   "cell_type": "markdown",
   "id": "7311e7d4",
   "metadata": {},
   "source": [
    "<br></br>\n",
    "<p>Four measures are chosen to assess this model, accuracy, precision, recall, and F1 score. Accuracy is not good, only 0.62 of probability to make correct predictions (TP & TN) over the entire data. As it is intuitive measurement, more details are drilled by precision, recall and F1 score.</p>\n",
    "\n",
    "<p>Precision is higher than accuracy. It has 0.66 of probability to make true positive over all positive predictions made (i.e. TP / (TP + FP)). If there is false postive in prediciton, the company may need to compensate for delivery delay and get bad influence on reputation.</p>\n",
    "\n",
    "<p>Recall is higher than accuracy. It has 0.77 of probability to true postive over all positive cases in data (i.e. TP / (TP + FN)). If there is false negative in prediction, the company may get loss of wrong compensation cost and bad reputation for fake delayed devliery. </p>\n",
    "\n",
    "<p>F1 score is higher than accuracy. It is harmonic mean of precision and recall and more resistant to outliers. It is applied in this model as data is imbalanced and positive cases are much less than negative cases.</p>\n",
    "\n",
    "<p>In conclusion, this model has good performance for prediction. It can help the company can to prepare operation and business plans under different scenarios, such as delivery insurance, urgent delivery arrangement, etc.</p>\n",
    "\n",
    "<br></br>"
   ]
  },
  {
   "cell_type": "markdown",
   "id": "round-polyester",
   "metadata": {},
   "source": [
    "## 7. Conclusion"
   ]
  },
  {
   "cell_type": "markdown",
   "id": "bacbcbea",
   "metadata": {},
   "source": [
    "<br></br>\n",
    "<p>In conclusion, serivce level and customer rating are not good in this company. More details should be provided by the company for improvement projects. A logistic regression model is bulit for delivery time prediction to prepare for incidents.</p>\n",
    "<br></br>"
   ]
  },
  {
   "cell_type": "markdown",
   "id": "fatal-greenhouse",
   "metadata": {},
   "source": [
    "## 8. Reference\n",
    "### (1) Kaggle, E-Commerce Shipping Data\n",
    "<p>Prachi Gopalani (Mar 2021). E-Commerce Shipping Data.</p>\n",
    "<p>https://www.kaggle.com/prachi13/customer-analytics</p>"
   ]
  }
 ],
 "metadata": {
  "kernelspec": {
   "display_name": "R",
   "language": "R",
   "name": "ir"
  },
  "language_info": {
   "codemirror_mode": "r",
   "file_extension": ".r",
   "mimetype": "text/x-r-source",
   "name": "R",
   "pygments_lexer": "r",
   "version": "3.6.1"
  }
 },
 "nbformat": 4,
 "nbformat_minor": 5
}
