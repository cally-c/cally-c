{
 "cells": [
  {
   "cell_type": "markdown",
   "id": "e638a163",
   "metadata": {},
   "source": [
    "# STAT5104 Data Mining Assignments"
   ]
  },
  {
   "cell_type": "markdown",
   "id": "38a3951e",
   "metadata": {},
   "source": [
    "## Content\n",
    "<p>1. Introduction</p>\n",
    "<p>2. Learning Outcomes</p>\n",
    "<p>3. Assignment 1</p>\n",
    "<p>4. Assignment 2</p>\n",
    "<p>5. Assignment 3</p>"
   ]
  },
  {
   "cell_type": "markdown",
   "id": "121afcb1",
   "metadata": {},
   "source": [
    "## 1. Introduction"
   ]
  },
  {
   "cell_type": "markdown",
   "id": "a9aec9a9",
   "metadata": {},
   "source": [
    "<p>This course introduces some commonly used multivariate statistical techniques in Business, Finance and Risk Management Science. Statistical packages such as R and EXCEL are used to demonstrate these methods. Below are the techniques.</p>"
   ]
  },
  {
   "cell_type": "markdown",
   "id": "4dd3f428",
   "metadata": {},
   "source": [
    "|       **Technique**     |                                              **Description**                                    |\n",
    "|:-----------------------:|:------------------------------------------------------------------------------------------------|\n",
    "|Classification Tree      |Generate simple rules to classify observations.                                                  |\n",
    "|K-nearest Neighbour      |With training data, classify unlabelled data by  analysis of k number of the nearest data points.|\n",
    "|Naïve Bayes Classifier   |Classify observations with the application of Bayes' theorem.                                    |\n",
    "|Logistic Regression      |Predict nominal variable by indenpendent variables.                                              |\n",
    "|Artificial Neural Network|Mimic the functions and mechanism of our brain to do prediction.                                 |\n",
    "|K-means Clustering       |Cluster n observations into k homogenous groups.                                                 | \n",
    "|Assoication Analysis     |Find assocation rule among variables.                                                            |"
   ]
  },
  {
   "cell_type": "markdown",
   "id": "4253da8d",
   "metadata": {},
   "source": [
    "## 2. Learning Outcomes"
   ]
  },
  {
   "cell_type": "markdown",
   "id": "6192407b",
   "metadata": {},
   "source": [
    "<p>To get the procedure for data mining, from data preparation to analysis and assessment with the application of R.</p>"
   ]
  },
  {
   "cell_type": "markdown",
   "id": "6db80fff",
   "metadata": {},
   "source": [
    "## 3. Assignment 1"
   ]
  },
  {
   "cell_type": "markdown",
   "id": "ec11e03b",
   "metadata": {},
   "source": [
    "<p>Perform classification tree with outliers removal.</p>"
   ]
  },
  {
   "cell_type": "code",
   "execution_count": 3,
   "id": "8dad9472",
   "metadata": {},
   "outputs": [
    {
     "data": {
      "text/html": [
       "<style>\n",
       ".list-inline {list-style: none; margin:0; padding: 0}\n",
       ".list-inline>li {display: inline-block}\n",
       ".list-inline>li:not(:last-child)::after {content: \"\\00b7\"; padding: 0 .5ex}\n",
       "</style>\n",
       "<ol class=list-inline><li>45211</li><li>12</li></ol>\n"
      ],
      "text/latex": [
       "\\begin{enumerate*}\n",
       "\\item 45211\n",
       "\\item 12\n",
       "\\end{enumerate*}\n"
      ],
      "text/markdown": [
       "1. 45211\n",
       "2. 12\n",
       "\n",
       "\n"
      ],
      "text/plain": [
       "[1] 45211    12"
      ]
     },
     "metadata": {},
     "output_type": "display_data"
    },
    {
     "data": {
      "text/html": [
       "<style>\n",
       ".list-inline {list-style: none; margin:0; padding: 0}\n",
       ".list-inline>li {display: inline-block}\n",
       ".list-inline>li:not(:last-child)::after {content: \"\\00b7\"; padding: 0 .5ex}\n",
       "</style>\n",
       "<ol class=list-inline><li>45211</li><li>12</li></ol>\n"
      ],
      "text/latex": [
       "\\begin{enumerate*}\n",
       "\\item 45211\n",
       "\\item 12\n",
       "\\end{enumerate*}\n"
      ],
      "text/markdown": [
       "1. 45211\n",
       "2. 12\n",
       "\n",
       "\n"
      ],
      "text/plain": [
       "[1] 45211    12"
      ]
     },
     "metadata": {},
     "output_type": "display_data"
    },
    {
     "data": {
      "text/html": [
       "<style>\n",
       ".list-inline {list-style: none; margin:0; padding: 0}\n",
       ".list-inline>li {display: inline-block}\n",
       ".list-inline>li:not(:last-child)::after {content: \"\\00b7\"; padding: 0 .5ex}\n",
       "</style>\n",
       "<ol class=list-inline><li>39922</li><li>12</li></ol>\n"
      ],
      "text/latex": [
       "\\begin{enumerate*}\n",
       "\\item 39922\n",
       "\\item 12\n",
       "\\end{enumerate*}\n"
      ],
      "text/markdown": [
       "1. 39922\n",
       "2. 12\n",
       "\n",
       "\n"
      ],
      "text/plain": [
       "[1] 39922    12"
      ]
     },
     "metadata": {},
     "output_type": "display_data"
    },
    {
     "data": {
      "text/html": [
       "<style>\n",
       ".list-inline {list-style: none; margin:0; padding: 0}\n",
       ".list-inline>li {display: inline-block}\n",
       ".list-inline>li:not(:last-child)::after {content: \"\\00b7\"; padding: 0 .5ex}\n",
       "</style>\n",
       "<ol class=list-inline><li>5289</li><li>12</li></ol>\n"
      ],
      "text/latex": [
       "\\begin{enumerate*}\n",
       "\\item 5289\n",
       "\\item 12\n",
       "\\end{enumerate*}\n"
      ],
      "text/markdown": [
       "1. 5289\n",
       "2. 12\n",
       "\n",
       "\n"
      ],
      "text/plain": [
       "[1] 5289   12"
      ]
     },
     "metadata": {},
     "output_type": "display_data"
    }
   ],
   "source": [
    "#Read data and save in d\n",
    "d<-read.csv(\"bank-market.csv\",na.strings=\"\")\n",
    "#Display dimension of d\n",
    "dim(d)\n",
    "\n",
    "#Filter out missing values\n",
    "#Select and save complete cases as dc\n",
    "dc<-d[complete.cases(d),]\n",
    "#Display the dimension of dc\n",
    "dim(dc)\n",
    "\n",
    "#Deposit is the target variable\n",
    "#Select deposit=0 \n",
    "d0<-dc[(dc$deposit)==\"no\",]\n",
    "#Display the dimension of d0\n",
    "dim(d0)\n",
    "\n",
    "#Select deposit=1\n",
    "d1<-dc[(dc$deposit)==\"yes\",]\n",
    "#Display the dimension of d1\n",
    "dim(d1)"
   ]
  },
  {
   "cell_type": "markdown",
   "id": "8578c9bf",
   "metadata": {},
   "source": [
    "<br></br>\n",
    "<p>Display the dimension of data.</p>\n",
    "<br></br>"
   ]
  },
  {
   "cell_type": "code",
   "execution_count": 5,
   "id": "6daa3ab7",
   "metadata": {
    "scrolled": false
   },
   "outputs": [
    {
     "data": {
      "image/png": "[encoded data removed]",
      "text/plain": [
       "plot without title"
      ]
     },
     "metadata": {
      "image/png": {
       "height": 420,
       "width": 420
      }
     },
     "output_type": "display_data"
    }
   ],
   "source": [
    "#output mahalanobis distance of x\n",
    "#Transform x to a matrix\n",
    "#compute column mean\n",
    "#compute sample covariance matrit\n",
    "#Using built-in mahalanobis function\n",
    "mdist<-function(x) {\n",
    "  t<-as.matrix(x)\n",
    "  m<-apply(t,2,mean)\n",
    "  s<-var(t)\n",
    "  mahalanobis(t,m,s)\n",
    "}\n",
    "\n",
    "#Load the mdist function for d0 &d1\n",
    "#Compute distance and include column 1,4,7 and save to md0 and md1\n",
    "md0<-mdist(d0[,c(1,4,7)])\n",
    "md1<-mdist(d1[,c(1,4,7)])\n",
    "\n",
    "#Overview of md0 and md1\n",
    "#set up a 2x1 multframe graphic\n",
    "par(mfrow=c(2,1))\n",
    "\n",
    "#Plot md0\n",
    "plot(md0)\n",
    "\n",
    "#Plot md1\n",
    "plot(md1)"
   ]
  },
  {
   "cell_type": "markdown",
   "id": "c1959668",
   "metadata": {},
   "source": [
    "<br></br>\n",
    "<p>Show the outliers calculated by Mahalanobis method with plots.</p>\n",
    "<br></br>"
   ]
  },
  {
   "cell_type": "code",
   "execution_count": 6,
   "id": "ee393ab9",
   "metadata": {},
   "outputs": [
    {
     "data": {
      "text/html": [
       "11.3448667301444"
      ],
      "text/latex": [
       "11.3448667301444"
      ],
      "text/markdown": [
       "11.3448667301444"
      ],
      "text/plain": [
       "[1] 11.34487"
      ]
     },
     "metadata": {},
     "output_type": "display_data"
    },
    {
     "data": {
      "text/html": [
       "<style>\n",
       ".list-inline {list-style: none; margin:0; padding: 0}\n",
       ".list-inline>li {display: inline-block}\n",
       ".list-inline>li:not(:last-child)::after {content: \"\\00b7\"; padding: 0 .5ex}\n",
       "</style>\n",
       "<ol class=list-inline><li>38490</li><li>12</li></ol>\n"
      ],
      "text/latex": [
       "\\begin{enumerate*}\n",
       "\\item 38490\n",
       "\\item 12\n",
       "\\end{enumerate*}\n"
      ],
      "text/markdown": [
       "1. 38490\n",
       "2. 12\n",
       "\n",
       "\n"
      ],
      "text/plain": [
       "[1] 38490    12"
      ]
     },
     "metadata": {},
     "output_type": "display_data"
    },
    {
     "data": {
      "text/html": [
       "<style>\n",
       ".list-inline {list-style: none; margin:0; padding: 0}\n",
       ".list-inline>li {display: inline-block}\n",
       ".list-inline>li:not(:last-child)::after {content: \"\\00b7\"; padding: 0 .5ex}\n",
       "</style>\n",
       "<ol class=list-inline><li>5150</li><li>12</li></ol>\n"
      ],
      "text/latex": [
       "\\begin{enumerate*}\n",
       "\\item 5150\n",
       "\\item 12\n",
       "\\end{enumerate*}\n"
      ],
      "text/markdown": [
       "1. 5150\n",
       "2. 12\n",
       "\n",
       "\n"
      ],
      "text/plain": [
       "[1] 5150   12"
      ]
     },
     "metadata": {},
     "output_type": "display_data"
    },
    {
     "data": {
      "text/html": [
       "<style>\n",
       ".list-inline {list-style: none; margin:0; padding: 0}\n",
       ".list-inline>li {display: inline-block}\n",
       ".list-inline>li:not(:last-child)::after {content: \"\\00b7\"; padding: 0 .5ex}\n",
       "</style>\n",
       "<ol class=list-inline><li>43640</li><li>12</li></ol>\n"
      ],
      "text/latex": [
       "\\begin{enumerate*}\n",
       "\\item 43640\n",
       "\\item 12\n",
       "\\end{enumerate*}\n"
      ],
      "text/markdown": [
       "1. 43640\n",
       "2. 12\n",
       "\n",
       "\n"
      ],
      "text/plain": [
       "[1] 43640    12"
      ]
     },
     "metadata": {},
     "output_type": "display_data"
    },
    {
     "name": "stderr",
     "output_type": "stream",
     "text": [
      "Warning message in write.csv(x, file = \"bank-market1.csv\", sep = \",\", row.names = F):\n",
      "\"attempt to set 'sep' ignored\"\n"
     ]
    }
   ],
   "source": [
    "#Computation of 99-percentile of Chi-square distribution and save to c as a benchmark to filter outliers\n",
    "c<-qchisq(0.99,df=3)\n",
    "c\n",
    "\n",
    "#Values in md0 and md1 which are greater than c will be treated as outliers and filtered out\n",
    "#Select observations with md0<c from d0\n",
    "x0<-d0[md0<c,] \n",
    "#Display dimension of x0\n",
    "dim(x0)\n",
    "\n",
    "#Select observations with md1<c from d1\n",
    "x1<-d1[md1<c,] \n",
    "#Display dimension of x1\n",
    "dim(x1) \n",
    "\n",
    "#Combine x0 and x1 row-wise and save the cleaned data set\n",
    "#Combine x0 and x1 row-wise \n",
    "x<-rbind(x0,x1)\n",
    "#Display dimension of x\n",
    "dim(x)\n",
    "\n",
    "#Save cleaned data set to file \n",
    "write.csv(x,file = \"bank-market1.csv\",sep = \",\", row.names = F)"
   ]
  },
  {
   "cell_type": "markdown",
   "id": "5c0ba15f",
   "metadata": {},
   "source": [
    "<br></br>\n",
    "<p>Display the dimension of data without outliers.</p>\n",
    "<br></br>"
   ]
  },
  {
   "cell_type": "code",
   "execution_count": 7,
   "id": "473bfa42",
   "metadata": {},
   "outputs": [
    {
     "data": {
      "text/html": [
       "43640"
      ],
      "text/latex": [
       "43640"
      ],
      "text/markdown": [
       "43640"
      ],
      "text/plain": [
       "[1] 43640"
      ]
     },
     "metadata": {},
     "output_type": "display_data"
    },
    {
     "data": {
      "text/html": [
       "<style>\n",
       ".list-inline {list-style: none; margin:0; padding: 0}\n",
       ".list-inline>li {display: inline-block}\n",
       ".list-inline>li:not(:last-child)::after {content: \"\\00b7\"; padding: 0 .5ex}\n",
       "</style>\n",
       "<ol class=list-inline><li>'age'</li><li>'marital'</li><li>'education'</li><li>'balance'</li><li>'housing'</li><li>'loan'</li><li>'duration'</li><li>'campaign'</li><li>'pdays'</li><li>'previous'</li><li>'poutcome'</li><li>'deposit'</li></ol>\n"
      ],
      "text/latex": [
       "\\begin{enumerate*}\n",
       "\\item 'age'\n",
       "\\item 'marital'\n",
       "\\item 'education'\n",
       "\\item 'balance'\n",
       "\\item 'housing'\n",
       "\\item 'loan'\n",
       "\\item 'duration'\n",
       "\\item 'campaign'\n",
       "\\item 'pdays'\n",
       "\\item 'previous'\n",
       "\\item 'poutcome'\n",
       "\\item 'deposit'\n",
       "\\end{enumerate*}\n"
      ],
      "text/markdown": [
       "1. 'age'\n",
       "2. 'marital'\n",
       "3. 'education'\n",
       "4. 'balance'\n",
       "5. 'housing'\n",
       "6. 'loan'\n",
       "7. 'duration'\n",
       "8. 'campaign'\n",
       "9. 'pdays'\n",
       "10. 'previous'\n",
       "11. 'poutcome'\n",
       "12. 'deposit'\n",
       "\n",
       "\n"
      ],
      "text/plain": [
       " [1] \"age\"       \"marital\"   \"education\" \"balance\"   \"housing\"   \"loan\"     \n",
       " [7] \"duration\"  \"campaign\"  \"pdays\"     \"previous\"  \"poutcome\"  \"deposit\"  "
      ]
     },
     "metadata": {},
     "output_type": "display_data"
    },
    {
     "data": {
      "text/html": [
       "<style>\n",
       ".list-inline {list-style: none; margin:0; padding: 0}\n",
       ".list-inline>li {display: inline-block}\n",
       ".list-inline>li:not(:last-child)::after {content: \"\\00b7\"; padding: 0 .5ex}\n",
       "</style>\n",
       "<ol class=list-inline><li>34912</li><li>12</li></ol>\n"
      ],
      "text/latex": [
       "\\begin{enumerate*}\n",
       "\\item 34912\n",
       "\\item 12\n",
       "\\end{enumerate*}\n"
      ],
      "text/markdown": [
       "1. 34912\n",
       "2. 12\n",
       "\n",
       "\n"
      ],
      "text/plain": [
       "[1] 34912    12"
      ]
     },
     "metadata": {},
     "output_type": "display_data"
    },
    {
     "data": {
      "text/html": [
       "<style>\n",
       ".list-inline {list-style: none; margin:0; padding: 0}\n",
       ".list-inline>li {display: inline-block}\n",
       ".list-inline>li:not(:last-child)::after {content: \"\\00b7\"; padding: 0 .5ex}\n",
       "</style>\n",
       "<ol class=list-inline><li>8728</li><li>12</li></ol>\n"
      ],
      "text/latex": [
       "\\begin{enumerate*}\n",
       "\\item 8728\n",
       "\\item 12\n",
       "\\end{enumerate*}\n"
      ],
      "text/markdown": [
       "1. 8728\n",
       "2. 12\n",
       "\n",
       "\n"
      ],
      "text/plain": [
       "[1] 8728   12"
      ]
     },
     "metadata": {},
     "output_type": "display_data"
    },
    {
     "name": "stderr",
     "output_type": "stream",
     "text": [
      "Installing package into 'C:/Users/Tiffany Chung/Documents/R/win-library/4.1'\n",
      "(as 'lib' is unspecified)\n",
      "\n"
     ]
    },
    {
     "name": "stdout",
     "output_type": "stream",
     "text": [
      "package 'rpart' successfully unpacked and MD5 sums checked\n",
      "\n",
      "The downloaded binary packages are in\n",
      "\tC:\\Users\\Tiffany Chung\\AppData\\Local\\Temp\\RtmpUbjb4L\\downloaded_packages\n"
     ]
    },
    {
     "name": "stderr",
     "output_type": "stream",
     "text": [
      "Installing package into 'C:/Users/Tiffany Chung/Documents/R/win-library/4.1'\n",
      "(as 'lib' is unspecified)\n",
      "\n"
     ]
    },
    {
     "name": "stdout",
     "output_type": "stream",
     "text": [
      "package 'rpart.plot' successfully unpacked and MD5 sums checked\n",
      "\n",
      "The downloaded binary packages are in\n",
      "\tC:\\Users\\Tiffany Chung\\AppData\\Local\\Temp\\RtmpUbjb4L\\downloaded_packages\n",
      "n= 34912 \n",
      "\n",
      "node), split, n, loss, yval, (yprob)\n",
      "      * denotes terminal node\n",
      "\n",
      " 1) root 34912 4099 no (0.88259051 0.11740949)  \n",
      "   2) duration< 613.5 32677 2772 no (0.91516969 0.08483031)  \n",
      "     4) poutcome=failure,other,unknown 31655 2111 no (0.93331227 0.06668773) *\n",
      "     5) poutcome=success 1022  361 yes (0.35322896 0.64677104)  \n",
      "      10) duration< 132.5 181   39 no (0.78453039 0.21546961) *\n",
      "      11) duration>=132.5 841  219 yes (0.26040428 0.73959572) *\n",
      "   3) duration>=613.5 2235  908 yes (0.40626398 0.59373602)  \n",
      "     6) duration< 892.5 1591  695 no (0.56316782 0.43683218)  \n",
      "      12) poutcome=failure,other,unknown 1520  633 no (0.58355263 0.41644737) *\n",
      "      13) poutcome=success 71    9 yes (0.12676056 0.87323944) *\n",
      "     7) duration>=892.5 644   12 yes (0.01863354 0.98136646) *\n"
     ]
    },
    {
     "data": {
      "text/plain": [
       "   \n",
       "cl1    no   yes\n",
       "  1 30573  2783\n",
       "  2   240  1316"
      ]
     },
     "metadata": {},
     "output_type": "display_data"
    },
    {
     "data": {
      "text/plain": [
       "   \n",
       "cl2   no  yes\n",
       "  1 7592  701\n",
       "  2   85  350"
      ]
     },
     "metadata": {},
     "output_type": "display_data"
    },
    {
     "data": {
      "image/png": "[encoded data removed]",
      "text/plain": [
       "plot without title"
      ]
     },
     "metadata": {
      "image/png": {
       "height": 420,
       "width": 420
      }
     },
     "output_type": "display_data"
    }
   ],
   "source": [
    "#Read data and save in d\n",
    "x<-read.csv(\"bank-market1.csv\",na.strings=\"\")\n",
    "#Get and display no. of rows\n",
    "(n<-nrow(x))\n",
    "#Display column names \n",
    "names(x)\n",
    "\n",
    "\n",
    "#Partition x into 80% of d1 as training data set and 20% of d2 as testing data set\n",
    "#Set the random seed\n",
    "set.seed(34224)\n",
    "#Set sampling ratio\n",
    "r<-0.8\n",
    "#Sample r*n random integers from 1 to n\n",
    "id<-sample(1:n,size=round(r*n),replace=F)\n",
    "#Traning dataset\n",
    "d1<-x[id,]\n",
    "#Testing dataset\n",
    "d2<-x[-id,]\n",
    "#Display dimension of d1 and d2\n",
    "dim(d1)\n",
    "dim(d2)\n",
    "\n",
    "#Build a ctree for training data set d1\n",
    "#Prepare to build a ctree\n",
    "install.packages(\"rpart\")\n",
    "install.packages(\"rpart.plot\")\n",
    "library(rpart)\n",
    "library(rpart.plot)\n",
    "\n",
    "#Create target y\n",
    "y<-d1$deposit\n",
    "\n",
    "#Build a ctree by rpart\n",
    "ctree<-rpart(y~.,data=d1[,1:11],method=\"class\")\n",
    "\n",
    "#Plot the ctree\n",
    "rpart.plot(ctree,extra=101,box.palette = \"Grays\")\n",
    "\n",
    "#Print the ctree\n",
    "print(ctree)\n",
    "\n",
    "#Produce classification table for d1 and d2\n",
    "#Prediction on training dataset d1\n",
    "pr1<-predict(ctree)\n",
    "#Find col. index of max in each row of pr\n",
    "cl1<-max.col(pr1)\n",
    "#Classification table of d1\n",
    "table(cl1,d1$deposit)\n",
    "\n",
    "#Prediction on training dataset d2\n",
    "pr2<-predict(ctree,d2)\n",
    "#Find col. index of max in each row of pr\n",
    "cl2<-max.col(pr2)\n",
    "#Classification table of d2\n",
    "table(cl2,d2$deposit) "
   ]
  },
  {
   "cell_type": "markdown",
   "id": "7ed0db35",
   "metadata": {},
   "source": [
    "<br></br>\n",
    "<p>Display the result of classification tree with classification tables and tree plot.</p>\n",
    "<br></br>"
   ]
  },
  {
   "cell_type": "markdown",
   "id": "85244765",
   "metadata": {},
   "source": [
    "## 4. Assignment 2"
   ]
  },
  {
   "cell_type": "markdown",
   "id": "599bb389",
   "metadata": {},
   "source": [
    "<p>Perform K-nearest Neighbour and Naïve Bayes Classifier with outliers removal.</p>"
   ]
  },
  {
   "cell_type": "code",
   "execution_count": 12,
   "id": "e78d4a00",
   "metadata": {},
   "outputs": [
    {
     "data": {
      "text/html": [
       "43640"
      ],
      "text/latex": [
       "43640"
      ],
      "text/markdown": [
       "43640"
      ],
      "text/plain": [
       "[1] 43640"
      ]
     },
     "metadata": {},
     "output_type": "display_data"
    },
    {
     "data": {
      "text/html": [
       "<style>\n",
       ".list-inline {list-style: none; margin:0; padding: 0}\n",
       ".list-inline>li {display: inline-block}\n",
       ".list-inline>li:not(:last-child)::after {content: \"\\00b7\"; padding: 0 .5ex}\n",
       "</style>\n",
       "<ol class=list-inline><li>'age'</li><li>'marital'</li><li>'education'</li><li>'balance'</li><li>'housing'</li><li>'loan'</li><li>'duration'</li><li>'campaign'</li><li>'pdays'</li><li>'previous'</li><li>'poutcome'</li><li>'deposit'</li></ol>\n"
      ],
      "text/latex": [
       "\\begin{enumerate*}\n",
       "\\item 'age'\n",
       "\\item 'marital'\n",
       "\\item 'education'\n",
       "\\item 'balance'\n",
       "\\item 'housing'\n",
       "\\item 'loan'\n",
       "\\item 'duration'\n",
       "\\item 'campaign'\n",
       "\\item 'pdays'\n",
       "\\item 'previous'\n",
       "\\item 'poutcome'\n",
       "\\item 'deposit'\n",
       "\\end{enumerate*}\n"
      ],
      "text/markdown": [
       "1. 'age'\n",
       "2. 'marital'\n",
       "3. 'education'\n",
       "4. 'balance'\n",
       "5. 'housing'\n",
       "6. 'loan'\n",
       "7. 'duration'\n",
       "8. 'campaign'\n",
       "9. 'pdays'\n",
       "10. 'previous'\n",
       "11. 'poutcome'\n",
       "12. 'deposit'\n",
       "\n",
       "\n"
      ],
      "text/plain": [
       " [1] \"age\"       \"marital\"   \"education\" \"balance\"   \"housing\"   \"loan\"     \n",
       " [7] \"duration\"  \"campaign\"  \"pdays\"     \"previous\"  \"poutcome\"  \"deposit\"  "
      ]
     },
     "metadata": {},
     "output_type": "display_data"
    },
    {
     "data": {
      "text/html": [
       "<style>\n",
       ".list-inline {list-style: none; margin:0; padding: 0}\n",
       ".list-inline>li {display: inline-block}\n",
       ".list-inline>li:not(:last-child)::after {content: \"\\00b7\"; padding: 0 .5ex}\n",
       "</style>\n",
       "<ol class=list-inline><li>34912</li><li>12</li></ol>\n"
      ],
      "text/latex": [
       "\\begin{enumerate*}\n",
       "\\item 34912\n",
       "\\item 12\n",
       "\\end{enumerate*}\n"
      ],
      "text/markdown": [
       "1. 34912\n",
       "2. 12\n",
       "\n",
       "\n"
      ],
      "text/plain": [
       "[1] 34912    12"
      ]
     },
     "metadata": {},
     "output_type": "display_data"
    },
    {
     "data": {
      "text/html": [
       "<style>\n",
       ".list-inline {list-style: none; margin:0; padding: 0}\n",
       ".list-inline>li {display: inline-block}\n",
       ".list-inline>li:not(:last-child)::after {content: \"\\00b7\"; padding: 0 .5ex}\n",
       "</style>\n",
       "<ol class=list-inline><li>8728</li><li>12</li></ol>\n"
      ],
      "text/latex": [
       "\\begin{enumerate*}\n",
       "\\item 8728\n",
       "\\item 12\n",
       "\\end{enumerate*}\n"
      ],
      "text/markdown": [
       "1. 8728\n",
       "2. 12\n",
       "\n",
       "\n"
      ],
      "text/plain": [
       "[1] 8728   12"
      ]
     },
     "metadata": {},
     "output_type": "display_data"
    }
   ],
   "source": [
    "#Read data and save in d\n",
    "d<-read.csv(\"bank-market1.csv\",na.strings=\"\")\n",
    "#Get and display no. of rows\n",
    "(n<-nrow(d))\n",
    "#Display column names \n",
    "names(d)\n",
    "\n",
    "\n",
    "#Partition x into 80% of d1 as training dataset and 20% of d2 as testing dataset\n",
    "#Set the random seed\n",
    "set.seed(34224)\n",
    "#Set sampling ratio\n",
    "r<-0.8\n",
    "#Sample r*n random integers from 1 to n\n",
    "id<-sample(1:n,size=round(r*n),replace=F)\n",
    "#Training dataset\n",
    "d1<-d[id,]\n",
    "#Testing dataset\n",
    "d2<-d[-id,]\n",
    "#Display dimension of d1 and d2\n",
    "dim(d1)\n",
    "dim(d2)"
   ]
  },
  {
   "cell_type": "markdown",
   "id": "816f6d03",
   "metadata": {},
   "source": [
    "<br></br>\n",
    "<p>Display the dimension of data.</p>\n",
    "<br></br>"
   ]
  },
  {
   "cell_type": "code",
   "execution_count": 13,
   "id": "3945ade9",
   "metadata": {
    "scrolled": false
   },
   "outputs": [
    {
     "name": "stderr",
     "output_type": "stream",
     "text": [
      "Warning message:\n",
      "\"package 'class' is in use and will not be installed\"\n"
     ]
    },
    {
     "name": "stdout",
     "output_type": "stream",
     "text": [
      "k= 1  error rate= 0.1099908 \n",
      "k= 2  error rate= 0.109418 \n",
      "k= 3  error rate= 0.1004812 \n",
      "k= 4  error rate= 0.1016269 \n",
      "k= 5  error rate= 0.09967919 \n",
      "best k= 5  error rate= 0.09967919 \n"
     ]
    },
    {
     "data": {
      "text/plain": [
       "        \n",
       "bank.knn   no  yes\n",
       "     no  7527  720\n",
       "     yes  150  331"
      ]
     },
     "metadata": {},
     "output_type": "display_data"
    }
   ],
   "source": [
    "#Select columns 1, 4 and 7 to 10 from d1 and d2 and scale them using scale.con() function\n",
    "#Function to scale continuous or ordinal variables to [0,1]\n",
    "scale.con<-function(d) {\n",
    "#Row dim of d\n",
    "  n<-dim(d)[1]\n",
    "#Column dim of d\n",
    "  p<-dim(d)[2]\t\t\n",
    "#Column min of d  \n",
    "  cmin<-apply(d,2,min)\n",
    "#column max of d\n",
    "  cmax<-apply(d,2,max)\n",
    "#Column range\n",
    "  range<-cmax-cmin\n",
    "#Change cmin to a nxp matrix\n",
    "  cmin<-matrix(cmin,nr=n,nc=p,byrow=T)\n",
    "#Change range to a nxp matrix\n",
    "  range<-matrix(range,nr=n,nc=p,byrow=T)  \n",
    "#Transform d  \n",
    "  (d-cmin)/range\t\n",
    "}  \n",
    "#Select columns 1, 4 and 7 to 10\n",
    "z1<-scale.con(d1[,c(1,4,7,8,9,10)])\n",
    "z2<-scale.con(d2[,c(1,4,7,8,9,10)])\n",
    "\n",
    "#Installation and load reqiured package for knn\n",
    "install.packages(\"class\")\n",
    "library(class)\n",
    "\n",
    "#Use the improve k_nn() function to perform knn with v=5\n",
    "#Improved version of knn\n",
    "#v is an integer vector containing all the value of k to be tested\n",
    "#cl0, cl1 are class label for train and test data\n",
    "#if k is an integer, 1 to k is assumed\n",
    "#Return the k with least error rate\n",
    "\n",
    "k_nn<-function(x0,x1,cl0,cl1,v,l=0,prob=F,use.all=T) {\n",
    "#Initialize error rate\n",
    "  err0=1\n",
    "#Change v to an integer vector 1:v\n",
    "  if (length(v)==1) v<-c(1:v)\t\t\n",
    "  \n",
    "  for (k in v) {\t\n",
    "#Apply knn\n",
    "    res<-knn(x0,x1,cl0,k,l,prob,use.all)\n",
    "#Save c-table\n",
    "    ctab<-table(res,cl1)\n",
    "#Compute error rate\n",
    "    err<-1-sum(diag(ctab))/sum(ctab)\n",
    "#Update if err<err0\n",
    "    if (err<err0) {\t\t\t\n",
    "      k0<-k\n",
    "      res0<-res\n",
    "      err0<-err\n",
    "      ctab0<-ctab\n",
    "    }\n",
    "#Display results\n",
    "    cat(\"k=\",k,\" error rate=\",err,\"\\n\")\t\t\n",
    "  }\n",
    "#Display best result\n",
    "  cat(\"best k=\",k0,\" error rate=\",err0,\"\\n\")\n",
    "#Output res0\n",
    "  res0\t\t\t\t\t\n",
    "}\n",
    "\n",
    "#Apply k_nn on data\n",
    "bank.knn<-k_nn(z1,z2,d1[,12],d2[,12],v=5)\n",
    "\n",
    "#Misclassification table\n",
    "table(bank.knn,d2[,12])"
   ]
  },
  {
   "cell_type": "markdown",
   "id": "a63e0bd6",
   "metadata": {},
   "source": [
    "<br></br>\n",
    "<p>Perform K-nearest Neighbour with normalised data.</p>\n",
    "<br></br>"
   ]
  },
  {
   "cell_type": "code",
   "execution_count": 14,
   "id": "f4d61090",
   "metadata": {},
   "outputs": [
    {
     "name": "stdout",
     "output_type": "stream",
     "text": [
      "k= 1  error rate= 0.1119386 \n",
      "k= 2  error rate= 0.1112511 \n",
      "k= 3  error rate= 0.1007104 \n",
      "k= 4  error rate= 0.1019707 \n",
      "k= 5  error rate= 0.09956462 \n",
      "best k= 5  error rate= 0.09956462 \n"
     ]
    },
    {
     "data": {
      "text/plain": [
       "         \n",
       "bank1.knn   no  yes\n",
       "      no  7537  729\n",
       "      yes  140  322"
      ]
     },
     "metadata": {},
     "output_type": "display_data"
    }
   ],
   "source": [
    "#Using stand() function for improved knn\n",
    "#Function for standardize transformation\n",
    "stand<-function(x) {\n",
    "#Row dim of x\n",
    "  n<-dim(x)[1]\n",
    "#Column dim of x\n",
    "  p<-dim(x)[2]\n",
    "#Compute column mean\n",
    "  m<-apply(x,2,mean)\n",
    "#Compute column sd\n",
    "  s<-apply(x,2,sd)\n",
    "#Convert m into nxp matrix, each row is m\n",
    "  m<-matrix(m,nr=n,nc=p,byrow=T)\n",
    "#Convert s into nxp matrix, each row is s\n",
    "  s<-matrix(s,nr=n,nc=p,byrow=T)\n",
    "#Output standardize score\n",
    "  (x-m)/s\t\t\n",
    "}\n",
    "\n",
    "#Appy stand() function on data\n",
    "# Combine z1 and z2 row-wise\n",
    "x<-rbind(z1,z2)\n",
    "#Get row dim of x\n",
    "n<-dim(x)[1]\n",
    "#Get row dim of z1\n",
    "n1<-dim(z1)[1]\n",
    "#Standardize x\n",
    "y<-stand(x)\n",
    "#Get y1 from y for training data\n",
    "y1<-y[1:n1,]\n",
    "#Get y2 from 2 for testing data\n",
    "y2<-y[(n1+1):n,]\t\n",
    "\n",
    "#Use the improve k_nn() function to perform knn with v=5 with standization\n",
    "bank1.knn<-k_nn(y1,y2,d1[,12],d2[,12],v=5)\n",
    "\n",
    "#Misclassification table\n",
    "table(bank1.knn,d2[,12])"
   ]
  },
  {
   "cell_type": "markdown",
   "id": "51f377b0",
   "metadata": {},
   "source": [
    "<br></br>\n",
    "<p>Perform K-nearest Neighbour with standardised data.</p>\n",
    "<br></br>"
   ]
  },
  {
   "cell_type": "markdown",
   "id": "66a40a70",
   "metadata": {},
   "source": [
    "## 5. Assignment 3"
   ]
  },
  {
   "cell_type": "markdown",
   "id": "70cfa8e8",
   "metadata": {},
   "source": [
    "<p>Perform Logistic Regression, Artificial Neural Network and K-means Clustering with outliers removal.</p>"
   ]
  },
  {
   "cell_type": "code",
   "execution_count": 31,
   "id": "1680e82a",
   "metadata": {},
   "outputs": [
    {
     "data": {
      "text/html": [
       "43640"
      ],
      "text/latex": [
       "43640"
      ],
      "text/markdown": [
       "43640"
      ],
      "text/plain": [
       "[1] 43640"
      ]
     },
     "metadata": {},
     "output_type": "display_data"
    },
    {
     "data": {
      "text/html": [
       "<style>\n",
       ".list-inline {list-style: none; margin:0; padding: 0}\n",
       ".list-inline>li {display: inline-block}\n",
       ".list-inline>li:not(:last-child)::after {content: \"\\00b7\"; padding: 0 .5ex}\n",
       "</style>\n",
       "<ol class=list-inline><li>'age'</li><li>'marital'</li><li>'education'</li><li>'balance'</li><li>'housing'</li><li>'loan'</li><li>'duration'</li><li>'campaign'</li><li>'pdays'</li><li>'previous'</li><li>'poutcome'</li><li>'deposit'</li></ol>\n"
      ],
      "text/latex": [
       "\\begin{enumerate*}\n",
       "\\item 'age'\n",
       "\\item 'marital'\n",
       "\\item 'education'\n",
       "\\item 'balance'\n",
       "\\item 'housing'\n",
       "\\item 'loan'\n",
       "\\item 'duration'\n",
       "\\item 'campaign'\n",
       "\\item 'pdays'\n",
       "\\item 'previous'\n",
       "\\item 'poutcome'\n",
       "\\item 'deposit'\n",
       "\\end{enumerate*}\n"
      ],
      "text/markdown": [
       "1. 'age'\n",
       "2. 'marital'\n",
       "3. 'education'\n",
       "4. 'balance'\n",
       "5. 'housing'\n",
       "6. 'loan'\n",
       "7. 'duration'\n",
       "8. 'campaign'\n",
       "9. 'pdays'\n",
       "10. 'previous'\n",
       "11. 'poutcome'\n",
       "12. 'deposit'\n",
       "\n",
       "\n"
      ],
      "text/plain": [
       " [1] \"age\"       \"marital\"   \"education\" \"balance\"   \"housing\"   \"loan\"     \n",
       " [7] \"duration\"  \"campaign\"  \"pdays\"     \"previous\"  \"poutcome\"  \"deposit\"  "
      ]
     },
     "metadata": {},
     "output_type": "display_data"
    },
    {
     "data": {
      "text/plain": [
       "\n",
       "Call:\n",
       "glm(formula = deposit ~ age + balance + duration + campaign + \n",
       "    pdays + previous, family = binomial(), data = d1)\n",
       "\n",
       "Deviance Residuals: \n",
       "    Min       1Q   Median       3Q      Max  \n",
       "-2.7913  -0.4191  -0.2946  -0.2164   3.3968  \n",
       "\n",
       "Coefficients:\n",
       "              Estimate Std. Error z value Pr(>|z|)    \n",
       "(Intercept) -4.232e+00  8.946e-02 -47.311  < 2e-16 ***\n",
       "age          1.038e-02  1.828e-03   5.681 1.34e-08 ***\n",
       "balance      1.385e-04  9.481e-06  14.610  < 2e-16 ***\n",
       "duration     5.500e-03  8.543e-05  64.382  < 2e-16 ***\n",
       "campaign    -1.486e-01  1.186e-02 -12.533  < 2e-16 ***\n",
       "pdays        2.068e-03  1.873e-04  11.038  < 2e-16 ***\n",
       "previous     1.057e-01  8.667e-03  12.193  < 2e-16 ***\n",
       "---\n",
       "Signif. codes:  0 '***' 0.001 '**' 0.01 '*' 0.05 '.' 0.1 ' ' 1\n",
       "\n",
       "(Dispersion parameter for binomial family taken to be 1)\n",
       "\n",
       "    Null deviance: 25258  on 34911  degrees of freedom\n",
       "Residual deviance: 18566  on 34905  degrees of freedom\n",
       "AIC: 18580\n",
       "\n",
       "Number of Fisher Scoring iterations: 6\n"
      ]
     },
     "metadata": {},
     "output_type": "display_data"
    },
    {
     "data": {
      "text/html": [
       "<style>\n",
       ".list-inline {list-style: none; margin:0; padding: 0}\n",
       ".list-inline>li {display: inline-block}\n",
       ".list-inline>li:not(:last-child)::after {content: \"\\00b7\"; padding: 0 .5ex}\n",
       "</style>\n",
       "<ol class=list-inline><li>'coefficients'</li><li>'residuals'</li><li>'fitted.values'</li><li>'effects'</li><li>'R'</li><li>'rank'</li><li>'qr'</li><li>'family'</li><li>'linear.predictors'</li><li>'deviance'</li><li>'aic'</li><li>'null.deviance'</li><li>'iter'</li><li>'weights'</li><li>'prior.weights'</li><li>'df.residual'</li><li>'df.null'</li><li>'y'</li><li>'converged'</li><li>'boundary'</li><li>'model'</li><li>'call'</li><li>'formula'</li><li>'terms'</li><li>'data'</li><li>'offset'</li><li>'control'</li><li>'method'</li><li>'contrasts'</li><li>'xlevels'</li></ol>\n"
      ],
      "text/latex": [
       "\\begin{enumerate*}\n",
       "\\item 'coefficients'\n",
       "\\item 'residuals'\n",
       "\\item 'fitted.values'\n",
       "\\item 'effects'\n",
       "\\item 'R'\n",
       "\\item 'rank'\n",
       "\\item 'qr'\n",
       "\\item 'family'\n",
       "\\item 'linear.predictors'\n",
       "\\item 'deviance'\n",
       "\\item 'aic'\n",
       "\\item 'null.deviance'\n",
       "\\item 'iter'\n",
       "\\item 'weights'\n",
       "\\item 'prior.weights'\n",
       "\\item 'df.residual'\n",
       "\\item 'df.null'\n",
       "\\item 'y'\n",
       "\\item 'converged'\n",
       "\\item 'boundary'\n",
       "\\item 'model'\n",
       "\\item 'call'\n",
       "\\item 'formula'\n",
       "\\item 'terms'\n",
       "\\item 'data'\n",
       "\\item 'offset'\n",
       "\\item 'control'\n",
       "\\item 'method'\n",
       "\\item 'contrasts'\n",
       "\\item 'xlevels'\n",
       "\\end{enumerate*}\n"
      ],
      "text/markdown": [
       "1. 'coefficients'\n",
       "2. 'residuals'\n",
       "3. 'fitted.values'\n",
       "4. 'effects'\n",
       "5. 'R'\n",
       "6. 'rank'\n",
       "7. 'qr'\n",
       "8. 'family'\n",
       "9. 'linear.predictors'\n",
       "10. 'deviance'\n",
       "11. 'aic'\n",
       "12. 'null.deviance'\n",
       "13. 'iter'\n",
       "14. 'weights'\n",
       "15. 'prior.weights'\n",
       "16. 'df.residual'\n",
       "17. 'df.null'\n",
       "18. 'y'\n",
       "19. 'converged'\n",
       "20. 'boundary'\n",
       "21. 'model'\n",
       "22. 'call'\n",
       "23. 'formula'\n",
       "24. 'terms'\n",
       "25. 'data'\n",
       "26. 'offset'\n",
       "27. 'control'\n",
       "28. 'method'\n",
       "29. 'contrasts'\n",
       "30. 'xlevels'\n",
       "\n",
       "\n"
      ],
      "text/plain": [
       " [1] \"coefficients\"      \"residuals\"         \"fitted.values\"    \n",
       " [4] \"effects\"           \"R\"                 \"rank\"             \n",
       " [7] \"qr\"                \"family\"            \"linear.predictors\"\n",
       "[10] \"deviance\"          \"aic\"               \"null.deviance\"    \n",
       "[13] \"iter\"              \"weights\"           \"prior.weights\"    \n",
       "[16] \"df.residual\"       \"df.null\"           \"y\"                \n",
       "[19] \"converged\"         \"boundary\"          \"model\"            \n",
       "[22] \"call\"              \"formula\"           \"terms\"            \n",
       "[25] \"data\"              \"offset\"            \"control\"          \n",
       "[28] \"method\"            \"contrasts\"         \"xlevels\"          "
      ]
     },
     "metadata": {},
     "output_type": "display_data"
    },
    {
     "data": {
      "text/plain": [
       "       \n",
       "pr3        no   yes\n",
       "  FALSE 30266  2965\n",
       "  TRUE    547  1134"
      ]
     },
     "metadata": {},
     "output_type": "display_data"
    },
    {
     "data": {
      "text/html": [
       "<style>\n",
       ".dl-inline {width: auto; margin:0; padding: 0}\n",
       ".dl-inline>dt, .dl-inline>dd {float: none; width: auto; display: inline-block}\n",
       ".dl-inline>dt::after {content: \":\\0020\"; padding-right: .5ex}\n",
       ".dl-inline>dt:not(:first-of-type) {padding-left: .5ex}\n",
       "</style><dl class=dl-inline><dt>(Intercept)</dt><dd>-4.23242227681049</dd><dt>age</dt><dd>0.0103833744925438</dd><dt>balance</dt><dd>0.000138520501295196</dd><dt>duration</dt><dd>0.005500412283286</dd><dt>campaign</dt><dd>-0.14859451440265</dd><dt>pdays</dt><dd>0.00206783776156101</dd><dt>previous</dt><dd>0.1056731701597</dd></dl>\n"
      ],
      "text/latex": [
       "\\begin{description*}\n",
       "\\item[(Intercept)] -4.23242227681049\n",
       "\\item[age] 0.0103833744925438\n",
       "\\item[balance] 0.000138520501295196\n",
       "\\item[duration] 0.005500412283286\n",
       "\\item[campaign] -0.14859451440265\n",
       "\\item[pdays] 0.00206783776156101\n",
       "\\item[previous] 0.1056731701597\n",
       "\\end{description*}\n"
      ],
      "text/markdown": [
       "(Intercept)\n",
       ":   -4.23242227681049age\n",
       ":   0.0103833744925438balance\n",
       ":   0.000138520501295196duration\n",
       ":   0.005500412283286campaign\n",
       ":   -0.14859451440265pdays\n",
       ":   0.00206783776156101previous\n",
       ":   0.1056731701597\n",
       "\n"
      ],
      "text/plain": [
       "  (Intercept)           age       balance      duration      campaign \n",
       "-4.2324222768  0.0103833745  0.0001385205  0.0055004123 -0.1485945144 \n",
       "        pdays      previous \n",
       " 0.0020678378  0.1056731702 "
      ]
     },
     "metadata": {},
     "output_type": "display_data"
    },
    {
     "data": {
      "text/html": [
       "<style>\n",
       ".list-inline {list-style: none; margin:0; padding: 0}\n",
       ".list-inline>li {display: inline-block}\n",
       ".list-inline>li:not(:last-child)::after {content: \"\\00b7\"; padding: 0 .5ex}\n",
       "</style>\n",
       "<ol class=list-inline><li>'age'</li><li>'marital'</li><li>'education'</li><li>'balance'</li><li>'housing'</li><li>'loan'</li><li>'duration'</li><li>'campaign'</li><li>'pdays'</li><li>'previous'</li><li>'poutcome'</li><li>'deposit'</li></ol>\n"
      ],
      "text/latex": [
       "\\begin{enumerate*}\n",
       "\\item 'age'\n",
       "\\item 'marital'\n",
       "\\item 'education'\n",
       "\\item 'balance'\n",
       "\\item 'housing'\n",
       "\\item 'loan'\n",
       "\\item 'duration'\n",
       "\\item 'campaign'\n",
       "\\item 'pdays'\n",
       "\\item 'previous'\n",
       "\\item 'poutcome'\n",
       "\\item 'deposit'\n",
       "\\end{enumerate*}\n"
      ],
      "text/markdown": [
       "1. 'age'\n",
       "2. 'marital'\n",
       "3. 'education'\n",
       "4. 'balance'\n",
       "5. 'housing'\n",
       "6. 'loan'\n",
       "7. 'duration'\n",
       "8. 'campaign'\n",
       "9. 'pdays'\n",
       "10. 'previous'\n",
       "11. 'poutcome'\n",
       "12. 'deposit'\n",
       "\n",
       "\n"
      ],
      "text/plain": [
       " [1] \"age\"       \"marital\"   \"education\" \"balance\"   \"housing\"   \"loan\"     \n",
       " [7] \"duration\"  \"campaign\"  \"pdays\"     \"previous\"  \"poutcome\"  \"deposit\"  "
      ]
     },
     "metadata": {},
     "output_type": "display_data"
    },
    {
     "data": {
      "text/plain": [
       "       \n",
       "cl        no  yes\n",
       "  FALSE 7531  720\n",
       "  TRUE   146  331"
      ]
     },
     "metadata": {},
     "output_type": "display_data"
    }
   ],
   "source": [
    "#Read data set\n",
    "d<-read.csv(\"bank-market1.csv\")\n",
    "d$deposit<-as.factor(d$deposit)\n",
    "\n",
    "#Q1 Logistic Regression\n",
    "#Get and display sample size\n",
    "(n<-nrow(d))\n",
    "#Display names of d\n",
    "names(d)\n",
    "\n",
    "#Set sampling ratio\n",
    "set.seed(34224)\n",
    "r<-0.8\n",
    "#Generate id\n",
    "id<-sample(1:n,size=round(r*n),replace=F)\n",
    "#Training dataset\n",
    "d1<-d[id,]\n",
    "#Testing dataset\n",
    "d2<-d[-id,]\n",
    "\n",
    "#Fit a logistic regression\n",
    "lreg<-glm(deposit~age+balance+duration+campaign+pdays+previous,data=d1,family=binomial())\n",
    "summary(lreg)\n",
    "\n",
    "#Display items in lreg\n",
    "names(lreg)\n",
    "\n",
    "#pr=T if prob>0.5\n",
    "pr3<-lreg$fit>0.5\n",
    "\n",
    "#Classification table\n",
    "table(pr3,d1$deposit)\n",
    "\n",
    "#Apply the model to d2\n",
    "#Save and display the coefficient\n",
    "(b<-lreg$coef) \n",
    "\n",
    "#Display names in d2\n",
    "names(d2)\n",
    "\n",
    "#Make prediction on d2 by the built model\n",
    "pr4<-predict(lreg,d2)\n",
    "#Compute pr using lecture note(4.3)\n",
    "prob<-exp(pr4)/(1+exp(pr4))\n",
    "#Create label for prediction\n",
    "cl<-prob>0.5 \n",
    "#Classification table for d2\n",
    "table(cl,d2$deposit)"
   ]
  },
  {
   "cell_type": "markdown",
   "id": "996b99ae",
   "metadata": {},
   "source": [
    "<br></br>\n",
    "<p>Perform logistic regression and show its result.</p>\n",
    "<br></br>"
   ]
  },
  {
   "cell_type": "code",
   "execution_count": 37,
   "id": "dbef796b",
   "metadata": {},
   "outputs": [
    {
     "data": {
      "text/plain": [
       "y\n",
       "    1     2 \n",
       "38490  5150 "
      ]
     },
     "metadata": {},
     "output_type": "display_data"
    },
    {
     "data": {
      "text/plain": [
       "y\n",
       "    0     1 \n",
       "38490  5150 "
      ]
     },
     "metadata": {},
     "output_type": "display_data"
    },
    {
     "data": {
      "text/html": [
       "43640"
      ],
      "text/latex": [
       "43640"
      ],
      "text/markdown": [
       "43640"
      ],
      "text/plain": [
       "[1] 43640"
      ]
     },
     "metadata": {},
     "output_type": "display_data"
    },
    {
     "data": {
      "text/html": [
       "<style>\n",
       ".list-inline {list-style: none; margin:0; padding: 0}\n",
       ".list-inline>li {display: inline-block}\n",
       ".list-inline>li:not(:last-child)::after {content: \"\\00b7\"; padding: 0 .5ex}\n",
       "</style>\n",
       "<ol class=list-inline><li>'y'</li><li>'age'</li><li>'marital'</li><li>'education'</li><li>'balance'</li><li>'housing'</li><li>'loan'</li><li>'duration'</li><li>'campaign'</li><li>'pdays'</li><li>'previous'</li><li>'poutcome'</li><li>'deposit'</li></ol>\n"
      ],
      "text/latex": [
       "\\begin{enumerate*}\n",
       "\\item 'y'\n",
       "\\item 'age'\n",
       "\\item 'marital'\n",
       "\\item 'education'\n",
       "\\item 'balance'\n",
       "\\item 'housing'\n",
       "\\item 'loan'\n",
       "\\item 'duration'\n",
       "\\item 'campaign'\n",
       "\\item 'pdays'\n",
       "\\item 'previous'\n",
       "\\item 'poutcome'\n",
       "\\item 'deposit'\n",
       "\\end{enumerate*}\n"
      ],
      "text/markdown": [
       "1. 'y'\n",
       "2. 'age'\n",
       "3. 'marital'\n",
       "4. 'education'\n",
       "5. 'balance'\n",
       "6. 'housing'\n",
       "7. 'loan'\n",
       "8. 'duration'\n",
       "9. 'campaign'\n",
       "10. 'pdays'\n",
       "11. 'previous'\n",
       "12. 'poutcome'\n",
       "13. 'deposit'\n",
       "\n",
       "\n"
      ],
      "text/plain": [
       " [1] \"y\"         \"age\"       \"marital\"   \"education\" \"balance\"   \"housing\"  \n",
       " [7] \"loan\"      \"duration\"  \"campaign\"  \"pdays\"     \"previous\"  \"poutcome\" \n",
       "[13] \"deposit\"  "
      ]
     },
     "metadata": {},
     "output_type": "display_data"
    },
    {
     "data": {
      "text/html": [
       "8103.04478320466"
      ],
      "text/latex": [
       "8103.04478320466"
      ],
      "text/markdown": [
       "8103.04478320466"
      ],
      "text/plain": [
       "[1] 8103.045"
      ]
     },
     "metadata": {},
     "output_type": "display_data"
    },
    {
     "data": {
      "text/plain": [
       "a 6-6-1 network with 49 weights\n",
       "options were - entropy fitting \n",
       "  b->h1  i1->h1  i2->h1  i3->h1  i4->h1  i5->h1  i6->h1 \n",
       " 232.90   -5.06   -9.47  -17.90   62.70 -522.70  -69.98 \n",
       "  b->h2  i1->h2  i2->h2  i3->h2  i4->h2  i5->h2  i6->h2 \n",
       "   2.71   -1.64   -0.20   -2.45   -0.39    4.00   18.82 \n",
       "  b->h3  i1->h3  i2->h3  i3->h3  i4->h3  i5->h3  i6->h3 \n",
       "  -2.40   -1.26    1.49   58.16  -19.56   -6.02   -8.51 \n",
       "  b->h4  i1->h4  i2->h4  i3->h4  i4->h4  i5->h4  i6->h4 \n",
       "  17.62   -1.56  -20.08  -25.61    6.13  -33.40  147.42 \n",
       "  b->h5  i1->h5  i2->h5  i3->h5  i4->h5  i5->h5  i6->h5 \n",
       "   0.74    0.52    0.13   -2.61   -3.20    7.43   30.69 \n",
       "  b->h6  i1->h6  i2->h6  i3->h6  i4->h6  i5->h6  i6->h6 \n",
       "  -0.72   -2.49    0.19    2.63    3.49   -5.58  -19.73 \n",
       "   b->o   h1->o   h2->o   h3->o   h4->o   h5->o   h6->o \n",
       "   0.23   -4.27  -63.30    3.22    1.54   59.74   46.71 "
      ]
     },
     "metadata": {},
     "output_type": "display_data"
    },
    {
     "data": {
      "text/plain": [
       "       y1\n",
       "pred1       0     1\n",
       "  FALSE 30296  2674\n",
       "  TRUE    517  1425"
      ]
     },
     "metadata": {},
     "output_type": "display_data"
    },
    {
     "data": {
      "text/plain": [
       "       y2\n",
       "pred2      0    1\n",
       "  FALSE 7528  651\n",
       "  TRUE   149  400"
      ]
     },
     "metadata": {},
     "output_type": "display_data"
    },
    {
     "data": {
      "text/html": [
       "8046.77771904091"
      ],
      "text/latex": [
       "8046.77771904091"
      ],
      "text/markdown": [
       "8046.77771904091"
      ],
      "text/plain": [
       "[1] 8046.778"
      ]
     },
     "metadata": {},
     "output_type": "display_data"
    },
    {
     "data": {
      "text/plain": [
       "a 6-7-1 network with 57 weights\n",
       "options were - entropy fitting \n",
       "  b->h1  i1->h1  i2->h1  i3->h1  i4->h1  i5->h1  i6->h1 \n",
       "  -3.06    8.67   -4.22   20.75   80.77    8.65 -254.91 \n",
       "  b->h2  i1->h2  i2->h2  i3->h2  i4->h2  i5->h2  i6->h2 \n",
       "   1.57    2.21    1.88  -75.37   11.92    8.27   17.78 \n",
       "  b->h3  i1->h3  i2->h3  i3->h3  i4->h3  i5->h3  i6->h3 \n",
       "   0.04   -4.78   -0.13    3.32    3.69   -2.17   -4.36 \n",
       "  b->h4  i1->h4  i2->h4  i3->h4  i4->h4  i5->h4  i6->h4 \n",
       "   3.81   -2.20   -0.18   -0.65    2.45    0.96    3.00 \n",
       "  b->h5  i1->h5  i2->h5  i3->h5  i4->h5  i5->h5  i6->h5 \n",
       "   3.72   -0.46  -20.76   -6.31    3.62  -80.03 -149.57 \n",
       "  b->h6  i1->h6  i2->h6  i3->h6  i4->h6  i5->h6  i6->h6 \n",
       "-204.76    4.62    9.35   16.44  -33.60  458.87   -9.01 \n",
       "  b->h7  i1->h7  i2->h7  i3->h7  i4->h7  i5->h7  i6->h7 \n",
       "  59.81  -12.38   -9.95 -103.67    7.74 -499.73  -56.77 \n",
       "   b->o   h1->o   h2->o   h3->o   h4->o   h5->o   h6->o   h7->o \n",
       "  68.71   -1.35   -2.84    9.28  -73.59  -65.08    4.00   -2.63 "
      ]
     },
     "metadata": {},
     "output_type": "display_data"
    },
    {
     "data": {
      "text/plain": [
       "       y1\n",
       "pred3       0     1\n",
       "  FALSE 30284  2643\n",
       "  TRUE    529  1456"
      ]
     },
     "metadata": {},
     "output_type": "display_data"
    },
    {
     "data": {
      "text/plain": [
       "       y2\n",
       "pred4      0    1\n",
       "  FALSE 7528  641\n",
       "  TRUE   149  410"
      ]
     },
     "metadata": {},
     "output_type": "display_data"
    },
    {
     "data": {
      "image/png": "[encoded data removed]",
      "text/plain": [
       "plot without title"
      ]
     },
     "metadata": {
      "image/png": {
       "height": 420,
       "width": 420
      }
     },
     "output_type": "display_data"
    },
    {
     "data": {
      "image/png": "[encoded data removed]",
      "text/plain": [
       "plot without title"
      ]
     },
     "metadata": {
      "image/png": {
       "height": 420,
       "width": 420
      }
     },
     "output_type": "display_data"
    }
   ],
   "source": [
    "#Q2 ANN\n",
    "#Read data set\n",
    "d<-read.csv(\"bank-market1.csv\")\n",
    "d$deposit<-as.factor(d$deposit)\n",
    "\n",
    "#Create of binary variable y based on deposit result\n",
    "y<-as.numeric(d$deposit)\n",
    "table(y)\n",
    "y[y==1]<-0\n",
    "y[y==2]<-1\n",
    "table(y)\n",
    "\n",
    "#Combine y into d and save as dnew\n",
    "dnew<-cbind(y,d)\n",
    "\n",
    "#Get and display sample size\n",
    "(nnew<-nrow(dnew))\n",
    "#Display names of d\n",
    "names(dnew)\n",
    "\n",
    "#Set sampling ratio\n",
    "set.seed(34224)\n",
    "r<-0.8\n",
    "#Generate id\n",
    "idnew<-sample(1:nnew,size=round(r*nnew),replace=F)\n",
    "#Training dataset\n",
    "d1new<-dnew[idnew,]\n",
    "#Testing dataset\n",
    "d2new<-dnew[-idnew,]\n",
    "\n",
    "#Select columns 2, 5 and 8 to 11 from d and scale them using scale.con() function\n",
    "#Function to scale continuous or ordinal variables to [0,1]\n",
    "scale.con<-function(d) {\n",
    "  #Row dim of d\n",
    "  n<-dim(d)[1]\n",
    "  #Column dim of d\n",
    "  p<-dim(d)[2]\t\t\n",
    "  #Column min of d  \n",
    "  cmin<-apply(d,2,min)\n",
    "  #column max of d\n",
    "  cmax<-apply(d,2,max)\n",
    "  #Column range\n",
    "  range<-cmax-cmin\n",
    "  #Change cmin to a nxp matrix\n",
    "  cmin<-matrix(cmin,nr=n,nc=p,byrow=T)\n",
    "  #Change range to a nxp matrix\n",
    "  range<-matrix(range,nr=n,nc=p,byrow=T)  \n",
    "  #Transform d  \n",
    "  (d-cmin)/range\t\n",
    "}  \n",
    "#Select columns 2, 5 and 8 to 11\n",
    "z<-scale.con(dnew[,c(2,5,8,9,10,11)])\n",
    "#Scaled traning and testng data set\n",
    "x1<-z[idnew,]\n",
    "x2<-z[-idnew,]\n",
    "\n",
    "# improved nnet()\n",
    "# Try nnet(x,y) k times and output the best trial\n",
    "# x is the matrix of input variable\n",
    "# y is the dependent value; y must be factor if linout=F is used\n",
    "# The default option of trace is set to F\n",
    "\n",
    "library(nnet)\n",
    "ann<-function(x,y,size,maxit=100,linout=F,trace=F,try=5) {\n",
    "  ann1<-nnet(y~.,data=x,size=size,maxit=maxit,linout=linout,trace=trace)\n",
    "  v1<-ann1$value\n",
    "  \n",
    "  for (i in 2:try) {\n",
    "    ann<-nnet(y~.,data=x,size=size,maxit=maxit,linout=linout,trace=trace)\n",
    "    if (ann$value<v1) {\n",
    "      v1<-ann$value\n",
    "      ann1<-ann\n",
    "    }\n",
    "  }\n",
    "  ann1\n",
    "}  \n",
    "\n",
    "\n",
    "#Convert traning and testing data as factor\n",
    "y1<-as.factor(d1new[,1]) \n",
    "y2<-as.factor(d2new[,1])\n",
    "\n",
    "\n",
    "#Apply function to y1 and y2\n",
    "ann6<-ann(x1,y1,size=6,maxit=500,try=20)\n",
    "#Display best value\n",
    "ann6$value\n",
    "#Summary of output\n",
    "summary(ann6)\n",
    "\n",
    "#Prediction\n",
    "pred1<-(ann6$fitted.values>0.5)\n",
    "#Classification table for training data\n",
    "table(pred1,y1)\n",
    "\n",
    "#Predict on testing data\n",
    "pr1<-predict(ann6,x2)\n",
    "pred2<-(pr1>0.5)\n",
    "#Classification table for testing data\n",
    "table(pred2,y2)\n",
    "\n",
    "\n",
    "#Apply function to y1 and y2\n",
    "ann7<-ann(x1,y1,size=7,maxit=500,try=20)\n",
    "#Display best value\n",
    "ann7$value\n",
    "#Summary of output\n",
    "summary(ann7)\n",
    "\n",
    "#Prediction\n",
    "pred3<-(ann7$fitted.values>0.5)\n",
    "#Classification table for training data\n",
    "table(pred3,y1)\n",
    "\n",
    "#Predict on testing data\n",
    "pr2<-predict(ann7,x2) \n",
    "pred4<-(pr2>0.5)\n",
    "#Classification table for testing data\n",
    "table(pred4,y2)\n",
    "\n",
    "\n",
    "# Produce lift chart \n",
    "# input y=binary target, p=Prob{Y=1}\n",
    "# version ver=1 or 2 (default), \n",
    "# use add=T if add Lift Chart to existing plot\n",
    "# color=col (default='black')\n",
    "\n",
    "LChart<-function(y,p,ver=2,add=F,col='black') {\n",
    "  ysort<-y[order(p,decreasing=T)]\t# sort y according to p\n",
    "  n<-length(y)\t\t\t\t# get legnth of y\n",
    "  ny<-sum(y)\t\t\t\t# compute no. of 1 in y\n",
    "  if (ver==1) {\t\t\t\t# version 1\n",
    "    perc1<-cumsum(ysort)/(1:n)\n",
    "    if (add==F) {\t\t\t# add=F, create a new plot\n",
    "      plot(perc1,type='l',col=col)\n",
    "      abline(h=ny/n) \n",
    "    } else \t\t\t\t# add to existing plot\n",
    "      lines(perc1,type='l',col=col)\n",
    "    \n",
    "  } else \t\t\t\t\t# version 2\n",
    "    perc2<-cumsum(ysort)/ny\n",
    "  prop<-(1:n)/n\n",
    "  if (add==F) {\t\t\t# add=F, create a new plot\n",
    "    plot(prop,perc2,type='l',col=col)\n",
    "    abline(a=0,b=1)\n",
    "  } else \t\t\t\t# add to existing plot\n",
    "    lines(prop,perc2,type='l',col=col) \n",
    "}\n",
    "\n",
    "\n",
    "#Lift chart for lreg\n",
    "#Create target w\n",
    "w<-d2new$y\n",
    "#Lift chart\n",
    "LChart(w,prob,col='black')\n",
    "\n",
    "\n",
    "#Lift chart for ann7\n",
    "#Create target w\n",
    "w<-d2new$y\n",
    "#Lift chart\n",
    "LChart(w,pr2,col='red')\n",
    "LChart(w,pr2,col='red',add=T)"
   ]
  },
  {
   "cell_type": "markdown",
   "id": "ed0d4442",
   "metadata": {},
   "source": [
    "<br></br>\n",
    "<p>Perform artificial neural network and show its result.</p>\n",
    "<br></br>\n",
    "<p>Lift chart is a measure of the effectiveness of a predictive model calculated as the ratio between the results obtained with and without the predictive model. As area between the lift curve and the baseline in ann7’s lift chart is larger than that in lreg, ann7 has better predictive model which aligned with the result calculated in question 1 and 2. For example, if we contact 20% of customers, we will receive about 60% and 70% of the total positive responses in lreg and ann7 model respectively. So, it is recommended to use ann7 as the predictive model for this data set.</p>\n",
    "<br></br>"
   ]
  },
  {
   "cell_type": "code",
   "execution_count": 35,
   "id": "26227dd5",
   "metadata": {},
   "outputs": [
    {
     "name": "stdout",
     "output_type": "stream",
     "text": [
      "cluster size= 26748 16892 \n",
      "stat= 16197.2 \n",
      "cluster size= 22986 5165 15489 \n",
      "stat= 16482.83 \n",
      "cluster size= 13890 20691 4126 4933 \n",
      "stat= 17105.54 \n",
      "cluster size= 2775 3887 12708 4710 19560 \n",
      "stat= 16286.35 \n"
     ]
    },
    {
     "data": {
      "image/png": "[encoded data removed]",
      "text/plain": [
       "Plot with title \"PREVIOUS\""
      ]
     },
     "metadata": {
      "image/png": {
       "height": 420,
       "width": 420
      }
     },
     "output_type": "display_data"
    }
   ],
   "source": [
    "#Q3 Kmeans\n",
    "#Read data set\n",
    "d<-read.csv(\"bank-market1.csv\")\n",
    "\n",
    "#Select columns 1, 4 and 7 to 10 from d and scale them using scale.con() function\n",
    "#Function to scale continuous or ordinal variables to [0,1]\n",
    "scale.con<-function(d) {\n",
    "  #Row dim of d\n",
    "  n<-dim(d)[1]\n",
    "  #Column dim of d\n",
    "  p<-dim(d)[2]\t\t\n",
    "  #Column min of d  \n",
    "  cmin<-apply(d,2,min)\n",
    "  #column max of d\n",
    "  cmax<-apply(d,2,max)\n",
    "  #Column range\n",
    "  range<-cmax-cmin\n",
    "  #Change cmin to a nxp matrix\n",
    "  cmin<-matrix(cmin,nr=n,nc=p,byrow=T)\n",
    "  #Change range to a nxp matrix\n",
    "  range<-matrix(range,nr=n,nc=p,byrow=T)  \n",
    "  #Transform d  \n",
    "  (d-cmin)/range\t\n",
    "}  \n",
    "#Select columns 1, 4 and 7 to 10\n",
    "z<-scale.con(d[,c(1,4,7,8,9,10)])\n",
    "\n",
    "\n",
    "# improved kmeans()\n",
    "# Try kmeans(x,k) serveal times and output the best (largest ratio) trial\n",
    "# x is the matrix of input variable, k is the no. of clusters\n",
    "# try is no. of trials\n",
    "# display cluster size and stat, output cluster label\n",
    "kmstat<-function(x,k) {\n",
    "  km<-kmeans(x,k)\t\t\t# k-means clustering with k=3\n",
    "  ng<-km$size\t\t\t\t# sample size\n",
    "  n<-dim(x)[1]\n",
    "  ssw<-sum(km$withinss)\t\t\t\t# compute total within group ss\n",
    "  ssb<-km$betweenss\t\t\t\t# between group ss\n",
    "  out<-list((n-k)*ssb/((k-1)*ssw),ng,km$cluster)# save stat, ng and cluster index into a list\n",
    "  names(out)<-c(\"stat\",\"size\",\"cluster\")\t# apply names to list\n",
    "  out\t\t\t\t\t\t# output\n",
    "}\n",
    "\n",
    "km<-function(x,k,try=5) {\t\t# default no. of trial is 5\n",
    "  \n",
    "  res0<-kmstat(x,k)\t\t\t# save the result of the first trial\n",
    "  r0<-res0$stat\t\t\t\t# save the stat from the first trial\n",
    "  \n",
    "  for (i in 2:try) {\n",
    "    res<-kmstat(x,k)  \t\t\t# new trial \n",
    "    if (res$stat>r0) {\t\t\t# if new trial is better\n",
    "      r0<-res$stat\t\t\t# update r0 and res\n",
    "      res0<-res\n",
    "    }\n",
    "  }\n",
    "  cat(\"cluster size=\",res0$size,\"\\n\")\t# display cluster size\n",
    "  cat(\"stat=\",res0$stat,\"\\n\")\t\t# display stat\n",
    "  res0$cluster\t\t\t\t# output cluster label\n",
    "}  \n",
    "\n",
    "\n",
    "#Apply improved km function with K=2,3,4 & 5\n",
    "km2<-km(z,2,try=20)\n",
    "km3<-km(z,3,try=20) \n",
    "km4<-km(z,4,try=20)\n",
    "km5<-km(z,5,try=20)\n",
    "\n",
    "\n",
    "#Produce side by side boxplot for finding characteristics of clusters\n",
    "#Define 2x3 multiframe graphic\n",
    "par(mfrow=c(2,3))\n",
    "#Convert label into factor\n",
    "lab<-factor(km4)\n",
    "#Boxplots with group labels from km4\n",
    "plot(lab,z$age,main=\"AGE\") \n",
    "plot(lab,z$balance,main=\"BALANCE\")\n",
    "plot(lab,z$duration,main=\"DURATION\")\n",
    "plot(lab,z$campaign,main=\"CAMPAIGN\")\n",
    "plot(lab,z$pdays,main=\"PDAYS\")\n",
    "plot(lab,z$previous,main=\"PREVIOUS\")"
   ]
  },
  {
   "cell_type": "markdown",
   "id": "b88319ee",
   "metadata": {},
   "source": [
    "<br></br>\n",
    "<p>Perform K-means clustering and show its result.</p>\n",
    "<br></br>\n",
    "<p>From these boxplots, we can roughly describe the characteristics of cluster 1, 2, 3 and 4: For cluster 1, AGE and BALANCE have relatively higher value than those in cluster 2, 3 and 4. For cluster 2, AGE has relatively lower value than those in cluster 1, 3 and 4. For cluster 3, DURATION has higher value than those clusters 1, 2 and 4. For cluster 4, PDAYS has higher value than those cluster 1, 2 and 3.</p>\n",
    "<br></br>"
   ]
  }
 ],
 "metadata": {
  "kernelspec": {
   "display_name": "R",
   "language": "R",
   "name": "ir"
  },
  "language_info": {
   "codemirror_mode": "r",
   "file_extension": ".r",
   "mimetype": "text/x-r-source",
   "name": "R",
   "pygments_lexer": "r",
   "version": "4.1.0"
  }
 },
 "nbformat": 4,
 "nbformat_minor": 5
}
