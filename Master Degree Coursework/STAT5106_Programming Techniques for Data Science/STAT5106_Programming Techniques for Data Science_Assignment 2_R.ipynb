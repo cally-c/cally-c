{
 "cells": [
  {
   "cell_type": "markdown",
   "id": "ec63163d",
   "metadata": {},
   "source": [
    "# STAT5106 Programming Techniques for Data Science Assignment 2_R"
   ]
  },
  {
   "cell_type": "markdown",
   "id": "e48dec26",
   "metadata": {},
   "source": [
    "## Content\n",
    "<p>1. Introduction</p>\n",
    "<p>2. Learning Outcomes</p>\n",
    "<p>3. Assignment 2</p>"
   ]
  },
  {
   "cell_type": "markdown",
   "id": "8242e37e",
   "metadata": {},
   "source": [
    "## 1. Introduction"
   ]
  },
  {
   "cell_type": "markdown",
   "id": "36455fad",
   "metadata": {},
   "source": [
    "<p>This course teaches programming fundamentals for data scientists. Students can learn programming techniques with emphasis on data source connection, data pre-processing pipeline, exploratory data analysis, data visualisations and data reporting.</p>"
   ]
  },
  {
   "cell_type": "markdown",
   "id": "197674dd",
   "metadata": {},
   "source": [
    "## 2. Learning Outcomes"
   ]
  },
  {
   "cell_type": "markdown",
   "id": "97ee3284",
   "metadata": {},
   "source": [
    "<p>To get the techniques for data anlysis with the application of R and Python, such as data import from multiple sources, data pre-processing, statistical analysis, etc.</p>"
   ]
  },
  {
   "cell_type": "markdown",
   "id": "e14723dc",
   "metadata": {},
   "source": [
    "## 3. Assignment 2"
   ]
  },
  {
   "cell_type": "markdown",
   "id": "8801dd92",
   "metadata": {},
   "source": [
    "<p>To plot and do analysis by R.</p>"
   ]
  },
  {
   "cell_type": "code",
   "execution_count": 1,
   "id": "a25a59d7",
   "metadata": {},
   "outputs": [
    {
     "data": {
      "text/html": [
       "<table class=\"dataframe\">\n",
       "<caption>A matrix: 0 × 17 of type chr</caption>\n",
       "<thead>\n",
       "\t<tr><th scope=col>Package</th><th scope=col>LibPath</th><th scope=col>Version</th><th scope=col>Priority</th><th scope=col>Depends</th><th scope=col>Imports</th><th scope=col>LinkingTo</th><th scope=col>Suggests</th><th scope=col>Enhances</th><th scope=col>License</th><th scope=col>License_is_FOSS</th><th scope=col>License_restricts_use</th><th scope=col>OS_type</th><th scope=col>Archs</th><th scope=col>MD5sum</th><th scope=col>NeedsCompilation</th><th scope=col>Built</th></tr>\n",
       "</thead>\n",
       "<tbody>\n",
       "</tbody>\n",
       "</table>\n"
      ],
      "text/latex": [
       "A matrix: 0 × 17 of type chr\n",
       "\\begin{tabular}{lllllllllllllllll}\n",
       " Package & LibPath & Version & Priority & Depends & Imports & LinkingTo & Suggests & Enhances & License & License\\_is\\_FOSS & License\\_restricts\\_use & OS\\_type & Archs & MD5sum & NeedsCompilation & Built\\\\\n",
       "\\hline\n",
       "\\end{tabular}\n"
      ],
      "text/markdown": [
       "\n",
       "A matrix: 0 × 17 of type chr\n",
       "\n",
       "| Package | LibPath | Version | Priority | Depends | Imports | LinkingTo | Suggests | Enhances | License | License_is_FOSS | License_restricts_use | OS_type | Archs | MD5sum | NeedsCompilation | Built |\n",
       "|---|---|---|---|---|---|---|---|---|---|---|---|---|---|---|---|---|\n",
       "\n"
      ],
      "text/plain": [
       "     Package LibPath Version Priority Depends Imports LinkingTo Suggests\n",
       "     Enhances License License_is_FOSS License_restricts_use OS_type Archs\n",
       "     MD5sum NeedsCompilation Built"
      ]
     },
     "metadata": {},
     "output_type": "display_data"
    },
    {
     "name": "stderr",
     "output_type": "stream",
     "text": [
      "Installing package into 'C:/Users/cally/Documents/R/win-library/4.1'\n",
      "(as 'lib' is unspecified)\n",
      "\n"
     ]
    },
    {
     "name": "stdout",
     "output_type": "stream",
     "text": [
      "package 'gridExtra' successfully unpacked and MD5 sums checked\n",
      "\n",
      "The downloaded binary packages are in\n",
      "\tC:\\Users\\cally\\AppData\\Local\\Temp\\Rtmpiy96FF\\downloaded_packages\n"
     ]
    },
    {
     "name": "stderr",
     "output_type": "stream",
     "text": [
      "`geom_smooth()` using method = 'loess' and formula 'y ~ x'\n",
      "\n",
      "`geom_smooth()` using method = 'loess' and formula 'y ~ x'\n",
      "\n",
      "`geom_smooth()` using method = 'loess' and formula 'y ~ x'\n",
      "\n",
      "`geom_smooth()` using method = 'loess' and formula 'y ~ x'\n",
      "\n",
      "`geom_smooth()` using method = 'loess' and formula 'y ~ x'\n",
      "\n"
     ]
    },
    {
     "data": {
      "image/png": "[encoded data removed]",
      "text/plain": [
       "plot without title"
      ]
     },
     "metadata": {
      "image/png": {
       "height": 420,
       "width": 420
      }
     },
     "output_type": "display_data"
    }
   ],
   "source": [
    "#Question 1\n",
    "#Installation of packages & data\n",
    "installed.packages(\"ggplot2\")\n",
    "library(ggplot2)\n",
    "install.packages(\"gridExtra\")\n",
    "library(gridExtra)\n",
    "\n",
    "#Running provided codes(different colour data points & lines)\n",
    "p1<-ggplot(data = mpg, mapping = aes(x = displ, y = hwy, color = drv))+\n",
    "    geom_point()+\n",
    "    geom_smooth(se = FALSE)\n",
    "\n",
    "#Creation of Plot1(black data points & 1 blue line)\n",
    "p2<-ggplot(data = mpg, mapping = aes(x = displ, y = hwy))+\n",
    "    geom_point()+\n",
    "    geom_smooth(se = FALSE)\n",
    "\n",
    "#Creation of Plot2(black data points & 3 blue lines)\n",
    "p3<-ggplot(data = mpg, mapping = aes(x = displ, y = hwy))+\n",
    "    geom_point()+\n",
    "    geom_smooth(mapping = aes(group = drv), se = FALSE)\n",
    "\n",
    "#Creation of Plot3(same as provided codes,different colour data points & lines)\n",
    "p4<-ggplot(data = mpg, mapping = aes(x = displ, y = hwy, color = drv))+\n",
    "    geom_point()+\n",
    "    geom_smooth(se = FALSE)\n",
    "\n",
    "#Creation of Plot4(different colours data points & 1 blue line)\n",
    "p5<-ggplot(data = mpg, mapping = aes(x = displ, y = hwy))+ \n",
    "    geom_point(mapping = aes(color = drv))+\n",
    "    geom_smooth(se = FALSE)\n",
    "\n",
    "#Creation of Plot5(different colours data points & types of blue lines)\n",
    "p6<-ggplot(data = mpg, mapping = aes(x = displ, y = hwy))+ \n",
    "    geom_point(mapping = aes(color = drv))+\n",
    "    geom_smooth(se = FALSE, mapping = aes(linetype = drv))\n",
    "\n",
    "#Creation of Plot6(differet colours with white mark)\n",
    "p6<-ggplot(data = mpg, mapping = aes(x = displ, y = hwy))+ \n",
    "    geom_point(mapping = aes(color = drv))+ \n",
    "    geom_point(shape = 21, color = \"white\", stroke = 1)\n",
    "\n",
    "#Mulitple plots on the same page\n",
    "grid.arrange(p1, p2, p3, p4, p5, p6, nrow = 3)"
   ]
  },
  {
   "cell_type": "markdown",
   "id": "a5916561",
   "metadata": {},
   "source": [
    "<br></br>\n",
    "<p>To plot 5 different graphs and compare with the original graph in terms of data points, lines, data marks.</p>\n",
    "<br></br>"
   ]
  },
  {
   "cell_type": "code",
   "execution_count": 4,
   "id": "641e26ed",
   "metadata": {},
   "outputs": [
    {
     "name": "stderr",
     "output_type": "stream",
     "text": [
      "Warning message:\n",
      "\"package 'tidyverse' is in use and will not be installed\"\n",
      "Warning message:\n",
      "\"package 'nycflights13' is in use and will not be installed\"\n"
     ]
    },
    {
     "data": {
      "text/html": [
       "<table class=\"dataframe\">\n",
       "<caption>A tibble: 6 × 19</caption>\n",
       "<thead>\n",
       "\t<tr><th scope=col>year</th><th scope=col>month</th><th scope=col>day</th><th scope=col>dep_time</th><th scope=col>sched_dep_time</th><th scope=col>dep_delay</th><th scope=col>arr_time</th><th scope=col>sched_arr_time</th><th scope=col>arr_delay</th><th scope=col>carrier</th><th scope=col>flight</th><th scope=col>tailnum</th><th scope=col>origin</th><th scope=col>dest</th><th scope=col>air_time</th><th scope=col>distance</th><th scope=col>hour</th><th scope=col>minute</th><th scope=col>time_hour</th></tr>\n",
       "\t<tr><th scope=col>&lt;int&gt;</th><th scope=col>&lt;int&gt;</th><th scope=col>&lt;int&gt;</th><th scope=col>&lt;int&gt;</th><th scope=col>&lt;int&gt;</th><th scope=col>&lt;dbl&gt;</th><th scope=col>&lt;int&gt;</th><th scope=col>&lt;int&gt;</th><th scope=col>&lt;dbl&gt;</th><th scope=col>&lt;chr&gt;</th><th scope=col>&lt;int&gt;</th><th scope=col>&lt;chr&gt;</th><th scope=col>&lt;chr&gt;</th><th scope=col>&lt;chr&gt;</th><th scope=col>&lt;dbl&gt;</th><th scope=col>&lt;dbl&gt;</th><th scope=col>&lt;dbl&gt;</th><th scope=col>&lt;dbl&gt;</th><th scope=col>&lt;dttm&gt;</th></tr>\n",
       "</thead>\n",
       "<tbody>\n",
       "\t<tr><td>2013</td><td>1</td><td>1</td><td> 811</td><td> 630</td><td>101</td><td>1047</td><td> 830</td><td>137</td><td>MQ</td><td>4576</td><td>N531MQ</td><td>LGA</td><td>CLT</td><td>118</td><td> 544</td><td> 6</td><td>30</td><td>2013-01-01 06:00:00</td></tr>\n",
       "\t<tr><td>2013</td><td>1</td><td>1</td><td> 848</td><td>1835</td><td>853</td><td>1001</td><td>1950</td><td>851</td><td>MQ</td><td>3944</td><td>N942MQ</td><td>JFK</td><td>BWI</td><td> 41</td><td> 184</td><td>18</td><td>35</td><td>2013-01-01 18:00:00</td></tr>\n",
       "\t<tr><td>2013</td><td>1</td><td>1</td><td> 957</td><td> 733</td><td>144</td><td>1056</td><td> 853</td><td>123</td><td>UA</td><td> 856</td><td>N534UA</td><td>EWR</td><td>BOS</td><td> 37</td><td> 200</td><td> 7</td><td>33</td><td>2013-01-01 07:00:00</td></tr>\n",
       "\t<tr><td>2013</td><td>1</td><td>1</td><td>1114</td><td> 900</td><td>134</td><td>1447</td><td>1222</td><td>145</td><td>UA</td><td>1086</td><td>N76502</td><td>LGA</td><td>IAH</td><td>248</td><td>1416</td><td> 9</td><td> 0</td><td>2013-01-01 09:00:00</td></tr>\n",
       "\t<tr><td>2013</td><td>1</td><td>1</td><td>1505</td><td>1310</td><td>115</td><td>1638</td><td>1431</td><td>127</td><td>EV</td><td>4497</td><td>N17984</td><td>EWR</td><td>RIC</td><td> 63</td><td> 277</td><td>13</td><td>10</td><td>2013-01-01 13:00:00</td></tr>\n",
       "\t<tr><td>2013</td><td>1</td><td>1</td><td>1525</td><td>1340</td><td>105</td><td>1831</td><td>1626</td><td>125</td><td>B6</td><td> 525</td><td>N231JB</td><td>EWR</td><td>MCO</td><td>152</td><td> 937</td><td>13</td><td>40</td><td>2013-01-01 13:00:00</td></tr>\n",
       "</tbody>\n",
       "</table>\n"
      ],
      "text/latex": [
       "A tibble: 6 × 19\n",
       "\\begin{tabular}{lllllllllllllllllll}\n",
       " year & month & day & dep\\_time & sched\\_dep\\_time & dep\\_delay & arr\\_time & sched\\_arr\\_time & arr\\_delay & carrier & flight & tailnum & origin & dest & air\\_time & distance & hour & minute & time\\_hour\\\\\n",
       " <int> & <int> & <int> & <int> & <int> & <dbl> & <int> & <int> & <dbl> & <chr> & <int> & <chr> & <chr> & <chr> & <dbl> & <dbl> & <dbl> & <dbl> & <dttm>\\\\\n",
       "\\hline\n",
       "\t 2013 & 1 & 1 &  811 &  630 & 101 & 1047 &  830 & 137 & MQ & 4576 & N531MQ & LGA & CLT & 118 &  544 &  6 & 30 & 2013-01-01 06:00:00\\\\\n",
       "\t 2013 & 1 & 1 &  848 & 1835 & 853 & 1001 & 1950 & 851 & MQ & 3944 & N942MQ & JFK & BWI &  41 &  184 & 18 & 35 & 2013-01-01 18:00:00\\\\\n",
       "\t 2013 & 1 & 1 &  957 &  733 & 144 & 1056 &  853 & 123 & UA &  856 & N534UA & EWR & BOS &  37 &  200 &  7 & 33 & 2013-01-01 07:00:00\\\\\n",
       "\t 2013 & 1 & 1 & 1114 &  900 & 134 & 1447 & 1222 & 145 & UA & 1086 & N76502 & LGA & IAH & 248 & 1416 &  9 &  0 & 2013-01-01 09:00:00\\\\\n",
       "\t 2013 & 1 & 1 & 1505 & 1310 & 115 & 1638 & 1431 & 127 & EV & 4497 & N17984 & EWR & RIC &  63 &  277 & 13 & 10 & 2013-01-01 13:00:00\\\\\n",
       "\t 2013 & 1 & 1 & 1525 & 1340 & 105 & 1831 & 1626 & 125 & B6 &  525 & N231JB & EWR & MCO & 152 &  937 & 13 & 40 & 2013-01-01 13:00:00\\\\\n",
       "\\end{tabular}\n"
      ],
      "text/markdown": [
       "\n",
       "A tibble: 6 × 19\n",
       "\n",
       "| year &lt;int&gt; | month &lt;int&gt; | day &lt;int&gt; | dep_time &lt;int&gt; | sched_dep_time &lt;int&gt; | dep_delay &lt;dbl&gt; | arr_time &lt;int&gt; | sched_arr_time &lt;int&gt; | arr_delay &lt;dbl&gt; | carrier &lt;chr&gt; | flight &lt;int&gt; | tailnum &lt;chr&gt; | origin &lt;chr&gt; | dest &lt;chr&gt; | air_time &lt;dbl&gt; | distance &lt;dbl&gt; | hour &lt;dbl&gt; | minute &lt;dbl&gt; | time_hour &lt;dttm&gt; |\n",
       "|---|---|---|---|---|---|---|---|---|---|---|---|---|---|---|---|---|---|---|\n",
       "| 2013 | 1 | 1 |  811 |  630 | 101 | 1047 |  830 | 137 | MQ | 4576 | N531MQ | LGA | CLT | 118 |  544 |  6 | 30 | 2013-01-01 06:00:00 |\n",
       "| 2013 | 1 | 1 |  848 | 1835 | 853 | 1001 | 1950 | 851 | MQ | 3944 | N942MQ | JFK | BWI |  41 |  184 | 18 | 35 | 2013-01-01 18:00:00 |\n",
       "| 2013 | 1 | 1 |  957 |  733 | 144 | 1056 |  853 | 123 | UA |  856 | N534UA | EWR | BOS |  37 |  200 |  7 | 33 | 2013-01-01 07:00:00 |\n",
       "| 2013 | 1 | 1 | 1114 |  900 | 134 | 1447 | 1222 | 145 | UA | 1086 | N76502 | LGA | IAH | 248 | 1416 |  9 |  0 | 2013-01-01 09:00:00 |\n",
       "| 2013 | 1 | 1 | 1505 | 1310 | 115 | 1638 | 1431 | 127 | EV | 4497 | N17984 | EWR | RIC |  63 |  277 | 13 | 10 | 2013-01-01 13:00:00 |\n",
       "| 2013 | 1 | 1 | 1525 | 1340 | 105 | 1831 | 1626 | 125 | B6 |  525 | N231JB | EWR | MCO | 152 |  937 | 13 | 40 | 2013-01-01 13:00:00 |\n",
       "\n"
      ],
      "text/plain": [
       "  year month day dep_time sched_dep_time dep_delay arr_time sched_arr_time\n",
       "1 2013 1     1    811      630           101       1047      830          \n",
       "2 2013 1     1    848     1835           853       1001     1950          \n",
       "3 2013 1     1    957      733           144       1056      853          \n",
       "4 2013 1     1   1114      900           134       1447     1222          \n",
       "5 2013 1     1   1505     1310           115       1638     1431          \n",
       "6 2013 1     1   1525     1340           105       1831     1626          \n",
       "  arr_delay carrier flight tailnum origin dest air_time distance hour minute\n",
       "1 137       MQ      4576   N531MQ  LGA    CLT  118       544      6   30    \n",
       "2 851       MQ      3944   N942MQ  JFK    BWI   41       184     18   35    \n",
       "3 123       UA       856   N534UA  EWR    BOS   37       200      7   33    \n",
       "4 145       UA      1086   N76502  LGA    IAH  248      1416      9    0    \n",
       "5 127       EV      4497   N17984  EWR    RIC   63       277     13   10    \n",
       "6 125       B6       525   N231JB  EWR    MCO  152       937     13   40    \n",
       "  time_hour          \n",
       "1 2013-01-01 06:00:00\n",
       "2 2013-01-01 18:00:00\n",
       "3 2013-01-01 07:00:00\n",
       "4 2013-01-01 09:00:00\n",
       "5 2013-01-01 13:00:00\n",
       "6 2013-01-01 13:00:00"
      ]
     },
     "metadata": {},
     "output_type": "display_data"
    },
    {
     "data": {
      "text/html": [
       "<table class=\"dataframe\">\n",
       "<caption>A tibble: 6 × 19</caption>\n",
       "<thead>\n",
       "\t<tr><th scope=col>year</th><th scope=col>month</th><th scope=col>day</th><th scope=col>dep_time</th><th scope=col>sched_dep_time</th><th scope=col>dep_delay</th><th scope=col>arr_time</th><th scope=col>sched_arr_time</th><th scope=col>arr_delay</th><th scope=col>carrier</th><th scope=col>flight</th><th scope=col>tailnum</th><th scope=col>origin</th><th scope=col>dest</th><th scope=col>air_time</th><th scope=col>distance</th><th scope=col>hour</th><th scope=col>minute</th><th scope=col>time_hour</th></tr>\n",
       "\t<tr><th scope=col>&lt;int&gt;</th><th scope=col>&lt;int&gt;</th><th scope=col>&lt;int&gt;</th><th scope=col>&lt;int&gt;</th><th scope=col>&lt;int&gt;</th><th scope=col>&lt;dbl&gt;</th><th scope=col>&lt;int&gt;</th><th scope=col>&lt;int&gt;</th><th scope=col>&lt;dbl&gt;</th><th scope=col>&lt;chr&gt;</th><th scope=col>&lt;int&gt;</th><th scope=col>&lt;chr&gt;</th><th scope=col>&lt;chr&gt;</th><th scope=col>&lt;chr&gt;</th><th scope=col>&lt;dbl&gt;</th><th scope=col>&lt;dbl&gt;</th><th scope=col>&lt;dbl&gt;</th><th scope=col>&lt;dbl&gt;</th><th scope=col>&lt;dttm&gt;</th></tr>\n",
       "</thead>\n",
       "<tbody>\n",
       "\t<tr><td>2013</td><td>1</td><td>1</td><td>517</td><td>515</td><td> 2</td><td> 830</td><td> 819</td><td>11</td><td>UA</td><td>1545</td><td>N14228</td><td>EWR</td><td>IAH</td><td>227</td><td>1400</td><td>5</td><td>15</td><td>2013-01-01 05:00:00</td></tr>\n",
       "\t<tr><td>2013</td><td>1</td><td>1</td><td>533</td><td>529</td><td> 4</td><td> 850</td><td> 830</td><td>20</td><td>UA</td><td>1714</td><td>N24211</td><td>LGA</td><td>IAH</td><td>227</td><td>1416</td><td>5</td><td>29</td><td>2013-01-01 05:00:00</td></tr>\n",
       "\t<tr><td>2013</td><td>1</td><td>1</td><td>623</td><td>627</td><td>-4</td><td> 933</td><td> 932</td><td> 1</td><td>UA</td><td> 496</td><td>N459UA</td><td>LGA</td><td>IAH</td><td>229</td><td>1416</td><td>6</td><td>27</td><td>2013-01-01 06:00:00</td></tr>\n",
       "\t<tr><td>2013</td><td>1</td><td>1</td><td>728</td><td>732</td><td>-4</td><td>1041</td><td>1038</td><td> 3</td><td>UA</td><td> 473</td><td>N488UA</td><td>LGA</td><td>IAH</td><td>238</td><td>1416</td><td>7</td><td>32</td><td>2013-01-01 07:00:00</td></tr>\n",
       "\t<tr><td>2013</td><td>1</td><td>1</td><td>739</td><td>739</td><td> 0</td><td>1104</td><td>1038</td><td>26</td><td>UA</td><td>1479</td><td>N37408</td><td>EWR</td><td>IAH</td><td>249</td><td>1400</td><td>7</td><td>39</td><td>2013-01-01 07:00:00</td></tr>\n",
       "\t<tr><td>2013</td><td>1</td><td>1</td><td>908</td><td>908</td><td> 0</td><td>1228</td><td>1219</td><td> 9</td><td>UA</td><td>1220</td><td>N12216</td><td>EWR</td><td>IAH</td><td>233</td><td>1400</td><td>9</td><td> 8</td><td>2013-01-01 09:00:00</td></tr>\n",
       "</tbody>\n",
       "</table>\n"
      ],
      "text/latex": [
       "A tibble: 6 × 19\n",
       "\\begin{tabular}{lllllllllllllllllll}\n",
       " year & month & day & dep\\_time & sched\\_dep\\_time & dep\\_delay & arr\\_time & sched\\_arr\\_time & arr\\_delay & carrier & flight & tailnum & origin & dest & air\\_time & distance & hour & minute & time\\_hour\\\\\n",
       " <int> & <int> & <int> & <int> & <int> & <dbl> & <int> & <int> & <dbl> & <chr> & <int> & <chr> & <chr> & <chr> & <dbl> & <dbl> & <dbl> & <dbl> & <dttm>\\\\\n",
       "\\hline\n",
       "\t 2013 & 1 & 1 & 517 & 515 &  2 &  830 &  819 & 11 & UA & 1545 & N14228 & EWR & IAH & 227 & 1400 & 5 & 15 & 2013-01-01 05:00:00\\\\\n",
       "\t 2013 & 1 & 1 & 533 & 529 &  4 &  850 &  830 & 20 & UA & 1714 & N24211 & LGA & IAH & 227 & 1416 & 5 & 29 & 2013-01-01 05:00:00\\\\\n",
       "\t 2013 & 1 & 1 & 623 & 627 & -4 &  933 &  932 &  1 & UA &  496 & N459UA & LGA & IAH & 229 & 1416 & 6 & 27 & 2013-01-01 06:00:00\\\\\n",
       "\t 2013 & 1 & 1 & 728 & 732 & -4 & 1041 & 1038 &  3 & UA &  473 & N488UA & LGA & IAH & 238 & 1416 & 7 & 32 & 2013-01-01 07:00:00\\\\\n",
       "\t 2013 & 1 & 1 & 739 & 739 &  0 & 1104 & 1038 & 26 & UA & 1479 & N37408 & EWR & IAH & 249 & 1400 & 7 & 39 & 2013-01-01 07:00:00\\\\\n",
       "\t 2013 & 1 & 1 & 908 & 908 &  0 & 1228 & 1219 &  9 & UA & 1220 & N12216 & EWR & IAH & 233 & 1400 & 9 &  8 & 2013-01-01 09:00:00\\\\\n",
       "\\end{tabular}\n"
      ],
      "text/markdown": [
       "\n",
       "A tibble: 6 × 19\n",
       "\n",
       "| year &lt;int&gt; | month &lt;int&gt; | day &lt;int&gt; | dep_time &lt;int&gt; | sched_dep_time &lt;int&gt; | dep_delay &lt;dbl&gt; | arr_time &lt;int&gt; | sched_arr_time &lt;int&gt; | arr_delay &lt;dbl&gt; | carrier &lt;chr&gt; | flight &lt;int&gt; | tailnum &lt;chr&gt; | origin &lt;chr&gt; | dest &lt;chr&gt; | air_time &lt;dbl&gt; | distance &lt;dbl&gt; | hour &lt;dbl&gt; | minute &lt;dbl&gt; | time_hour &lt;dttm&gt; |\n",
       "|---|---|---|---|---|---|---|---|---|---|---|---|---|---|---|---|---|---|---|\n",
       "| 2013 | 1 | 1 | 517 | 515 |  2 |  830 |  819 | 11 | UA | 1545 | N14228 | EWR | IAH | 227 | 1400 | 5 | 15 | 2013-01-01 05:00:00 |\n",
       "| 2013 | 1 | 1 | 533 | 529 |  4 |  850 |  830 | 20 | UA | 1714 | N24211 | LGA | IAH | 227 | 1416 | 5 | 29 | 2013-01-01 05:00:00 |\n",
       "| 2013 | 1 | 1 | 623 | 627 | -4 |  933 |  932 |  1 | UA |  496 | N459UA | LGA | IAH | 229 | 1416 | 6 | 27 | 2013-01-01 06:00:00 |\n",
       "| 2013 | 1 | 1 | 728 | 732 | -4 | 1041 | 1038 |  3 | UA |  473 | N488UA | LGA | IAH | 238 | 1416 | 7 | 32 | 2013-01-01 07:00:00 |\n",
       "| 2013 | 1 | 1 | 739 | 739 |  0 | 1104 | 1038 | 26 | UA | 1479 | N37408 | EWR | IAH | 249 | 1400 | 7 | 39 | 2013-01-01 07:00:00 |\n",
       "| 2013 | 1 | 1 | 908 | 908 |  0 | 1228 | 1219 |  9 | UA | 1220 | N12216 | EWR | IAH | 233 | 1400 | 9 |  8 | 2013-01-01 09:00:00 |\n",
       "\n"
      ],
      "text/plain": [
       "  year month day dep_time sched_dep_time dep_delay arr_time sched_arr_time\n",
       "1 2013 1     1   517      515             2         830      819          \n",
       "2 2013 1     1   533      529             4         850      830          \n",
       "3 2013 1     1   623      627            -4         933      932          \n",
       "4 2013 1     1   728      732            -4        1041     1038          \n",
       "5 2013 1     1   739      739             0        1104     1038          \n",
       "6 2013 1     1   908      908             0        1228     1219          \n",
       "  arr_delay carrier flight tailnum origin dest air_time distance hour minute\n",
       "1 11        UA      1545   N14228  EWR    IAH  227      1400     5    15    \n",
       "2 20        UA      1714   N24211  LGA    IAH  227      1416     5    29    \n",
       "3  1        UA       496   N459UA  LGA    IAH  229      1416     6    27    \n",
       "4  3        UA       473   N488UA  LGA    IAH  238      1416     7    32    \n",
       "5 26        UA      1479   N37408  EWR    IAH  249      1400     7    39    \n",
       "6  9        UA      1220   N12216  EWR    IAH  233      1400     9     8    \n",
       "  time_hour          \n",
       "1 2013-01-01 05:00:00\n",
       "2 2013-01-01 05:00:00\n",
       "3 2013-01-01 06:00:00\n",
       "4 2013-01-01 07:00:00\n",
       "5 2013-01-01 07:00:00\n",
       "6 2013-01-01 09:00:00"
      ]
     },
     "metadata": {},
     "output_type": "display_data"
    },
    {
     "data": {
      "text/html": [
       "<table class=\"dataframe\">\n",
       "<caption>A tibble: 6 × 19</caption>\n",
       "<thead>\n",
       "\t<tr><th scope=col>year</th><th scope=col>month</th><th scope=col>day</th><th scope=col>dep_time</th><th scope=col>sched_dep_time</th><th scope=col>dep_delay</th><th scope=col>arr_time</th><th scope=col>sched_arr_time</th><th scope=col>arr_delay</th><th scope=col>carrier</th><th scope=col>flight</th><th scope=col>tailnum</th><th scope=col>origin</th><th scope=col>dest</th><th scope=col>air_time</th><th scope=col>distance</th><th scope=col>hour</th><th scope=col>minute</th><th scope=col>time_hour</th></tr>\n",
       "\t<tr><th scope=col>&lt;int&gt;</th><th scope=col>&lt;int&gt;</th><th scope=col>&lt;int&gt;</th><th scope=col>&lt;int&gt;</th><th scope=col>&lt;int&gt;</th><th scope=col>&lt;dbl&gt;</th><th scope=col>&lt;int&gt;</th><th scope=col>&lt;int&gt;</th><th scope=col>&lt;dbl&gt;</th><th scope=col>&lt;chr&gt;</th><th scope=col>&lt;int&gt;</th><th scope=col>&lt;chr&gt;</th><th scope=col>&lt;chr&gt;</th><th scope=col>&lt;chr&gt;</th><th scope=col>&lt;dbl&gt;</th><th scope=col>&lt;dbl&gt;</th><th scope=col>&lt;dbl&gt;</th><th scope=col>&lt;dbl&gt;</th><th scope=col>&lt;dttm&gt;</th></tr>\n",
       "</thead>\n",
       "<tbody>\n",
       "\t<tr><td>2013</td><td>1</td><td>1</td><td>517</td><td>515</td><td> 2</td><td>830</td><td>819</td><td> 11</td><td>UA</td><td>1545</td><td>N14228</td><td>EWR</td><td>IAH</td><td>227</td><td>1400</td><td>5</td><td>15</td><td>2013-01-01 05:00:00</td></tr>\n",
       "\t<tr><td>2013</td><td>1</td><td>1</td><td>533</td><td>529</td><td> 4</td><td>850</td><td>830</td><td> 20</td><td>UA</td><td>1714</td><td>N24211</td><td>LGA</td><td>IAH</td><td>227</td><td>1416</td><td>5</td><td>29</td><td>2013-01-01 05:00:00</td></tr>\n",
       "\t<tr><td>2013</td><td>1</td><td>1</td><td>542</td><td>540</td><td> 2</td><td>923</td><td>850</td><td> 33</td><td>AA</td><td>1141</td><td>N619AA</td><td>JFK</td><td>MIA</td><td>160</td><td>1089</td><td>5</td><td>40</td><td>2013-01-01 05:00:00</td></tr>\n",
       "\t<tr><td>2013</td><td>1</td><td>1</td><td>554</td><td>600</td><td>-6</td><td>812</td><td>837</td><td>-25</td><td>DL</td><td> 461</td><td>N668DN</td><td>LGA</td><td>ATL</td><td>116</td><td> 762</td><td>6</td><td> 0</td><td>2013-01-01 06:00:00</td></tr>\n",
       "\t<tr><td>2013</td><td>1</td><td>1</td><td>554</td><td>558</td><td>-4</td><td>740</td><td>728</td><td> 12</td><td>UA</td><td>1696</td><td>N39463</td><td>EWR</td><td>ORD</td><td>150</td><td> 719</td><td>5</td><td>58</td><td>2013-01-01 05:00:00</td></tr>\n",
       "\t<tr><td>2013</td><td>1</td><td>1</td><td>558</td><td>600</td><td>-2</td><td>753</td><td>745</td><td>  8</td><td>AA</td><td> 301</td><td>N3ALAA</td><td>LGA</td><td>ORD</td><td>138</td><td> 733</td><td>6</td><td> 0</td><td>2013-01-01 06:00:00</td></tr>\n",
       "</tbody>\n",
       "</table>\n"
      ],
      "text/latex": [
       "A tibble: 6 × 19\n",
       "\\begin{tabular}{lllllllllllllllllll}\n",
       " year & month & day & dep\\_time & sched\\_dep\\_time & dep\\_delay & arr\\_time & sched\\_arr\\_time & arr\\_delay & carrier & flight & tailnum & origin & dest & air\\_time & distance & hour & minute & time\\_hour\\\\\n",
       " <int> & <int> & <int> & <int> & <int> & <dbl> & <int> & <int> & <dbl> & <chr> & <int> & <chr> & <chr> & <chr> & <dbl> & <dbl> & <dbl> & <dbl> & <dttm>\\\\\n",
       "\\hline\n",
       "\t 2013 & 1 & 1 & 517 & 515 &  2 & 830 & 819 &  11 & UA & 1545 & N14228 & EWR & IAH & 227 & 1400 & 5 & 15 & 2013-01-01 05:00:00\\\\\n",
       "\t 2013 & 1 & 1 & 533 & 529 &  4 & 850 & 830 &  20 & UA & 1714 & N24211 & LGA & IAH & 227 & 1416 & 5 & 29 & 2013-01-01 05:00:00\\\\\n",
       "\t 2013 & 1 & 1 & 542 & 540 &  2 & 923 & 850 &  33 & AA & 1141 & N619AA & JFK & MIA & 160 & 1089 & 5 & 40 & 2013-01-01 05:00:00\\\\\n",
       "\t 2013 & 1 & 1 & 554 & 600 & -6 & 812 & 837 & -25 & DL &  461 & N668DN & LGA & ATL & 116 &  762 & 6 &  0 & 2013-01-01 06:00:00\\\\\n",
       "\t 2013 & 1 & 1 & 554 & 558 & -4 & 740 & 728 &  12 & UA & 1696 & N39463 & EWR & ORD & 150 &  719 & 5 & 58 & 2013-01-01 05:00:00\\\\\n",
       "\t 2013 & 1 & 1 & 558 & 600 & -2 & 753 & 745 &   8 & AA &  301 & N3ALAA & LGA & ORD & 138 &  733 & 6 &  0 & 2013-01-01 06:00:00\\\\\n",
       "\\end{tabular}\n"
      ],
      "text/markdown": [
       "\n",
       "A tibble: 6 × 19\n",
       "\n",
       "| year &lt;int&gt; | month &lt;int&gt; | day &lt;int&gt; | dep_time &lt;int&gt; | sched_dep_time &lt;int&gt; | dep_delay &lt;dbl&gt; | arr_time &lt;int&gt; | sched_arr_time &lt;int&gt; | arr_delay &lt;dbl&gt; | carrier &lt;chr&gt; | flight &lt;int&gt; | tailnum &lt;chr&gt; | origin &lt;chr&gt; | dest &lt;chr&gt; | air_time &lt;dbl&gt; | distance &lt;dbl&gt; | hour &lt;dbl&gt; | minute &lt;dbl&gt; | time_hour &lt;dttm&gt; |\n",
       "|---|---|---|---|---|---|---|---|---|---|---|---|---|---|---|---|---|---|---|\n",
       "| 2013 | 1 | 1 | 517 | 515 |  2 | 830 | 819 |  11 | UA | 1545 | N14228 | EWR | IAH | 227 | 1400 | 5 | 15 | 2013-01-01 05:00:00 |\n",
       "| 2013 | 1 | 1 | 533 | 529 |  4 | 850 | 830 |  20 | UA | 1714 | N24211 | LGA | IAH | 227 | 1416 | 5 | 29 | 2013-01-01 05:00:00 |\n",
       "| 2013 | 1 | 1 | 542 | 540 |  2 | 923 | 850 |  33 | AA | 1141 | N619AA | JFK | MIA | 160 | 1089 | 5 | 40 | 2013-01-01 05:00:00 |\n",
       "| 2013 | 1 | 1 | 554 | 600 | -6 | 812 | 837 | -25 | DL |  461 | N668DN | LGA | ATL | 116 |  762 | 6 |  0 | 2013-01-01 06:00:00 |\n",
       "| 2013 | 1 | 1 | 554 | 558 | -4 | 740 | 728 |  12 | UA | 1696 | N39463 | EWR | ORD | 150 |  719 | 5 | 58 | 2013-01-01 05:00:00 |\n",
       "| 2013 | 1 | 1 | 558 | 600 | -2 | 753 | 745 |   8 | AA |  301 | N3ALAA | LGA | ORD | 138 |  733 | 6 |  0 | 2013-01-01 06:00:00 |\n",
       "\n"
      ],
      "text/plain": [
       "  year month day dep_time sched_dep_time dep_delay arr_time sched_arr_time\n",
       "1 2013 1     1   517      515             2        830      819           \n",
       "2 2013 1     1   533      529             4        850      830           \n",
       "3 2013 1     1   542      540             2        923      850           \n",
       "4 2013 1     1   554      600            -6        812      837           \n",
       "5 2013 1     1   554      558            -4        740      728           \n",
       "6 2013 1     1   558      600            -2        753      745           \n",
       "  arr_delay carrier flight tailnum origin dest air_time distance hour minute\n",
       "1  11       UA      1545   N14228  EWR    IAH  227      1400     5    15    \n",
       "2  20       UA      1714   N24211  LGA    IAH  227      1416     5    29    \n",
       "3  33       AA      1141   N619AA  JFK    MIA  160      1089     5    40    \n",
       "4 -25       DL       461   N668DN  LGA    ATL  116       762     6     0    \n",
       "5  12       UA      1696   N39463  EWR    ORD  150       719     5    58    \n",
       "6   8       AA       301   N3ALAA  LGA    ORD  138       733     6     0    \n",
       "  time_hour          \n",
       "1 2013-01-01 05:00:00\n",
       "2 2013-01-01 05:00:00\n",
       "3 2013-01-01 05:00:00\n",
       "4 2013-01-01 06:00:00\n",
       "5 2013-01-01 05:00:00\n",
       "6 2013-01-01 06:00:00"
      ]
     },
     "metadata": {},
     "output_type": "display_data"
    },
    {
     "data": {
      "text/html": [
       "<table class=\"dataframe\">\n",
       "<caption>A tibble: 6 × 19</caption>\n",
       "<thead>\n",
       "\t<tr><th scope=col>year</th><th scope=col>month</th><th scope=col>day</th><th scope=col>dep_time</th><th scope=col>sched_dep_time</th><th scope=col>dep_delay</th><th scope=col>arr_time</th><th scope=col>sched_arr_time</th><th scope=col>arr_delay</th><th scope=col>carrier</th><th scope=col>flight</th><th scope=col>tailnum</th><th scope=col>origin</th><th scope=col>dest</th><th scope=col>air_time</th><th scope=col>distance</th><th scope=col>hour</th><th scope=col>minute</th><th scope=col>time_hour</th></tr>\n",
       "\t<tr><th scope=col>&lt;int&gt;</th><th scope=col>&lt;int&gt;</th><th scope=col>&lt;int&gt;</th><th scope=col>&lt;int&gt;</th><th scope=col>&lt;int&gt;</th><th scope=col>&lt;dbl&gt;</th><th scope=col>&lt;int&gt;</th><th scope=col>&lt;int&gt;</th><th scope=col>&lt;dbl&gt;</th><th scope=col>&lt;chr&gt;</th><th scope=col>&lt;int&gt;</th><th scope=col>&lt;chr&gt;</th><th scope=col>&lt;chr&gt;</th><th scope=col>&lt;chr&gt;</th><th scope=col>&lt;dbl&gt;</th><th scope=col>&lt;dbl&gt;</th><th scope=col>&lt;dbl&gt;</th><th scope=col>&lt;dbl&gt;</th><th scope=col>&lt;dttm&gt;</th></tr>\n",
       "</thead>\n",
       "<tbody>\n",
       "\t<tr><td>2013</td><td>7</td><td>1</td><td> 1</td><td>2029</td><td>212</td><td>236</td><td>2359</td><td>157</td><td>B6</td><td> 915</td><td>N653JB</td><td>JFK</td><td>SFO</td><td>315</td><td>2586</td><td>20</td><td>29</td><td>2013-07-01 20:00:00</td></tr>\n",
       "\t<tr><td>2013</td><td>7</td><td>1</td><td> 2</td><td>2359</td><td>  3</td><td>344</td><td> 344</td><td>  0</td><td>B6</td><td>1503</td><td>N805JB</td><td>JFK</td><td>SJU</td><td>200</td><td>1598</td><td>23</td><td>59</td><td>2013-07-01 23:00:00</td></tr>\n",
       "\t<tr><td>2013</td><td>7</td><td>1</td><td>29</td><td>2245</td><td>104</td><td>151</td><td>   1</td><td>110</td><td>B6</td><td> 234</td><td>N348JB</td><td>JFK</td><td>BTV</td><td> 66</td><td> 266</td><td>22</td><td>45</td><td>2013-07-01 22:00:00</td></tr>\n",
       "\t<tr><td>2013</td><td>7</td><td>1</td><td>43</td><td>2130</td><td>193</td><td>322</td><td>  14</td><td>188</td><td>B6</td><td>1371</td><td>N794JB</td><td>LGA</td><td>FLL</td><td>143</td><td>1076</td><td>21</td><td>30</td><td>2013-07-01 21:00:00</td></tr>\n",
       "\t<tr><td>2013</td><td>7</td><td>1</td><td>44</td><td>2150</td><td>174</td><td>300</td><td> 100</td><td>120</td><td>AA</td><td> 185</td><td>N324AA</td><td>JFK</td><td>LAX</td><td>297</td><td>2475</td><td>21</td><td>50</td><td>2013-07-01 21:00:00</td></tr>\n",
       "\t<tr><td>2013</td><td>7</td><td>1</td><td>46</td><td>2051</td><td>235</td><td>304</td><td>2358</td><td>186</td><td>B6</td><td> 165</td><td>N640JB</td><td>JFK</td><td>PDX</td><td>304</td><td>2454</td><td>20</td><td>51</td><td>2013-07-01 20:00:00</td></tr>\n",
       "</tbody>\n",
       "</table>\n"
      ],
      "text/latex": [
       "A tibble: 6 × 19\n",
       "\\begin{tabular}{lllllllllllllllllll}\n",
       " year & month & day & dep\\_time & sched\\_dep\\_time & dep\\_delay & arr\\_time & sched\\_arr\\_time & arr\\_delay & carrier & flight & tailnum & origin & dest & air\\_time & distance & hour & minute & time\\_hour\\\\\n",
       " <int> & <int> & <int> & <int> & <int> & <dbl> & <int> & <int> & <dbl> & <chr> & <int> & <chr> & <chr> & <chr> & <dbl> & <dbl> & <dbl> & <dbl> & <dttm>\\\\\n",
       "\\hline\n",
       "\t 2013 & 7 & 1 &  1 & 2029 & 212 & 236 & 2359 & 157 & B6 &  915 & N653JB & JFK & SFO & 315 & 2586 & 20 & 29 & 2013-07-01 20:00:00\\\\\n",
       "\t 2013 & 7 & 1 &  2 & 2359 &   3 & 344 &  344 &   0 & B6 & 1503 & N805JB & JFK & SJU & 200 & 1598 & 23 & 59 & 2013-07-01 23:00:00\\\\\n",
       "\t 2013 & 7 & 1 & 29 & 2245 & 104 & 151 &    1 & 110 & B6 &  234 & N348JB & JFK & BTV &  66 &  266 & 22 & 45 & 2013-07-01 22:00:00\\\\\n",
       "\t 2013 & 7 & 1 & 43 & 2130 & 193 & 322 &   14 & 188 & B6 & 1371 & N794JB & LGA & FLL & 143 & 1076 & 21 & 30 & 2013-07-01 21:00:00\\\\\n",
       "\t 2013 & 7 & 1 & 44 & 2150 & 174 & 300 &  100 & 120 & AA &  185 & N324AA & JFK & LAX & 297 & 2475 & 21 & 50 & 2013-07-01 21:00:00\\\\\n",
       "\t 2013 & 7 & 1 & 46 & 2051 & 235 & 304 & 2358 & 186 & B6 &  165 & N640JB & JFK & PDX & 304 & 2454 & 20 & 51 & 2013-07-01 20:00:00\\\\\n",
       "\\end{tabular}\n"
      ],
      "text/markdown": [
       "\n",
       "A tibble: 6 × 19\n",
       "\n",
       "| year &lt;int&gt; | month &lt;int&gt; | day &lt;int&gt; | dep_time &lt;int&gt; | sched_dep_time &lt;int&gt; | dep_delay &lt;dbl&gt; | arr_time &lt;int&gt; | sched_arr_time &lt;int&gt; | arr_delay &lt;dbl&gt; | carrier &lt;chr&gt; | flight &lt;int&gt; | tailnum &lt;chr&gt; | origin &lt;chr&gt; | dest &lt;chr&gt; | air_time &lt;dbl&gt; | distance &lt;dbl&gt; | hour &lt;dbl&gt; | minute &lt;dbl&gt; | time_hour &lt;dttm&gt; |\n",
       "|---|---|---|---|---|---|---|---|---|---|---|---|---|---|---|---|---|---|---|\n",
       "| 2013 | 7 | 1 |  1 | 2029 | 212 | 236 | 2359 | 157 | B6 |  915 | N653JB | JFK | SFO | 315 | 2586 | 20 | 29 | 2013-07-01 20:00:00 |\n",
       "| 2013 | 7 | 1 |  2 | 2359 |   3 | 344 |  344 |   0 | B6 | 1503 | N805JB | JFK | SJU | 200 | 1598 | 23 | 59 | 2013-07-01 23:00:00 |\n",
       "| 2013 | 7 | 1 | 29 | 2245 | 104 | 151 |    1 | 110 | B6 |  234 | N348JB | JFK | BTV |  66 |  266 | 22 | 45 | 2013-07-01 22:00:00 |\n",
       "| 2013 | 7 | 1 | 43 | 2130 | 193 | 322 |   14 | 188 | B6 | 1371 | N794JB | LGA | FLL | 143 | 1076 | 21 | 30 | 2013-07-01 21:00:00 |\n",
       "| 2013 | 7 | 1 | 44 | 2150 | 174 | 300 |  100 | 120 | AA |  185 | N324AA | JFK | LAX | 297 | 2475 | 21 | 50 | 2013-07-01 21:00:00 |\n",
       "| 2013 | 7 | 1 | 46 | 2051 | 235 | 304 | 2358 | 186 | B6 |  165 | N640JB | JFK | PDX | 304 | 2454 | 20 | 51 | 2013-07-01 20:00:00 |\n",
       "\n"
      ],
      "text/plain": [
       "  year month day dep_time sched_dep_time dep_delay arr_time sched_arr_time\n",
       "1 2013 7     1    1       2029           212       236      2359          \n",
       "2 2013 7     1    2       2359             3       344       344          \n",
       "3 2013 7     1   29       2245           104       151         1          \n",
       "4 2013 7     1   43       2130           193       322        14          \n",
       "5 2013 7     1   44       2150           174       300       100          \n",
       "6 2013 7     1   46       2051           235       304      2358          \n",
       "  arr_delay carrier flight tailnum origin dest air_time distance hour minute\n",
       "1 157       B6       915   N653JB  JFK    SFO  315      2586     20   29    \n",
       "2   0       B6      1503   N805JB  JFK    SJU  200      1598     23   59    \n",
       "3 110       B6       234   N348JB  JFK    BTV   66       266     22   45    \n",
       "4 188       B6      1371   N794JB  LGA    FLL  143      1076     21   30    \n",
       "5 120       AA       185   N324AA  JFK    LAX  297      2475     21   50    \n",
       "6 186       B6       165   N640JB  JFK    PDX  304      2454     20   51    \n",
       "  time_hour          \n",
       "1 2013-07-01 20:00:00\n",
       "2 2013-07-01 23:00:00\n",
       "3 2013-07-01 22:00:00\n",
       "4 2013-07-01 21:00:00\n",
       "5 2013-07-01 21:00:00\n",
       "6 2013-07-01 20:00:00"
      ]
     },
     "metadata": {},
     "output_type": "display_data"
    },
    {
     "data": {
      "text/html": [
       "<table class=\"dataframe\">\n",
       "<caption>A tibble: 6 × 19</caption>\n",
       "<thead>\n",
       "\t<tr><th scope=col>year</th><th scope=col>month</th><th scope=col>day</th><th scope=col>dep_time</th><th scope=col>sched_dep_time</th><th scope=col>dep_delay</th><th scope=col>arr_time</th><th scope=col>sched_arr_time</th><th scope=col>arr_delay</th><th scope=col>carrier</th><th scope=col>flight</th><th scope=col>tailnum</th><th scope=col>origin</th><th scope=col>dest</th><th scope=col>air_time</th><th scope=col>distance</th><th scope=col>hour</th><th scope=col>minute</th><th scope=col>time_hour</th></tr>\n",
       "\t<tr><th scope=col>&lt;int&gt;</th><th scope=col>&lt;int&gt;</th><th scope=col>&lt;int&gt;</th><th scope=col>&lt;int&gt;</th><th scope=col>&lt;int&gt;</th><th scope=col>&lt;dbl&gt;</th><th scope=col>&lt;int&gt;</th><th scope=col>&lt;int&gt;</th><th scope=col>&lt;dbl&gt;</th><th scope=col>&lt;chr&gt;</th><th scope=col>&lt;int&gt;</th><th scope=col>&lt;chr&gt;</th><th scope=col>&lt;chr&gt;</th><th scope=col>&lt;chr&gt;</th><th scope=col>&lt;dbl&gt;</th><th scope=col>&lt;dbl&gt;</th><th scope=col>&lt;dbl&gt;</th><th scope=col>&lt;dbl&gt;</th><th scope=col>&lt;dttm&gt;</th></tr>\n",
       "</thead>\n",
       "<tbody>\n",
       "\t<tr><td>2013</td><td> 1</td><td>27</td><td>1419</td><td>1420</td><td>-1</td><td>1754</td><td>1550</td><td>124</td><td>MQ</td><td>3728</td><td>N1EAMQ</td><td>EWR</td><td>ORD</td><td>135</td><td> 719</td><td>14</td><td>20</td><td>2013-01-27 14:00:00</td></tr>\n",
       "\t<tr><td>2013</td><td>10</td><td> 7</td><td>1350</td><td>1350</td><td> 0</td><td>1736</td><td>1526</td><td>130</td><td>EV</td><td>5181</td><td>N611QX</td><td>LGA</td><td>MSN</td><td>117</td><td> 812</td><td>13</td><td>50</td><td>2013-10-07 13:00:00</td></tr>\n",
       "\t<tr><td>2013</td><td>10</td><td> 7</td><td>1357</td><td>1359</td><td>-2</td><td>1858</td><td>1654</td><td>124</td><td>AA</td><td>1151</td><td>N3CMAA</td><td>LGA</td><td>DFW</td><td>192</td><td>1389</td><td>13</td><td>59</td><td>2013-10-07 13:00:00</td></tr>\n",
       "\t<tr><td>2013</td><td>10</td><td>16</td><td> 657</td><td> 700</td><td>-3</td><td>1258</td><td>1056</td><td>122</td><td>B6</td><td>   3</td><td>N703JB</td><td>JFK</td><td>SJU</td><td>225</td><td>1598</td><td> 7</td><td> 0</td><td>2013-10-16 07:00:00</td></tr>\n",
       "\t<tr><td>2013</td><td>11</td><td> 1</td><td> 658</td><td> 700</td><td>-2</td><td>1329</td><td>1015</td><td>194</td><td>VX</td><td> 399</td><td>N629VA</td><td>JFK</td><td>LAX</td><td>336</td><td>2475</td><td> 7</td><td> 0</td><td>2013-11-01 07:00:00</td></tr>\n",
       "\t<tr><td>2013</td><td> 3</td><td>18</td><td>1844</td><td>1847</td><td>-3</td><td>  39</td><td>2219</td><td>140</td><td>UA</td><td> 389</td><td>N560UA</td><td>JFK</td><td>SFO</td><td>386</td><td>2586</td><td>18</td><td>47</td><td>2013-03-18 18:00:00</td></tr>\n",
       "</tbody>\n",
       "</table>\n"
      ],
      "text/latex": [
       "A tibble: 6 × 19\n",
       "\\begin{tabular}{lllllllllllllllllll}\n",
       " year & month & day & dep\\_time & sched\\_dep\\_time & dep\\_delay & arr\\_time & sched\\_arr\\_time & arr\\_delay & carrier & flight & tailnum & origin & dest & air\\_time & distance & hour & minute & time\\_hour\\\\\n",
       " <int> & <int> & <int> & <int> & <int> & <dbl> & <int> & <int> & <dbl> & <chr> & <int> & <chr> & <chr> & <chr> & <dbl> & <dbl> & <dbl> & <dbl> & <dttm>\\\\\n",
       "\\hline\n",
       "\t 2013 &  1 & 27 & 1419 & 1420 & -1 & 1754 & 1550 & 124 & MQ & 3728 & N1EAMQ & EWR & ORD & 135 &  719 & 14 & 20 & 2013-01-27 14:00:00\\\\\n",
       "\t 2013 & 10 &  7 & 1350 & 1350 &  0 & 1736 & 1526 & 130 & EV & 5181 & N611QX & LGA & MSN & 117 &  812 & 13 & 50 & 2013-10-07 13:00:00\\\\\n",
       "\t 2013 & 10 &  7 & 1357 & 1359 & -2 & 1858 & 1654 & 124 & AA & 1151 & N3CMAA & LGA & DFW & 192 & 1389 & 13 & 59 & 2013-10-07 13:00:00\\\\\n",
       "\t 2013 & 10 & 16 &  657 &  700 & -3 & 1258 & 1056 & 122 & B6 &    3 & N703JB & JFK & SJU & 225 & 1598 &  7 &  0 & 2013-10-16 07:00:00\\\\\n",
       "\t 2013 & 11 &  1 &  658 &  700 & -2 & 1329 & 1015 & 194 & VX &  399 & N629VA & JFK & LAX & 336 & 2475 &  7 &  0 & 2013-11-01 07:00:00\\\\\n",
       "\t 2013 &  3 & 18 & 1844 & 1847 & -3 &   39 & 2219 & 140 & UA &  389 & N560UA & JFK & SFO & 386 & 2586 & 18 & 47 & 2013-03-18 18:00:00\\\\\n",
       "\\end{tabular}\n"
      ],
      "text/markdown": [
       "\n",
       "A tibble: 6 × 19\n",
       "\n",
       "| year &lt;int&gt; | month &lt;int&gt; | day &lt;int&gt; | dep_time &lt;int&gt; | sched_dep_time &lt;int&gt; | dep_delay &lt;dbl&gt; | arr_time &lt;int&gt; | sched_arr_time &lt;int&gt; | arr_delay &lt;dbl&gt; | carrier &lt;chr&gt; | flight &lt;int&gt; | tailnum &lt;chr&gt; | origin &lt;chr&gt; | dest &lt;chr&gt; | air_time &lt;dbl&gt; | distance &lt;dbl&gt; | hour &lt;dbl&gt; | minute &lt;dbl&gt; | time_hour &lt;dttm&gt; |\n",
       "|---|---|---|---|---|---|---|---|---|---|---|---|---|---|---|---|---|---|---|\n",
       "| 2013 |  1 | 27 | 1419 | 1420 | -1 | 1754 | 1550 | 124 | MQ | 3728 | N1EAMQ | EWR | ORD | 135 |  719 | 14 | 20 | 2013-01-27 14:00:00 |\n",
       "| 2013 | 10 |  7 | 1350 | 1350 |  0 | 1736 | 1526 | 130 | EV | 5181 | N611QX | LGA | MSN | 117 |  812 | 13 | 50 | 2013-10-07 13:00:00 |\n",
       "| 2013 | 10 |  7 | 1357 | 1359 | -2 | 1858 | 1654 | 124 | AA | 1151 | N3CMAA | LGA | DFW | 192 | 1389 | 13 | 59 | 2013-10-07 13:00:00 |\n",
       "| 2013 | 10 | 16 |  657 |  700 | -3 | 1258 | 1056 | 122 | B6 |    3 | N703JB | JFK | SJU | 225 | 1598 |  7 |  0 | 2013-10-16 07:00:00 |\n",
       "| 2013 | 11 |  1 |  658 |  700 | -2 | 1329 | 1015 | 194 | VX |  399 | N629VA | JFK | LAX | 336 | 2475 |  7 |  0 | 2013-11-01 07:00:00 |\n",
       "| 2013 |  3 | 18 | 1844 | 1847 | -3 |   39 | 2219 | 140 | UA |  389 | N560UA | JFK | SFO | 386 | 2586 | 18 | 47 | 2013-03-18 18:00:00 |\n",
       "\n"
      ],
      "text/plain": [
       "  year month day dep_time sched_dep_time dep_delay arr_time sched_arr_time\n",
       "1 2013  1    27  1419     1420           -1        1754     1550          \n",
       "2 2013 10     7  1350     1350            0        1736     1526          \n",
       "3 2013 10     7  1357     1359           -2        1858     1654          \n",
       "4 2013 10    16   657      700           -3        1258     1056          \n",
       "5 2013 11     1   658      700           -2        1329     1015          \n",
       "6 2013  3    18  1844     1847           -3          39     2219          \n",
       "  arr_delay carrier flight tailnum origin dest air_time distance hour minute\n",
       "1 124       MQ      3728   N1EAMQ  EWR    ORD  135       719     14   20    \n",
       "2 130       EV      5181   N611QX  LGA    MSN  117       812     13   50    \n",
       "3 124       AA      1151   N3CMAA  LGA    DFW  192      1389     13   59    \n",
       "4 122       B6         3   N703JB  JFK    SJU  225      1598      7    0    \n",
       "5 194       VX       399   N629VA  JFK    LAX  336      2475      7    0    \n",
       "6 140       UA       389   N560UA  JFK    SFO  386      2586     18   47    \n",
       "  time_hour          \n",
       "1 2013-01-27 14:00:00\n",
       "2 2013-10-07 13:00:00\n",
       "3 2013-10-07 13:00:00\n",
       "4 2013-10-16 07:00:00\n",
       "5 2013-11-01 07:00:00\n",
       "6 2013-03-18 18:00:00"
      ]
     },
     "metadata": {},
     "output_type": "display_data"
    },
    {
     "data": {
      "text/html": [
       "<table class=\"dataframe\">\n",
       "<caption>A tibble: 6 × 19</caption>\n",
       "<thead>\n",
       "\t<tr><th scope=col>year</th><th scope=col>month</th><th scope=col>day</th><th scope=col>dep_time</th><th scope=col>sched_dep_time</th><th scope=col>dep_delay</th><th scope=col>arr_time</th><th scope=col>sched_arr_time</th><th scope=col>arr_delay</th><th scope=col>carrier</th><th scope=col>flight</th><th scope=col>tailnum</th><th scope=col>origin</th><th scope=col>dest</th><th scope=col>air_time</th><th scope=col>distance</th><th scope=col>hour</th><th scope=col>minute</th><th scope=col>time_hour</th></tr>\n",
       "\t<tr><th scope=col>&lt;int&gt;</th><th scope=col>&lt;int&gt;</th><th scope=col>&lt;int&gt;</th><th scope=col>&lt;int&gt;</th><th scope=col>&lt;int&gt;</th><th scope=col>&lt;dbl&gt;</th><th scope=col>&lt;int&gt;</th><th scope=col>&lt;int&gt;</th><th scope=col>&lt;dbl&gt;</th><th scope=col>&lt;chr&gt;</th><th scope=col>&lt;int&gt;</th><th scope=col>&lt;chr&gt;</th><th scope=col>&lt;chr&gt;</th><th scope=col>&lt;chr&gt;</th><th scope=col>&lt;dbl&gt;</th><th scope=col>&lt;dbl&gt;</th><th scope=col>&lt;dbl&gt;</th><th scope=col>&lt;dbl&gt;</th><th scope=col>&lt;dttm&gt;</th></tr>\n",
       "</thead>\n",
       "<tbody>\n",
       "\t<tr><td>2013</td><td>1</td><td>1</td><td>2205</td><td>1720</td><td>285</td><td>  46</td><td>2040</td><td>246</td><td>AA</td><td>1999</td><td>N5DNAA</td><td>EWR</td><td>MIA</td><td>146</td><td>1085</td><td>17</td><td>20</td><td>2013-01-01 17:00:00</td></tr>\n",
       "\t<tr><td>2013</td><td>1</td><td>1</td><td>2326</td><td>2130</td><td>116</td><td> 131</td><td>  18</td><td> 73</td><td>B6</td><td> 199</td><td>N594JB</td><td>JFK</td><td>LAS</td><td>290</td><td>2248</td><td>21</td><td>30</td><td>2013-01-01 21:00:00</td></tr>\n",
       "\t<tr><td>2013</td><td>1</td><td>3</td><td>1503</td><td>1221</td><td>162</td><td>1803</td><td>1555</td><td>128</td><td>UA</td><td> 551</td><td>N835UA</td><td>EWR</td><td>SFO</td><td>320</td><td>2565</td><td>12</td><td>21</td><td>2013-01-03 12:00:00</td></tr>\n",
       "\t<tr><td>2013</td><td>1</td><td>3</td><td>1839</td><td>1700</td><td> 99</td><td>2056</td><td>1950</td><td> 66</td><td>AA</td><td> 575</td><td>N631AA</td><td>JFK</td><td>EGE</td><td>239</td><td>1747</td><td>17</td><td> 0</td><td>2013-01-03 17:00:00</td></tr>\n",
       "\t<tr><td>2013</td><td>1</td><td>3</td><td>1850</td><td>1745</td><td> 65</td><td>2148</td><td>2120</td><td> 28</td><td>AA</td><td> 177</td><td>N332AA</td><td>JFK</td><td>SFO</td><td>314</td><td>2586</td><td>17</td><td>45</td><td>2013-01-03 17:00:00</td></tr>\n",
       "\t<tr><td>2013</td><td>1</td><td>3</td><td>1941</td><td>1759</td><td>102</td><td>2246</td><td>2139</td><td> 67</td><td>UA</td><td> 979</td><td>N402UA</td><td>EWR</td><td>PHX</td><td>274</td><td>2133</td><td>17</td><td>59</td><td>2013-01-03 17:00:00</td></tr>\n",
       "</tbody>\n",
       "</table>\n"
      ],
      "text/latex": [
       "A tibble: 6 × 19\n",
       "\\begin{tabular}{lllllllllllllllllll}\n",
       " year & month & day & dep\\_time & sched\\_dep\\_time & dep\\_delay & arr\\_time & sched\\_arr\\_time & arr\\_delay & carrier & flight & tailnum & origin & dest & air\\_time & distance & hour & minute & time\\_hour\\\\\n",
       " <int> & <int> & <int> & <int> & <int> & <dbl> & <int> & <int> & <dbl> & <chr> & <int> & <chr> & <chr> & <chr> & <dbl> & <dbl> & <dbl> & <dbl> & <dttm>\\\\\n",
       "\\hline\n",
       "\t 2013 & 1 & 1 & 2205 & 1720 & 285 &   46 & 2040 & 246 & AA & 1999 & N5DNAA & EWR & MIA & 146 & 1085 & 17 & 20 & 2013-01-01 17:00:00\\\\\n",
       "\t 2013 & 1 & 1 & 2326 & 2130 & 116 &  131 &   18 &  73 & B6 &  199 & N594JB & JFK & LAS & 290 & 2248 & 21 & 30 & 2013-01-01 21:00:00\\\\\n",
       "\t 2013 & 1 & 3 & 1503 & 1221 & 162 & 1803 & 1555 & 128 & UA &  551 & N835UA & EWR & SFO & 320 & 2565 & 12 & 21 & 2013-01-03 12:00:00\\\\\n",
       "\t 2013 & 1 & 3 & 1839 & 1700 &  99 & 2056 & 1950 &  66 & AA &  575 & N631AA & JFK & EGE & 239 & 1747 & 17 &  0 & 2013-01-03 17:00:00\\\\\n",
       "\t 2013 & 1 & 3 & 1850 & 1745 &  65 & 2148 & 2120 &  28 & AA &  177 & N332AA & JFK & SFO & 314 & 2586 & 17 & 45 & 2013-01-03 17:00:00\\\\\n",
       "\t 2013 & 1 & 3 & 1941 & 1759 & 102 & 2246 & 2139 &  67 & UA &  979 & N402UA & EWR & PHX & 274 & 2133 & 17 & 59 & 2013-01-03 17:00:00\\\\\n",
       "\\end{tabular}\n"
      ],
      "text/markdown": [
       "\n",
       "A tibble: 6 × 19\n",
       "\n",
       "| year &lt;int&gt; | month &lt;int&gt; | day &lt;int&gt; | dep_time &lt;int&gt; | sched_dep_time &lt;int&gt; | dep_delay &lt;dbl&gt; | arr_time &lt;int&gt; | sched_arr_time &lt;int&gt; | arr_delay &lt;dbl&gt; | carrier &lt;chr&gt; | flight &lt;int&gt; | tailnum &lt;chr&gt; | origin &lt;chr&gt; | dest &lt;chr&gt; | air_time &lt;dbl&gt; | distance &lt;dbl&gt; | hour &lt;dbl&gt; | minute &lt;dbl&gt; | time_hour &lt;dttm&gt; |\n",
       "|---|---|---|---|---|---|---|---|---|---|---|---|---|---|---|---|---|---|---|\n",
       "| 2013 | 1 | 1 | 2205 | 1720 | 285 |   46 | 2040 | 246 | AA | 1999 | N5DNAA | EWR | MIA | 146 | 1085 | 17 | 20 | 2013-01-01 17:00:00 |\n",
       "| 2013 | 1 | 1 | 2326 | 2130 | 116 |  131 |   18 |  73 | B6 |  199 | N594JB | JFK | LAS | 290 | 2248 | 21 | 30 | 2013-01-01 21:00:00 |\n",
       "| 2013 | 1 | 3 | 1503 | 1221 | 162 | 1803 | 1555 | 128 | UA |  551 | N835UA | EWR | SFO | 320 | 2565 | 12 | 21 | 2013-01-03 12:00:00 |\n",
       "| 2013 | 1 | 3 | 1839 | 1700 |  99 | 2056 | 1950 |  66 | AA |  575 | N631AA | JFK | EGE | 239 | 1747 | 17 |  0 | 2013-01-03 17:00:00 |\n",
       "| 2013 | 1 | 3 | 1850 | 1745 |  65 | 2148 | 2120 |  28 | AA |  177 | N332AA | JFK | SFO | 314 | 2586 | 17 | 45 | 2013-01-03 17:00:00 |\n",
       "| 2013 | 1 | 3 | 1941 | 1759 | 102 | 2246 | 2139 |  67 | UA |  979 | N402UA | EWR | PHX | 274 | 2133 | 17 | 59 | 2013-01-03 17:00:00 |\n",
       "\n"
      ],
      "text/plain": [
       "  year month day dep_time sched_dep_time dep_delay arr_time sched_arr_time\n",
       "1 2013 1     1   2205     1720           285         46     2040          \n",
       "2 2013 1     1   2326     2130           116        131       18          \n",
       "3 2013 1     3   1503     1221           162       1803     1555          \n",
       "4 2013 1     3   1839     1700            99       2056     1950          \n",
       "5 2013 1     3   1850     1745            65       2148     2120          \n",
       "6 2013 1     3   1941     1759           102       2246     2139          \n",
       "  arr_delay carrier flight tailnum origin dest air_time distance hour minute\n",
       "1 246       AA      1999   N5DNAA  EWR    MIA  146      1085     17   20    \n",
       "2  73       B6       199   N594JB  JFK    LAS  290      2248     21   30    \n",
       "3 128       UA       551   N835UA  EWR    SFO  320      2565     12   21    \n",
       "4  66       AA       575   N631AA  JFK    EGE  239      1747     17    0    \n",
       "5  28       AA       177   N332AA  JFK    SFO  314      2586     17   45    \n",
       "6  67       UA       979   N402UA  EWR    PHX  274      2133     17   59    \n",
       "  time_hour          \n",
       "1 2013-01-01 17:00:00\n",
       "2 2013-01-01 21:00:00\n",
       "3 2013-01-03 12:00:00\n",
       "4 2013-01-03 17:00:00\n",
       "5 2013-01-03 17:00:00\n",
       "6 2013-01-03 17:00:00"
      ]
     },
     "metadata": {},
     "output_type": "display_data"
    },
    {
     "data": {
      "text/html": [
       "<table class=\"dataframe\">\n",
       "<caption>A tibble: 6 × 19</caption>\n",
       "<thead>\n",
       "\t<tr><th scope=col>year</th><th scope=col>month</th><th scope=col>day</th><th scope=col>dep_time</th><th scope=col>sched_dep_time</th><th scope=col>dep_delay</th><th scope=col>arr_time</th><th scope=col>sched_arr_time</th><th scope=col>arr_delay</th><th scope=col>carrier</th><th scope=col>flight</th><th scope=col>tailnum</th><th scope=col>origin</th><th scope=col>dest</th><th scope=col>air_time</th><th scope=col>distance</th><th scope=col>hour</th><th scope=col>minute</th><th scope=col>time_hour</th></tr>\n",
       "\t<tr><th scope=col>&lt;int&gt;</th><th scope=col>&lt;int&gt;</th><th scope=col>&lt;int&gt;</th><th scope=col>&lt;int&gt;</th><th scope=col>&lt;int&gt;</th><th scope=col>&lt;dbl&gt;</th><th scope=col>&lt;int&gt;</th><th scope=col>&lt;int&gt;</th><th scope=col>&lt;dbl&gt;</th><th scope=col>&lt;chr&gt;</th><th scope=col>&lt;int&gt;</th><th scope=col>&lt;chr&gt;</th><th scope=col>&lt;chr&gt;</th><th scope=col>&lt;chr&gt;</th><th scope=col>&lt;dbl&gt;</th><th scope=col>&lt;dbl&gt;</th><th scope=col>&lt;dbl&gt;</th><th scope=col>&lt;dbl&gt;</th><th scope=col>&lt;dttm&gt;</th></tr>\n",
       "</thead>\n",
       "<tbody>\n",
       "\t<tr><td>2013</td><td>1</td><td>1</td><td>517</td><td>515</td><td> 2</td><td> 830</td><td> 819</td><td> 11</td><td>UA</td><td>1545</td><td>N14228</td><td>EWR</td><td>IAH</td><td>227</td><td>1400</td><td>5</td><td>15</td><td>2013-01-01 05:00:00</td></tr>\n",
       "\t<tr><td>2013</td><td>1</td><td>1</td><td>533</td><td>529</td><td> 4</td><td> 850</td><td> 830</td><td> 20</td><td>UA</td><td>1714</td><td>N24211</td><td>LGA</td><td>IAH</td><td>227</td><td>1416</td><td>5</td><td>29</td><td>2013-01-01 05:00:00</td></tr>\n",
       "\t<tr><td>2013</td><td>1</td><td>1</td><td>542</td><td>540</td><td> 2</td><td> 923</td><td> 850</td><td> 33</td><td>AA</td><td>1141</td><td>N619AA</td><td>JFK</td><td>MIA</td><td>160</td><td>1089</td><td>5</td><td>40</td><td>2013-01-01 05:00:00</td></tr>\n",
       "\t<tr><td>2013</td><td>1</td><td>1</td><td>544</td><td>545</td><td>-1</td><td>1004</td><td>1022</td><td>-18</td><td>B6</td><td> 725</td><td>N804JB</td><td>JFK</td><td>BQN</td><td>183</td><td>1576</td><td>5</td><td>45</td><td>2013-01-01 05:00:00</td></tr>\n",
       "\t<tr><td>2013</td><td>1</td><td>1</td><td>554</td><td>600</td><td>-6</td><td> 812</td><td> 837</td><td>-25</td><td>DL</td><td> 461</td><td>N668DN</td><td>LGA</td><td>ATL</td><td>116</td><td> 762</td><td>6</td><td> 0</td><td>2013-01-01 06:00:00</td></tr>\n",
       "\t<tr><td>2013</td><td>1</td><td>1</td><td>554</td><td>558</td><td>-4</td><td> 740</td><td> 728</td><td> 12</td><td>UA</td><td>1696</td><td>N39463</td><td>EWR</td><td>ORD</td><td>150</td><td> 719</td><td>5</td><td>58</td><td>2013-01-01 05:00:00</td></tr>\n",
       "</tbody>\n",
       "</table>\n"
      ],
      "text/latex": [
       "A tibble: 6 × 19\n",
       "\\begin{tabular}{lllllllllllllllllll}\n",
       " year & month & day & dep\\_time & sched\\_dep\\_time & dep\\_delay & arr\\_time & sched\\_arr\\_time & arr\\_delay & carrier & flight & tailnum & origin & dest & air\\_time & distance & hour & minute & time\\_hour\\\\\n",
       " <int> & <int> & <int> & <int> & <int> & <dbl> & <int> & <int> & <dbl> & <chr> & <int> & <chr> & <chr> & <chr> & <dbl> & <dbl> & <dbl> & <dbl> & <dttm>\\\\\n",
       "\\hline\n",
       "\t 2013 & 1 & 1 & 517 & 515 &  2 &  830 &  819 &  11 & UA & 1545 & N14228 & EWR & IAH & 227 & 1400 & 5 & 15 & 2013-01-01 05:00:00\\\\\n",
       "\t 2013 & 1 & 1 & 533 & 529 &  4 &  850 &  830 &  20 & UA & 1714 & N24211 & LGA & IAH & 227 & 1416 & 5 & 29 & 2013-01-01 05:00:00\\\\\n",
       "\t 2013 & 1 & 1 & 542 & 540 &  2 &  923 &  850 &  33 & AA & 1141 & N619AA & JFK & MIA & 160 & 1089 & 5 & 40 & 2013-01-01 05:00:00\\\\\n",
       "\t 2013 & 1 & 1 & 544 & 545 & -1 & 1004 & 1022 & -18 & B6 &  725 & N804JB & JFK & BQN & 183 & 1576 & 5 & 45 & 2013-01-01 05:00:00\\\\\n",
       "\t 2013 & 1 & 1 & 554 & 600 & -6 &  812 &  837 & -25 & DL &  461 & N668DN & LGA & ATL & 116 &  762 & 6 &  0 & 2013-01-01 06:00:00\\\\\n",
       "\t 2013 & 1 & 1 & 554 & 558 & -4 &  740 &  728 &  12 & UA & 1696 & N39463 & EWR & ORD & 150 &  719 & 5 & 58 & 2013-01-01 05:00:00\\\\\n",
       "\\end{tabular}\n"
      ],
      "text/markdown": [
       "\n",
       "A tibble: 6 × 19\n",
       "\n",
       "| year &lt;int&gt; | month &lt;int&gt; | day &lt;int&gt; | dep_time &lt;int&gt; | sched_dep_time &lt;int&gt; | dep_delay &lt;dbl&gt; | arr_time &lt;int&gt; | sched_arr_time &lt;int&gt; | arr_delay &lt;dbl&gt; | carrier &lt;chr&gt; | flight &lt;int&gt; | tailnum &lt;chr&gt; | origin &lt;chr&gt; | dest &lt;chr&gt; | air_time &lt;dbl&gt; | distance &lt;dbl&gt; | hour &lt;dbl&gt; | minute &lt;dbl&gt; | time_hour &lt;dttm&gt; |\n",
       "|---|---|---|---|---|---|---|---|---|---|---|---|---|---|---|---|---|---|---|\n",
       "| 2013 | 1 | 1 | 517 | 515 |  2 |  830 |  819 |  11 | UA | 1545 | N14228 | EWR | IAH | 227 | 1400 | 5 | 15 | 2013-01-01 05:00:00 |\n",
       "| 2013 | 1 | 1 | 533 | 529 |  4 |  850 |  830 |  20 | UA | 1714 | N24211 | LGA | IAH | 227 | 1416 | 5 | 29 | 2013-01-01 05:00:00 |\n",
       "| 2013 | 1 | 1 | 542 | 540 |  2 |  923 |  850 |  33 | AA | 1141 | N619AA | JFK | MIA | 160 | 1089 | 5 | 40 | 2013-01-01 05:00:00 |\n",
       "| 2013 | 1 | 1 | 544 | 545 | -1 | 1004 | 1022 | -18 | B6 |  725 | N804JB | JFK | BQN | 183 | 1576 | 5 | 45 | 2013-01-01 05:00:00 |\n",
       "| 2013 | 1 | 1 | 554 | 600 | -6 |  812 |  837 | -25 | DL |  461 | N668DN | LGA | ATL | 116 |  762 | 6 |  0 | 2013-01-01 06:00:00 |\n",
       "| 2013 | 1 | 1 | 554 | 558 | -4 |  740 |  728 |  12 | UA | 1696 | N39463 | EWR | ORD | 150 |  719 | 5 | 58 | 2013-01-01 05:00:00 |\n",
       "\n"
      ],
      "text/plain": [
       "  year month day dep_time sched_dep_time dep_delay arr_time sched_arr_time\n",
       "1 2013 1     1   517      515             2         830      819          \n",
       "2 2013 1     1   533      529             4         850      830          \n",
       "3 2013 1     1   542      540             2         923      850          \n",
       "4 2013 1     1   544      545            -1        1004     1022          \n",
       "5 2013 1     1   554      600            -6         812      837          \n",
       "6 2013 1     1   554      558            -4         740      728          \n",
       "  arr_delay carrier flight tailnum origin dest air_time distance hour minute\n",
       "1  11       UA      1545   N14228  EWR    IAH  227      1400     5    15    \n",
       "2  20       UA      1714   N24211  LGA    IAH  227      1416     5    29    \n",
       "3  33       AA      1141   N619AA  JFK    MIA  160      1089     5    40    \n",
       "4 -18       B6       725   N804JB  JFK    BQN  183      1576     5    45    \n",
       "5 -25       DL       461   N668DN  LGA    ATL  116       762     6     0    \n",
       "6  12       UA      1696   N39463  EWR    ORD  150       719     5    58    \n",
       "  time_hour          \n",
       "1 2013-01-01 05:00:00\n",
       "2 2013-01-01 05:00:00\n",
       "3 2013-01-01 05:00:00\n",
       "4 2013-01-01 05:00:00\n",
       "5 2013-01-01 06:00:00\n",
       "6 2013-01-01 05:00:00"
      ]
     },
     "metadata": {},
     "output_type": "display_data"
    },
    {
     "data": {
      "text/html": [
       "<table class=\"dataframe\">\n",
       "<caption>A tibble: 6 × 19</caption>\n",
       "<thead>\n",
       "\t<tr><th scope=col>year</th><th scope=col>month</th><th scope=col>day</th><th scope=col>dep_time</th><th scope=col>sched_dep_time</th><th scope=col>dep_delay</th><th scope=col>arr_time</th><th scope=col>sched_arr_time</th><th scope=col>arr_delay</th><th scope=col>carrier</th><th scope=col>flight</th><th scope=col>tailnum</th><th scope=col>origin</th><th scope=col>dest</th><th scope=col>air_time</th><th scope=col>distance</th><th scope=col>hour</th><th scope=col>minute</th><th scope=col>time_hour</th></tr>\n",
       "\t<tr><th scope=col>&lt;int&gt;</th><th scope=col>&lt;int&gt;</th><th scope=col>&lt;int&gt;</th><th scope=col>&lt;int&gt;</th><th scope=col>&lt;int&gt;</th><th scope=col>&lt;dbl&gt;</th><th scope=col>&lt;int&gt;</th><th scope=col>&lt;int&gt;</th><th scope=col>&lt;dbl&gt;</th><th scope=col>&lt;chr&gt;</th><th scope=col>&lt;int&gt;</th><th scope=col>&lt;chr&gt;</th><th scope=col>&lt;chr&gt;</th><th scope=col>&lt;chr&gt;</th><th scope=col>&lt;dbl&gt;</th><th scope=col>&lt;dbl&gt;</th><th scope=col>&lt;dbl&gt;</th><th scope=col>&lt;dbl&gt;</th><th scope=col>&lt;dttm&gt;</th></tr>\n",
       "</thead>\n",
       "<tbody>\n",
       "\t<tr><td>2013</td><td>1</td><td> 9</td><td> 641</td><td> 900</td><td>1301</td><td>1242</td><td>1530</td><td>1272</td><td>HA</td><td>  51</td><td>N384HA</td><td>JFK</td><td>HNL</td><td>640</td><td>4983</td><td> 9</td><td> 0</td><td>2013-01-09 09:00:00</td></tr>\n",
       "\t<tr><td>2013</td><td>6</td><td>15</td><td>1432</td><td>1935</td><td>1137</td><td>1607</td><td>2120</td><td>1127</td><td>MQ</td><td>3535</td><td>N504MQ</td><td>JFK</td><td>CMH</td><td> 74</td><td> 483</td><td>19</td><td>35</td><td>2013-06-15 19:00:00</td></tr>\n",
       "\t<tr><td>2013</td><td>1</td><td>10</td><td>1121</td><td>1635</td><td>1126</td><td>1239</td><td>1810</td><td>1109</td><td>MQ</td><td>3695</td><td>N517MQ</td><td>EWR</td><td>ORD</td><td>111</td><td> 719</td><td>16</td><td>35</td><td>2013-01-10 16:00:00</td></tr>\n",
       "\t<tr><td>2013</td><td>9</td><td>20</td><td>1139</td><td>1845</td><td>1014</td><td>1457</td><td>2210</td><td>1007</td><td>AA</td><td> 177</td><td>N338AA</td><td>JFK</td><td>SFO</td><td>354</td><td>2586</td><td>18</td><td>45</td><td>2013-09-20 18:00:00</td></tr>\n",
       "\t<tr><td>2013</td><td>7</td><td>22</td><td> 845</td><td>1600</td><td>1005</td><td>1044</td><td>1815</td><td> 989</td><td>MQ</td><td>3075</td><td>N665MQ</td><td>JFK</td><td>CVG</td><td> 96</td><td> 589</td><td>16</td><td> 0</td><td>2013-07-22 16:00:00</td></tr>\n",
       "\t<tr><td>2013</td><td>4</td><td>10</td><td>1100</td><td>1900</td><td> 960</td><td>1342</td><td>2211</td><td> 931</td><td>DL</td><td>2391</td><td>N959DL</td><td>JFK</td><td>TPA</td><td>139</td><td>1005</td><td>19</td><td> 0</td><td>2013-04-10 19:00:00</td></tr>\n",
       "</tbody>\n",
       "</table>\n"
      ],
      "text/latex": [
       "A tibble: 6 × 19\n",
       "\\begin{tabular}{lllllllllllllllllll}\n",
       " year & month & day & dep\\_time & sched\\_dep\\_time & dep\\_delay & arr\\_time & sched\\_arr\\_time & arr\\_delay & carrier & flight & tailnum & origin & dest & air\\_time & distance & hour & minute & time\\_hour\\\\\n",
       " <int> & <int> & <int> & <int> & <int> & <dbl> & <int> & <int> & <dbl> & <chr> & <int> & <chr> & <chr> & <chr> & <dbl> & <dbl> & <dbl> & <dbl> & <dttm>\\\\\n",
       "\\hline\n",
       "\t 2013 & 1 &  9 &  641 &  900 & 1301 & 1242 & 1530 & 1272 & HA &   51 & N384HA & JFK & HNL & 640 & 4983 &  9 &  0 & 2013-01-09 09:00:00\\\\\n",
       "\t 2013 & 6 & 15 & 1432 & 1935 & 1137 & 1607 & 2120 & 1127 & MQ & 3535 & N504MQ & JFK & CMH &  74 &  483 & 19 & 35 & 2013-06-15 19:00:00\\\\\n",
       "\t 2013 & 1 & 10 & 1121 & 1635 & 1126 & 1239 & 1810 & 1109 & MQ & 3695 & N517MQ & EWR & ORD & 111 &  719 & 16 & 35 & 2013-01-10 16:00:00\\\\\n",
       "\t 2013 & 9 & 20 & 1139 & 1845 & 1014 & 1457 & 2210 & 1007 & AA &  177 & N338AA & JFK & SFO & 354 & 2586 & 18 & 45 & 2013-09-20 18:00:00\\\\\n",
       "\t 2013 & 7 & 22 &  845 & 1600 & 1005 & 1044 & 1815 &  989 & MQ & 3075 & N665MQ & JFK & CVG &  96 &  589 & 16 &  0 & 2013-07-22 16:00:00\\\\\n",
       "\t 2013 & 4 & 10 & 1100 & 1900 &  960 & 1342 & 2211 &  931 & DL & 2391 & N959DL & JFK & TPA & 139 & 1005 & 19 &  0 & 2013-04-10 19:00:00\\\\\n",
       "\\end{tabular}\n"
      ],
      "text/markdown": [
       "\n",
       "A tibble: 6 × 19\n",
       "\n",
       "| year &lt;int&gt; | month &lt;int&gt; | day &lt;int&gt; | dep_time &lt;int&gt; | sched_dep_time &lt;int&gt; | dep_delay &lt;dbl&gt; | arr_time &lt;int&gt; | sched_arr_time &lt;int&gt; | arr_delay &lt;dbl&gt; | carrier &lt;chr&gt; | flight &lt;int&gt; | tailnum &lt;chr&gt; | origin &lt;chr&gt; | dest &lt;chr&gt; | air_time &lt;dbl&gt; | distance &lt;dbl&gt; | hour &lt;dbl&gt; | minute &lt;dbl&gt; | time_hour &lt;dttm&gt; |\n",
       "|---|---|---|---|---|---|---|---|---|---|---|---|---|---|---|---|---|---|---|\n",
       "| 2013 | 1 |  9 |  641 |  900 | 1301 | 1242 | 1530 | 1272 | HA |   51 | N384HA | JFK | HNL | 640 | 4983 |  9 |  0 | 2013-01-09 09:00:00 |\n",
       "| 2013 | 6 | 15 | 1432 | 1935 | 1137 | 1607 | 2120 | 1127 | MQ | 3535 | N504MQ | JFK | CMH |  74 |  483 | 19 | 35 | 2013-06-15 19:00:00 |\n",
       "| 2013 | 1 | 10 | 1121 | 1635 | 1126 | 1239 | 1810 | 1109 | MQ | 3695 | N517MQ | EWR | ORD | 111 |  719 | 16 | 35 | 2013-01-10 16:00:00 |\n",
       "| 2013 | 9 | 20 | 1139 | 1845 | 1014 | 1457 | 2210 | 1007 | AA |  177 | N338AA | JFK | SFO | 354 | 2586 | 18 | 45 | 2013-09-20 18:00:00 |\n",
       "| 2013 | 7 | 22 |  845 | 1600 | 1005 | 1044 | 1815 |  989 | MQ | 3075 | N665MQ | JFK | CVG |  96 |  589 | 16 |  0 | 2013-07-22 16:00:00 |\n",
       "| 2013 | 4 | 10 | 1100 | 1900 |  960 | 1342 | 2211 |  931 | DL | 2391 | N959DL | JFK | TPA | 139 | 1005 | 19 |  0 | 2013-04-10 19:00:00 |\n",
       "\n"
      ],
      "text/plain": [
       "  year month day dep_time sched_dep_time dep_delay arr_time sched_arr_time\n",
       "1 2013 1      9   641      900           1301      1242     1530          \n",
       "2 2013 6     15  1432     1935           1137      1607     2120          \n",
       "3 2013 1     10  1121     1635           1126      1239     1810          \n",
       "4 2013 9     20  1139     1845           1014      1457     2210          \n",
       "5 2013 7     22   845     1600           1005      1044     1815          \n",
       "6 2013 4     10  1100     1900            960      1342     2211          \n",
       "  arr_delay carrier flight tailnum origin dest air_time distance hour minute\n",
       "1 1272      HA        51   N384HA  JFK    HNL  640      4983      9    0    \n",
       "2 1127      MQ      3535   N504MQ  JFK    CMH   74       483     19   35    \n",
       "3 1109      MQ      3695   N517MQ  EWR    ORD  111       719     16   35    \n",
       "4 1007      AA       177   N338AA  JFK    SFO  354      2586     18   45    \n",
       "5  989      MQ      3075   N665MQ  JFK    CVG   96       589     16    0    \n",
       "6  931      DL      2391   N959DL  JFK    TPA  139      1005     19    0    \n",
       "  time_hour          \n",
       "1 2013-01-09 09:00:00\n",
       "2 2013-06-15 19:00:00\n",
       "3 2013-01-10 16:00:00\n",
       "4 2013-09-20 18:00:00\n",
       "5 2013-07-22 16:00:00\n",
       "6 2013-04-10 19:00:00"
      ]
     },
     "metadata": {},
     "output_type": "display_data"
    },
    {
     "data": {
      "text/html": [
       "<table class=\"dataframe\">\n",
       "<caption>A tibble: 6 × 19</caption>\n",
       "<thead>\n",
       "\t<tr><th scope=col>year</th><th scope=col>month</th><th scope=col>day</th><th scope=col>dep_time</th><th scope=col>sched_dep_time</th><th scope=col>dep_delay</th><th scope=col>arr_time</th><th scope=col>sched_arr_time</th><th scope=col>arr_delay</th><th scope=col>carrier</th><th scope=col>flight</th><th scope=col>tailnum</th><th scope=col>origin</th><th scope=col>dest</th><th scope=col>air_time</th><th scope=col>distance</th><th scope=col>hour</th><th scope=col>minute</th><th scope=col>time_hour</th></tr>\n",
       "\t<tr><th scope=col>&lt;int&gt;</th><th scope=col>&lt;int&gt;</th><th scope=col>&lt;int&gt;</th><th scope=col>&lt;int&gt;</th><th scope=col>&lt;int&gt;</th><th scope=col>&lt;dbl&gt;</th><th scope=col>&lt;int&gt;</th><th scope=col>&lt;int&gt;</th><th scope=col>&lt;dbl&gt;</th><th scope=col>&lt;chr&gt;</th><th scope=col>&lt;int&gt;</th><th scope=col>&lt;chr&gt;</th><th scope=col>&lt;chr&gt;</th><th scope=col>&lt;chr&gt;</th><th scope=col>&lt;dbl&gt;</th><th scope=col>&lt;dbl&gt;</th><th scope=col>&lt;dbl&gt;</th><th scope=col>&lt;dbl&gt;</th><th scope=col>&lt;dttm&gt;</th></tr>\n",
       "</thead>\n",
       "<tbody>\n",
       "\t<tr><td>2013</td><td>12</td><td> 7</td><td>2040</td><td>2123</td><td>-43</td><td>  40</td><td>2352</td><td> 48</td><td>B6</td><td>  97</td><td>N592JB</td><td>JFK</td><td>DEN</td><td>265</td><td>1626</td><td>21</td><td>23</td><td>2013-12-07 21:00:00</td></tr>\n",
       "\t<tr><td>2013</td><td> 2</td><td> 3</td><td>2022</td><td>2055</td><td>-33</td><td>2240</td><td>2338</td><td>-58</td><td>DL</td><td>1715</td><td>N612DL</td><td>LGA</td><td>MSY</td><td>162</td><td>1183</td><td>20</td><td>55</td><td>2013-02-03 20:00:00</td></tr>\n",
       "\t<tr><td>2013</td><td>11</td><td>10</td><td>1408</td><td>1440</td><td>-32</td><td>1549</td><td>1559</td><td>-10</td><td>EV</td><td>5713</td><td>N825AS</td><td>LGA</td><td>IAD</td><td> 52</td><td> 229</td><td>14</td><td>40</td><td>2013-11-10 14:00:00</td></tr>\n",
       "\t<tr><td>2013</td><td> 1</td><td>11</td><td>1900</td><td>1930</td><td>-30</td><td>2233</td><td>2243</td><td>-10</td><td>DL</td><td>1435</td><td>N934DL</td><td>LGA</td><td>TPA</td><td>139</td><td>1010</td><td>19</td><td>30</td><td>2013-01-11 19:00:00</td></tr>\n",
       "\t<tr><td>2013</td><td> 1</td><td>29</td><td>1703</td><td>1730</td><td>-27</td><td>1947</td><td>1957</td><td>-10</td><td>F9</td><td> 837</td><td>N208FR</td><td>LGA</td><td>DEN</td><td>250</td><td>1620</td><td>17</td><td>30</td><td>2013-01-29 17:00:00</td></tr>\n",
       "\t<tr><td>2013</td><td> 8</td><td> 9</td><td> 729</td><td> 755</td><td>-26</td><td>1002</td><td> 955</td><td>  7</td><td>MQ</td><td>3478</td><td>N711MQ</td><td>LGA</td><td>DTW</td><td> 88</td><td> 502</td><td> 7</td><td>55</td><td>2013-08-09 07:00:00</td></tr>\n",
       "</tbody>\n",
       "</table>\n"
      ],
      "text/latex": [
       "A tibble: 6 × 19\n",
       "\\begin{tabular}{lllllllllllllllllll}\n",
       " year & month & day & dep\\_time & sched\\_dep\\_time & dep\\_delay & arr\\_time & sched\\_arr\\_time & arr\\_delay & carrier & flight & tailnum & origin & dest & air\\_time & distance & hour & minute & time\\_hour\\\\\n",
       " <int> & <int> & <int> & <int> & <int> & <dbl> & <int> & <int> & <dbl> & <chr> & <int> & <chr> & <chr> & <chr> & <dbl> & <dbl> & <dbl> & <dbl> & <dttm>\\\\\n",
       "\\hline\n",
       "\t 2013 & 12 &  7 & 2040 & 2123 & -43 &   40 & 2352 &  48 & B6 &   97 & N592JB & JFK & DEN & 265 & 1626 & 21 & 23 & 2013-12-07 21:00:00\\\\\n",
       "\t 2013 &  2 &  3 & 2022 & 2055 & -33 & 2240 & 2338 & -58 & DL & 1715 & N612DL & LGA & MSY & 162 & 1183 & 20 & 55 & 2013-02-03 20:00:00\\\\\n",
       "\t 2013 & 11 & 10 & 1408 & 1440 & -32 & 1549 & 1559 & -10 & EV & 5713 & N825AS & LGA & IAD &  52 &  229 & 14 & 40 & 2013-11-10 14:00:00\\\\\n",
       "\t 2013 &  1 & 11 & 1900 & 1930 & -30 & 2233 & 2243 & -10 & DL & 1435 & N934DL & LGA & TPA & 139 & 1010 & 19 & 30 & 2013-01-11 19:00:00\\\\\n",
       "\t 2013 &  1 & 29 & 1703 & 1730 & -27 & 1947 & 1957 & -10 & F9 &  837 & N208FR & LGA & DEN & 250 & 1620 & 17 & 30 & 2013-01-29 17:00:00\\\\\n",
       "\t 2013 &  8 &  9 &  729 &  755 & -26 & 1002 &  955 &   7 & MQ & 3478 & N711MQ & LGA & DTW &  88 &  502 &  7 & 55 & 2013-08-09 07:00:00\\\\\n",
       "\\end{tabular}\n"
      ],
      "text/markdown": [
       "\n",
       "A tibble: 6 × 19\n",
       "\n",
       "| year &lt;int&gt; | month &lt;int&gt; | day &lt;int&gt; | dep_time &lt;int&gt; | sched_dep_time &lt;int&gt; | dep_delay &lt;dbl&gt; | arr_time &lt;int&gt; | sched_arr_time &lt;int&gt; | arr_delay &lt;dbl&gt; | carrier &lt;chr&gt; | flight &lt;int&gt; | tailnum &lt;chr&gt; | origin &lt;chr&gt; | dest &lt;chr&gt; | air_time &lt;dbl&gt; | distance &lt;dbl&gt; | hour &lt;dbl&gt; | minute &lt;dbl&gt; | time_hour &lt;dttm&gt; |\n",
       "|---|---|---|---|---|---|---|---|---|---|---|---|---|---|---|---|---|---|---|\n",
       "| 2013 | 12 |  7 | 2040 | 2123 | -43 |   40 | 2352 |  48 | B6 |   97 | N592JB | JFK | DEN | 265 | 1626 | 21 | 23 | 2013-12-07 21:00:00 |\n",
       "| 2013 |  2 |  3 | 2022 | 2055 | -33 | 2240 | 2338 | -58 | DL | 1715 | N612DL | LGA | MSY | 162 | 1183 | 20 | 55 | 2013-02-03 20:00:00 |\n",
       "| 2013 | 11 | 10 | 1408 | 1440 | -32 | 1549 | 1559 | -10 | EV | 5713 | N825AS | LGA | IAD |  52 |  229 | 14 | 40 | 2013-11-10 14:00:00 |\n",
       "| 2013 |  1 | 11 | 1900 | 1930 | -30 | 2233 | 2243 | -10 | DL | 1435 | N934DL | LGA | TPA | 139 | 1010 | 19 | 30 | 2013-01-11 19:00:00 |\n",
       "| 2013 |  1 | 29 | 1703 | 1730 | -27 | 1947 | 1957 | -10 | F9 |  837 | N208FR | LGA | DEN | 250 | 1620 | 17 | 30 | 2013-01-29 17:00:00 |\n",
       "| 2013 |  8 |  9 |  729 |  755 | -26 | 1002 |  955 |   7 | MQ | 3478 | N711MQ | LGA | DTW |  88 |  502 |  7 | 55 | 2013-08-09 07:00:00 |\n",
       "\n"
      ],
      "text/plain": [
       "  year month day dep_time sched_dep_time dep_delay arr_time sched_arr_time\n",
       "1 2013 12     7  2040     2123           -43         40     2352          \n",
       "2 2013  2     3  2022     2055           -33       2240     2338          \n",
       "3 2013 11    10  1408     1440           -32       1549     1559          \n",
       "4 2013  1    11  1900     1930           -30       2233     2243          \n",
       "5 2013  1    29  1703     1730           -27       1947     1957          \n",
       "6 2013  8     9   729      755           -26       1002      955          \n",
       "  arr_delay carrier flight tailnum origin dest air_time distance hour minute\n",
       "1  48       B6        97   N592JB  JFK    DEN  265      1626     21   23    \n",
       "2 -58       DL      1715   N612DL  LGA    MSY  162      1183     20   55    \n",
       "3 -10       EV      5713   N825AS  LGA    IAD   52       229     14   40    \n",
       "4 -10       DL      1435   N934DL  LGA    TPA  139      1010     19   30    \n",
       "5 -10       F9       837   N208FR  LGA    DEN  250      1620     17   30    \n",
       "6   7       MQ      3478   N711MQ  LGA    DTW   88       502      7   55    \n",
       "  time_hour          \n",
       "1 2013-12-07 21:00:00\n",
       "2 2013-02-03 20:00:00\n",
       "3 2013-11-10 14:00:00\n",
       "4 2013-01-11 19:00:00\n",
       "5 2013-01-29 17:00:00\n",
       "6 2013-08-09 07:00:00"
      ]
     },
     "metadata": {},
     "output_type": "display_data"
    }
   ],
   "source": [
    "#Installation of packages & data\n",
    "install.packages(\"tidyverse\")\n",
    "library(tidyverse)\n",
    "install.packages(\"nycflights13\")\n",
    "library(nycflights13)\n",
    "\n",
    "#Question2a, find all flights that \n",
    "#Question2a(I), had an arrival delay >=2hrs\n",
    "Q2aI<-flights %>% filter(arr_delay>=120)\n",
    "head(Q2aI)\n",
    "\n",
    "#Question2a(II),flew to Houseton(IAH or HOU)\n",
    "Q2aII<-flights %>% filter(dest==\"IAH\"| dest==\"HOU\")\n",
    "head(Q2aII)\n",
    "\n",
    "#Question2a(III), were operated by United, American, Delta\n",
    "Q2aIII<-flights %>% filter(carrier==\"UA\"| carrier==\"AA\" | carrier==\"DL\")\n",
    "head(Q2aIII)\n",
    "\n",
    "#Question2a(IV), departed in summer (Jul to Sep)\n",
    "Q2aIV<-flights %>% filter(month==7 | month==8 | month==9)\n",
    "head(Q2aIV)\n",
    "\n",
    "#Question2a(V), arrived >2hrs late, but didn¡¦t leave late\n",
    "Q2aV<-flights %>% filter(arr_delay>120 & dep_delay<=0)\n",
    "head(Q2aV)\n",
    "\n",
    "#Question2a(VI), Were delayed by >=1 hr, but made up >30mins in flight\n",
    "Q2aVI<-flights %>% filter(dep_delay>=60 & dep_delay-arr_delay>30)\n",
    "head(Q2aVI)\n",
    "\n",
    "#Question2a(VII), departed between midnight and 6am (inclusive)\n",
    "Q2aVII<-flights %>% filter(dep_time<=600 | dep_time==2400)\n",
    "head(Q2aVII)\n",
    "\n",
    "#Question2b, sort flights to find the most delayed flights\n",
    "Q2bI<-flights %>% arrange(desc(dep_delay))\n",
    "head(Q2bI)\n",
    "\n",
    "#Question2b, sort flights to find the flights that left earliest\n",
    "Q2bII<-flights %>% arrange(dep_delay)\n",
    "head(Q2bII)"
   ]
  },
  {
   "cell_type": "markdown",
   "id": "6a937244",
   "metadata": {},
   "source": [
    "<br></br>\n",
    "<p>To filter data under different conditions with Tidyverse.</p>\n",
    "<br></br>"
   ]
  },
  {
   "cell_type": "code",
   "execution_count": 7,
   "id": "36db73f8",
   "metadata": {},
   "outputs": [
    {
     "name": "stderr",
     "output_type": "stream",
     "text": [
      "Warning message:\n",
      "\"package 'nycflights13' is in use and will not be installed\"\n",
      "Warning message:\n",
      "\"package 'maps' is in use and will not be installed\"\n",
      "Warning message:\n",
      "\"package 'gridExtra' is in use and will not be installed\"\n",
      "Warning message:\n",
      "\"Removed 4 rows containing missing values (geom_point).\"\n",
      "Warning message:\n",
      "\"Removed 4 rows containing missing values (geom_point).\"\n"
     ]
    },
    {
     "data": {
      "image/png": "[encoded data removed]",
      "text/plain": [
       "plot without title"
      ]
     },
     "metadata": {
      "image/png": {
       "height": 420,
       "width": 420
      }
     },
     "output_type": "display_data"
    },
    {
     "name": "stderr",
     "output_type": "stream",
     "text": [
      "`geom_smooth()` using method = 'gam' and formula 'y ~ s(x, bs = \"cs\")'\n",
      "\n",
      "Warning message:\n",
      "\"Removed 798 rows containing non-finite values (stat_smooth).\"\n",
      "Warning message:\n",
      "\"Removed 798 rows containing missing values (geom_point).\"\n"
     ]
    },
    {
     "data": {
      "image/png": "[encoded data removed]",
      "text/plain": [
       "plot without title"
      ]
     },
     "metadata": {
      "image/png": {
       "height": 420,
       "width": 420
      }
     },
     "output_type": "display_data"
    },
    {
     "data": {
      "image/png": "[encoded data removed]",
      "text/plain": [
       "plot without title"
      ]
     },
     "metadata": {
      "image/png": {
       "height": 420,
       "width": 420
      }
     },
     "output_type": "display_data"
    }
   ],
   "source": [
    "#Question3\n",
    "#https://cran.r-project.org/web/packages/nycflights13/nycflights13.pdf\n",
    "install.packages(\"nycflights13\")\n",
    "library(nycflights13)\n",
    "install.packages(\"maps\")\n",
    "library(maps)\n",
    "install.packages(\"gridExtra\")\n",
    "library(gridExtra)\n",
    "\n",
    "#Question3a\n",
    "#Calculation of average delay by destinations\n",
    "Q3a1<-flights %>% \n",
    "  mutate(delay=dep_delay + arr_delay) %>% \n",
    "  group_by(dest) %>% \n",
    "  summarize(avg_delay=mean(delay, na.rm=TRUE))\n",
    "\n",
    "#Join with table Airports\n",
    "Q3a2<-Q3a1 %>% left_join(airports, c(\"dest\"=\"faa\"))\n",
    "\n",
    "#The spatial distribution of delay\n",
    "ggplot(data=Q3a2,mapping=aes(x=lon, y=lat, color=avg_delay))+\n",
    "  geom_point()+\n",
    "  borders(\"state\")+\n",
    "  geom_point()+\n",
    "  coord_quickmap()\n",
    "\n",
    "#Question3b, use color of the points to display average delay for each airport\n",
    "airports %>%\n",
    "  semi_join (flights, c (\"faa\"=\"dest\")) %>%\n",
    "  ggplot (aes(lon, lat, color=\"delay\")) +\n",
    "  borders (\"state\") +\n",
    "  geom_point() +\n",
    "  coord_quickmap()\n",
    "\n",
    "#Question3c, add location of origin and destination to flights\n",
    "Q3c<- flights %>% left_join(airports, c(\"origin\"=\"faa\")) %>%\n",
    "  rename(lat.origin=lat, lon.origin=lon) %>%\n",
    "  left_join(airports, c(\"dest\"=\"faa\")) %>%\n",
    "  rename(lat.dest=lat, lon.dest=lon)\n",
    "\n",
    "#Question3d, the relationship between the age of a plane and its delay\n",
    "#Calculation of delay of each plane\n",
    "Q3d<-flights %>% \n",
    "  select(tailnum, year, arr_delay, dep_delay) %>%\n",
    "  mutate(delay=arr_delay+dep_delay) %>%\n",
    "  group_by(tailnum) %>%\n",
    "  summarize(avg_delay=mean(delay, na.rm=TRUE))\n",
    "\n",
    "#Calculation of age of each plane\n",
    "Q3d2<-planes %>%\n",
    "  select(tailnum,year) %>%\n",
    "  rename(manufacture_year=year)\n",
    "\n",
    "#Form a new table\n",
    "Q3d3<-Q3d %>%\n",
    "  left_join(Q3d2, by=\"tailnum\") %>%\n",
    "  mutate(age=2013-manufacture_year)\n",
    "\n",
    "#Plot the relationship\n",
    "ggplot(data=Q3d3, aes(x=age, y=avg_delay))+\n",
    "  geom_point ()+\n",
    "  geom_smooth(se=FALSE)"
   ]
  },
  {
   "cell_type": "markdown",
   "id": "5290c2c7",
   "metadata": {},
   "source": [
    "<br></br>\n",
    "<p>For Question3d, no relationship can be concluded in this data set.It needs more data for further investigation.</p>\n",
    "<br></br>"
   ]
  },
  {
   "cell_type": "code",
   "execution_count": 8,
   "id": "2b16593a",
   "metadata": {},
   "outputs": [
    {
     "name": "stderr",
     "output_type": "stream",
     "text": [
      "`geom_smooth()` using method = 'gam' and formula 'y ~ s(x, bs = \"cs\")'\n",
      "\n",
      "Warning message:\n",
      "\"Removed 10974 rows containing non-finite values (stat_smooth).\"\n",
      "Warning message:\n",
      "\"Removed 10974 rows containing missing values (geom_point).\"\n",
      "`geom_smooth()` using method = 'gam' and formula 'y ~ s(x, bs = \"cs\")'\n",
      "\n",
      "Warning message:\n",
      "\"Removed 10974 rows containing non-finite values (stat_smooth).\"\n",
      "Warning message:\n",
      "\"Removed 10974 rows containing missing values (geom_point).\"\n",
      "`geom_smooth()` using method = 'gam' and formula 'y ~ s(x, bs = \"cs\")'\n",
      "\n",
      "Warning message:\n",
      "\"Removed 10974 rows containing non-finite values (stat_smooth).\"\n",
      "Warning message:\n",
      "\"Removed 10974 rows containing missing values (geom_point).\"\n",
      "`geom_smooth()` using method = 'gam' and formula 'y ~ s(x, bs = \"cs\")'\n",
      "\n",
      "Warning message:\n",
      "\"Removed 19004 rows containing non-finite values (stat_smooth).\"\n",
      "Warning message:\n",
      "\"Removed 19004 rows containing missing values (geom_point).\"\n",
      "`geom_smooth()` using method = 'gam' and formula 'y ~ s(x, bs = \"cs\")'\n",
      "\n",
      "Warning message:\n",
      "\"Removed 11035 rows containing non-finite values (stat_smooth).\"\n",
      "Warning message:\n",
      "\"Removed 11035 rows containing missing values (geom_point).\"\n",
      "`geom_smooth()` using method = 'gam' and formula 'y ~ s(x, bs = \"cs\")'\n",
      "\n",
      "Warning message:\n",
      "\"Removed 259342 rows containing non-finite values (stat_smooth).\"\n",
      "Warning message:\n",
      "\"Removed 259342 rows containing missing values (geom_point).\"\n",
      "`geom_smooth()` using method = 'gam' and formula 'y ~ s(x, bs = \"cs\")'\n",
      "\n",
      "Warning message:\n",
      "\"Removed 10957 rows containing non-finite values (stat_smooth).\"\n",
      "Warning message:\n",
      "\"Removed 10957 rows containing missing values (geom_point).\"\n",
      "`geom_smooth()` using method = 'gam' and formula 'y ~ s(x, bs = \"cs\")'\n",
      "\n",
      "Warning message:\n",
      "\"Removed 45572 rows containing non-finite values (stat_smooth).\"\n",
      "Warning message:\n",
      "\"Removed 45572 rows containing missing values (geom_point).\"\n",
      "`geom_smooth()` using method = 'gam' and formula 'y ~ s(x, bs = \"cs\")'\n",
      "\n",
      "Warning message:\n",
      "\"Removed 10957 rows containing non-finite values (stat_smooth).\"\n",
      "Warning message:\n",
      "\"Removed 10957 rows containing missing values (geom_point).\"\n"
     ]
    },
    {
     "data": {
      "image/png": "[encoded data removed]",
      "text/plain": [
       "plot without title"
      ]
     },
     "metadata": {
      "image/png": {
       "height": 420,
       "width": 420
      }
     },
     "output_type": "display_data"
    }
   ],
   "source": [
    "#Question3e, the delay under different weather conditions\n",
    "#Calculation of delay \n",
    "Q3e<-flights %>% \n",
    "  select (tailnum, year, arr_delay, dep_delay, origin,year,month,day,hour) %>%\n",
    "  mutate (delay=arr_delay+dep_delay)\n",
    "\n",
    "#Form a new table\n",
    "Q3e1<-Q3e %>%\n",
    "  left_join(weather,by=c(\"origin\",\"year\",\"month\",\"day\",\"hour\"))\n",
    "\n",
    "#Plot the delay under different weather conditions\n",
    "#temp\n",
    "p7<-ggplot(data=Q3e1,aes(x=temp, y=delay))+\n",
    "    geom_point()+\n",
    "    geom_smooth(se=FALSE)\n",
    " \n",
    "#dewp\n",
    "p8<-ggplot(data=Q3e1,aes(x=dewp, y=delay))+\n",
    "    geom_point()+\n",
    "    geom_smooth(se=FALSE)\n",
    "\n",
    "#humid\n",
    "p9<-ggplot(data=Q3e1,aes(x=humid, y=delay))+\n",
    "    geom_point()+\n",
    "    geom_smooth(se=FALSE)\n",
    "\n",
    "#wind_dir\n",
    "p10<-ggplot(data=Q3e1,aes(x=wind_dir, y=delay))+\n",
    "    geom_point()+\n",
    "    geom_smooth(se=FALSE)\n",
    "\n",
    "#wind_speed\n",
    "p11<-ggplot(data=Q3e1,aes(x=wind_speed, y=delay))+\n",
    "    geom_point()+\n",
    "    geom_smooth(se=FALSE)\n",
    "\n",
    "#wind_gust\n",
    "p12<-ggplot(data=Q3e1,aes(x=wind_gust, y=delay))+\n",
    "    geom_point()+\n",
    "    geom_smooth(se=FALSE)\n",
    "\n",
    "#precip\n",
    "p13<-ggplot(data=Q3e1,aes(x=precip, y=delay))+\n",
    "    geom_point()+\n",
    "    geom_smooth(se=FALSE)\n",
    "\n",
    "#pressure\n",
    "p14<-ggplot(data=Q3e1,aes(x=pressure, y=delay))+\n",
    "    geom_point()+\n",
    "    geom_smooth(se=FALSE)\n",
    "\n",
    "#visib\n",
    "p15<-ggplot(data=Q3e1,aes(x=visib, y=delay))+\n",
    "    geom_point()+\n",
    "    geom_smooth(se=FALSE)\n",
    "\n",
    "#Mulitple plots on the same page\n",
    "grid.arrange(p7, p8, p9, p10, p11, p12, p13, p14, p15, nrow = 3)"
   ]
  },
  {
   "cell_type": "markdown",
   "id": "5260923b",
   "metadata": {},
   "source": [
    "<br></br>\n",
    "<p>For Question 3e, no conclusion can be drawn to determine which weather conditions have more impacts to delay. It needs more data for further investigation.</p>\n",
    "<br></br>"
   ]
  },
  {
   "cell_type": "code",
   "execution_count": 9,
   "id": "3b949e76",
   "metadata": {},
   "outputs": [
    {
     "name": "stderr",
     "output_type": "stream",
     "text": [
      "Warning message:\n",
      "\"Removed 7 rows containing missing values (geom_point).\"\n"
     ]
    },
    {
     "data": {
      "image/png": "[encoded data removed]",
      "text/plain": [
       "plot without title"
      ]
     },
     "metadata": {
      "image/png": {
       "height": 420,
       "width": 420
      }
     },
     "output_type": "display_data"
    }
   ],
   "source": [
    "#Question3f\n",
    "#The condition on 13 June 2013\n",
    "#Filter the selected date\n",
    "Q3f1<-flights %>%\n",
    "  filter(day==13,month==6,year==2013) %>%\n",
    "  select(day,month,year,dest,arr_delay,dep_delay,tailnum)\n",
    "  \n",
    "#Delay calculation on 13 June 2013\n",
    "Q3f2<-Q3f1 %>%\n",
    "  mutate(delay=arr_delay+dep_delay)%>%\n",
    "  group_by(dest) %>%\n",
    "  summarise(avg_delay=mean(delay, na.rm = TRUE))\n",
    "\n",
    "#Find the location of the dest in Q3f2\n",
    "Q3f3<-Q3f2 %>%\n",
    "  left_join(airports,c(\"dest\"=\"faa\"))\n",
    "  \n",
    "#Plot the delay on 13 June 2013\n",
    "Q3f3 %>%\n",
    "  ggplot(mapping=aes(x=lon, y=lat,size=avg_delay,color=avg_delay))+\n",
    "  borders(\"state\")+\n",
    "  geom_point()+\n",
    "  coord_quickmap()"
   ]
  },
  {
   "cell_type": "markdown",
   "id": "84d4b3fa",
   "metadata": {},
   "source": [
    "<br></br>\n",
    "<p>Cross reference the information searched in Google, 12-13 June 2013, there was a powerful derecho attacked the south and east in US.The affected locations searched in Google were same as the locations shown in the plot.</p>\n",
    "<br></br>"
   ]
  }
 ],
 "metadata": {
  "kernelspec": {
   "display_name": "R",
   "language": "R",
   "name": "ir"
  },
  "language_info": {
   "codemirror_mode": "r",
   "file_extension": ".r",
   "mimetype": "text/x-r-source",
   "name": "R",
   "pygments_lexer": "r",
   "version": "4.1.1"
  }
 },
 "nbformat": 4,
 "nbformat_minor": 5
}
