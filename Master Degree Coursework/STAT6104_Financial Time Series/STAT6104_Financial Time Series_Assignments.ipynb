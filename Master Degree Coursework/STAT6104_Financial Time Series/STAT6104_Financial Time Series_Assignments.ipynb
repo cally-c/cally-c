{
 "cells": [
  {
   "cell_type": "markdown",
   "id": "ec63163d",
   "metadata": {},
   "source": [
    "# STAT6104 Financial Time Series Assignments"
   ]
  },
  {
   "cell_type": "markdown",
   "id": "e48dec26",
   "metadata": {},
   "source": [
    "## Content\n",
    "<p>1. Introduction</p>\n",
    "<p>2. Learning Outcomes</p>\n",
    "<p>3. Assignment 3</p>\n",
    "<p>4. Assignment 4</p>"
   ]
  },
  {
   "cell_type": "markdown",
   "id": "8242e37e",
   "metadata": {},
   "source": [
    "## 1. Introduction"
   ]
  },
  {
   "cell_type": "markdown",
   "id": "36455fad",
   "metadata": {},
   "source": [
    "<p>This course includes statistical tools useful in analysing time series, models for stationary and non-stationary time series, seasonality, forecasting techniques, heteroskedasticity and multivariate time series.</p>"
   ]
  },
  {
   "cell_type": "markdown",
   "id": "197674dd",
   "metadata": {},
   "source": [
    "## 2. Learning Outcomes"
   ]
  },
  {
   "cell_type": "markdown",
   "id": "97ee3284",
   "metadata": {},
   "source": [
    "<p>To get the procedure for time series anlysis and building models with the application of R.</p>"
   ]
  },
  {
   "cell_type": "markdown",
   "id": "e14723dc",
   "metadata": {},
   "source": [
    "## 3. Assignment 3"
   ]
  },
  {
   "cell_type": "markdown",
   "id": "8801dd92",
   "metadata": {},
   "source": [
    "<p>To select appropriate model for this data.</p>"
   ]
  },
  {
   "cell_type": "code",
   "execution_count": 5,
   "id": "a25a59d7",
   "metadata": {},
   "outputs": [
    {
     "data": {
      "text/html": [
       "<ol class=list-inline>\n",
       "\t<li>0.517340041523737</li>\n",
       "\t<li>51.7416918596945</li>\n",
       "\t<li>28.6113378250712</li>\n",
       "</ol>\n"
      ],
      "text/latex": [
       "\\begin{enumerate*}\n",
       "\\item 0.517340041523737\n",
       "\\item 51.7416918596945\n",
       "\\item 28.6113378250712\n",
       "\\end{enumerate*}\n"
      ],
      "text/markdown": [
       "1. 0.517340041523737\n",
       "2. 51.7416918596945\n",
       "3. 28.6113378250712\n",
       "\n",
       "\n"
      ],
      "text/plain": [
       "[1]  0.51734 51.74169 28.61134"
      ]
     },
     "metadata": {},
     "output_type": "display_data"
    },
    {
     "data": {
      "text/html": [
       "<ol class=list-inline>\n",
       "\t<li>0.389519711890351</li>\n",
       "\t<li>50.8203549128444</li>\n",
       "\t<li>25.6627828444198</li>\n",
       "</ol>\n"
      ],
      "text/latex": [
       "\\begin{enumerate*}\n",
       "\\item 0.389519711890351\n",
       "\\item 50.8203549128444\n",
       "\\item 25.6627828444198\n",
       "\\end{enumerate*}\n"
      ],
      "text/markdown": [
       "1. 0.389519711890351\n",
       "2. 50.8203549128444\n",
       "3. 25.6627828444198\n",
       "\n",
       "\n"
      ],
      "text/plain": [
       "[1]  0.3895197 50.8203549 25.6627828"
      ]
     },
     "metadata": {},
     "output_type": "display_data"
    },
    {
     "data": {
      "text/html": [
       "<ol class=list-inline>\n",
       "\t<li>0.301321882109134</li>\n",
       "\t<li>52.5775097767928</li>\n",
       "\t<li>23.7453466725819</li>\n",
       "</ol>\n"
      ],
      "text/latex": [
       "\\begin{enumerate*}\n",
       "\\item 0.301321882109134\n",
       "\\item 52.5775097767928\n",
       "\\item 23.7453466725819\n",
       "\\end{enumerate*}\n"
      ],
      "text/markdown": [
       "1. 0.301321882109134\n",
       "2. 52.5775097767928\n",
       "3. 23.7453466725819\n",
       "\n",
       "\n"
      ],
      "text/plain": [
       "[1]  0.3013219 52.5775098 23.7453467"
      ]
     },
     "metadata": {},
     "output_type": "display_data"
    },
    {
     "data": {
      "text/html": [
       "<ol class=list-inline>\n",
       "\t<li>0.218313173357057</li>\n",
       "\t<li>53.6643996763098</li>\n",
       "\t<li>21.8726243196574</li>\n",
       "</ol>\n"
      ],
      "text/latex": [
       "\\begin{enumerate*}\n",
       "\\item 0.218313173357057\n",
       "\\item 53.6643996763098\n",
       "\\item 21.8726243196574\n",
       "\\end{enumerate*}\n"
      ],
      "text/markdown": [
       "1. 0.218313173357057\n",
       "2. 53.6643996763098\n",
       "3. 21.8726243196574\n",
       "\n",
       "\n"
      ],
      "text/plain": [
       "[1]  0.2183132 53.6643997 21.8726243"
      ]
     },
     "metadata": {},
     "output_type": "display_data"
    },
    {
     "data": {
      "text/html": [
       "<ol class=list-inline>\n",
       "\t<li>0.273483551619929</li>\n",
       "\t<li>57.9445319594707</li>\n",
       "\t<li>25.2851224945951</li>\n",
       "</ol>\n"
      ],
      "text/latex": [
       "\\begin{enumerate*}\n",
       "\\item 0.273483551619929\n",
       "\\item 57.9445319594707\n",
       "\\item 25.2851224945951\n",
       "\\end{enumerate*}\n"
      ],
      "text/markdown": [
       "1. 0.273483551619929\n",
       "2. 57.9445319594707\n",
       "3. 25.2851224945951\n",
       "\n",
       "\n"
      ],
      "text/plain": [
       "[1]  0.2734836 57.9445320 25.2851225"
      ]
     },
     "metadata": {},
     "output_type": "display_data"
    },
    {
     "data": {
      "text/html": [
       "<ol class=list-inline>\n",
       "\t<li>0.708776487972137</li>\n",
       "\t<li>53.8733707994399</li>\n",
       "\t<li>32.619021188238</li>\n",
       "</ol>\n"
      ],
      "text/latex": [
       "\\begin{enumerate*}\n",
       "\\item 0.708776487972137\n",
       "\\item 53.8733707994399\n",
       "\\item 32.619021188238\n",
       "\\end{enumerate*}\n"
      ],
      "text/markdown": [
       "1. 0.708776487972137\n",
       "2. 53.8733707994399\n",
       "3. 32.619021188238\n",
       "\n",
       "\n"
      ],
      "text/plain": [
       "[1]  0.7087765 53.8733708 32.6190212"
      ]
     },
     "metadata": {},
     "output_type": "display_data"
    },
    {
     "data": {
      "text/html": [
       "<ol class=list-inline>\n",
       "\t<li>0.687785389242421</li>\n",
       "\t<li>53.5390663036113</li>\n",
       "\t<li>32.0997132891681</li>\n",
       "</ol>\n"
      ],
      "text/latex": [
       "\\begin{enumerate*}\n",
       "\\item 0.687785389242421\n",
       "\\item 53.5390663036113\n",
       "\\item 32.0997132891681\n",
       "\\end{enumerate*}\n"
      ],
      "text/markdown": [
       "1. 0.687785389242421\n",
       "2. 53.5390663036113\n",
       "3. 32.0997132891681\n",
       "\n",
       "\n"
      ],
      "text/plain": [
       "[1]  0.6877854 53.5390663 32.0997133"
      ]
     },
     "metadata": {},
     "output_type": "display_data"
    },
    {
     "data": {
      "text/html": [
       "<ol class=list-inline>\n",
       "\t<li>0.760774287887234</li>\n",
       "\t<li>55.5236767941708</li>\n",
       "\t<li>32.8930898503495</li>\n",
       "</ol>\n"
      ],
      "text/latex": [
       "\\begin{enumerate*}\n",
       "\\item 0.760774287887234\n",
       "\\item 55.5236767941708\n",
       "\\item 32.8930898503495\n",
       "\\end{enumerate*}\n"
      ],
      "text/markdown": [
       "1. 0.760774287887234\n",
       "2. 55.5236767941708\n",
       "3. 32.8930898503495\n",
       "\n",
       "\n"
      ],
      "text/plain": [
       "[1]  0.7607743 55.5236768 32.8930899"
      ]
     },
     "metadata": {},
     "output_type": "display_data"
    },
    {
     "data": {
      "text/html": [
       "<ol class=list-inline>\n",
       "\t<li>0.611824468105271</li>\n",
       "\t<li>52.5120360677958</li>\n",
       "\t<li>30.6616633684647</li>\n",
       "</ol>\n"
      ],
      "text/latex": [
       "\\begin{enumerate*}\n",
       "\\item 0.611824468105271\n",
       "\\item 52.5120360677958\n",
       "\\item 30.6616633684647\n",
       "\\end{enumerate*}\n"
      ],
      "text/markdown": [
       "1. 0.611824468105271\n",
       "2. 52.5120360677958\n",
       "3. 30.6616633684647\n",
       "\n",
       "\n"
      ],
      "text/plain": [
       "[1]  0.6118245 52.5120361 30.6616634"
      ]
     },
     "metadata": {},
     "output_type": "display_data"
    },
    {
     "data": {
      "text/html": [
       "<ol class=list-inline>\n",
       "\t<li>0.678841948647451</li>\n",
       "\t<li>54.4225859960977</li>\n",
       "\t<li>31.6844541333262</li>\n",
       "</ol>\n"
      ],
      "text/latex": [
       "\\begin{enumerate*}\n",
       "\\item 0.678841948647451\n",
       "\\item 54.4225859960977\n",
       "\\item 31.6844541333262\n",
       "\\end{enumerate*}\n"
      ],
      "text/markdown": [
       "1. 0.678841948647451\n",
       "2. 54.4225859960977\n",
       "3. 31.6844541333262\n",
       "\n",
       "\n"
      ],
      "text/plain": [
       "[1]  0.6788419 54.4225860 31.6844541"
      ]
     },
     "metadata": {},
     "output_type": "display_data"
    },
    {
     "data": {
      "text/html": [
       "<ol class=list-inline>\n",
       "\t<li>0.637559266249101</li>\n",
       "\t<li>53.786696985996</li>\n",
       "\t<li>31.5183078502392</li>\n",
       "</ol>\n"
      ],
      "text/latex": [
       "\\begin{enumerate*}\n",
       "\\item 0.637559266249101\n",
       "\\item 53.786696985996\n",
       "\\item 31.5183078502392\n",
       "\\end{enumerate*}\n"
      ],
      "text/markdown": [
       "1. 0.637559266249101\n",
       "2. 53.786696985996\n",
       "3. 31.5183078502392\n",
       "\n",
       "\n"
      ],
      "text/plain": [
       "[1]  0.6375593 53.7866970 31.5183079"
      ]
     },
     "metadata": {},
     "output_type": "display_data"
    },
    {
     "data": {
      "text/html": [
       "<ol class=list-inline>\n",
       "\t<li>0.329664866948868</li>\n",
       "\t<li>47.3595054473823</li>\n",
       "\t<li>22.1513196683083</li>\n",
       "</ol>\n"
      ],
      "text/latex": [
       "\\begin{enumerate*}\n",
       "\\item 0.329664866948868\n",
       "\\item 47.3595054473823\n",
       "\\item 22.1513196683083\n",
       "\\end{enumerate*}\n"
      ],
      "text/markdown": [
       "1. 0.329664866948868\n",
       "2. 47.3595054473823\n",
       "3. 22.1513196683083\n",
       "\n",
       "\n"
      ],
      "text/plain": [
       "[1]  0.3296649 47.3595054 22.1513197"
      ]
     },
     "metadata": {},
     "output_type": "display_data"
    },
    {
     "data": {
      "text/html": [
       "<ol class=list-inline>\n",
       "\t<li>0.319350805235739</li>\n",
       "\t<li>48.8204232580344</li>\n",
       "\t<li>22.9391638270444</li>\n",
       "</ol>\n"
      ],
      "text/latex": [
       "\\begin{enumerate*}\n",
       "\\item 0.319350805235739\n",
       "\\item 48.8204232580344\n",
       "\\item 22.9391638270444\n",
       "\\end{enumerate*}\n"
      ],
      "text/markdown": [
       "1. 0.319350805235739\n",
       "2. 48.8204232580344\n",
       "3. 22.9391638270444\n",
       "\n",
       "\n"
      ],
      "text/plain": [
       "[1]  0.3193508 48.8204233 22.9391638"
      ]
     },
     "metadata": {},
     "output_type": "display_data"
    },
    {
     "data": {
      "text/html": [
       "<ol class=list-inline>\n",
       "\t<li>0.311247245016849</li>\n",
       "\t<li>50.7759352635437</li>\n",
       "\t<li>23.5747994414517</li>\n",
       "</ol>\n"
      ],
      "text/latex": [
       "\\begin{enumerate*}\n",
       "\\item 0.311247245016849\n",
       "\\item 50.7759352635437\n",
       "\\item 23.5747994414517\n",
       "\\end{enumerate*}\n"
      ],
      "text/markdown": [
       "1. 0.311247245016849\n",
       "2. 50.7759352635437\n",
       "3. 23.5747994414517\n",
       "\n",
       "\n"
      ],
      "text/plain": [
       "[1]  0.3112472 50.7759353 23.5747994"
      ]
     },
     "metadata": {},
     "output_type": "display_data"
    },
    {
     "data": {
      "text/html": [
       "<ol class=list-inline>\n",
       "\t<li>0.256044606247083</li>\n",
       "\t<li>52.5709924846855</li>\n",
       "\t<li>22.0145168017394</li>\n",
       "</ol>\n"
      ],
      "text/latex": [
       "\\begin{enumerate*}\n",
       "\\item 0.256044606247083\n",
       "\\item 52.5709924846855\n",
       "\\item 22.0145168017394\n",
       "\\end{enumerate*}\n"
      ],
      "text/markdown": [
       "1. 0.256044606247083\n",
       "2. 52.5709924846855\n",
       "3. 22.0145168017394\n",
       "\n",
       "\n"
      ],
      "text/plain": [
       "[1]  0.2560446 52.5709925 22.0145168"
      ]
     },
     "metadata": {},
     "output_type": "display_data"
    }
   ],
   "source": [
    "###Question 10\n",
    "#Data input\n",
    "x<-c(1.33,-0.56,-1.31,-0.37,0.05,0.46,2.00,-0.19,-0.25,1.07,-0.17,1.14,0.63,-0.75,0.15,0.71,0.45,-0.14,0.57,1.43)\n",
    "\n",
    "##Trial and error for FPE/AIC/BIC\n",
    "IC=function(x,order.input=c(1,0,1)){\n",
    "fit=arima(x,order=order.input);\n",
    "n=length(x);p=order.input[1];q=order.input[3];sig=fit$sigma2\n",
    "FPE=sig*(n+p)/(n-p);AIC=fit$ aic\n",
    "BIC=(n-p-q)*log(n*sig/(n-p-1))+n*(1+log(sqrt(2*pi)))+\n",
    "  (p+q)*log((sum(x^2)-n*sig)/(p+q)); return(c(FPE,AIC,BIC)) \n",
    "}\n",
    "\n",
    "#Try ARMA(i,0,j) for i=1 to 5 and j=1 to 5\n",
    "IC(x,order=c(1,0,1))\n",
    "IC(x,order=c(2,0,2))\n",
    "IC(x,order=c(3,0,3))\n",
    "IC(x,order=c(4,0,4))\n",
    "IC(x,order=c(5,0,5))\n",
    "\n",
    "#Try AR(i,0) for i=1 to 5\n",
    "IC(x,order=c(1,0,0))\n",
    "IC(x,order=c(2,0,0))\n",
    "IC(x,order=c(3,0,0))\n",
    "IC(x,order=c(4,0,0))\n",
    "IC(x,order=c(5,0,0))\n",
    "\n",
    "#Try MA(0,j) j=1 to 5\n",
    "IC(x,order=c(0,0,1))\n",
    "IC(x,order=c(0,0,2))\n",
    "IC(x,order=c(0,0,3))\n",
    "IC(x,order=c(0,0,4))\n",
    "IC(x,order=c(0,0,5))"
   ]
  },
  {
   "cell_type": "markdown",
   "id": "a5916561",
   "metadata": {},
   "source": [
    "<br></br>\n",
    "<p>Select the appropriate model with 3 possible options, ARMA, AR and MA by trial and error. Each model will be assessed by FPE, AIC and BIC.</p>\n",
    "<br></br>\n",
    "<p>From R's result, ARMA(4,4) has two lowest values in terms of FPE and BIC. So, it would be chosen for next stage.</p>\n",
    "<br></br>"
   ]
  },
  {
   "cell_type": "code",
   "execution_count": 6,
   "id": "651c41c4",
   "metadata": {},
   "outputs": [
    {
     "data": {
      "text/plain": [
       "\n",
       "Call:\n",
       "arima(x = x, order = c(4, 0, 4))\n",
       "\n",
       "Coefficients:\n",
       "         ar1     ar2      ar3      ar4     ma1      ma2     ma3     ma4\n",
       "      0.0632  0.2232  -0.2848  -0.4869  0.0059  -1.9334  0.0059  0.9998\n",
       "s.e.  0.2312  0.2650   0.2222   0.2146  0.5174   0.5165  0.5170  0.5175\n",
       "      intercept\n",
       "         0.3414\n",
       "s.e.     0.0132\n",
       "\n",
       "sigma^2 estimated as 0.1455:  log likelihood = -16.83,  aic = 53.66"
      ]
     },
     "metadata": {},
     "output_type": "display_data"
    }
   ],
   "source": [
    "##Estimate coefficients\n",
    "model<-arima(x,order = c(4,0,4))\n",
    "model"
   ]
  },
  {
   "cell_type": "code",
   "execution_count": 8,
   "id": "b732e0e4",
   "metadata": {},
   "outputs": [
    {
     "data": {
      "text/html": [
       "FALSE"
      ],
      "text/latex": [
       "FALSE"
      ],
      "text/markdown": [
       "FALSE"
      ],
      "text/plain": [
       "[1] FALSE"
      ]
     },
     "metadata": {},
     "output_type": "display_data"
    },
    {
     "data": {
      "image/png": "[encoded data removed]",
      "text/plain": [
       "Plot with title \"Series  fit$res\""
      ]
     },
     "metadata": {},
     "output_type": "display_data"
    }
   ],
   "source": [
    "#Residual analysis\n",
    "n=length(x)\n",
    "fit=arima(x,order=c(4,0,4))\n",
    "par(mfrow=c(2,1))\n",
    "ts.plot(fit$ res)\n",
    "r.z=as.numeric(acf(fit$ res,15)$ acf) \n",
    "portmanteau.stat=n*(n+2)*sum((r.z[-1]^2)/(n-(1:15)))\n",
    "portmanteau.stat>qchisq(0.95,15-4-4) "
   ]
  },
  {
   "cell_type": "markdown",
   "id": "f8ecfab0",
   "metadata": {},
   "source": [
    "<br></br>\n",
    "<p>Residual analysis can check the goodness of fit of the model. From R's result, it is fasle and fails to reject null hypothesis with 95% confidence interval. It implies that the model is good fit to the data.More, from time series plot of residual, it looks like white noises and from ACF plot of residual, it shows no significant autocorrelation. Thus, the goodness of fit is good in this model.</p>\n",
    "<br></br>"
   ]
  },
  {
   "cell_type": "markdown",
   "id": "79d820e8",
   "metadata": {},
   "source": [
    "## 4. Assignment 4"
   ]
  },
  {
   "cell_type": "markdown",
   "id": "22ebbd66",
   "metadata": {},
   "source": [
    "<p>To fit stock price of HSBC (0005.hk) to ARIMA model.</p>"
   ]
  },
  {
   "cell_type": "code",
   "execution_count": 4,
   "id": "42942e1c",
   "metadata": {
    "scrolled": true
   },
   "outputs": [
    {
     "name": "stderr",
     "output_type": "stream",
     "text": [
      "Warning message:\n",
      "\"package 'tseries' is in use and will not be installed\"Warning message:\n",
      "\"0005.hk contains missing values. Some functions will not work if objects contain missing values in the middle of the series. Consider using na.omit(), na.approx(), na.fill(), etc to remove or replace them.\""
     ]
    },
    {
     "name": "stdout",
     "output_type": "stream",
     "text": [
      "time series starts 2012-01-03\n",
      "time series ends   2016-12-30\n"
     ]
    },
    {
     "data": {
      "image/png": "[encoded data removed]",
      "text/plain": [
       "plot without title"
      ]
     },
     "metadata": {},
     "output_type": "display_data"
    }
   ],
   "source": [
    "##Question 2\n",
    "#Install packages\n",
    "install.packages(\"tseries\")\n",
    "library(\"tseries\")\n",
    "\n",
    "#Download data\n",
    "x=get.hist.quote(instrument=\"0005.hk\", start=\"2012-01-01\",\n",
    "                 end=\"2016-12-31\", quote=c(\"AdjClose\"))\n",
    "x=as.vector(x)\n",
    "\n",
    "#Time Series and ACF of orginal data\n",
    "par(mfrow=c(1,2))\n",
    "plot.ts(x)"
   ]
  },
  {
   "cell_type": "markdown",
   "id": "fa592937",
   "metadata": {},
   "source": [
    "<br>\n",
    "<p>In exploratory data analysis, from the time series plot, data is non-stationary. To conudct time series analysis, it needs to be stationary. Let's consider the difference in the lof of data.</p>\n",
    "</br>"
   ]
  },
  {
   "cell_type": "code",
   "execution_count": 7,
   "id": "472a9b86",
   "metadata": {},
   "outputs": [
    {
     "data": {
      "image/png": "[encoded data removed]",
      "text/plain": [
       "Plot with title \"Series  z\""
      ]
     },
     "metadata": {},
     "output_type": "display_data"
    }
   ],
   "source": [
    "#Consider the difference in the log of data\n",
    "y=log(x)\n",
    "z=diff(y)\n",
    "z[is.na(z)==T]=mean(z,na.rm = T)\n",
    "\n",
    "#Time Series and ACF plot of transformed data\n",
    "par(mfrow=c(1,2))\n",
    "plot.ts(z)\n",
    "acf(z)"
   ]
  },
  {
   "cell_type": "markdown",
   "id": "8bfc7584",
   "metadata": {},
   "source": [
    "<br>\n",
    "<p>From the time series plot, the transformed data is stationary by time series plot. From ACF plot, there is strong autocorrelation at lag 0 and so it is possible to have AR(0), MA(0) or ARMA(0,0) models.</p>\n",
    "</br>"
   ]
  },
  {
   "cell_type": "code",
   "execution_count": 10,
   "id": "5de4c343",
   "metadata": {
    "scrolled": false
   },
   "outputs": [
    {
     "name": "stderr",
     "output_type": "stream",
     "text": [
      "also installing the dependencies 'fracdiff', 'lmtest', 'urca'\n",
      "\n"
     ]
    },
    {
     "name": "stdout",
     "output_type": "stream",
     "text": [
      "\n",
      "  There is a binary version available but the source version is later:\n",
      "         binary source needs_compilation\n",
      "forecast   8.14   8.15              TRUE\n",
      "\n",
      "  Binaries will be installed\n",
      "package 'fracdiff' successfully unpacked and MD5 sums checked\n",
      "package 'lmtest' successfully unpacked and MD5 sums checked\n",
      "package 'urca' successfully unpacked and MD5 sums checked\n",
      "package 'forecast' successfully unpacked and MD5 sums checked\n",
      "\n",
      "The downloaded binary packages are in\n",
      "\tC:\\Users\\cally\\AppData\\Local\\Temp\\RtmpYDtcpV\\downloaded_packages\n"
     ]
    },
    {
     "name": "stderr",
     "output_type": "stream",
     "text": [
      "Warning message:\n",
      "\"package 'forecast' was built under R version 3.6.3\"Registered S3 methods overwritten by 'ggplot2':\n",
      "  method         from \n",
      "  [.quosures     rlang\n",
      "  c.quosures     rlang\n",
      "  print.quosures rlang\n"
     ]
    },
    {
     "data": {
      "text/plain": [
       "Series: z \n",
       "ARIMA(0,0,1) with zero mean \n",
       "\n",
       "Coefficients:\n",
       "         ma1\n",
       "      0.0632\n",
       "s.e.  0.0281\n",
       "\n",
       "sigma^2 estimated as 0.0001397:  log likelihood=3717.01\n",
       "AIC=-7430.03   AICc=-7430.02   BIC=-7419.8"
      ]
     },
     "metadata": {},
     "output_type": "display_data"
    },
    {
     "data": {
      "image/png": "[encoded data removed]",
      "text/plain": [
       "Plot with title \"Series  w\""
      ]
     },
     "metadata": {},
     "output_type": "display_data"
    },
    {
     "data": {
      "image/png": "[encoded data removed]",
      "text/plain": [
       "Plot with title \"Series  w^2\""
      ]
     },
     "metadata": {},
     "output_type": "display_data"
    }
   ],
   "source": [
    "#ARIMA model to the log-price\n",
    "#Install packages\n",
    "install.packages(\"forecast\")\n",
    "library(\"forecast\")\n",
    "\n",
    "#ARIMA model\n",
    "fit=auto.arima(z,ic=c(\"aic\"),allowmean=F)\n",
    "fit\n",
    "\n",
    "#Residuals of ARIMA model\n",
    "w=fit$res\n",
    "\n",
    "#ACF plot of ARIMA model \n",
    "acf(w)\n",
    "acf(w^2)"
   ]
  },
  {
   "cell_type": "markdown",
   "id": "709612d8",
   "metadata": {},
   "source": [
    "<p>In model identification and checking, from R's result, ARIMA(0,0,1) is selected with good AIC, AICc and BIC. More, the ACF plots show no significant autocorrelation. Thus, the goodness of fit is good in this model.</p>"
   ]
  }
 ],
 "metadata": {
  "kernelspec": {
   "display_name": "R",
   "language": "R",
   "name": "ir"
  },
  "language_info": {
   "codemirror_mode": "r",
   "file_extension": ".r",
   "mimetype": "text/x-r-source",
   "name": "R",
   "pygments_lexer": "r",
   "version": "4.1.1"
  }
 },
 "nbformat": 4,
 "nbformat_minor": 5
}
