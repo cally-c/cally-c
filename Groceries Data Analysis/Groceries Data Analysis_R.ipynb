{
 "cells": [
  {
   "cell_type": "markdown",
   "id": "a92ef7d3",
   "metadata": {},
   "source": [
    "# Groceries Data Analysis"
   ]
  },
  {
   "cell_type": "markdown",
   "id": "b05c893e",
   "metadata": {},
   "source": [
    "## Content\n",
    "<p>1. Introduction</p>\n",
    "<p>2. Objective</p>\n",
    "<p>3. Getting to Know Data & Variables</p>\n",
    "<p>4. Data Preparation</p>\n",
    "<p>5. Data Analysis</p>\n",
    "<p>6. Modelling & Assessment</p>\n",
    "<p>7. Conclusion</p>\n",
    "<p>8. Reference</p>"
   ]
  },
  {
   "cell_type": "markdown",
   "id": "a4b6c88b",
   "metadata": {},
   "source": [
    "## 1. Introduction\n",
    "<p>A grocery store sells various products to fulfill different customers' demands. When Sales and Planning teams make orders for the store, it is important for them to know the best selling products, corresponding volume and purchase time to make balance between keeping safety stock of products and minimising operation cost.</p>"
   ]
  },
  {
   "cell_type": "markdown",
   "id": "4d707d6a",
   "metadata": {},
   "source": [
    "## 2. Objective\n",
    "<p>To find out the best selling products and corresponding purchase patterns for stock level planning.</p>"
   ]
  },
  {
   "cell_type": "markdown",
   "id": "ebe8c329",
   "metadata": {},
   "source": [
    "## 3. Getting to Know Data & Variables\n",
    "\n",
    "### 3.1 Data Import\n",
    "<p>Data in csv format is imported.</p>"
   ]
  },
  {
   "cell_type": "code",
   "execution_count": 1,
   "id": "432bf981",
   "metadata": {},
   "outputs": [],
   "source": [
    "#Import Data\n",
    "data<-read.csv(\"Groceries_dataset.csv\")"
   ]
  },
  {
   "cell_type": "markdown",
   "id": "af46388a",
   "metadata": {},
   "source": [
    "### 3.2 Data Preview"
   ]
  },
  {
   "cell_type": "code",
   "execution_count": 2,
   "id": "fc83941a",
   "metadata": {},
   "outputs": [
    {
     "data": {
      "text/html": [
       "<table class=\"dataframe\">\n",
       "<caption>A data.frame: 6 × 3</caption>\n",
       "<thead>\n",
       "\t<tr><th></th><th scope=col>Member_number</th><th scope=col>Date</th><th scope=col>itemDescription</th></tr>\n",
       "\t<tr><th></th><th scope=col>&lt;int&gt;</th><th scope=col>&lt;chr&gt;</th><th scope=col>&lt;chr&gt;</th></tr>\n",
       "</thead>\n",
       "<tbody>\n",
       "\t<tr><th scope=row>1</th><td>1808</td><td>21-07-2015</td><td>tropical fruit  </td></tr>\n",
       "\t<tr><th scope=row>2</th><td>2552</td><td>05-01-2015</td><td>whole milk      </td></tr>\n",
       "\t<tr><th scope=row>3</th><td>2300</td><td>19-09-2015</td><td>pip fruit       </td></tr>\n",
       "\t<tr><th scope=row>4</th><td>1187</td><td>12-12-2015</td><td>other vegetables</td></tr>\n",
       "\t<tr><th scope=row>5</th><td>3037</td><td>01-02-2015</td><td>whole milk      </td></tr>\n",
       "\t<tr><th scope=row>6</th><td>4941</td><td>14-02-2015</td><td>rolls/buns      </td></tr>\n",
       "</tbody>\n",
       "</table>\n"
      ],
      "text/latex": [
       "A data.frame: 6 × 3\n",
       "\\begin{tabular}{r|lll}\n",
       "  & Member\\_number & Date & itemDescription\\\\\n",
       "  & <int> & <chr> & <chr>\\\\\n",
       "\\hline\n",
       "\t1 & 1808 & 21-07-2015 & tropical fruit  \\\\\n",
       "\t2 & 2552 & 05-01-2015 & whole milk      \\\\\n",
       "\t3 & 2300 & 19-09-2015 & pip fruit       \\\\\n",
       "\t4 & 1187 & 12-12-2015 & other vegetables\\\\\n",
       "\t5 & 3037 & 01-02-2015 & whole milk      \\\\\n",
       "\t6 & 4941 & 14-02-2015 & rolls/buns      \\\\\n",
       "\\end{tabular}\n"
      ],
      "text/markdown": [
       "\n",
       "A data.frame: 6 × 3\n",
       "\n",
       "| <!--/--> | Member_number &lt;int&gt; | Date &lt;chr&gt; | itemDescription &lt;chr&gt; |\n",
       "|---|---|---|---|\n",
       "| 1 | 1808 | 21-07-2015 | tropical fruit   |\n",
       "| 2 | 2552 | 05-01-2015 | whole milk       |\n",
       "| 3 | 2300 | 19-09-2015 | pip fruit        |\n",
       "| 4 | 1187 | 12-12-2015 | other vegetables |\n",
       "| 5 | 3037 | 01-02-2015 | whole milk       |\n",
       "| 6 | 4941 | 14-02-2015 | rolls/buns       |\n",
       "\n"
      ],
      "text/plain": [
       "  Member_number Date       itemDescription \n",
       "1 1808          21-07-2015 tropical fruit  \n",
       "2 2552          05-01-2015 whole milk      \n",
       "3 2300          19-09-2015 pip fruit       \n",
       "4 1187          12-12-2015 other vegetables\n",
       "5 3037          01-02-2015 whole milk      \n",
       "6 4941          14-02-2015 rolls/buns      "
      ]
     },
     "metadata": {},
     "output_type": "display_data"
    }
   ],
   "source": [
    "#Data preview\n",
    "head(data)"
   ]
  },
  {
   "cell_type": "markdown",
   "id": "27c07561",
   "metadata": {},
   "source": [
    "<br></br>\n",
    "<p>From the preview, columns needed to be renamed and looks tidier.</p>\n",
    "<br></br>"
   ]
  },
  {
   "cell_type": "code",
   "execution_count": 3,
   "id": "71be7640",
   "metadata": {},
   "outputs": [
    {
     "data": {
      "text/html": [
       "<table class=\"dataframe\">\n",
       "<caption>A data.frame: 6 × 3</caption>\n",
       "<thead>\n",
       "\t<tr><th></th><th scope=col>Member_Number</th><th scope=col>Date</th><th scope=col>Item_Description</th></tr>\n",
       "\t<tr><th></th><th scope=col>&lt;int&gt;</th><th scope=col>&lt;chr&gt;</th><th scope=col>&lt;chr&gt;</th></tr>\n",
       "</thead>\n",
       "<tbody>\n",
       "\t<tr><th scope=row>1</th><td>1808</td><td>21-07-2015</td><td>tropical fruit  </td></tr>\n",
       "\t<tr><th scope=row>2</th><td>2552</td><td>05-01-2015</td><td>whole milk      </td></tr>\n",
       "\t<tr><th scope=row>3</th><td>2300</td><td>19-09-2015</td><td>pip fruit       </td></tr>\n",
       "\t<tr><th scope=row>4</th><td>1187</td><td>12-12-2015</td><td>other vegetables</td></tr>\n",
       "\t<tr><th scope=row>5</th><td>3037</td><td>01-02-2015</td><td>whole milk      </td></tr>\n",
       "\t<tr><th scope=row>6</th><td>4941</td><td>14-02-2015</td><td>rolls/buns      </td></tr>\n",
       "</tbody>\n",
       "</table>\n"
      ],
      "text/latex": [
       "A data.frame: 6 × 3\n",
       "\\begin{tabular}{r|lll}\n",
       "  & Member\\_Number & Date & Item\\_Description\\\\\n",
       "  & <int> & <chr> & <chr>\\\\\n",
       "\\hline\n",
       "\t1 & 1808 & 21-07-2015 & tropical fruit  \\\\\n",
       "\t2 & 2552 & 05-01-2015 & whole milk      \\\\\n",
       "\t3 & 2300 & 19-09-2015 & pip fruit       \\\\\n",
       "\t4 & 1187 & 12-12-2015 & other vegetables\\\\\n",
       "\t5 & 3037 & 01-02-2015 & whole milk      \\\\\n",
       "\t6 & 4941 & 14-02-2015 & rolls/buns      \\\\\n",
       "\\end{tabular}\n"
      ],
      "text/markdown": [
       "\n",
       "A data.frame: 6 × 3\n",
       "\n",
       "| <!--/--> | Member_Number &lt;int&gt; | Date &lt;chr&gt; | Item_Description &lt;chr&gt; |\n",
       "|---|---|---|---|\n",
       "| 1 | 1808 | 21-07-2015 | tropical fruit   |\n",
       "| 2 | 2552 | 05-01-2015 | whole milk       |\n",
       "| 3 | 2300 | 19-09-2015 | pip fruit        |\n",
       "| 4 | 1187 | 12-12-2015 | other vegetables |\n",
       "| 5 | 3037 | 01-02-2015 | whole milk       |\n",
       "| 6 | 4941 | 14-02-2015 | rolls/buns       |\n",
       "\n"
      ],
      "text/plain": [
       "  Member_Number Date       Item_Description\n",
       "1 1808          21-07-2015 tropical fruit  \n",
       "2 2552          05-01-2015 whole milk      \n",
       "3 2300          19-09-2015 pip fruit       \n",
       "4 1187          12-12-2015 other vegetables\n",
       "5 3037          01-02-2015 whole milk      \n",
       "6 4941          14-02-2015 rolls/buns      "
      ]
     },
     "metadata": {},
     "output_type": "display_data"
    },
    {
     "name": "stdout",
     "output_type": "stream",
     "text": [
      "'data.frame':\t38765 obs. of  3 variables:\n",
      " $ Member_Number   : int  1808 2552 2300 1187 3037 4941 4501 3803 2762 4119 ...\n",
      " $ Date            : chr  \"21-07-2015\" \"05-01-2015\" \"19-09-2015\" \"12-12-2015\" ...\n",
      " $ Item_Description: chr  \"tropical fruit\" \"whole milk\" \"pip fruit\" \"other vegetables\" ...\n"
     ]
    }
   ],
   "source": [
    "#Tidy up of columns' names\n",
    "names(data)[1]<-\"Member_Number\"\n",
    "names(data)[3]<-\"Item_Description\"\n",
    "head(data)\n",
    "str(data)"
   ]
  },
  {
   "cell_type": "markdown",
   "id": "dc8bab77",
   "metadata": {},
   "source": [
    "<br></br>\n",
    "<p>There are 38,765 records with 3 variables. Below table shows summary of the variales' description and data type.</p>\n",
    "<br></br>\n",
    "\n",
    "|   **Variable**   |                           **Description**                    |  **Data Type** |\n",
    "|:-----------------:|:--------------------------------------------------------------|:----------------|\n",
    "|Member_Number      |ID No. of customers.                                           |Nominal Number   |\n",
    "|Date               |2014-2015 purchase date.                                       |Character        | \n",
    "|Item_Description   |Purchase item.                                                 |Character        | \n",
    "\n",
    "<br></br>\n",
    "<p>There are 2 variables for character and 1 variables for number.</p>\n",
    "<br></br>"
   ]
  },
  {
   "cell_type": "markdown",
   "id": "5f164c87",
   "metadata": {},
   "source": [
    "## 4. Data Preparation\n",
    "### 4.1 Missing Values Detection"
   ]
  },
  {
   "cell_type": "code",
   "execution_count": 4,
   "id": "b8c921e5",
   "metadata": {
    "scrolled": true
   },
   "outputs": [
    {
     "data": {
      "text/plain": [
       " Member_Number      Date           Item_Description  \n",
       " Min.   :1000   Length:38765       Length:38765      \n",
       " 1st Qu.:2002   Class :character   Class :character  \n",
       " Median :3005   Mode  :character   Mode  :character  \n",
       " Mean   :3004                                        \n",
       " 3rd Qu.:4007                                        \n",
       " Max.   :5000                                        "
      ]
     },
     "metadata": {},
     "output_type": "display_data"
    }
   ],
   "source": [
    "#View statistical summary\n",
    "summary(data)"
   ]
  },
  {
   "cell_type": "markdown",
   "id": "2a6c5426",
   "metadata": {},
   "source": [
    "<br></br>\n",
    "<p>No missing values are found as no NA values are displayed from statistical summary.</p>\n",
    "<br></br>"
   ]
  },
  {
   "cell_type": "markdown",
   "id": "118a9fdc",
   "metadata": {},
   "source": [
    "### 4.2 Date Type Conversion\n",
    "<p>To prepare for time series data analysis, change data type of Date from character to date and format to yyyy-mm-dd.</p>"
   ]
  },
  {
   "cell_type": "code",
   "execution_count": 5,
   "id": "7be7dcd2",
   "metadata": {},
   "outputs": [
    {
     "name": "stderr",
     "output_type": "stream",
     "text": [
      "Installing package into 'C:/Users/cally/OneDrive/Documents/R/win-library/4.1'\n",
      "(as 'lib' is unspecified)\n",
      "\n"
     ]
    },
    {
     "name": "stdout",
     "output_type": "stream",
     "text": [
      "package 'lubridate' successfully unpacked and MD5 sums checked\n",
      "\n",
      "The downloaded binary packages are in\n",
      "\tC:\\Users\\cally\\AppData\\Local\\Temp\\RtmpI5s61D\\downloaded_packages\n"
     ]
    },
    {
     "name": "stderr",
     "output_type": "stream",
     "text": [
      "\n",
      "Attaching package: 'lubridate'\n",
      "\n",
      "\n",
      "The following objects are masked from 'package:base':\n",
      "\n",
      "    date, intersect, setdiff, union\n",
      "\n",
      "\n"
     ]
    },
    {
     "data": {
      "text/html": [
       "<style>\n",
       ".list-inline {list-style: none; margin:0; padding: 0}\n",
       ".list-inline>li {display: inline-block}\n",
       ".list-inline>li:not(:last-child)::after {content: \"\\00b7\"; padding: 0 .5ex}\n",
       "</style>\n",
       "<ol class=list-inline><li>'POSIXct'</li><li>'POSIXt'</li></ol>\n"
      ],
      "text/latex": [
       "\\begin{enumerate*}\n",
       "\\item 'POSIXct'\n",
       "\\item 'POSIXt'\n",
       "\\end{enumerate*}\n"
      ],
      "text/markdown": [
       "1. 'POSIXct'\n",
       "2. 'POSIXt'\n",
       "\n",
       "\n"
      ],
      "text/plain": [
       "[1] \"POSIXct\" \"POSIXt\" "
      ]
     },
     "metadata": {},
     "output_type": "display_data"
    },
    {
     "data": {
      "text/html": [
       "<table class=\"dataframe\">\n",
       "<caption>A data.frame: 6 × 3</caption>\n",
       "<thead>\n",
       "\t<tr><th></th><th scope=col>Member_Number</th><th scope=col>Date</th><th scope=col>Item_Description</th></tr>\n",
       "\t<tr><th></th><th scope=col>&lt;int&gt;</th><th scope=col>&lt;dttm&gt;</th><th scope=col>&lt;chr&gt;</th></tr>\n",
       "</thead>\n",
       "<tbody>\n",
       "\t<tr><th scope=row>1</th><td>1808</td><td>2015-07-21</td><td>tropical fruit  </td></tr>\n",
       "\t<tr><th scope=row>2</th><td>2552</td><td>2015-01-05</td><td>whole milk      </td></tr>\n",
       "\t<tr><th scope=row>3</th><td>2300</td><td>2015-09-19</td><td>pip fruit       </td></tr>\n",
       "\t<tr><th scope=row>4</th><td>1187</td><td>2015-12-12</td><td>other vegetables</td></tr>\n",
       "\t<tr><th scope=row>5</th><td>3037</td><td>2015-02-01</td><td>whole milk      </td></tr>\n",
       "\t<tr><th scope=row>6</th><td>4941</td><td>2015-02-14</td><td>rolls/buns      </td></tr>\n",
       "</tbody>\n",
       "</table>\n"
      ],
      "text/latex": [
       "A data.frame: 6 × 3\n",
       "\\begin{tabular}{r|lll}\n",
       "  & Member\\_Number & Date & Item\\_Description\\\\\n",
       "  & <int> & <dttm> & <chr>\\\\\n",
       "\\hline\n",
       "\t1 & 1808 & 2015-07-21 & tropical fruit  \\\\\n",
       "\t2 & 2552 & 2015-01-05 & whole milk      \\\\\n",
       "\t3 & 2300 & 2015-09-19 & pip fruit       \\\\\n",
       "\t4 & 1187 & 2015-12-12 & other vegetables\\\\\n",
       "\t5 & 3037 & 2015-02-01 & whole milk      \\\\\n",
       "\t6 & 4941 & 2015-02-14 & rolls/buns      \\\\\n",
       "\\end{tabular}\n"
      ],
      "text/markdown": [
       "\n",
       "A data.frame: 6 × 3\n",
       "\n",
       "| <!--/--> | Member_Number &lt;int&gt; | Date &lt;dttm&gt; | Item_Description &lt;chr&gt; |\n",
       "|---|---|---|---|\n",
       "| 1 | 1808 | 2015-07-21 | tropical fruit   |\n",
       "| 2 | 2552 | 2015-01-05 | whole milk       |\n",
       "| 3 | 2300 | 2015-09-19 | pip fruit        |\n",
       "| 4 | 1187 | 2015-12-12 | other vegetables |\n",
       "| 5 | 3037 | 2015-02-01 | whole milk       |\n",
       "| 6 | 4941 | 2015-02-14 | rolls/buns       |\n",
       "\n"
      ],
      "text/plain": [
       "  Member_Number Date       Item_Description\n",
       "1 1808          2015-07-21 tropical fruit  \n",
       "2 2552          2015-01-05 whole milk      \n",
       "3 2300          2015-09-19 pip fruit       \n",
       "4 1187          2015-12-12 other vegetables\n",
       "5 3037          2015-02-01 whole milk      \n",
       "6 4941          2015-02-14 rolls/buns      "
      ]
     },
     "metadata": {},
     "output_type": "display_data"
    }
   ],
   "source": [
    "#Installation of packages\n",
    "install.packages(\"lubridate\")\n",
    "library(lubridate)\n",
    "\n",
    "#Date type conversion of Date\n",
    "data$Date<-parse_date_time2(data$Date, orders = \"dmY\")\n",
    "\n",
    "#Revised data type of Date\n",
    "class(data$Date)\n",
    "\n",
    "#View of data\n",
    "head(data)"
   ]
  },
  {
   "cell_type": "markdown",
   "id": "e380aeef",
   "metadata": {},
   "source": [
    "## 5. Data Analysis"
   ]
  },
  {
   "cell_type": "markdown",
   "id": "637c0729",
   "metadata": {},
   "source": [
    "### 5.1 Top 10 Best Selling Products"
   ]
  },
  {
   "cell_type": "code",
   "execution_count": 6,
   "id": "89ac368c",
   "metadata": {},
   "outputs": [
    {
     "name": "stderr",
     "output_type": "stream",
     "text": [
      "Installing package into 'C:/Users/cally/OneDrive/Documents/R/win-library/4.1'\n",
      "(as 'lib' is unspecified)\n",
      "\n"
     ]
    },
    {
     "name": "stdout",
     "output_type": "stream",
     "text": [
      "package 'dplyr' successfully unpacked and MD5 sums checked\n",
      "\n",
      "The downloaded binary packages are in\n",
      "\tC:\\Users\\cally\\AppData\\Local\\Temp\\RtmpI5s61D\\downloaded_packages\n"
     ]
    },
    {
     "name": "stderr",
     "output_type": "stream",
     "text": [
      "\n",
      "Attaching package: 'dplyr'\n",
      "\n",
      "\n",
      "The following objects are masked from 'package:stats':\n",
      "\n",
      "    filter, lag\n",
      "\n",
      "\n",
      "The following objects are masked from 'package:base':\n",
      "\n",
      "    intersect, setdiff, setequal, union\n",
      "\n",
      "\n"
     ]
    },
    {
     "data": {
      "text/html": [
       "<table class=\"dataframe\">\n",
       "<caption>A data.frame: 6 × 5</caption>\n",
       "<thead>\n",
       "\t<tr><th></th><th scope=col>Member_Number</th><th scope=col>Date</th><th scope=col>Item_Description</th><th scope=col>Month</th><th scope=col>Weekday</th></tr>\n",
       "\t<tr><th></th><th scope=col>&lt;int&gt;</th><th scope=col>&lt;dttm&gt;</th><th scope=col>&lt;chr&gt;</th><th scope=col>&lt;ord&gt;</th><th scope=col>&lt;ord&gt;</th></tr>\n",
       "</thead>\n",
       "<tbody>\n",
       "\t<tr><th scope=row>1</th><td>1808</td><td>2015-07-21</td><td>tropical fruit  </td><td>Jul</td><td>Tue</td></tr>\n",
       "\t<tr><th scope=row>2</th><td>2552</td><td>2015-01-05</td><td>whole milk      </td><td>Jan</td><td>Mon</td></tr>\n",
       "\t<tr><th scope=row>3</th><td>2300</td><td>2015-09-19</td><td>pip fruit       </td><td>Sep</td><td>Sat</td></tr>\n",
       "\t<tr><th scope=row>4</th><td>1187</td><td>2015-12-12</td><td>other vegetables</td><td>Dec</td><td>Sat</td></tr>\n",
       "\t<tr><th scope=row>5</th><td>3037</td><td>2015-02-01</td><td>whole milk      </td><td>Feb</td><td>Sun</td></tr>\n",
       "\t<tr><th scope=row>6</th><td>4941</td><td>2015-02-14</td><td>rolls/buns      </td><td>Feb</td><td>Sat</td></tr>\n",
       "</tbody>\n",
       "</table>\n"
      ],
      "text/latex": [
       "A data.frame: 6 × 5\n",
       "\\begin{tabular}{r|lllll}\n",
       "  & Member\\_Number & Date & Item\\_Description & Month & Weekday\\\\\n",
       "  & <int> & <dttm> & <chr> & <ord> & <ord>\\\\\n",
       "\\hline\n",
       "\t1 & 1808 & 2015-07-21 & tropical fruit   & Jul & Tue\\\\\n",
       "\t2 & 2552 & 2015-01-05 & whole milk       & Jan & Mon\\\\\n",
       "\t3 & 2300 & 2015-09-19 & pip fruit        & Sep & Sat\\\\\n",
       "\t4 & 1187 & 2015-12-12 & other vegetables & Dec & Sat\\\\\n",
       "\t5 & 3037 & 2015-02-01 & whole milk       & Feb & Sun\\\\\n",
       "\t6 & 4941 & 2015-02-14 & rolls/buns       & Feb & Sat\\\\\n",
       "\\end{tabular}\n"
      ],
      "text/markdown": [
       "\n",
       "A data.frame: 6 × 5\n",
       "\n",
       "| <!--/--> | Member_Number &lt;int&gt; | Date &lt;dttm&gt; | Item_Description &lt;chr&gt; | Month &lt;ord&gt; | Weekday &lt;ord&gt; |\n",
       "|---|---|---|---|---|---|\n",
       "| 1 | 1808 | 2015-07-21 | tropical fruit   | Jul | Tue |\n",
       "| 2 | 2552 | 2015-01-05 | whole milk       | Jan | Mon |\n",
       "| 3 | 2300 | 2015-09-19 | pip fruit        | Sep | Sat |\n",
       "| 4 | 1187 | 2015-12-12 | other vegetables | Dec | Sat |\n",
       "| 5 | 3037 | 2015-02-01 | whole milk       | Feb | Sun |\n",
       "| 6 | 4941 | 2015-02-14 | rolls/buns       | Feb | Sat |\n",
       "\n"
      ],
      "text/plain": [
       "  Member_Number Date       Item_Description Month Weekday\n",
       "1 1808          2015-07-21 tropical fruit   Jul   Tue    \n",
       "2 2552          2015-01-05 whole milk       Jan   Mon    \n",
       "3 2300          2015-09-19 pip fruit        Sep   Sat    \n",
       "4 1187          2015-12-12 other vegetables Dec   Sat    \n",
       "5 3037          2015-02-01 whole milk       Feb   Sun    \n",
       "6 4941          2015-02-14 rolls/buns       Feb   Sat    "
      ]
     },
     "metadata": {},
     "output_type": "display_data"
    }
   ],
   "source": [
    "#Installion of packages\n",
    "install.packages(\"dplyr\")\n",
    "library(dplyr)\n",
    "\n",
    "#Add month and weekday of purchase date\n",
    "data$Month<-month(as.POSIXlt(data$Date,format = \"%Y-%M-%d\"), label = TRUE)\n",
    "data$Weekday<-wday(as.POSIXlt(data$Date,format = \"%Y-%M-%d\"), label = TRUE)\n",
    "head(data)"
   ]
  },
  {
   "cell_type": "markdown",
   "id": "9363446a",
   "metadata": {},
   "source": [
    "<br></br>\n",
    "<p>To get more information of purchase pattern, variable of \"Month\" and \"Weekday\" are added.</p>\n",
    "<br></br>"
   ]
  },
  {
   "cell_type": "code",
   "execution_count": 19,
   "id": "4e69f04f",
   "metadata": {},
   "outputs": [
    {
     "name": "stderr",
     "output_type": "stream",
     "text": [
      "Selecting by Count\n",
      "\n",
      "Warning message:\n",
      "\"package 'ggplot2' is in use and will not be installed\"\n"
     ]
    },
    {
     "data": {
      "image/png": "[encoded data removed]",
      "text/plain": [
       "plot without title"
      ]
     },
     "metadata": {
      "image/png": {
       "height": 420,
       "width": 420
      }
     },
     "output_type": "display_data"
    }
   ],
   "source": [
    "#Creation of top 10 table\n",
    "ft1<-data %>% \n",
    "    group_by(Item_Description) %>% \n",
    "    summarise(Count = n()) %>%\n",
    "    arrange(desc(Count)) %>%\n",
    "    top_n(10)\n",
    "\n",
    "#Installation of packages\n",
    "install.packages(\"ggplot2\")\n",
    "library(ggplot2)\n",
    "\n",
    "#Bar chart of 2014-2015 top 10 best selling products\n",
    "p1<-ggplot(ft1, aes(x = reorder(Item_Description, -Count) , y = Count)) + \n",
    "        geom_bar(fill = \"#16A085\", stat = \"identity\") +\n",
    "        ggtitle(\"Bar Chart of 2014-2015 Top 10 Best Selling Products\") +\n",
    "        theme(plot.title = element_text(hjust = 0.5)) +\n",
    "        labs(x = \"Products\", y = \"Count\")+\n",
    "        theme(axis.text.x = element_text(angle = 90, vjust = 0.5, hjust=1))\n",
    "p1 "
   ]
  },
  {
   "cell_type": "markdown",
   "id": "a95a8b13",
   "metadata": {},
   "source": [
    "<br></br>\n",
    "<p>From the bar chart, it shows that top 10 best selling products in 2014 to 2015. The most popular product is whole milk, second is other vegetabables and third is rolls/buns. So, they should have higher stock level to fulfill customers' demands and prevent out-of-stock.</p>\n",
    "<p>Besides, more than half of top 10 products are perishable food that are needed to be stored and transported under climate-controlled condition. As the operation cost with climate-controlled condition is higher than normal conditiona, the stock level should be considered carefully.</p>\n",
    "<br></br>"
   ]
  },
  {
   "cell_type": "code",
   "execution_count": 20,
   "id": "b7b685e9",
   "metadata": {},
   "outputs": [
    {
     "name": "stderr",
     "output_type": "stream",
     "text": [
      "Selecting by Count\n",
      "\n",
      "Selecting by Count\n",
      "\n",
      "Selecting by Count\n",
      "\n",
      "Selecting by Count\n",
      "\n",
      "Selecting by Count\n",
      "\n",
      "Selecting by Count\n",
      "\n",
      "Selecting by Count\n",
      "\n",
      "Warning message:\n",
      "\"package 'gridExtra' is in use and will not be installed\"\n"
     ]
    },
    {
     "data": {
      "image/png": "[encoded data removed]",
      "text/plain": [
       "plot without title"
      ]
     },
     "metadata": {
      "image/png": {
       "height": 420,
       "width": 420
      }
     },
     "output_type": "display_data"
    }
   ],
   "source": [
    "#Creation of top 10 table on Mon\n",
    "ft2<-data %>% \n",
    "    filter(Weekday == \"Mon\") %>%\n",
    "    group_by(Item_Description) %>% \n",
    "    summarise(Count = n()) %>%\n",
    "    arrange(desc(Count)) %>%\n",
    "    top_n(10)\n",
    "\n",
    "#Creation of top 10 table on Tue\n",
    "ft3<-data %>% \n",
    "    filter(Weekday == \"Tue\") %>%\n",
    "    group_by(Item_Description) %>% \n",
    "    summarise(Count = n()) %>%\n",
    "    arrange(desc(Count)) %>%\n",
    "    top_n(10)\n",
    "\n",
    "#Creation of top 10 table on Wed\n",
    "ft4<-data %>% \n",
    "    filter(Weekday == \"Wed\") %>%\n",
    "    group_by(Item_Description) %>% \n",
    "    summarise(Count = n()) %>%\n",
    "    arrange(desc(Count)) %>%\n",
    "    top_n(10)\n",
    "\n",
    "#Creation of top 10 table on  Thu\n",
    "ft5<-data %>% \n",
    "    filter(Weekday == \"Thu\") %>%\n",
    "    group_by(Item_Description) %>% \n",
    "    summarise(Count = n()) %>%\n",
    "    arrange(desc(Count)) %>%\n",
    "    top_n(10)\n",
    "            \n",
    "#Creation of top 10 table on Fri\n",
    "ft6<-data %>% \n",
    "    filter(Weekday == \"Fri\") %>%\n",
    "    group_by(Item_Description) %>% \n",
    "    summarise(Count = n()) %>%\n",
    "    arrange(desc(Count)) %>%\n",
    "    top_n(10)\n",
    "\n",
    "#Creation of top 10 table on Sat\n",
    "ft7<-data %>% \n",
    "    filter(Weekday == \"Sat\") %>%\n",
    "    group_by(Item_Description) %>% \n",
    "    summarise(Count = n()) %>%\n",
    "    arrange(desc(Count)) %>%\n",
    "    top_n(10)\n",
    "\n",
    "#Creation of top 10 table on Sun\n",
    "ft8<-data %>% \n",
    "    filter(Weekday == \"Sun\") %>%\n",
    "    group_by(Item_Description) %>% \n",
    "    summarise(Count = n()) %>%\n",
    "    arrange(desc(Count)) %>%\n",
    "    top_n(10)\n",
    "\n",
    "\n",
    "#Bar chart of 2014-2015 top 10 best selling products by Weeday\n",
    "p2<-ggplot(ft2, aes(x = reorder(Item_Description, -Count) , y = Count)) + \n",
    "        geom_bar(fill = \"#16A085\", stat = \"identity\") +\n",
    "        ggtitle(\"Monday\") +\n",
    "        theme(plot.title = element_text(hjust = 0.5, size = 10)) +\n",
    "        labs(x = \"Products\", y = \"Count\")+\n",
    "        theme(axis.text.x = element_text(angle = 90, vjust = 0.5, hjust=1))\n",
    "p3<-ggplot(ft3, aes(x = reorder(Item_Description, -Count) , y = Count)) + \n",
    "        geom_bar(fill = \"#16A085\", stat = \"identity\") +\n",
    "        ggtitle(\"Tuesday\") +\n",
    "        theme(plot.title = element_text(hjust = 0.5, size = 10)) +\n",
    "        labs(x = \"Products\", y = \"Count\")+\n",
    "        theme(axis.text.x = element_text(angle = 90, vjust = 0.5, hjust=1))\n",
    "p4<-ggplot(ft4, aes(x = reorder(Item_Description, -Count) , y = Count)) + \n",
    "        geom_bar(fill = \"#16A085\", stat = \"identity\") +\n",
    "        ggtitle(\"Wednesday\") +\n",
    "        theme(plot.title = element_text(hjust = 0.5, size = 10)) +\n",
    "        labs(x = \"Products\", y = \"Count\")+\n",
    "        theme(axis.text.x = element_text(angle = 90, vjust = 0.5, hjust=1))\n",
    "p5<-ggplot(ft5, aes(x = reorder(Item_Description, -Count) , y = Count)) + \n",
    "        geom_bar(fill = \"#16A085\", stat = \"identity\") +\n",
    "        ggtitle(\"Thursday\") +\n",
    "        theme(plot.title = element_text(hjust = 0.5, size = 10)) +\n",
    "        labs(x = \"Products\", y = \"Count\")+\n",
    "        theme(axis.text.x = element_text(angle = 90, vjust = 0.5, hjust=1))\n",
    "p6<-ggplot(ft6, aes(x = reorder(Item_Description, -Count) , y = Count)) + \n",
    "        geom_bar(fill = \"#16A085\", stat = \"identity\") +\n",
    "        ggtitle(\"Friday\") +\n",
    "        theme(plot.title = element_text(hjust = 0.5, size = 10)) +\n",
    "        labs(x = \"Products\", y = \"Count\")+\n",
    "        theme(axis.text.x = element_text(angle = 90, vjust = 0.5, hjust=1))\n",
    "p7<-ggplot(ft7, aes(x = reorder(Item_Description, -Count) , y = Count)) + \n",
    "        geom_bar(fill = \"#16A085\", stat = \"identity\") +\n",
    "        ggtitle(\"Saturday\") +\n",
    "        theme(plot.title = element_text(hjust = 0.5, size = 10)) +\n",
    "        labs(x = \"Products\", y = \"Count\")+\n",
    "        theme(axis.text.x = element_text(angle = 90, vjust = 0.5, hjust=1))\n",
    "p8<-ggplot(ft8, aes(x = reorder(Item_Description, -Count) , y = Count)) + \n",
    "        geom_bar(fill = \"#16A085\", stat = \"identity\") +\n",
    "        ggtitle(\"Sunday\") +\n",
    "        theme(plot.title = element_text(hjust = 0.5, size = 10)) +\n",
    "        labs(x = \"Products\", y = \"Count\")+\n",
    "        theme(axis.text.x = element_text(angle = 90, vjust = 0.5, hjust=1))\n",
    "\n",
    "#Installation of packages\n",
    "install.packages(\"gridExtra\")\n",
    "library(gridExtra)\n",
    "\n",
    "#Mulitple plots on the same page\n",
    "grid.arrange(p2,p3,p4,p5,p6,p7,p8, nrow = 3, top=\"Bar Chart of Top 10 Best Selling Products on\")"
   ]
  },
  {
   "cell_type": "markdown",
   "id": "0de49876",
   "metadata": {},
   "source": [
    "<br></br>\n",
    "<p>Products are sorted into 7 groups, from Monday to Sunday, to show the purchase pattern by weekdays. Whole milk, other vegetables and rolls/buns are top 3 and they have similar sales in all 7 days. For top 4 to top 10, products rank varies with the weekdays.</p>\n",
    "<br></br>"
   ]
  },
  {
   "cell_type": "markdown",
   "id": "f4acee4d",
   "metadata": {},
   "source": [
    "## 6. Modelling & Assessment\n",
    "### 6.1 Objective\n",
    "<p>To forecast the total stock level and find the association among products.</p>"
   ]
  },
  {
   "cell_type": "markdown",
   "id": "ef1e38fd",
   "metadata": {},
   "source": [
    "### 6.2 Analysis"
   ]
  },
  {
   "cell_type": "markdown",
   "id": "362383e4",
   "metadata": {},
   "source": [
    "#### 6.2.1 Time Series "
   ]
  },
  {
   "cell_type": "code",
   "execution_count": 21,
   "id": "7ac560ee",
   "metadata": {},
   "outputs": [
    {
     "name": "stderr",
     "output_type": "stream",
     "text": [
      "Warning message:\n",
      "\"package 'tseries' is in use and will not be installed\"\n"
     ]
    },
    {
     "data": {
      "image/png": "[encoded data removed]",
      "text/plain": [
       "Plot with title \"Series  ft9$Count\""
      ]
     },
     "metadata": {
      "image/png": {
       "height": 420,
       "width": 420
      }
     },
     "output_type": "display_data"
    }
   ],
   "source": [
    "#Install packages\n",
    "install.packages(\"tseries\")\n",
    "library(tseries)\n",
    "\n",
    "#Creation of frequency table\n",
    "ft9<-data %>% \n",
    "    group_by(Date) %>% \n",
    "    summarise(Count = n())\n",
    "\n",
    "#Time Series and ACF \n",
    "par(mfrow=c(2,2))\n",
    "plot.ts(ft9$Count)\n",
    "acf(ft9$Count)\n",
    "pacf(ft9$Count)"
   ]
  },
  {
   "cell_type": "markdown",
   "id": "12326888",
   "metadata": {},
   "source": [
    "<br></br>\n",
    "<p>From the time series plot, data is stationary. Both ACF plot and PACF plot suggest strong correlation at lag 2. It will be input into different models for optimisation, AR(2), MA(2) and ARMA (2,2).</p>\n",
    "<br></br>"
   ]
  },
  {
   "cell_type": "code",
   "execution_count": 22,
   "id": "aef82f7a",
   "metadata": {},
   "outputs": [
    {
     "data": {
      "text/html": [
       "5786.42927206206"
      ],
      "text/latex": [
       "5786.42927206206"
      ],
      "text/markdown": [
       "5786.42927206206"
      ],
      "text/plain": [
       "[1] 5786.429"
      ]
     },
     "metadata": {},
     "output_type": "display_data"
    },
    {
     "data": {
      "image/png": "[encoded data removed]",
      "text/plain": [
       "Plot with title \"p values for Ljung-Box statistic\""
      ]
     },
     "metadata": {
      "image/png": {
       "height": 420,
       "width": 420
      }
     },
     "output_type": "display_data"
    },
    {
     "data": {
      "text/html": [
       "5787.44450590212"
      ],
      "text/latex": [
       "5787.44450590212"
      ],
      "text/markdown": [
       "5787.44450590212"
      ],
      "text/plain": [
       "[1] 5787.445"
      ]
     },
     "metadata": {},
     "output_type": "display_data"
    },
    {
     "data": {
      "image/png": "[encoded data removed]",
      "text/plain": [
       "Plot with title \"p values for Ljung-Box statistic\""
      ]
     },
     "metadata": {
      "image/png": {
       "height": 420,
       "width": 420
      }
     },
     "output_type": "display_data"
    },
    {
     "data": {
      "text/html": [
       "5776.88148375379"
      ],
      "text/latex": [
       "5776.88148375379"
      ],
      "text/markdown": [
       "5776.88148375379"
      ],
      "text/plain": [
       "[1] 5776.881"
      ]
     },
     "metadata": {},
     "output_type": "display_data"
    },
    {
     "data": {
      "image/png": "[encoded data removed]",
      "text/plain": [
       "Plot with title \"p values for Ljung-Box statistic\""
      ]
     },
     "metadata": {
      "image/png": {
       "height": 420,
       "width": 420
      }
     },
     "output_type": "display_data"
    }
   ],
   "source": [
    "#AR(2)\n",
    "m1<-arima(ft9$Count,order = c(2,0,0))\n",
    "tsdiag(m1)\n",
    "m1$aic\n",
    "\n",
    "#MA(2)\n",
    "m2<-arima(ft9$Count,order = c(0,0,2))\n",
    "tsdiag(m2)\n",
    "m2$aic\n",
    "\n",
    "#ARMA(2,2)\n",
    "m3<-arima(ft9$Count,order = c(2,0,2))\n",
    "tsdiag(m3)\n",
    "m3$aic"
   ]
  },
  {
   "cell_type": "markdown",
   "id": "f32d765e",
   "metadata": {},
   "source": [
    "<br></br>\n",
    "<p>By trial and error, ARMA(2,2) is selected as it has the smallest AIC value.</p>\n",
    "<br></br>"
   ]
  },
  {
   "cell_type": "code",
   "execution_count": 23,
   "id": "a1042570",
   "metadata": {
    "scrolled": false
   },
   "outputs": [
    {
     "data": {
      "image/png": "[encoded data removed]",
      "text/plain": [
       "plot without title"
      ]
     },
     "metadata": {
      "image/png": {
       "height": 420,
       "width": 420
      }
     },
     "output_type": "display_data"
    }
   ],
   "source": [
    "#Finalised model for forecast\n",
    "m4<-arima(ft9$Count[1:200],order = c(2,1,3))\n",
    "tfore<-predict(m4,n.ahead = 7)\n",
    "\n",
    "#Time series plot for comparison between actual & forecast \n",
    "ts.plot(as.ts(ft9$Count[201:207]),as.ts(tfore$pred[1:7]), lty = c(1:2))\n",
    "leg.names = c(\"Actual\", \"Forecast\")\n",
    "legend(\"topleft\", leg.names, lty = c(1:2))"
   ]
  },
  {
   "cell_type": "markdown",
   "id": "66f04be7",
   "metadata": {},
   "source": [
    "<br></br>\n",
    "<p>After day 1, the difference between acutal and forecast figures vary.</p>\n",
    "<br></br>"
   ]
  },
  {
   "cell_type": "markdown",
   "id": "5ad14b51",
   "metadata": {},
   "source": [
    "#### 6.2.2 Association Rule"
   ]
  },
  {
   "cell_type": "code",
   "execution_count": 24,
   "id": "292035df",
   "metadata": {},
   "outputs": [
    {
     "data": {
      "text/html": [
       "<table class=\"dataframe\">\n",
       "<caption>A grouped_df: 6 × 3</caption>\n",
       "<thead>\n",
       "\t<tr><th scope=col>Member_Number</th><th scope=col>Date</th><th scope=col>Items</th></tr>\n",
       "\t<tr><th scope=col>&lt;int&gt;</th><th scope=col>&lt;dttm&gt;</th><th scope=col>&lt;chr&gt;</th></tr>\n",
       "</thead>\n",
       "<tbody>\n",
       "\t<tr><td>5000</td><td>2015-02-10</td><td>soda,root vegetables,semi-finished bread                             </td></tr>\n",
       "\t<tr><td>5000</td><td>2014-11-16</td><td>bottled beer,other vegetables                                        </td></tr>\n",
       "\t<tr><td>5000</td><td>2014-03-09</td><td>fruit/vegetable juice,onions                                         </td></tr>\n",
       "\t<tr><td>4999</td><td>2015-12-26</td><td>bottled water,herbs                                                  </td></tr>\n",
       "\t<tr><td>4999</td><td>2015-05-16</td><td>butter milk,whipped/sour cream                                       </td></tr>\n",
       "\t<tr><td>4999</td><td>2015-01-24</td><td>tropical fruit,berries,other vegetables,yogurt,kitchen towels,napkins</td></tr>\n",
       "</tbody>\n",
       "</table>\n"
      ],
      "text/latex": [
       "A grouped\\_df: 6 × 3\n",
       "\\begin{tabular}{lll}\n",
       " Member\\_Number & Date & Items\\\\\n",
       " <int> & <dttm> & <chr>\\\\\n",
       "\\hline\n",
       "\t 5000 & 2015-02-10 & soda,root vegetables,semi-finished bread                             \\\\\n",
       "\t 5000 & 2014-11-16 & bottled beer,other vegetables                                        \\\\\n",
       "\t 5000 & 2014-03-09 & fruit/vegetable juice,onions                                         \\\\\n",
       "\t 4999 & 2015-12-26 & bottled water,herbs                                                  \\\\\n",
       "\t 4999 & 2015-05-16 & butter milk,whipped/sour cream                                       \\\\\n",
       "\t 4999 & 2015-01-24 & tropical fruit,berries,other vegetables,yogurt,kitchen towels,napkins\\\\\n",
       "\\end{tabular}\n"
      ],
      "text/markdown": [
       "\n",
       "A grouped_df: 6 × 3\n",
       "\n",
       "| Member_Number &lt;int&gt; | Date &lt;dttm&gt; | Items &lt;chr&gt; |\n",
       "|---|---|---|\n",
       "| 5000 | 2015-02-10 | soda,root vegetables,semi-finished bread                              |\n",
       "| 5000 | 2014-11-16 | bottled beer,other vegetables                                         |\n",
       "| 5000 | 2014-03-09 | fruit/vegetable juice,onions                                          |\n",
       "| 4999 | 2015-12-26 | bottled water,herbs                                                   |\n",
       "| 4999 | 2015-05-16 | butter milk,whipped/sour cream                                        |\n",
       "| 4999 | 2015-01-24 | tropical fruit,berries,other vegetables,yogurt,kitchen towels,napkins |\n",
       "\n"
      ],
      "text/plain": [
       "  Member_Number Date      \n",
       "1 5000          2015-02-10\n",
       "2 5000          2014-11-16\n",
       "3 5000          2014-03-09\n",
       "4 4999          2015-12-26\n",
       "5 4999          2015-05-16\n",
       "6 4999          2015-01-24\n",
       "  Items                                                                \n",
       "1 soda,root vegetables,semi-finished bread                             \n",
       "2 bottled beer,other vegetables                                        \n",
       "3 fruit/vegetable juice,onions                                         \n",
       "4 bottled water,herbs                                                  \n",
       "5 butter milk,whipped/sour cream                                       \n",
       "6 tropical fruit,berries,other vegetables,yogurt,kitchen towels,napkins"
      ]
     },
     "metadata": {},
     "output_type": "display_data"
    },
    {
     "data": {
      "text/html": [
       "<table class=\"dataframe\">\n",
       "<caption>A tibble: 6 × 1</caption>\n",
       "<thead>\n",
       "\t<tr><th scope=col>Items</th></tr>\n",
       "\t<tr><th scope=col>&lt;chr&gt;</th></tr>\n",
       "</thead>\n",
       "<tbody>\n",
       "\t<tr><td>soda,root vegetables,semi-finished bread                             </td></tr>\n",
       "\t<tr><td>bottled beer,other vegetables                                        </td></tr>\n",
       "\t<tr><td>fruit/vegetable juice,onions                                         </td></tr>\n",
       "\t<tr><td>bottled water,herbs                                                  </td></tr>\n",
       "\t<tr><td>butter milk,whipped/sour cream                                       </td></tr>\n",
       "\t<tr><td>tropical fruit,berries,other vegetables,yogurt,kitchen towels,napkins</td></tr>\n",
       "</tbody>\n",
       "</table>\n"
      ],
      "text/latex": [
       "A tibble: 6 × 1\n",
       "\\begin{tabular}{l}\n",
       " Items\\\\\n",
       " <chr>\\\\\n",
       "\\hline\n",
       "\t soda,root vegetables,semi-finished bread                             \\\\\n",
       "\t bottled beer,other vegetables                                        \\\\\n",
       "\t fruit/vegetable juice,onions                                         \\\\\n",
       "\t bottled water,herbs                                                  \\\\\n",
       "\t butter milk,whipped/sour cream                                       \\\\\n",
       "\t tropical fruit,berries,other vegetables,yogurt,kitchen towels,napkins\\\\\n",
       "\\end{tabular}\n"
      ],
      "text/markdown": [
       "\n",
       "A tibble: 6 × 1\n",
       "\n",
       "| Items &lt;chr&gt; |\n",
       "|---|\n",
       "| soda,root vegetables,semi-finished bread                              |\n",
       "| bottled beer,other vegetables                                         |\n",
       "| fruit/vegetable juice,onions                                          |\n",
       "| bottled water,herbs                                                   |\n",
       "| butter milk,whipped/sour cream                                        |\n",
       "| tropical fruit,berries,other vegetables,yogurt,kitchen towels,napkins |\n",
       "\n"
      ],
      "text/plain": [
       "  Items                                                                \n",
       "1 soda,root vegetables,semi-finished bread                             \n",
       "2 bottled beer,other vegetables                                        \n",
       "3 fruit/vegetable juice,onions                                         \n",
       "4 bottled water,herbs                                                  \n",
       "5 butter milk,whipped/sour cream                                       \n",
       "6 tropical fruit,berries,other vegetables,yogurt,kitchen towels,napkins"
      ]
     },
     "metadata": {},
     "output_type": "display_data"
    },
    {
     "name": "stderr",
     "output_type": "stream",
     "text": [
      "Warning message:\n",
      "\"package 'arules' is in use and will not be installed\"\n"
     ]
    },
    {
     "name": "stdout",
     "output_type": "stream",
     "text": [
      "distribution of transactions with duplicates:\n",
      "items\n",
      "  1   2   3   4 \n",
      "662  39   5   1 \n",
      "Apriori\n",
      "\n",
      "Parameter specification:\n",
      " confidence minval smax arem  aval originalSupport maxtime support minlen\n",
      "        0.1    0.1    1 none FALSE            TRUE       5   0.001      1\n",
      " maxlen target  ext\n",
      "     10  rules TRUE\n",
      "\n",
      "Algorithmic control:\n",
      " filter tree heap memopt load sort verbose\n",
      "    0.1 TRUE TRUE  FALSE TRUE    2    TRUE\n",
      "\n",
      "Absolute minimum support count: 14 \n",
      "\n",
      "set item appearances ...[0 item(s)] done [0.00s].\n",
      "set transactions ...[168 item(s), 14964 transaction(s)] done [0.00s].\n",
      "sorting and recoding items ... [149 item(s)] done [0.00s].\n",
      "creating transaction tree ... done [0.02s].\n",
      "checking subsets of size 1 2 3 4 done [0.00s].\n",
      "writing ... [134 rule(s)] done [0.00s].\n",
      "creating S4 object  ... done [0.00s].\n"
     ]
    },
    {
     "data": {
      "text/plain": [
       "set of 134 rules\n",
       "\n",
       "rule length distribution (lhs + rhs):sizes\n",
       "  1   2   3 \n",
       "  3 114  17 \n",
       "\n",
       "   Min. 1st Qu.  Median    Mean 3rd Qu.    Max. \n",
       "  1.000   2.000   2.000   2.104   2.000   3.000 \n",
       "\n",
       "summary of quality measures:\n",
       "    support           confidence        coverage             lift       \n",
       " Min.   :0.001002   Min.   :0.1000   Min.   :0.005346   Min.   :0.6458  \n",
       " 1st Qu.:0.001337   1st Qu.:0.1100   1st Qu.:0.010492   1st Qu.:0.8097  \n",
       " Median :0.001938   Median :0.1218   Median :0.016573   Median :0.8848  \n",
       " Mean   :0.005778   Mean   :0.1258   Mean   :0.045600   Mean   :0.9477  \n",
       " 3rd Qu.:0.003909   3rd Qu.:0.1348   3rd Qu.:0.033681   3rd Qu.:1.0267  \n",
       " Max.   :0.157912   Max.   :0.2558   Max.   :1.000000   Max.   :2.1831  \n",
       "     count        \n",
       " Min.   :  15.00  \n",
       " 1st Qu.:  20.00  \n",
       " Median :  29.00  \n",
       " Mean   :  86.46  \n",
       " 3rd Qu.:  58.50  \n",
       " Max.   :2363.00  \n",
       "\n",
       "mining info:\n",
       " data ntransactions support confidence\n",
       "  trx         14964   0.001        0.1"
      ]
     },
     "metadata": {},
     "output_type": "display_data"
    }
   ],
   "source": [
    "#List products grouped by same customer on same date\n",
    "ft10<-data %>% \n",
    "    group_by(Member_Number, Date) %>%\n",
    "    mutate(Items = paste0(Item_Description, collapse = \",\")) %>%\n",
    "    arrange(desc(Member_Number)) %>%\n",
    "    select(c(0,1,2,6)) %>%\n",
    "    distinct()\n",
    "head(ft10)\n",
    "\n",
    "ft11<-ft10[,3]\n",
    "head(ft11)\n",
    "\n",
    "#Export to csv file\n",
    "write.csv(ft11, \"ItemsList.csv\", quote = FALSE, row.names = TRUE)\n",
    "\n",
    "#Install package\n",
    "install.packages(\"arules\")\n",
    "library(arules)\n",
    "\n",
    "#Convert csv file to Market Basket\n",
    "trx<-read.transactions(file = \"ItemsList.csv\", rm.duplicates = TRUE, format = \"basket\",sep = \",\",cols = 1)\n",
    "\n",
    "#Assoication rules\n",
    "mba<-apriori(trx, parameter = list(support = 0.001, conf = 0.1, target = \"rules\"))\n",
    "mba<-sort(mba, by='confidence', decreasing = TRUE)\n",
    "summary(mba)"
   ]
  },
  {
   "cell_type": "code",
   "execution_count": 25,
   "id": "65306723",
   "metadata": {},
   "outputs": [
    {
     "name": "stdout",
     "output_type": "stream",
     "text": [
      "     lhs                      rhs          support     confidence coverage   \n",
      "[1]  {sausage,yogurt}      => {whole milk} 0.001470195 0.2558140  0.005747126\n",
      "[2]  {rolls/buns,sausage}  => {whole milk} 0.001136060 0.2125000  0.005346164\n",
      "[3]  {sausage,soda}        => {whole milk} 0.001069233 0.1797753  0.005947608\n",
      "[4]  {semi-finished bread} => {whole milk} 0.001670676 0.1760563  0.009489441\n",
      "[5]  {rolls/buns,yogurt}   => {whole milk} 0.001336541 0.1709402  0.007818765\n",
      "[6]  {sausage,whole milk}  => {yogurt}     0.001470195 0.1641791  0.008954825\n",
      "[7]  {detergent}           => {whole milk} 0.001403368 0.1627907  0.008620690\n",
      "[8]  {ham}                 => {whole milk} 0.002739909 0.1601562  0.017107725\n",
      "[9]  {}                    => {whole milk} 0.157912323 0.1579123  1.000000000\n",
      "[10] {bottled beer}        => {whole milk} 0.007150495 0.1578171  0.045308741\n",
      "     lift     count\n",
      "[1]  1.619975   22 \n",
      "[2]  1.345683   17 \n",
      "[3]  1.138450   16 \n",
      "[4]  1.114899   25 \n",
      "[5]  1.082501   20 \n",
      "[6]  1.911888   22 \n",
      "[7]  1.030893   21 \n",
      "[8]  1.014210   41 \n",
      "[9]  1.000000 2363 \n",
      "[10] 0.999397  107 \n"
     ]
    },
    {
     "name": "stderr",
     "output_type": "stream",
     "text": [
      "Installing package into 'C:/Users/cally/OneDrive/Documents/R/win-library/4.1'\n",
      "(as 'lib' is unspecified)\n",
      "\n"
     ]
    },
    {
     "name": "stdout",
     "output_type": "stream",
     "text": [
      "package 'arulesViz' successfully unpacked and MD5 sums checked\n",
      "\n",
      "The downloaded binary packages are in\n",
      "\tC:\\Users\\cally\\AppData\\Local\\Temp\\RtmpI5s61D\\downloaded_packages\n"
     ]
    },
    {
     "data": {
      "image/png": "[encoded data removed]",
      "text/plain": [
       "plot without title"
      ]
     },
     "metadata": {
      "image/png": {
       "height": 420,
       "width": 420
      }
     },
     "output_type": "display_data"
    }
   ],
   "source": [
    "#Display 1 to 10 association rules\n",
    "inspect(mba[1:10])\n",
    "\n",
    "#Install packages\n",
    "install.packages(\"arulesViz\")\n",
    "library(arulesViz)\n",
    "\n",
    "#Plot association rules\n",
    "plot(mba[1:10], method = \"graph\")"
   ]
  },
  {
   "cell_type": "markdown",
   "id": "12b2894a",
   "metadata": {},
   "source": [
    "<br></br>\n",
    "<p>From the result, top 10 association rules are listed and ploted above.</p>\n",
    "<br></br>"
   ]
  },
  {
   "cell_type": "markdown",
   "id": "7cffa1fe",
   "metadata": {},
   "source": [
    "## 7. Conclusion\n",
    "<p>In conclusion, the best selling product is whole milk. Top 3 best selling products are whole milk, other vegetables and rolls/buns in each day. For stock planning, the frequency of order time, units and types can be predicted by time series and association rules analysis.</p>"
   ]
  },
  {
   "cell_type": "markdown",
   "id": "a457ac8c",
   "metadata": {},
   "source": [
    "## 8. Reference\n",
    "### (1) Kaggle, Groceries dataset\n",
    "<p>Heeral Dedhia (2020). Groceries dataset.</p>\n",
    "<p>https://www.kaggle.com/heeraldedhia/groceries-dataset</p>"
   ]
  }
 ],
 "metadata": {
  "kernelspec": {
   "display_name": "R",
   "language": "R",
   "name": "ir"
  },
  "language_info": {
   "codemirror_mode": "r",
   "file_extension": ".r",
   "mimetype": "text/x-r-source",
   "name": "R",
   "pygments_lexer": "r",
   "version": "4.1.1"
  }
 },
 "nbformat": 4,
 "nbformat_minor": 5
}
